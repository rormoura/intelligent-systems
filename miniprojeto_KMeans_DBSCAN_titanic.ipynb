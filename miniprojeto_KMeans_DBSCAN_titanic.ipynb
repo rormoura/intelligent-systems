{
  "nbformat": 4,
  "nbformat_minor": 0,
  "metadata": {
    "colab": {
      "provenance": [],
      "collapsed_sections": [
        "JQtrNTfPoOuL",
        "HhN2sjXaxzer",
        "DQ3qsyv1yfEQ",
        "hjAb2Zp9CWZW",
        "pZb-ReOb5ENj"
      ]
    },
    "kernelspec": {
      "name": "python3",
      "display_name": "Python 3"
    },
    "language_info": {
      "name": "python"
    }
  },
  "cells": [
    {
      "cell_type": "markdown",
      "source": [
        "# MINI PROJETO - KMeans e DBSCAN - TITANIC SURVIVAL PREDICTION\n",
        "\n",
        "### Projeto da cadeira de Sistemas Inteligentes (2023.2 - IF684EC - CIn - UFPE) que consiste em utilizar os algoritmos de KMeans e DBSCAN para agrupar os passageiros do Titanic em clusters.\n",
        "\n",
        "### Desenvolvido por:\n",
        "\n",
        "> Rafael do Nascimento Moura - rnm4@cin.ufpe.br\n",
        "\n",
        "> Rodrigo Rocha Moura - rrm2@cin.ufpe.br"
      ],
      "metadata": {
        "id": "81BVYgbUlG_Q"
      }
    },
    {
      "cell_type": "markdown",
      "source": [
        "## Instalando dependências\n",
        "\n"
      ],
      "metadata": {
        "id": "JQtrNTfPoOuL"
      }
    },
    {
      "cell_type": "code",
      "source": [
        "!pip install numpy pandas matplotlib scikit-learn seaborn"
      ],
      "metadata": {
        "colab": {
          "base_uri": "https://localhost:8080/"
        },
        "id": "PeY4SV0EoAt5",
        "outputId": "a6c4b7c2-0695-4aa2-fd0c-cc3493ded2cb"
      },
      "execution_count": null,
      "outputs": [
        {
          "output_type": "stream",
          "name": "stdout",
          "text": [
            "Requirement already satisfied: numpy in /usr/local/lib/python3.10/dist-packages (1.25.2)\n",
            "Requirement already satisfied: pandas in /usr/local/lib/python3.10/dist-packages (1.5.3)\n",
            "Requirement already satisfied: matplotlib in /usr/local/lib/python3.10/dist-packages (3.7.1)\n",
            "Requirement already satisfied: scikit-learn in /usr/local/lib/python3.10/dist-packages (1.2.2)\n",
            "Requirement already satisfied: seaborn in /usr/local/lib/python3.10/dist-packages (0.13.1)\n",
            "Requirement already satisfied: python-dateutil>=2.8.1 in /usr/local/lib/python3.10/dist-packages (from pandas) (2.8.2)\n",
            "Requirement already satisfied: pytz>=2020.1 in /usr/local/lib/python3.10/dist-packages (from pandas) (2023.4)\n",
            "Requirement already satisfied: contourpy>=1.0.1 in /usr/local/lib/python3.10/dist-packages (from matplotlib) (1.2.0)\n",
            "Requirement already satisfied: cycler>=0.10 in /usr/local/lib/python3.10/dist-packages (from matplotlib) (0.12.1)\n",
            "Requirement already satisfied: fonttools>=4.22.0 in /usr/local/lib/python3.10/dist-packages (from matplotlib) (4.49.0)\n",
            "Requirement already satisfied: kiwisolver>=1.0.1 in /usr/local/lib/python3.10/dist-packages (from matplotlib) (1.4.5)\n",
            "Requirement already satisfied: packaging>=20.0 in /usr/local/lib/python3.10/dist-packages (from matplotlib) (24.0)\n",
            "Requirement already satisfied: pillow>=6.2.0 in /usr/local/lib/python3.10/dist-packages (from matplotlib) (9.4.0)\n",
            "Requirement already satisfied: pyparsing>=2.3.1 in /usr/local/lib/python3.10/dist-packages (from matplotlib) (3.1.2)\n",
            "Requirement already satisfied: scipy>=1.3.2 in /usr/local/lib/python3.10/dist-packages (from scikit-learn) (1.11.4)\n",
            "Requirement already satisfied: joblib>=1.1.1 in /usr/local/lib/python3.10/dist-packages (from scikit-learn) (1.3.2)\n",
            "Requirement already satisfied: threadpoolctl>=2.0.0 in /usr/local/lib/python3.10/dist-packages (from scikit-learn) (3.3.0)\n",
            "Requirement already satisfied: six>=1.5 in /usr/local/lib/python3.10/dist-packages (from python-dateutil>=2.8.1->pandas) (1.16.0)\n"
          ]
        }
      ]
    },
    {
      "cell_type": "markdown",
      "source": [
        "## Importando as bibliotecas"
      ],
      "metadata": {
        "id": "HhN2sjXaxzer"
      }
    },
    {
      "cell_type": "code",
      "source": [
        "import numpy as np # utilizada para\n",
        "import pandas as pd # utilizada para analisar a base de dados\n",
        "import matplotlib.pyplot as plt # utilizada para plotar gráficos\n",
        "import seaborn as sns # utilizada para visualização de dados\n",
        "import itertools #criar combinações para testes de parâmetros\n",
        "import plotly.express as px #plotar gráfico dos clusters\n",
        "from sklearn.cluster import KMeans # KMeans\n",
        "from sklearn.cluster import DBSCAN # DBSCAN\n",
        "from sklearn.preprocessing import StandardScaler # normalizador dos dados\n",
        "from sklearn.metrics import silhouette_score # método da silhueta\n",
        "from sklearn.model_selection import GridSearchCV # cross validation\n",
        "from sklearn.decomposition import PCA  #redução de dimensões do dataset\n"
      ],
      "metadata": {
        "id": "Ubi4BCDDx3Qy"
      },
      "execution_count": null,
      "outputs": []
    },
    {
      "cell_type": "markdown",
      "source": [
        "## Analisando a base de dados"
      ],
      "metadata": {
        "id": "DQ3qsyv1yfEQ"
      }
    },
    {
      "cell_type": "code",
      "source": [
        "titanic_data = pd.read_csv('data/titanic_unsupervised.csv') # titanic_data contém o conteúdo de treinamento"
      ],
      "metadata": {
        "id": "pFONf7TM1oh8"
      },
      "execution_count": null,
      "outputs": []
    },
    {
      "cell_type": "code",
      "source": [
        "titanic_data # uma breve visualização do conteúdo de treinamento"
      ],
      "metadata": {
        "colab": {
          "base_uri": "https://localhost:8080/"
        },
        "id": "PfqgZV3i12Cr",
        "outputId": "5afbb48a-c72e-424b-8d47-85cfe740a592"
      },
      "execution_count": null,
      "outputs": [
        {
          "output_type": "execute_result",
          "data": {
            "text/plain": [
              "     Unnamed: 0  PassengerId  Pclass  \\\n",
              "0             0            1       3   \n",
              "1             1            2       1   \n",
              "2             2            3       3   \n",
              "3             3            4       1   \n",
              "4             4            5       3   \n",
              "..          ...          ...     ...   \n",
              "886         886          887       2   \n",
              "887         887          888       1   \n",
              "888         888          889       3   \n",
              "889         889          890       1   \n",
              "890         890          891       3   \n",
              "\n",
              "                                                  Name     Sex   Age  SibSp  \\\n",
              "0                              Braund, Mr. Owen Harris    male  22.0      1   \n",
              "1    Cumings, Mrs. John Bradley (Florence Briggs Th...  female  38.0      1   \n",
              "2                               Heikkinen, Miss. Laina  female  26.0      0   \n",
              "3         Futrelle, Mrs. Jacques Heath (Lily May Peel)  female  35.0      1   \n",
              "4                             Allen, Mr. William Henry    male  35.0      0   \n",
              "..                                                 ...     ...   ...    ...   \n",
              "886                              Montvila, Rev. Juozas    male  27.0      0   \n",
              "887                       Graham, Miss. Margaret Edith  female  19.0      0   \n",
              "888           Johnston, Miss. Catherine Helen \"Carrie\"  female   NaN      1   \n",
              "889                              Behr, Mr. Karl Howell    male  26.0      0   \n",
              "890                                Dooley, Mr. Patrick    male  32.0      0   \n",
              "\n",
              "     Parch            Ticket     Fare Cabin Embarked  \n",
              "0        0         A/5 21171   7.2500   NaN        S  \n",
              "1        0          PC 17599  71.2833   C85        C  \n",
              "2        0  STON/O2. 3101282   7.9250   NaN        S  \n",
              "3        0            113803  53.1000  C123        S  \n",
              "4        0            373450   8.0500   NaN        S  \n",
              "..     ...               ...      ...   ...      ...  \n",
              "886      0            211536  13.0000   NaN        S  \n",
              "887      0            112053  30.0000   B42        S  \n",
              "888      2        W./C. 6607  23.4500   NaN        S  \n",
              "889      0            111369  30.0000  C148        C  \n",
              "890      0            370376   7.7500   NaN        Q  \n",
              "\n",
              "[891 rows x 12 columns]"
            ],
            "text/html": [
              "\n",
              "  <div id=\"df-8a73511c-dabb-42b8-92a7-b8c5223504c1\" class=\"colab-df-container\">\n",
              "    <div>\n",
              "<style scoped>\n",
              "    .dataframe tbody tr th:only-of-type {\n",
              "        vertical-align: middle;\n",
              "    }\n",
              "\n",
              "    .dataframe tbody tr th {\n",
              "        vertical-align: top;\n",
              "    }\n",
              "\n",
              "    .dataframe thead th {\n",
              "        text-align: right;\n",
              "    }\n",
              "</style>\n",
              "<table border=\"1\" class=\"dataframe\">\n",
              "  <thead>\n",
              "    <tr style=\"text-align: right;\">\n",
              "      <th></th>\n",
              "      <th>Unnamed: 0</th>\n",
              "      <th>PassengerId</th>\n",
              "      <th>Pclass</th>\n",
              "      <th>Name</th>\n",
              "      <th>Sex</th>\n",
              "      <th>Age</th>\n",
              "      <th>SibSp</th>\n",
              "      <th>Parch</th>\n",
              "      <th>Ticket</th>\n",
              "      <th>Fare</th>\n",
              "      <th>Cabin</th>\n",
              "      <th>Embarked</th>\n",
              "    </tr>\n",
              "  </thead>\n",
              "  <tbody>\n",
              "    <tr>\n",
              "      <th>0</th>\n",
              "      <td>0</td>\n",
              "      <td>1</td>\n",
              "      <td>3</td>\n",
              "      <td>Braund, Mr. Owen Harris</td>\n",
              "      <td>male</td>\n",
              "      <td>22.0</td>\n",
              "      <td>1</td>\n",
              "      <td>0</td>\n",
              "      <td>A/5 21171</td>\n",
              "      <td>7.2500</td>\n",
              "      <td>NaN</td>\n",
              "      <td>S</td>\n",
              "    </tr>\n",
              "    <tr>\n",
              "      <th>1</th>\n",
              "      <td>1</td>\n",
              "      <td>2</td>\n",
              "      <td>1</td>\n",
              "      <td>Cumings, Mrs. John Bradley (Florence Briggs Th...</td>\n",
              "      <td>female</td>\n",
              "      <td>38.0</td>\n",
              "      <td>1</td>\n",
              "      <td>0</td>\n",
              "      <td>PC 17599</td>\n",
              "      <td>71.2833</td>\n",
              "      <td>C85</td>\n",
              "      <td>C</td>\n",
              "    </tr>\n",
              "    <tr>\n",
              "      <th>2</th>\n",
              "      <td>2</td>\n",
              "      <td>3</td>\n",
              "      <td>3</td>\n",
              "      <td>Heikkinen, Miss. Laina</td>\n",
              "      <td>female</td>\n",
              "      <td>26.0</td>\n",
              "      <td>0</td>\n",
              "      <td>0</td>\n",
              "      <td>STON/O2. 3101282</td>\n",
              "      <td>7.9250</td>\n",
              "      <td>NaN</td>\n",
              "      <td>S</td>\n",
              "    </tr>\n",
              "    <tr>\n",
              "      <th>3</th>\n",
              "      <td>3</td>\n",
              "      <td>4</td>\n",
              "      <td>1</td>\n",
              "      <td>Futrelle, Mrs. Jacques Heath (Lily May Peel)</td>\n",
              "      <td>female</td>\n",
              "      <td>35.0</td>\n",
              "      <td>1</td>\n",
              "      <td>0</td>\n",
              "      <td>113803</td>\n",
              "      <td>53.1000</td>\n",
              "      <td>C123</td>\n",
              "      <td>S</td>\n",
              "    </tr>\n",
              "    <tr>\n",
              "      <th>4</th>\n",
              "      <td>4</td>\n",
              "      <td>5</td>\n",
              "      <td>3</td>\n",
              "      <td>Allen, Mr. William Henry</td>\n",
              "      <td>male</td>\n",
              "      <td>35.0</td>\n",
              "      <td>0</td>\n",
              "      <td>0</td>\n",
              "      <td>373450</td>\n",
              "      <td>8.0500</td>\n",
              "      <td>NaN</td>\n",
              "      <td>S</td>\n",
              "    </tr>\n",
              "    <tr>\n",
              "      <th>...</th>\n",
              "      <td>...</td>\n",
              "      <td>...</td>\n",
              "      <td>...</td>\n",
              "      <td>...</td>\n",
              "      <td>...</td>\n",
              "      <td>...</td>\n",
              "      <td>...</td>\n",
              "      <td>...</td>\n",
              "      <td>...</td>\n",
              "      <td>...</td>\n",
              "      <td>...</td>\n",
              "      <td>...</td>\n",
              "    </tr>\n",
              "    <tr>\n",
              "      <th>886</th>\n",
              "      <td>886</td>\n",
              "      <td>887</td>\n",
              "      <td>2</td>\n",
              "      <td>Montvila, Rev. Juozas</td>\n",
              "      <td>male</td>\n",
              "      <td>27.0</td>\n",
              "      <td>0</td>\n",
              "      <td>0</td>\n",
              "      <td>211536</td>\n",
              "      <td>13.0000</td>\n",
              "      <td>NaN</td>\n",
              "      <td>S</td>\n",
              "    </tr>\n",
              "    <tr>\n",
              "      <th>887</th>\n",
              "      <td>887</td>\n",
              "      <td>888</td>\n",
              "      <td>1</td>\n",
              "      <td>Graham, Miss. Margaret Edith</td>\n",
              "      <td>female</td>\n",
              "      <td>19.0</td>\n",
              "      <td>0</td>\n",
              "      <td>0</td>\n",
              "      <td>112053</td>\n",
              "      <td>30.0000</td>\n",
              "      <td>B42</td>\n",
              "      <td>S</td>\n",
              "    </tr>\n",
              "    <tr>\n",
              "      <th>888</th>\n",
              "      <td>888</td>\n",
              "      <td>889</td>\n",
              "      <td>3</td>\n",
              "      <td>Johnston, Miss. Catherine Helen \"Carrie\"</td>\n",
              "      <td>female</td>\n",
              "      <td>NaN</td>\n",
              "      <td>1</td>\n",
              "      <td>2</td>\n",
              "      <td>W./C. 6607</td>\n",
              "      <td>23.4500</td>\n",
              "      <td>NaN</td>\n",
              "      <td>S</td>\n",
              "    </tr>\n",
              "    <tr>\n",
              "      <th>889</th>\n",
              "      <td>889</td>\n",
              "      <td>890</td>\n",
              "      <td>1</td>\n",
              "      <td>Behr, Mr. Karl Howell</td>\n",
              "      <td>male</td>\n",
              "      <td>26.0</td>\n",
              "      <td>0</td>\n",
              "      <td>0</td>\n",
              "      <td>111369</td>\n",
              "      <td>30.0000</td>\n",
              "      <td>C148</td>\n",
              "      <td>C</td>\n",
              "    </tr>\n",
              "    <tr>\n",
              "      <th>890</th>\n",
              "      <td>890</td>\n",
              "      <td>891</td>\n",
              "      <td>3</td>\n",
              "      <td>Dooley, Mr. Patrick</td>\n",
              "      <td>male</td>\n",
              "      <td>32.0</td>\n",
              "      <td>0</td>\n",
              "      <td>0</td>\n",
              "      <td>370376</td>\n",
              "      <td>7.7500</td>\n",
              "      <td>NaN</td>\n",
              "      <td>Q</td>\n",
              "    </tr>\n",
              "  </tbody>\n",
              "</table>\n",
              "<p>891 rows × 12 columns</p>\n",
              "</div>\n",
              "    <div class=\"colab-df-buttons\">\n",
              "\n",
              "  <div class=\"colab-df-container\">\n",
              "    <button class=\"colab-df-convert\" onclick=\"convertToInteractive('df-8a73511c-dabb-42b8-92a7-b8c5223504c1')\"\n",
              "            title=\"Convert this dataframe to an interactive table.\"\n",
              "            style=\"display:none;\">\n",
              "\n",
              "  <svg xmlns=\"http://www.w3.org/2000/svg\" height=\"24px\" viewBox=\"0 -960 960 960\">\n",
              "    <path d=\"M120-120v-720h720v720H120Zm60-500h600v-160H180v160Zm220 220h160v-160H400v160Zm0 220h160v-160H400v160ZM180-400h160v-160H180v160Zm440 0h160v-160H620v160ZM180-180h160v-160H180v160Zm440 0h160v-160H620v160Z\"/>\n",
              "  </svg>\n",
              "    </button>\n",
              "\n",
              "  <style>\n",
              "    .colab-df-container {\n",
              "      display:flex;\n",
              "      gap: 12px;\n",
              "    }\n",
              "\n",
              "    .colab-df-convert {\n",
              "      background-color: #E8F0FE;\n",
              "      border: none;\n",
              "      border-radius: 50%;\n",
              "      cursor: pointer;\n",
              "      display: none;\n",
              "      fill: #1967D2;\n",
              "      height: 32px;\n",
              "      padding: 0 0 0 0;\n",
              "      width: 32px;\n",
              "    }\n",
              "\n",
              "    .colab-df-convert:hover {\n",
              "      background-color: #E2EBFA;\n",
              "      box-shadow: 0px 1px 2px rgba(60, 64, 67, 0.3), 0px 1px 3px 1px rgba(60, 64, 67, 0.15);\n",
              "      fill: #174EA6;\n",
              "    }\n",
              "\n",
              "    .colab-df-buttons div {\n",
              "      margin-bottom: 4px;\n",
              "    }\n",
              "\n",
              "    [theme=dark] .colab-df-convert {\n",
              "      background-color: #3B4455;\n",
              "      fill: #D2E3FC;\n",
              "    }\n",
              "\n",
              "    [theme=dark] .colab-df-convert:hover {\n",
              "      background-color: #434B5C;\n",
              "      box-shadow: 0px 1px 3px 1px rgba(0, 0, 0, 0.15);\n",
              "      filter: drop-shadow(0px 1px 2px rgba(0, 0, 0, 0.3));\n",
              "      fill: #FFFFFF;\n",
              "    }\n",
              "  </style>\n",
              "\n",
              "    <script>\n",
              "      const buttonEl =\n",
              "        document.querySelector('#df-8a73511c-dabb-42b8-92a7-b8c5223504c1 button.colab-df-convert');\n",
              "      buttonEl.style.display =\n",
              "        google.colab.kernel.accessAllowed ? 'block' : 'none';\n",
              "\n",
              "      async function convertToInteractive(key) {\n",
              "        const element = document.querySelector('#df-8a73511c-dabb-42b8-92a7-b8c5223504c1');\n",
              "        const dataTable =\n",
              "          await google.colab.kernel.invokeFunction('convertToInteractive',\n",
              "                                                    [key], {});\n",
              "        if (!dataTable) return;\n",
              "\n",
              "        const docLinkHtml = 'Like what you see? Visit the ' +\n",
              "          '<a target=\"_blank\" href=https://colab.research.google.com/notebooks/data_table.ipynb>data table notebook</a>'\n",
              "          + ' to learn more about interactive tables.';\n",
              "        element.innerHTML = '';\n",
              "        dataTable['output_type'] = 'display_data';\n",
              "        await google.colab.output.renderOutput(dataTable, element);\n",
              "        const docLink = document.createElement('div');\n",
              "        docLink.innerHTML = docLinkHtml;\n",
              "        element.appendChild(docLink);\n",
              "      }\n",
              "    </script>\n",
              "  </div>\n",
              "\n",
              "\n",
              "<div id=\"df-7abc2400-e287-4ed1-8099-03f4d4b1047c\">\n",
              "  <button class=\"colab-df-quickchart\" onclick=\"quickchart('df-7abc2400-e287-4ed1-8099-03f4d4b1047c')\"\n",
              "            title=\"Suggest charts\"\n",
              "            style=\"display:none;\">\n",
              "\n",
              "<svg xmlns=\"http://www.w3.org/2000/svg\" height=\"24px\"viewBox=\"0 0 24 24\"\n",
              "     width=\"24px\">\n",
              "    <g>\n",
              "        <path d=\"M19 3H5c-1.1 0-2 .9-2 2v14c0 1.1.9 2 2 2h14c1.1 0 2-.9 2-2V5c0-1.1-.9-2-2-2zM9 17H7v-7h2v7zm4 0h-2V7h2v10zm4 0h-2v-4h2v4z\"/>\n",
              "    </g>\n",
              "</svg>\n",
              "  </button>\n",
              "\n",
              "<style>\n",
              "  .colab-df-quickchart {\n",
              "      --bg-color: #E8F0FE;\n",
              "      --fill-color: #1967D2;\n",
              "      --hover-bg-color: #E2EBFA;\n",
              "      --hover-fill-color: #174EA6;\n",
              "      --disabled-fill-color: #AAA;\n",
              "      --disabled-bg-color: #DDD;\n",
              "  }\n",
              "\n",
              "  [theme=dark] .colab-df-quickchart {\n",
              "      --bg-color: #3B4455;\n",
              "      --fill-color: #D2E3FC;\n",
              "      --hover-bg-color: #434B5C;\n",
              "      --hover-fill-color: #FFFFFF;\n",
              "      --disabled-bg-color: #3B4455;\n",
              "      --disabled-fill-color: #666;\n",
              "  }\n",
              "\n",
              "  .colab-df-quickchart {\n",
              "    background-color: var(--bg-color);\n",
              "    border: none;\n",
              "    border-radius: 50%;\n",
              "    cursor: pointer;\n",
              "    display: none;\n",
              "    fill: var(--fill-color);\n",
              "    height: 32px;\n",
              "    padding: 0;\n",
              "    width: 32px;\n",
              "  }\n",
              "\n",
              "  .colab-df-quickchart:hover {\n",
              "    background-color: var(--hover-bg-color);\n",
              "    box-shadow: 0 1px 2px rgba(60, 64, 67, 0.3), 0 1px 3px 1px rgba(60, 64, 67, 0.15);\n",
              "    fill: var(--button-hover-fill-color);\n",
              "  }\n",
              "\n",
              "  .colab-df-quickchart-complete:disabled,\n",
              "  .colab-df-quickchart-complete:disabled:hover {\n",
              "    background-color: var(--disabled-bg-color);\n",
              "    fill: var(--disabled-fill-color);\n",
              "    box-shadow: none;\n",
              "  }\n",
              "\n",
              "  .colab-df-spinner {\n",
              "    border: 2px solid var(--fill-color);\n",
              "    border-color: transparent;\n",
              "    border-bottom-color: var(--fill-color);\n",
              "    animation:\n",
              "      spin 1s steps(1) infinite;\n",
              "  }\n",
              "\n",
              "  @keyframes spin {\n",
              "    0% {\n",
              "      border-color: transparent;\n",
              "      border-bottom-color: var(--fill-color);\n",
              "      border-left-color: var(--fill-color);\n",
              "    }\n",
              "    20% {\n",
              "      border-color: transparent;\n",
              "      border-left-color: var(--fill-color);\n",
              "      border-top-color: var(--fill-color);\n",
              "    }\n",
              "    30% {\n",
              "      border-color: transparent;\n",
              "      border-left-color: var(--fill-color);\n",
              "      border-top-color: var(--fill-color);\n",
              "      border-right-color: var(--fill-color);\n",
              "    }\n",
              "    40% {\n",
              "      border-color: transparent;\n",
              "      border-right-color: var(--fill-color);\n",
              "      border-top-color: var(--fill-color);\n",
              "    }\n",
              "    60% {\n",
              "      border-color: transparent;\n",
              "      border-right-color: var(--fill-color);\n",
              "    }\n",
              "    80% {\n",
              "      border-color: transparent;\n",
              "      border-right-color: var(--fill-color);\n",
              "      border-bottom-color: var(--fill-color);\n",
              "    }\n",
              "    90% {\n",
              "      border-color: transparent;\n",
              "      border-bottom-color: var(--fill-color);\n",
              "    }\n",
              "  }\n",
              "</style>\n",
              "\n",
              "  <script>\n",
              "    async function quickchart(key) {\n",
              "      const quickchartButtonEl =\n",
              "        document.querySelector('#' + key + ' button');\n",
              "      quickchartButtonEl.disabled = true;  // To prevent multiple clicks.\n",
              "      quickchartButtonEl.classList.add('colab-df-spinner');\n",
              "      try {\n",
              "        const charts = await google.colab.kernel.invokeFunction(\n",
              "            'suggestCharts', [key], {});\n",
              "      } catch (error) {\n",
              "        console.error('Error during call to suggestCharts:', error);\n",
              "      }\n",
              "      quickchartButtonEl.classList.remove('colab-df-spinner');\n",
              "      quickchartButtonEl.classList.add('colab-df-quickchart-complete');\n",
              "    }\n",
              "    (() => {\n",
              "      let quickchartButtonEl =\n",
              "        document.querySelector('#df-7abc2400-e287-4ed1-8099-03f4d4b1047c button');\n",
              "      quickchartButtonEl.style.display =\n",
              "        google.colab.kernel.accessAllowed ? 'block' : 'none';\n",
              "    })();\n",
              "  </script>\n",
              "</div>\n",
              "    </div>\n",
              "  </div>\n"
            ],
            "application/vnd.google.colaboratory.intrinsic+json": {
              "type": "dataframe",
              "variable_name": "titanic_data",
              "summary": "{\n  \"name\": \"titanic_data\",\n  \"rows\": 891,\n  \"fields\": [\n    {\n      \"column\": \"Unnamed: 0\",\n      \"properties\": {\n        \"dtype\": \"number\",\n        \"std\": 257,\n        \"min\": 0,\n        \"max\": 890,\n        \"num_unique_values\": 891,\n        \"samples\": [\n          709,\n          439,\n          840\n        ],\n        \"semantic_type\": \"\",\n        \"description\": \"\"\n      }\n    },\n    {\n      \"column\": \"PassengerId\",\n      \"properties\": {\n        \"dtype\": \"number\",\n        \"std\": 257,\n        \"min\": 1,\n        \"max\": 891,\n        \"num_unique_values\": 891,\n        \"samples\": [\n          710,\n          440,\n          841\n        ],\n        \"semantic_type\": \"\",\n        \"description\": \"\"\n      }\n    },\n    {\n      \"column\": \"Pclass\",\n      \"properties\": {\n        \"dtype\": \"number\",\n        \"std\": 0,\n        \"min\": 1,\n        \"max\": 3,\n        \"num_unique_values\": 3,\n        \"samples\": [\n          3,\n          1,\n          2\n        ],\n        \"semantic_type\": \"\",\n        \"description\": \"\"\n      }\n    },\n    {\n      \"column\": \"Name\",\n      \"properties\": {\n        \"dtype\": \"string\",\n        \"num_unique_values\": 891,\n        \"samples\": [\n          \"Moubarek, Master. Halim Gonios (\\\"William George\\\")\",\n          \"Kvillner, Mr. Johan Henrik Johannesson\",\n          \"Alhomaki, Mr. Ilmari Rudolf\"\n        ],\n        \"semantic_type\": \"\",\n        \"description\": \"\"\n      }\n    },\n    {\n      \"column\": \"Sex\",\n      \"properties\": {\n        \"dtype\": \"category\",\n        \"num_unique_values\": 2,\n        \"samples\": [\n          \"female\",\n          \"male\"\n        ],\n        \"semantic_type\": \"\",\n        \"description\": \"\"\n      }\n    },\n    {\n      \"column\": \"Age\",\n      \"properties\": {\n        \"dtype\": \"number\",\n        \"std\": 14.526497332334042,\n        \"min\": 0.42,\n        \"max\": 80.0,\n        \"num_unique_values\": 88,\n        \"samples\": [\n          0.75,\n          22.0\n        ],\n        \"semantic_type\": \"\",\n        \"description\": \"\"\n      }\n    },\n    {\n      \"column\": \"SibSp\",\n      \"properties\": {\n        \"dtype\": \"number\",\n        \"std\": 1,\n        \"min\": 0,\n        \"max\": 8,\n        \"num_unique_values\": 7,\n        \"samples\": [\n          1,\n          0\n        ],\n        \"semantic_type\": \"\",\n        \"description\": \"\"\n      }\n    },\n    {\n      \"column\": \"Parch\",\n      \"properties\": {\n        \"dtype\": \"number\",\n        \"std\": 0,\n        \"min\": 0,\n        \"max\": 6,\n        \"num_unique_values\": 7,\n        \"samples\": [\n          0,\n          1\n        ],\n        \"semantic_type\": \"\",\n        \"description\": \"\"\n      }\n    },\n    {\n      \"column\": \"Ticket\",\n      \"properties\": {\n        \"dtype\": \"string\",\n        \"num_unique_values\": 681,\n        \"samples\": [\n          \"11774\",\n          \"248740\"\n        ],\n        \"semantic_type\": \"\",\n        \"description\": \"\"\n      }\n    },\n    {\n      \"column\": \"Fare\",\n      \"properties\": {\n        \"dtype\": \"number\",\n        \"std\": 49.6934285971809,\n        \"min\": 0.0,\n        \"max\": 512.3292,\n        \"num_unique_values\": 248,\n        \"samples\": [\n          11.2417,\n          51.8625\n        ],\n        \"semantic_type\": \"\",\n        \"description\": \"\"\n      }\n    },\n    {\n      \"column\": \"Cabin\",\n      \"properties\": {\n        \"dtype\": \"category\",\n        \"num_unique_values\": 147,\n        \"samples\": [\n          \"D45\",\n          \"B49\"\n        ],\n        \"semantic_type\": \"\",\n        \"description\": \"\"\n      }\n    },\n    {\n      \"column\": \"Embarked\",\n      \"properties\": {\n        \"dtype\": \"category\",\n        \"num_unique_values\": 3,\n        \"samples\": [\n          \"S\",\n          \"C\"\n        ],\n        \"semantic_type\": \"\",\n        \"description\": \"\"\n      }\n    }\n  ]\n}"
            }
          },
          "metadata": {},
          "execution_count": 30
        }
      ]
    },
    {
      "cell_type": "markdown",
      "source": [
        "#### É importante entender cada variável para construir relações que ajudarão a resolver o problema. Desse modo, aqui está a descrição das colunas do dataframe:\n",
        "\n",
        "> PassengerId: ID do passageiro.\n",
        "\n",
        "> Pclass: A classe do ticket do passageiro, que pode ser primeira classe (1), segunda classe (2) e terceira classe (3).\n",
        "\n",
        "> Name: Nome do passageiro.\n",
        "\n",
        "> Sex: male (masculino) ou female (feminino).\n",
        "\n",
        "> Age: Idade do passageiro. ***É fracionária se menor que 1. Se a idade for uma estimativa, então é da forma xx.5.***\n",
        "\n",
        "> SibSp: Quantidade de passageiros que são das categorias irmão, irmã, meio-irmão, meio-irmã, marido, esposa.\n",
        "\n",
        "> Parch: Quantidade de passageiros que são das categorias pai, mãe, filha, filho, enteada, enteado.\n",
        "\n",
        "> Ticket: O código do ticket do passageiro.\n",
        "\n",
        "> Fare: O preço da passagem do passageiro.\n",
        "\n",
        "> Cabin: O número da cabine do passageiro.\n",
        "\n",
        "> Embarked: O porto pelo qual o passageiro embarcou (C = Cherbourg, Q = Queenstown, S = Southampton)."
      ],
      "metadata": {
        "id": "-Q_kiISfzgt4"
      }
    },
    {
      "cell_type": "code",
      "source": [
        "titanic_data.describe()"
      ],
      "metadata": {
        "colab": {
          "base_uri": "https://localhost:8080/"
        },
        "id": "6Fl-GEKs3dI7",
        "outputId": "9b5ef0a8-80aa-4482-9694-bf9758e51b8c"
      },
      "execution_count": null,
      "outputs": [
        {
          "output_type": "execute_result",
          "data": {
            "text/plain": [
              "       Unnamed: 0  PassengerId      Pclass         Age       SibSp  \\\n",
              "count  891.000000   891.000000  891.000000  714.000000  891.000000   \n",
              "mean   445.000000   446.000000    2.308642   29.699118    0.523008   \n",
              "std    257.353842   257.353842    0.836071   14.526497    1.102743   \n",
              "min      0.000000     1.000000    1.000000    0.420000    0.000000   \n",
              "25%    222.500000   223.500000    2.000000   20.125000    0.000000   \n",
              "50%    445.000000   446.000000    3.000000   28.000000    0.000000   \n",
              "75%    667.500000   668.500000    3.000000   38.000000    1.000000   \n",
              "max    890.000000   891.000000    3.000000   80.000000    8.000000   \n",
              "\n",
              "            Parch        Fare  \n",
              "count  891.000000  891.000000  \n",
              "mean     0.381594   32.204208  \n",
              "std      0.806057   49.693429  \n",
              "min      0.000000    0.000000  \n",
              "25%      0.000000    7.910400  \n",
              "50%      0.000000   14.454200  \n",
              "75%      0.000000   31.000000  \n",
              "max      6.000000  512.329200  "
            ],
            "text/html": [
              "\n",
              "  <div id=\"df-e068660d-25b6-4194-8897-470c1173d224\" class=\"colab-df-container\">\n",
              "    <div>\n",
              "<style scoped>\n",
              "    .dataframe tbody tr th:only-of-type {\n",
              "        vertical-align: middle;\n",
              "    }\n",
              "\n",
              "    .dataframe tbody tr th {\n",
              "        vertical-align: top;\n",
              "    }\n",
              "\n",
              "    .dataframe thead th {\n",
              "        text-align: right;\n",
              "    }\n",
              "</style>\n",
              "<table border=\"1\" class=\"dataframe\">\n",
              "  <thead>\n",
              "    <tr style=\"text-align: right;\">\n",
              "      <th></th>\n",
              "      <th>Unnamed: 0</th>\n",
              "      <th>PassengerId</th>\n",
              "      <th>Pclass</th>\n",
              "      <th>Age</th>\n",
              "      <th>SibSp</th>\n",
              "      <th>Parch</th>\n",
              "      <th>Fare</th>\n",
              "    </tr>\n",
              "  </thead>\n",
              "  <tbody>\n",
              "    <tr>\n",
              "      <th>count</th>\n",
              "      <td>891.000000</td>\n",
              "      <td>891.000000</td>\n",
              "      <td>891.000000</td>\n",
              "      <td>714.000000</td>\n",
              "      <td>891.000000</td>\n",
              "      <td>891.000000</td>\n",
              "      <td>891.000000</td>\n",
              "    </tr>\n",
              "    <tr>\n",
              "      <th>mean</th>\n",
              "      <td>445.000000</td>\n",
              "      <td>446.000000</td>\n",
              "      <td>2.308642</td>\n",
              "      <td>29.699118</td>\n",
              "      <td>0.523008</td>\n",
              "      <td>0.381594</td>\n",
              "      <td>32.204208</td>\n",
              "    </tr>\n",
              "    <tr>\n",
              "      <th>std</th>\n",
              "      <td>257.353842</td>\n",
              "      <td>257.353842</td>\n",
              "      <td>0.836071</td>\n",
              "      <td>14.526497</td>\n",
              "      <td>1.102743</td>\n",
              "      <td>0.806057</td>\n",
              "      <td>49.693429</td>\n",
              "    </tr>\n",
              "    <tr>\n",
              "      <th>min</th>\n",
              "      <td>0.000000</td>\n",
              "      <td>1.000000</td>\n",
              "      <td>1.000000</td>\n",
              "      <td>0.420000</td>\n",
              "      <td>0.000000</td>\n",
              "      <td>0.000000</td>\n",
              "      <td>0.000000</td>\n",
              "    </tr>\n",
              "    <tr>\n",
              "      <th>25%</th>\n",
              "      <td>222.500000</td>\n",
              "      <td>223.500000</td>\n",
              "      <td>2.000000</td>\n",
              "      <td>20.125000</td>\n",
              "      <td>0.000000</td>\n",
              "      <td>0.000000</td>\n",
              "      <td>7.910400</td>\n",
              "    </tr>\n",
              "    <tr>\n",
              "      <th>50%</th>\n",
              "      <td>445.000000</td>\n",
              "      <td>446.000000</td>\n",
              "      <td>3.000000</td>\n",
              "      <td>28.000000</td>\n",
              "      <td>0.000000</td>\n",
              "      <td>0.000000</td>\n",
              "      <td>14.454200</td>\n",
              "    </tr>\n",
              "    <tr>\n",
              "      <th>75%</th>\n",
              "      <td>667.500000</td>\n",
              "      <td>668.500000</td>\n",
              "      <td>3.000000</td>\n",
              "      <td>38.000000</td>\n",
              "      <td>1.000000</td>\n",
              "      <td>0.000000</td>\n",
              "      <td>31.000000</td>\n",
              "    </tr>\n",
              "    <tr>\n",
              "      <th>max</th>\n",
              "      <td>890.000000</td>\n",
              "      <td>891.000000</td>\n",
              "      <td>3.000000</td>\n",
              "      <td>80.000000</td>\n",
              "      <td>8.000000</td>\n",
              "      <td>6.000000</td>\n",
              "      <td>512.329200</td>\n",
              "    </tr>\n",
              "  </tbody>\n",
              "</table>\n",
              "</div>\n",
              "    <div class=\"colab-df-buttons\">\n",
              "\n",
              "  <div class=\"colab-df-container\">\n",
              "    <button class=\"colab-df-convert\" onclick=\"convertToInteractive('df-e068660d-25b6-4194-8897-470c1173d224')\"\n",
              "            title=\"Convert this dataframe to an interactive table.\"\n",
              "            style=\"display:none;\">\n",
              "\n",
              "  <svg xmlns=\"http://www.w3.org/2000/svg\" height=\"24px\" viewBox=\"0 -960 960 960\">\n",
              "    <path d=\"M120-120v-720h720v720H120Zm60-500h600v-160H180v160Zm220 220h160v-160H400v160Zm0 220h160v-160H400v160ZM180-400h160v-160H180v160Zm440 0h160v-160H620v160ZM180-180h160v-160H180v160Zm440 0h160v-160H620v160Z\"/>\n",
              "  </svg>\n",
              "    </button>\n",
              "\n",
              "  <style>\n",
              "    .colab-df-container {\n",
              "      display:flex;\n",
              "      gap: 12px;\n",
              "    }\n",
              "\n",
              "    .colab-df-convert {\n",
              "      background-color: #E8F0FE;\n",
              "      border: none;\n",
              "      border-radius: 50%;\n",
              "      cursor: pointer;\n",
              "      display: none;\n",
              "      fill: #1967D2;\n",
              "      height: 32px;\n",
              "      padding: 0 0 0 0;\n",
              "      width: 32px;\n",
              "    }\n",
              "\n",
              "    .colab-df-convert:hover {\n",
              "      background-color: #E2EBFA;\n",
              "      box-shadow: 0px 1px 2px rgba(60, 64, 67, 0.3), 0px 1px 3px 1px rgba(60, 64, 67, 0.15);\n",
              "      fill: #174EA6;\n",
              "    }\n",
              "\n",
              "    .colab-df-buttons div {\n",
              "      margin-bottom: 4px;\n",
              "    }\n",
              "\n",
              "    [theme=dark] .colab-df-convert {\n",
              "      background-color: #3B4455;\n",
              "      fill: #D2E3FC;\n",
              "    }\n",
              "\n",
              "    [theme=dark] .colab-df-convert:hover {\n",
              "      background-color: #434B5C;\n",
              "      box-shadow: 0px 1px 3px 1px rgba(0, 0, 0, 0.15);\n",
              "      filter: drop-shadow(0px 1px 2px rgba(0, 0, 0, 0.3));\n",
              "      fill: #FFFFFF;\n",
              "    }\n",
              "  </style>\n",
              "\n",
              "    <script>\n",
              "      const buttonEl =\n",
              "        document.querySelector('#df-e068660d-25b6-4194-8897-470c1173d224 button.colab-df-convert');\n",
              "      buttonEl.style.display =\n",
              "        google.colab.kernel.accessAllowed ? 'block' : 'none';\n",
              "\n",
              "      async function convertToInteractive(key) {\n",
              "        const element = document.querySelector('#df-e068660d-25b6-4194-8897-470c1173d224');\n",
              "        const dataTable =\n",
              "          await google.colab.kernel.invokeFunction('convertToInteractive',\n",
              "                                                    [key], {});\n",
              "        if (!dataTable) return;\n",
              "\n",
              "        const docLinkHtml = 'Like what you see? Visit the ' +\n",
              "          '<a target=\"_blank\" href=https://colab.research.google.com/notebooks/data_table.ipynb>data table notebook</a>'\n",
              "          + ' to learn more about interactive tables.';\n",
              "        element.innerHTML = '';\n",
              "        dataTable['output_type'] = 'display_data';\n",
              "        await google.colab.output.renderOutput(dataTable, element);\n",
              "        const docLink = document.createElement('div');\n",
              "        docLink.innerHTML = docLinkHtml;\n",
              "        element.appendChild(docLink);\n",
              "      }\n",
              "    </script>\n",
              "  </div>\n",
              "\n",
              "\n",
              "<div id=\"df-6a4cbe01-b2b7-43ed-acac-cbe678062edd\">\n",
              "  <button class=\"colab-df-quickchart\" onclick=\"quickchart('df-6a4cbe01-b2b7-43ed-acac-cbe678062edd')\"\n",
              "            title=\"Suggest charts\"\n",
              "            style=\"display:none;\">\n",
              "\n",
              "<svg xmlns=\"http://www.w3.org/2000/svg\" height=\"24px\"viewBox=\"0 0 24 24\"\n",
              "     width=\"24px\">\n",
              "    <g>\n",
              "        <path d=\"M19 3H5c-1.1 0-2 .9-2 2v14c0 1.1.9 2 2 2h14c1.1 0 2-.9 2-2V5c0-1.1-.9-2-2-2zM9 17H7v-7h2v7zm4 0h-2V7h2v10zm4 0h-2v-4h2v4z\"/>\n",
              "    </g>\n",
              "</svg>\n",
              "  </button>\n",
              "\n",
              "<style>\n",
              "  .colab-df-quickchart {\n",
              "      --bg-color: #E8F0FE;\n",
              "      --fill-color: #1967D2;\n",
              "      --hover-bg-color: #E2EBFA;\n",
              "      --hover-fill-color: #174EA6;\n",
              "      --disabled-fill-color: #AAA;\n",
              "      --disabled-bg-color: #DDD;\n",
              "  }\n",
              "\n",
              "  [theme=dark] .colab-df-quickchart {\n",
              "      --bg-color: #3B4455;\n",
              "      --fill-color: #D2E3FC;\n",
              "      --hover-bg-color: #434B5C;\n",
              "      --hover-fill-color: #FFFFFF;\n",
              "      --disabled-bg-color: #3B4455;\n",
              "      --disabled-fill-color: #666;\n",
              "  }\n",
              "\n",
              "  .colab-df-quickchart {\n",
              "    background-color: var(--bg-color);\n",
              "    border: none;\n",
              "    border-radius: 50%;\n",
              "    cursor: pointer;\n",
              "    display: none;\n",
              "    fill: var(--fill-color);\n",
              "    height: 32px;\n",
              "    padding: 0;\n",
              "    width: 32px;\n",
              "  }\n",
              "\n",
              "  .colab-df-quickchart:hover {\n",
              "    background-color: var(--hover-bg-color);\n",
              "    box-shadow: 0 1px 2px rgba(60, 64, 67, 0.3), 0 1px 3px 1px rgba(60, 64, 67, 0.15);\n",
              "    fill: var(--button-hover-fill-color);\n",
              "  }\n",
              "\n",
              "  .colab-df-quickchart-complete:disabled,\n",
              "  .colab-df-quickchart-complete:disabled:hover {\n",
              "    background-color: var(--disabled-bg-color);\n",
              "    fill: var(--disabled-fill-color);\n",
              "    box-shadow: none;\n",
              "  }\n",
              "\n",
              "  .colab-df-spinner {\n",
              "    border: 2px solid var(--fill-color);\n",
              "    border-color: transparent;\n",
              "    border-bottom-color: var(--fill-color);\n",
              "    animation:\n",
              "      spin 1s steps(1) infinite;\n",
              "  }\n",
              "\n",
              "  @keyframes spin {\n",
              "    0% {\n",
              "      border-color: transparent;\n",
              "      border-bottom-color: var(--fill-color);\n",
              "      border-left-color: var(--fill-color);\n",
              "    }\n",
              "    20% {\n",
              "      border-color: transparent;\n",
              "      border-left-color: var(--fill-color);\n",
              "      border-top-color: var(--fill-color);\n",
              "    }\n",
              "    30% {\n",
              "      border-color: transparent;\n",
              "      border-left-color: var(--fill-color);\n",
              "      border-top-color: var(--fill-color);\n",
              "      border-right-color: var(--fill-color);\n",
              "    }\n",
              "    40% {\n",
              "      border-color: transparent;\n",
              "      border-right-color: var(--fill-color);\n",
              "      border-top-color: var(--fill-color);\n",
              "    }\n",
              "    60% {\n",
              "      border-color: transparent;\n",
              "      border-right-color: var(--fill-color);\n",
              "    }\n",
              "    80% {\n",
              "      border-color: transparent;\n",
              "      border-right-color: var(--fill-color);\n",
              "      border-bottom-color: var(--fill-color);\n",
              "    }\n",
              "    90% {\n",
              "      border-color: transparent;\n",
              "      border-bottom-color: var(--fill-color);\n",
              "    }\n",
              "  }\n",
              "</style>\n",
              "\n",
              "  <script>\n",
              "    async function quickchart(key) {\n",
              "      const quickchartButtonEl =\n",
              "        document.querySelector('#' + key + ' button');\n",
              "      quickchartButtonEl.disabled = true;  // To prevent multiple clicks.\n",
              "      quickchartButtonEl.classList.add('colab-df-spinner');\n",
              "      try {\n",
              "        const charts = await google.colab.kernel.invokeFunction(\n",
              "            'suggestCharts', [key], {});\n",
              "      } catch (error) {\n",
              "        console.error('Error during call to suggestCharts:', error);\n",
              "      }\n",
              "      quickchartButtonEl.classList.remove('colab-df-spinner');\n",
              "      quickchartButtonEl.classList.add('colab-df-quickchart-complete');\n",
              "    }\n",
              "    (() => {\n",
              "      let quickchartButtonEl =\n",
              "        document.querySelector('#df-6a4cbe01-b2b7-43ed-acac-cbe678062edd button');\n",
              "      quickchartButtonEl.style.display =\n",
              "        google.colab.kernel.accessAllowed ? 'block' : 'none';\n",
              "    })();\n",
              "  </script>\n",
              "</div>\n",
              "    </div>\n",
              "  </div>\n"
            ],
            "application/vnd.google.colaboratory.intrinsic+json": {
              "type": "dataframe",
              "summary": "{\n  \"name\": \"titanic_data\",\n  \"rows\": 8,\n  \"fields\": [\n    {\n      \"column\": \"Unnamed: 0\",\n      \"properties\": {\n        \"dtype\": \"number\",\n        \"std\": 320.90190805334475,\n        \"min\": 0.0,\n        \"max\": 891.0,\n        \"num_unique_values\": 7,\n        \"samples\": [\n          891.0,\n          445.0,\n          667.5\n        ],\n        \"semantic_type\": \"\",\n        \"description\": \"\"\n      }\n    },\n    {\n      \"column\": \"PassengerId\",\n      \"properties\": {\n        \"dtype\": \"number\",\n        \"std\": 320.8159711429855,\n        \"min\": 1.0,\n        \"max\": 891.0,\n        \"num_unique_values\": 6,\n        \"samples\": [\n          891.0,\n          446.0,\n          668.5\n        ],\n        \"semantic_type\": \"\",\n        \"description\": \"\"\n      }\n    },\n    {\n      \"column\": \"Pclass\",\n      \"properties\": {\n        \"dtype\": \"number\",\n        \"std\": 314.2523437079694,\n        \"min\": 0.836071240977049,\n        \"max\": 891.0,\n        \"num_unique_values\": 6,\n        \"samples\": [\n          891.0,\n          2.308641975308642,\n          3.0\n        ],\n        \"semantic_type\": \"\",\n        \"description\": \"\"\n      }\n    },\n    {\n      \"column\": \"Age\",\n      \"properties\": {\n        \"dtype\": \"number\",\n        \"std\": 242.9056731818781,\n        \"min\": 0.42,\n        \"max\": 714.0,\n        \"num_unique_values\": 8,\n        \"samples\": [\n          29.69911764705882,\n          28.0,\n          714.0\n        ],\n        \"semantic_type\": \"\",\n        \"description\": \"\"\n      }\n    },\n    {\n      \"column\": \"SibSp\",\n      \"properties\": {\n        \"dtype\": \"number\",\n        \"std\": 314.4908277465442,\n        \"min\": 0.0,\n        \"max\": 891.0,\n        \"num_unique_values\": 6,\n        \"samples\": [\n          891.0,\n          0.5230078563411896,\n          8.0\n        ],\n        \"semantic_type\": \"\",\n        \"description\": \"\"\n      }\n    },\n    {\n      \"column\": \"Parch\",\n      \"properties\": {\n        \"dtype\": \"number\",\n        \"std\": 314.65971717879,\n        \"min\": 0.0,\n        \"max\": 891.0,\n        \"num_unique_values\": 5,\n        \"samples\": [\n          0.38159371492704824,\n          6.0,\n          0.8060572211299483\n        ],\n        \"semantic_type\": \"\",\n        \"description\": \"\"\n      }\n    },\n    {\n      \"column\": \"Fare\",\n      \"properties\": {\n        \"dtype\": \"number\",\n        \"std\": 330.6256632228578,\n        \"min\": 0.0,\n        \"max\": 891.0,\n        \"num_unique_values\": 8,\n        \"samples\": [\n          32.204207968574636,\n          14.4542,\n          891.0\n        ],\n        \"semantic_type\": \"\",\n        \"description\": \"\"\n      }\n    }\n  ]\n}"
            }
          },
          "metadata": {},
          "execution_count": 31
        }
      ]
    },
    {
      "cell_type": "markdown",
      "source": [
        "**Analisando a coluna de sexo:**"
      ],
      "metadata": {
        "id": "3NC6n2PpppYp"
      }
    },
    {
      "cell_type": "code",
      "source": [
        "print(titanic_data['Sex'].value_counts(dropna = False)) # quantidade de homens e mulheres à bordo"
      ],
      "metadata": {
        "colab": {
          "base_uri": "https://localhost:8080/"
        },
        "id": "LC6_Qatbp3o5",
        "outputId": "b85db87d-1311-4001-876e-8507c8a2b700"
      },
      "execution_count": null,
      "outputs": [
        {
          "output_type": "stream",
          "name": "stdout",
          "text": [
            "male      577\n",
            "female    314\n",
            "Name: Sex, dtype: int64\n"
          ]
        }
      ]
    },
    {
      "cell_type": "code",
      "source": [
        "sex_by_class = titanic_data.groupby(['Pclass', 'Sex']).size().unstack()\n",
        "\n",
        "sex_by_class.plot(kind='bar', stacked=True)\n",
        "plt.title('Distribuição de Sexo por Classe')\n",
        "plt.xlabel('Classe')\n",
        "plt.ylabel('Contagem de Passageiros')\n",
        "plt.xticks(rotation=0)\n",
        "plt.legend(title='Sexo', loc='upper right')\n",
        "plt.show()"
      ],
      "metadata": {
        "colab": {
          "base_uri": "https://localhost:8080/"
        },
        "id": "MFvu40Ja6b-u",
        "outputId": "50ec88ee-b168-4180-e854-394ba59384a3"
      },
      "execution_count": null,
      "outputs": [
        {
          "output_type": "display_data",
          "data": {
            "text/plain": [
              "<Figure size 640x480 with 1 Axes>"
            ],
            "image/png": "[encoded data removed]"
          },
          "metadata": {}
        }
      ]
    },
    {
      "cell_type": "markdown",
      "source": [
        "**Analisando a coluna da classe do passageiro:**"
      ],
      "metadata": {
        "id": "_zgq7SGHsuZC"
      }
    },
    {
      "cell_type": "code",
      "source": [
        "print(titanic_data['Pclass'].value_counts(dropna = False)) # quantidade de passageiros por classe"
      ],
      "metadata": {
        "colab": {
          "base_uri": "https://localhost:8080/"
        },
        "id": "zr6BqleGswvK",
        "outputId": "c683d43e-6717-4c85-cadb-eb90b86b46e2"
      },
      "execution_count": null,
      "outputs": [
        {
          "output_type": "stream",
          "name": "stdout",
          "text": [
            "3    491\n",
            "1    216\n",
            "2    184\n",
            "Name: Pclass, dtype: int64\n"
          ]
        }
      ]
    },
    {
      "cell_type": "markdown",
      "source": [
        "**Analisando a coluna do porto de embarque do passageiro:**"
      ],
      "metadata": {
        "id": "W3oVRxrDv9wV"
      }
    },
    {
      "cell_type": "code",
      "source": [
        "print(titanic_data['Embarked'].value_counts(dropna = False)) # quantidade de embarques por portos"
      ],
      "metadata": {
        "colab": {
          "base_uri": "https://localhost:8080/"
        },
        "id": "W2IJ5C1dwJqv",
        "outputId": "0118c3bb-7611-44a8-c59d-b015a244be4b"
      },
      "execution_count": null,
      "outputs": [
        {
          "output_type": "stream",
          "name": "stdout",
          "text": [
            "S      644\n",
            "C      168\n",
            "Q       77\n",
            "NaN      2\n",
            "Name: Embarked, dtype: int64\n"
          ]
        }
      ]
    },
    {
      "cell_type": "code",
      "source": [
        "g = sns.catplot(x = 'Pclass', col = 'Embarked', data = titanic_data, kind = 'count', palette = sns.color_palette(\"husl\", 8)) # sobrevivência por classe e por porto de embarque\n",
        "\n",
        "titulos = ['Southampton', 'Cherbourg', 'Queenstown']\n",
        "for ax, titulo in zip(g.axes.flat, titulos):\n",
        "    ax.set_title(titulo)\n",
        "    ax.set_xlabel('Classe')\n",
        "    ax.set_ylabel('Quantidade')\n",
        "\n",
        "plt.show()"
      ],
      "metadata": {
        "colab": {
          "base_uri": "https://localhost:8080/"
        },
        "id": "TCgDrE3g1JHW",
        "outputId": "c362cb96-f726-4145-83c2-4492fc48f75e"
      },
      "execution_count": null,
      "outputs": [
        {
          "output_type": "stream",
          "name": "stderr",
          "text": [
            "<ipython-input-36-9439c4920a5c>:1: FutureWarning: \n",
            "\n",
            "Passing `palette` without assigning `hue` is deprecated and will be removed in v0.14.0. Assign the `x` variable to `hue` and set `legend=False` for the same effect.\n",
            "\n",
            "  g = sns.catplot(x = 'Pclass', col = 'Embarked', data = titanic_data, kind = 'count', palette = sns.color_palette(\"husl\", 8)) # sobrevivência por classe e por porto de embarque\n",
            "<ipython-input-36-9439c4920a5c>:1: UserWarning: The palette list has more values (8) than needed (3), which may not be intended.\n",
            "  g = sns.catplot(x = 'Pclass', col = 'Embarked', data = titanic_data, kind = 'count', palette = sns.color_palette(\"husl\", 8)) # sobrevivência por classe e por porto de embarque\n"
          ]
        },
        {
          "output_type": "display_data",
          "data": {
            "text/plain": [
              "<Figure size 1500x500 with 3 Axes>"
            ],
            "image/png": "[encoded data removed]"
          },
          "metadata": {}
        }
      ]
    },
    {
      "cell_type": "markdown",
      "source": [
        "A partir da distribuição acima, podemos concluir que a maior parte dos passageiros da terceira classe embarcaram no porto de Southampton."
      ],
      "metadata": {
        "id": "4Mz0yE6_2j2Y"
      }
    },
    {
      "cell_type": "markdown",
      "source": [
        "**Analisando a coluna de idade:**"
      ],
      "metadata": {
        "id": "KeieIa3Q4zTb"
      }
    },
    {
      "cell_type": "code",
      "source": [
        "sns.histplot(titanic_data['Age']) # histograma\n",
        "plt.xlabel('Idade')\n",
        "plt.ylabel('Quantidade')\n",
        "plt.title('Distribuição de Idade dos Passageiros')"
      ],
      "metadata": {
        "colab": {
          "base_uri": "https://localhost:8080/"
        },
        "id": "dkN30PnH5EtE",
        "outputId": "b4b62ac0-7fd6-4a0d-e30d-3640b14f2fa6"
      },
      "execution_count": null,
      "outputs": [
        {
          "output_type": "execute_result",
          "data": {
            "text/plain": [
              "Text(0.5, 1.0, 'Distribuição de Idade dos Passageiros')"
            ]
          },
          "metadata": {},
          "execution_count": 37
        },
        {
          "output_type": "display_data",
          "data": {
            "text/plain": [
              "<Figure size 640x480 with 1 Axes>"
            ],
            "image/png": "[encoded data removed]"
          },
          "metadata": {}
        }
      ]
    },
    {
      "cell_type": "code",
      "source": [
        "# Seleciona as idades dos passageiros dessa classe\n",
        "ages = titanic_data[titanic_data['Pclass'] == 1]['Age']\n",
        "\n",
        "# Cria o histograma\n",
        "plt.figure(figsize=(8, 4))\n",
        "plt.hist(ages, bins=20, alpha=0.5, color='g', edgecolor='black')\n",
        "\n",
        "plt.title('Distribuição de Idades para a Classe 1')\n",
        "plt.xlabel('Idade')\n",
        "plt.ylabel('Frequência')\n",
        "\n",
        "plt.show()"
      ],
      "metadata": {
        "colab": {
          "base_uri": "https://localhost:8080/"
        },
        "id": "Fg3C7yVy52lc",
        "outputId": "fb07beaa-5a40-4943-818f-7b654a36d56c"
      },
      "execution_count": null,
      "outputs": [
        {
          "output_type": "display_data",
          "data": {
            "text/plain": [
              "<Figure size 800x400 with 1 Axes>"
            ],
            "image/png": "[encoded data removed]"
          },
          "metadata": {}
        }
      ]
    },
    {
      "cell_type": "code",
      "source": [
        "# Seleciona as idades dos passageiros dessa classe\n",
        "ages = titanic_data[titanic_data['Pclass'] == 2]['Age']\n",
        "\n",
        "# Cria o histograma\n",
        "plt.figure(figsize=(8, 4))\n",
        "plt.hist(ages, bins=20, alpha=0.5, color='r', edgecolor='black')\n",
        "\n",
        "plt.title('Distribuição de Idades para a Classe 2')\n",
        "plt.xlabel('Idade')\n",
        "plt.ylabel('Frequência')\n",
        "\n",
        "plt.show()"
      ],
      "metadata": {
        "colab": {
          "base_uri": "https://localhost:8080/"
        },
        "id": "YvUxeE769eiN",
        "outputId": "caf0eff3-3a94-4052-c1fb-caa6786bac33"
      },
      "execution_count": null,
      "outputs": [
        {
          "output_type": "display_data",
          "data": {
            "text/plain": [
              "<Figure size 800x400 with 1 Axes>"
            ],
            "image/png": "[encoded data removed]"
          },
          "metadata": {}
        }
      ]
    },
    {
      "cell_type": "code",
      "source": [
        "# Seleciona as idades dos passageiros dessa classe\n",
        "ages = titanic_data[titanic_data['Pclass'] == 3]['Age']\n",
        "\n",
        "# Cria o histograma\n",
        "plt.figure(figsize=(8, 4))\n",
        "plt.hist(ages, bins=20, alpha=0.5, color='b', edgecolor='black')\n",
        "\n",
        "plt.title('Distribuição de Idades para a Classe 3')\n",
        "plt.xlabel('Idade')\n",
        "plt.ylabel('Frequência')\n",
        "\n",
        "plt.show()"
      ],
      "metadata": {
        "colab": {
          "base_uri": "https://localhost:8080/"
        },
        "id": "_j5Q_VH89fJ_",
        "outputId": "0ead8166-737f-44cf-8937-b85c128bf8f8"
      },
      "execution_count": null,
      "outputs": [
        {
          "output_type": "display_data",
          "data": {
            "text/plain": [
              "<Figure size 800x400 with 1 Axes>"
            ],
            "image/png": "[encoded data removed]"
          },
          "metadata": {}
        }
      ]
    },
    {
      "cell_type": "markdown",
      "source": [
        "**Explorando as correlações entre as variáveis numéricas:**"
      ],
      "metadata": {
        "id": "pwPUBGJw300s"
      }
    },
    {
      "cell_type": "code",
      "source": [
        "sns.heatmap(titanic_data[['SibSp', 'Parch', 'Age', 'Fare', 'Pclass']].corr(), annot = True, fmt = '.2f', cmap = 'vlag')"
      ],
      "metadata": {
        "colab": {
          "base_uri": "https://localhost:8080/"
        },
        "id": "amQsJsND343V",
        "outputId": "3dbadf19-bfb4-4b5c-d977-eaccf8178302"
      },
      "execution_count": null,
      "outputs": [
        {
          "output_type": "execute_result",
          "data": {
            "text/plain": [
              "<Axes: >"
            ]
          },
          "metadata": {},
          "execution_count": 41
        },
        {
          "output_type": "display_data",
          "data": {
            "text/plain": [
              "<Figure size 640x480 with 2 Axes>"
            ],
            "image/png": "[encoded data removed]"
          },
          "metadata": {}
        }
      ]
    },
    {
      "cell_type": "markdown",
      "source": [
        "Ao observar o heatmap acima, vemos que\n",
        "\n",
        "1 - *Pclass* (classe social) e *Fare* (preço da passagem) possuem alta correlação negativa entre si. O que nos diz que uma pessoa pertencente a uma classe social mais alta (menor número) pagou mais pela passagem.\n",
        "\n",
        "2 - *Parch* (quantidade de passageiros que são das categorias pai, mãe, filha, filho, enteada, enteado) e *SibSp* (quantidade de passageiros que são das categorias irmão, irmã, meio-irmão, meio-irmã, marido, esposa) possuem alta correlação positiva entre si. O que nos diz que uma pessoa que possui um maior número de *Parch* também implica em ter um maior número de *SibSp*.\n"
      ],
      "metadata": {
        "id": "AwPl5bSS5h-u"
      }
    },
    {
      "cell_type": "markdown",
      "source": [
        "## Tratando os dados"
      ],
      "metadata": {
        "id": "hjAb2Zp9CWZW"
      }
    },
    {
      "cell_type": "markdown",
      "source": [
        "Temos valores faltando?"
      ],
      "metadata": {
        "id": "08Hlddp_HK7_"
      }
    },
    {
      "cell_type": "code",
      "source": [
        "titanic_data.info()"
      ],
      "metadata": {
        "colab": {
          "base_uri": "https://localhost:8080/"
        },
        "id": "Q983ehZbHPMQ",
        "outputId": "443b3431-355b-41ae-d066-d734dd69019a"
      },
      "execution_count": null,
      "outputs": [
        {
          "output_type": "stream",
          "name": "stdout",
          "text": [
            "<class 'pandas.core.frame.DataFrame'>\n",
            "RangeIndex: 891 entries, 0 to 890\n",
            "Data columns (total 12 columns):\n",
            " #   Column       Non-Null Count  Dtype  \n",
            "---  ------       --------------  -----  \n",
            " 0   Unnamed: 0   891 non-null    int64  \n",
            " 1   PassengerId  891 non-null    int64  \n",
            " 2   Pclass       891 non-null    int64  \n",
            " 3   Name         891 non-null    object \n",
            " 4   Sex          891 non-null    object \n",
            " 5   Age          714 non-null    float64\n",
            " 6   SibSp        891 non-null    int64  \n",
            " 7   Parch        891 non-null    int64  \n",
            " 8   Ticket       891 non-null    object \n",
            " 9   Fare         891 non-null    float64\n",
            " 10  Cabin        204 non-null    object \n",
            " 11  Embarked     889 non-null    object \n",
            "dtypes: float64(2), int64(5), object(5)\n",
            "memory usage: 83.7+ KB\n"
          ]
        }
      ]
    },
    {
      "cell_type": "markdown",
      "source": [
        "Temos valores faltando na coluna de Idade.\n",
        "\n",
        "Assim, vamos preencher as células vazias com a média da coluna Idade do dataset."
      ],
      "metadata": {
        "id": "WprYZ02N07OB"
      }
    },
    {
      "cell_type": "code",
      "source": [
        "from sklearn.base import BaseEstimator, TransformerMixin # mixa automaticamente as funções fit e transform sem ter que definir explicitamente\n",
        "from sklearn.impute import SimpleImputer\n",
        "\n",
        "class AgeImputer(BaseEstimator, TransformerMixin):\n",
        "    def fit(self, X, y=None):\n",
        "        return self\n",
        "\n",
        "    def transform(self, X):\n",
        "        # Preenche as idades faltantes com a média da coluna de idade\n",
        "        imputer = SimpleImputer(strategy=\"mean\")\n",
        "        X['Age'] = imputer.fit_transform(X[['Age']])\n",
        "\n",
        "        return X\n"
      ],
      "metadata": {
        "id": "VS0fMNCOJ5AQ"
      },
      "execution_count": null,
      "outputs": []
    },
    {
      "cell_type": "markdown",
      "source": [
        "Visando a análise do dataset pelo modelo, vamos transformar as variáveis de categorias em variáveis numéricas da seguinte maneira:\n",
        "\n",
        "> Embarked C = 0\n",
        "\n",
        "> Embarked S = 1\n",
        "\n",
        "> Embarked Q = 2\n",
        "\n",
        "> Embarked N = 3\n",
        "\n",
        "> Sex Female = 0\n",
        "\n",
        "> Sex Male = 1"
      ],
      "metadata": {
        "id": "A2o97oxR2VdD"
      }
    },
    {
      "cell_type": "code",
      "source": [
        "from sklearn.preprocessing import OneHotEncoder\n",
        "\n",
        "class FeatureEncoder(BaseEstimator, TransformerMixin):\n",
        "    def fit(self, X, y=None):\n",
        "        return self\n",
        "\n",
        "    def transform(self, X):\n",
        "        encoder = OneHotEncoder()\n",
        "\n",
        "        # Transform 'Embarked' column\n",
        "        embarked_matrix = encoder.fit_transform(X[['Embarked']]).toarray()\n",
        "        X['Embarked'] = embarked_matrix.argmax(axis=1)\n",
        "\n",
        "        # Transform 'Sex' column\n",
        "        sex_matrix = encoder.fit_transform(X[['Sex']]).toarray()\n",
        "        X['Sex'] = sex_matrix.argmax(axis=1)\n",
        "\n",
        "        return X\n"
      ],
      "metadata": {
        "id": "S4vOZfR4LySj"
      },
      "execution_count": null,
      "outputs": []
    },
    {
      "cell_type": "markdown",
      "source": [
        "Também juntamos as colunas Pclass e Fare na coluna PclassFare. Além disso, juntamos as colunas SibSp e Parch na coluna Family."
      ],
      "metadata": {
        "id": "eOPcpduNSAXS"
      }
    },
    {
      "cell_type": "code",
      "source": [
        "class ColumnCombiner(BaseEstimator, TransformerMixin):\n",
        "    def fit(self, X, y=None):\n",
        "        return self\n",
        "\n",
        "    def transform(self, X):\n",
        "        # Combine Pclass and Fare into a new column 'PclassFare'\n",
        "        X['PclassFare'] = X['Fare'] / X['Pclass']\n",
        "\n",
        "        # Combine SibSp and Parch into a new column 'Family'\n",
        "        X['Family'] = X['SibSp'] + X['Parch']\n",
        "\n",
        "        return X"
      ],
      "metadata": {
        "id": "I_0gdZC8R_wD"
      },
      "execution_count": null,
      "outputs": []
    },
    {
      "cell_type": "markdown",
      "source": [
        "Também removemos as colunas que não afetam na resolução do problema: nome, código do ticket, cabine, classe do passageiro, id do passageiro, Unnamed: 0, Fare, SibSp, Parch."
      ],
      "metadata": {
        "id": "LUiuv3QS3cpF"
      }
    },
    {
      "cell_type": "code",
      "source": [
        "class FeatureDropper (BaseEstimator, TransformerMixin):\n",
        "\n",
        "   def fit(self, X, y=None):\n",
        "    return self\n",
        "\n",
        "   def transform(self, X):\n",
        "    return X.drop([\"Name\", \"Ticket\", \"Cabin\", \"Pclass\", \"PassengerId\", \"Unnamed: 0\", \"Fare\", \"SibSp\", \"Parch\"], axis = 1, errors=\"ignore\")"
      ],
      "metadata": {
        "id": "ApmhBXcVPx2L"
      },
      "execution_count": null,
      "outputs": []
    },
    {
      "cell_type": "code",
      "source": [
        "from sklearn.pipeline import Pipeline\n",
        "\n",
        "pipeline = Pipeline([(\"ageimputer\", AgeImputer()),(\"featureencoder\", FeatureEncoder()),(\"columncombiner\", ColumnCombiner()),(\"featuredropper\", FeatureDropper())])"
      ],
      "metadata": {
        "id": "mfT7kiyzjCWI"
      },
      "execution_count": null,
      "outputs": []
    },
    {
      "cell_type": "code",
      "source": [
        "titanic_data = pipeline.fit_transform(titanic_data)"
      ],
      "metadata": {
        "id": "rpukjV49j-WZ"
      },
      "execution_count": null,
      "outputs": []
    },
    {
      "cell_type": "markdown",
      "source": [
        "Por fim, normalizamos os dados utilizando o StandardScaler(), que funciona da seguinte maneira:\n",
        "\n",
        "z \\= (x \\- 𝜇)\\/σ\n",
        "\n",
        "onde z é o novo valor da célula, x é o valor antigo da célula, 𝜇 é o valor da média da coluna respectiva e σ é o valor do desvio padrão da coluna respectiva."
      ],
      "metadata": {
        "id": "JtUgSyu7bcZd"
      }
    },
    {
      "cell_type": "code",
      "source": [
        "scaler = StandardScaler()\n",
        "\n",
        "titanic_data_normalized = scaler.fit_transform(titanic_data)\n",
        "\n",
        "titanic_data = pd.DataFrame(titanic_data_normalized, columns=titanic_data.columns)"
      ],
      "metadata": {
        "id": "_UeR6nSVkFx5"
      },
      "execution_count": null,
      "outputs": []
    },
    {
      "cell_type": "code",
      "source": [
        "titanic_data.info() # agora não há mais células vazias"
      ],
      "metadata": {
        "colab": {
          "base_uri": "https://localhost:8080/"
        },
        "id": "6XU-vKiWksf6",
        "outputId": "42bb518b-5007-44bd-d2a1-279767f0d009"
      },
      "execution_count": null,
      "outputs": [
        {
          "output_type": "stream",
          "name": "stdout",
          "text": [
            "<class 'pandas.core.frame.DataFrame'>\n",
            "RangeIndex: 891 entries, 0 to 890\n",
            "Data columns (total 5 columns):\n",
            " #   Column      Non-Null Count  Dtype  \n",
            "---  ------      --------------  -----  \n",
            " 0   Sex         891 non-null    float64\n",
            " 1   Age         891 non-null    float64\n",
            " 2   Embarked    891 non-null    float64\n",
            " 3   PclassFare  891 non-null    float64\n",
            " 4   Family      891 non-null    float64\n",
            "dtypes: float64(5)\n",
            "memory usage: 34.9 KB\n"
          ]
        }
      ]
    },
    {
      "cell_type": "code",
      "source": [
        "titanic_data # visualizando as transformações no dataset"
      ],
      "metadata": {
        "colab": {
          "base_uri": "https://localhost:8080/"
        },
        "id": "3QNamjjcetuP",
        "outputId": "741f0882-38a8-414e-9196-e6208d1e390c"
      },
      "execution_count": null,
      "outputs": [
        {
          "output_type": "execute_result",
          "data": {
            "text/plain": [
              "          Sex       Age  Embarked  PclassFare    Family\n",
              "0    0.737695 -0.592481  0.581114   -0.441847  0.059160\n",
              "1   -1.355574  0.638789 -1.938460    0.902763  0.059160\n",
              "2   -1.355574 -0.284663  0.581114   -0.437454 -0.560975\n",
              "3   -1.355574  0.407926  0.581114    0.547737  0.059160\n",
              "4    0.737695  0.407926  0.581114   -0.436640 -0.560975\n",
              "..        ...       ...       ...         ...       ...\n",
              "886  0.737695 -0.207709  0.581114   -0.362120 -0.560975\n",
              "887 -1.355574 -0.823344  0.581114    0.096713 -0.560975\n",
              "888 -1.355574  0.000000  0.581114   -0.336413  1.299429\n",
              "889  0.737695 -0.284663 -1.938460    0.096713 -0.560975\n",
              "890  0.737695  0.177063 -0.678673   -0.438592 -0.560975\n",
              "\n",
              "[891 rows x 5 columns]"
            ],
            "text/html": [
              "\n",
              "  <div id=\"df-60f92b38-51d2-4e91-9b23-51ede4737572\" class=\"colab-df-container\">\n",
              "    <div>\n",
              "<style scoped>\n",
              "    .dataframe tbody tr th:only-of-type {\n",
              "        vertical-align: middle;\n",
              "    }\n",
              "\n",
              "    .dataframe tbody tr th {\n",
              "        vertical-align: top;\n",
              "    }\n",
              "\n",
              "    .dataframe thead th {\n",
              "        text-align: right;\n",
              "    }\n",
              "</style>\n",
              "<table border=\"1\" class=\"dataframe\">\n",
              "  <thead>\n",
              "    <tr style=\"text-align: right;\">\n",
              "      <th></th>\n",
              "      <th>Sex</th>\n",
              "      <th>Age</th>\n",
              "      <th>Embarked</th>\n",
              "      <th>PclassFare</th>\n",
              "      <th>Family</th>\n",
              "    </tr>\n",
              "  </thead>\n",
              "  <tbody>\n",
              "    <tr>\n",
              "      <th>0</th>\n",
              "      <td>0.737695</td>\n",
              "      <td>-0.592481</td>\n",
              "      <td>0.581114</td>\n",
              "      <td>-0.441847</td>\n",
              "      <td>0.059160</td>\n",
              "    </tr>\n",
              "    <tr>\n",
              "      <th>1</th>\n",
              "      <td>-1.355574</td>\n",
              "      <td>0.638789</td>\n",
              "      <td>-1.938460</td>\n",
              "      <td>0.902763</td>\n",
              "      <td>0.059160</td>\n",
              "    </tr>\n",
              "    <tr>\n",
              "      <th>2</th>\n",
              "      <td>-1.355574</td>\n",
              "      <td>-0.284663</td>\n",
              "      <td>0.581114</td>\n",
              "      <td>-0.437454</td>\n",
              "      <td>-0.560975</td>\n",
              "    </tr>\n",
              "    <tr>\n",
              "      <th>3</th>\n",
              "      <td>-1.355574</td>\n",
              "      <td>0.407926</td>\n",
              "      <td>0.581114</td>\n",
              "      <td>0.547737</td>\n",
              "      <td>0.059160</td>\n",
              "    </tr>\n",
              "    <tr>\n",
              "      <th>4</th>\n",
              "      <td>0.737695</td>\n",
              "      <td>0.407926</td>\n",
              "      <td>0.581114</td>\n",
              "      <td>-0.436640</td>\n",
              "      <td>-0.560975</td>\n",
              "    </tr>\n",
              "    <tr>\n",
              "      <th>...</th>\n",
              "      <td>...</td>\n",
              "      <td>...</td>\n",
              "      <td>...</td>\n",
              "      <td>...</td>\n",
              "      <td>...</td>\n",
              "    </tr>\n",
              "    <tr>\n",
              "      <th>886</th>\n",
              "      <td>0.737695</td>\n",
              "      <td>-0.207709</td>\n",
              "      <td>0.581114</td>\n",
              "      <td>-0.362120</td>\n",
              "      <td>-0.560975</td>\n",
              "    </tr>\n",
              "    <tr>\n",
              "      <th>887</th>\n",
              "      <td>-1.355574</td>\n",
              "      <td>-0.823344</td>\n",
              "      <td>0.581114</td>\n",
              "      <td>0.096713</td>\n",
              "      <td>-0.560975</td>\n",
              "    </tr>\n",
              "    <tr>\n",
              "      <th>888</th>\n",
              "      <td>-1.355574</td>\n",
              "      <td>0.000000</td>\n",
              "      <td>0.581114</td>\n",
              "      <td>-0.336413</td>\n",
              "      <td>1.299429</td>\n",
              "    </tr>\n",
              "    <tr>\n",
              "      <th>889</th>\n",
              "      <td>0.737695</td>\n",
              "      <td>-0.284663</td>\n",
              "      <td>-1.938460</td>\n",
              "      <td>0.096713</td>\n",
              "      <td>-0.560975</td>\n",
              "    </tr>\n",
              "    <tr>\n",
              "      <th>890</th>\n",
              "      <td>0.737695</td>\n",
              "      <td>0.177063</td>\n",
              "      <td>-0.678673</td>\n",
              "      <td>-0.438592</td>\n",
              "      <td>-0.560975</td>\n",
              "    </tr>\n",
              "  </tbody>\n",
              "</table>\n",
              "<p>891 rows × 5 columns</p>\n",
              "</div>\n",
              "    <div class=\"colab-df-buttons\">\n",
              "\n",
              "  <div class=\"colab-df-container\">\n",
              "    <button class=\"colab-df-convert\" onclick=\"convertToInteractive('df-60f92b38-51d2-4e91-9b23-51ede4737572')\"\n",
              "            title=\"Convert this dataframe to an interactive table.\"\n",
              "            style=\"display:none;\">\n",
              "\n",
              "  <svg xmlns=\"http://www.w3.org/2000/svg\" height=\"24px\" viewBox=\"0 -960 960 960\">\n",
              "    <path d=\"M120-120v-720h720v720H120Zm60-500h600v-160H180v160Zm220 220h160v-160H400v160Zm0 220h160v-160H400v160ZM180-400h160v-160H180v160Zm440 0h160v-160H620v160ZM180-180h160v-160H180v160Zm440 0h160v-160H620v160Z\"/>\n",
              "  </svg>\n",
              "    </button>\n",
              "\n",
              "  <style>\n",
              "    .colab-df-container {\n",
              "      display:flex;\n",
              "      gap: 12px;\n",
              "    }\n",
              "\n",
              "    .colab-df-convert {\n",
              "      background-color: #E8F0FE;\n",
              "      border: none;\n",
              "      border-radius: 50%;\n",
              "      cursor: pointer;\n",
              "      display: none;\n",
              "      fill: #1967D2;\n",
              "      height: 32px;\n",
              "      padding: 0 0 0 0;\n",
              "      width: 32px;\n",
              "    }\n",
              "\n",
              "    .colab-df-convert:hover {\n",
              "      background-color: #E2EBFA;\n",
              "      box-shadow: 0px 1px 2px rgba(60, 64, 67, 0.3), 0px 1px 3px 1px rgba(60, 64, 67, 0.15);\n",
              "      fill: #174EA6;\n",
              "    }\n",
              "\n",
              "    .colab-df-buttons div {\n",
              "      margin-bottom: 4px;\n",
              "    }\n",
              "\n",
              "    [theme=dark] .colab-df-convert {\n",
              "      background-color: #3B4455;\n",
              "      fill: #D2E3FC;\n",
              "    }\n",
              "\n",
              "    [theme=dark] .colab-df-convert:hover {\n",
              "      background-color: #434B5C;\n",
              "      box-shadow: 0px 1px 3px 1px rgba(0, 0, 0, 0.15);\n",
              "      filter: drop-shadow(0px 1px 2px rgba(0, 0, 0, 0.3));\n",
              "      fill: #FFFFFF;\n",
              "    }\n",
              "  </style>\n",
              "\n",
              "    <script>\n",
              "      const buttonEl =\n",
              "        document.querySelector('#df-60f92b38-51d2-4e91-9b23-51ede4737572 button.colab-df-convert');\n",
              "      buttonEl.style.display =\n",
              "        google.colab.kernel.accessAllowed ? 'block' : 'none';\n",
              "\n",
              "      async function convertToInteractive(key) {\n",
              "        const element = document.querySelector('#df-60f92b38-51d2-4e91-9b23-51ede4737572');\n",
              "        const dataTable =\n",
              "          await google.colab.kernel.invokeFunction('convertToInteractive',\n",
              "                                                    [key], {});\n",
              "        if (!dataTable) return;\n",
              "\n",
              "        const docLinkHtml = 'Like what you see? Visit the ' +\n",
              "          '<a target=\"_blank\" href=https://colab.research.google.com/notebooks/data_table.ipynb>data table notebook</a>'\n",
              "          + ' to learn more about interactive tables.';\n",
              "        element.innerHTML = '';\n",
              "        dataTable['output_type'] = 'display_data';\n",
              "        await google.colab.output.renderOutput(dataTable, element);\n",
              "        const docLink = document.createElement('div');\n",
              "        docLink.innerHTML = docLinkHtml;\n",
              "        element.appendChild(docLink);\n",
              "      }\n",
              "    </script>\n",
              "  </div>\n",
              "\n",
              "\n",
              "<div id=\"df-d35526c7-5b5b-4aae-95da-9f91e6077233\">\n",
              "  <button class=\"colab-df-quickchart\" onclick=\"quickchart('df-d35526c7-5b5b-4aae-95da-9f91e6077233')\"\n",
              "            title=\"Suggest charts\"\n",
              "            style=\"display:none;\">\n",
              "\n",
              "<svg xmlns=\"http://www.w3.org/2000/svg\" height=\"24px\"viewBox=\"0 0 24 24\"\n",
              "     width=\"24px\">\n",
              "    <g>\n",
              "        <path d=\"M19 3H5c-1.1 0-2 .9-2 2v14c0 1.1.9 2 2 2h14c1.1 0 2-.9 2-2V5c0-1.1-.9-2-2-2zM9 17H7v-7h2v7zm4 0h-2V7h2v10zm4 0h-2v-4h2v4z\"/>\n",
              "    </g>\n",
              "</svg>\n",
              "  </button>\n",
              "\n",
              "<style>\n",
              "  .colab-df-quickchart {\n",
              "      --bg-color: #E8F0FE;\n",
              "      --fill-color: #1967D2;\n",
              "      --hover-bg-color: #E2EBFA;\n",
              "      --hover-fill-color: #174EA6;\n",
              "      --disabled-fill-color: #AAA;\n",
              "      --disabled-bg-color: #DDD;\n",
              "  }\n",
              "\n",
              "  [theme=dark] .colab-df-quickchart {\n",
              "      --bg-color: #3B4455;\n",
              "      --fill-color: #D2E3FC;\n",
              "      --hover-bg-color: #434B5C;\n",
              "      --hover-fill-color: #FFFFFF;\n",
              "      --disabled-bg-color: #3B4455;\n",
              "      --disabled-fill-color: #666;\n",
              "  }\n",
              "\n",
              "  .colab-df-quickchart {\n",
              "    background-color: var(--bg-color);\n",
              "    border: none;\n",
              "    border-radius: 50%;\n",
              "    cursor: pointer;\n",
              "    display: none;\n",
              "    fill: var(--fill-color);\n",
              "    height: 32px;\n",
              "    padding: 0;\n",
              "    width: 32px;\n",
              "  }\n",
              "\n",
              "  .colab-df-quickchart:hover {\n",
              "    background-color: var(--hover-bg-color);\n",
              "    box-shadow: 0 1px 2px rgba(60, 64, 67, 0.3), 0 1px 3px 1px rgba(60, 64, 67, 0.15);\n",
              "    fill: var(--button-hover-fill-color);\n",
              "  }\n",
              "\n",
              "  .colab-df-quickchart-complete:disabled,\n",
              "  .colab-df-quickchart-complete:disabled:hover {\n",
              "    background-color: var(--disabled-bg-color);\n",
              "    fill: var(--disabled-fill-color);\n",
              "    box-shadow: none;\n",
              "  }\n",
              "\n",
              "  .colab-df-spinner {\n",
              "    border: 2px solid var(--fill-color);\n",
              "    border-color: transparent;\n",
              "    border-bottom-color: var(--fill-color);\n",
              "    animation:\n",
              "      spin 1s steps(1) infinite;\n",
              "  }\n",
              "\n",
              "  @keyframes spin {\n",
              "    0% {\n",
              "      border-color: transparent;\n",
              "      border-bottom-color: var(--fill-color);\n",
              "      border-left-color: var(--fill-color);\n",
              "    }\n",
              "    20% {\n",
              "      border-color: transparent;\n",
              "      border-left-color: var(--fill-color);\n",
              "      border-top-color: var(--fill-color);\n",
              "    }\n",
              "    30% {\n",
              "      border-color: transparent;\n",
              "      border-left-color: var(--fill-color);\n",
              "      border-top-color: var(--fill-color);\n",
              "      border-right-color: var(--fill-color);\n",
              "    }\n",
              "    40% {\n",
              "      border-color: transparent;\n",
              "      border-right-color: var(--fill-color);\n",
              "      border-top-color: var(--fill-color);\n",
              "    }\n",
              "    60% {\n",
              "      border-color: transparent;\n",
              "      border-right-color: var(--fill-color);\n",
              "    }\n",
              "    80% {\n",
              "      border-color: transparent;\n",
              "      border-right-color: var(--fill-color);\n",
              "      border-bottom-color: var(--fill-color);\n",
              "    }\n",
              "    90% {\n",
              "      border-color: transparent;\n",
              "      border-bottom-color: var(--fill-color);\n",
              "    }\n",
              "  }\n",
              "</style>\n",
              "\n",
              "  <script>\n",
              "    async function quickchart(key) {\n",
              "      const quickchartButtonEl =\n",
              "        document.querySelector('#' + key + ' button');\n",
              "      quickchartButtonEl.disabled = true;  // To prevent multiple clicks.\n",
              "      quickchartButtonEl.classList.add('colab-df-spinner');\n",
              "      try {\n",
              "        const charts = await google.colab.kernel.invokeFunction(\n",
              "            'suggestCharts', [key], {});\n",
              "      } catch (error) {\n",
              "        console.error('Error during call to suggestCharts:', error);\n",
              "      }\n",
              "      quickchartButtonEl.classList.remove('colab-df-spinner');\n",
              "      quickchartButtonEl.classList.add('colab-df-quickchart-complete');\n",
              "    }\n",
              "    (() => {\n",
              "      let quickchartButtonEl =\n",
              "        document.querySelector('#df-d35526c7-5b5b-4aae-95da-9f91e6077233 button');\n",
              "      quickchartButtonEl.style.display =\n",
              "        google.colab.kernel.accessAllowed ? 'block' : 'none';\n",
              "    })();\n",
              "  </script>\n",
              "</div>\n",
              "    </div>\n",
              "  </div>\n"
            ],
            "application/vnd.google.colaboratory.intrinsic+json": {
              "type": "dataframe",
              "variable_name": "titanic_data",
              "summary": "{\n  \"name\": \"titanic_data\",\n  \"rows\": 891,\n  \"fields\": [\n    {\n      \"column\": \"Sex\",\n      \"properties\": {\n        \"dtype\": \"number\",\n        \"std\": 1.0005616400330457,\n        \"min\": -1.3555735383351195,\n        \"max\": 0.7376951317802901,\n        \"num_unique_values\": 2,\n        \"samples\": [\n          -1.3555735383351195,\n          0.7376951317802901\n        ],\n        \"semantic_type\": \"\",\n        \"description\": \"\"\n      }\n    },\n    {\n      \"column\": \"Age\",\n      \"properties\": {\n        \"dtype\": \"number\",\n        \"std\": 1.0005616400330457,\n        \"min\": -2.2531554887793948,\n        \"max\": 3.8708717431367323,\n        \"num_unique_values\": 89,\n        \"samples\": [\n          2.2548303775896263,\n          0.5233574859320133\n        ],\n        \"semantic_type\": \"\",\n        \"description\": \"\"\n      }\n    },\n    {\n      \"column\": \"Embarked\",\n      \"properties\": {\n        \"dtype\": \"number\",\n        \"std\": 1.0005616400330457,\n        \"min\": -1.9384603796304183,\n        \"max\": 1.8409011045067867,\n        \"num_unique_values\": 4,\n        \"samples\": [\n          -1.9384603796304183,\n          1.8409011045067867\n        ],\n        \"semantic_type\": \"\",\n        \"description\": \"\"\n      }\n    },\n    {\n      \"column\": \"PclassFare\",\n      \"properties\": {\n        \"dtype\": \"number\",\n        \"std\": 1.0005616400330457,\n        \"min\": -0.4890316459282535,\n        \"max\": 9.514110213593577,\n        \"num_unique_values\": 250,\n        \"samples\": [\n          -0.36846580470244145,\n          0.5235749841241637\n        ],\n        \"semantic_type\": \"\",\n        \"description\": \"\"\n      }\n    },\n    {\n      \"column\": \"Family\",\n      \"properties\": {\n        \"dtype\": \"number\",\n        \"std\": 1.0005616400330457,\n        \"min\": -0.5609748304808925,\n        \"max\": 5.64037224096421,\n        \"num_unique_values\": 9,\n        \"samples\": [\n          3.779968119530679,\n          -0.5609748304808925\n        ],\n        \"semantic_type\": \"\",\n        \"description\": \"\"\n      }\n    }\n  ]\n}"
            }
          },
          "metadata": {},
          "execution_count": 51
        }
      ]
    },
    {
      "cell_type": "markdown",
      "source": [
        "## Experimentos:"
      ],
      "metadata": {
        "id": "pZb-ReOb5ENj"
      }
    },
    {
      "cell_type": "markdown",
      "source": [
        "Descrição dos parâmetros do KMeans:\n",
        "\n",
        "- n_clusters: Número de clusters a serem criados pelo algoritmo, também conhecido como 'k'.\n",
        "\n",
        "- init: Método de inicialização dos valores dos centróides.\n",
        "\n",
        "- n_init: Quantas vezes deve-se rodar o algoritmo com diferentes valores iniciais de centróides.\n",
        "\n",
        "- max_iter: Número máximo de iterações do algoritmo por rodada.\n",
        "\n",
        "- tol: A tolerância para considerar convergência do algoritmo referente à diferença da norma entre os centróides de duas iterações consecutivas.\n",
        "\n",
        "- random_state: Parâmetro que determina a aleatoriedade na geração dos valores iniciais dos centróides."
      ],
      "metadata": {
        "id": "_hqqV-AgsKcR"
      }
    },
    {
      "cell_type": "markdown",
      "source": [
        "Encontrando o valor ótimo de 'k' por meio do método do cotovelo (Elbow Method):"
      ],
      "metadata": {
        "id": "aVqc_Kdth_oD"
      }
    },
    {
      "cell_type": "code",
      "source": [
        "def elbow_method(data, max_k):\n",
        "  means = []\n",
        "  inertias = []\n",
        "\n",
        "  for k in range(1, max_k):\n",
        "    kmeans = KMeans(n_clusters = k)\n",
        "    kmeans.fit(data)\n",
        "\n",
        "    means.append(k)\n",
        "    inertias.append(kmeans.inertia_)\n",
        "\n",
        "  fig = plt.subplots(figsize = (10, 5))\n",
        "  plt.plot(means, inertias, 'o-')\n",
        "  plt.xlabel('k')\n",
        "  plt.ylabel('inertia')\n",
        "  plt.grid(True)\n",
        "  plt.show()"
      ],
      "metadata": {
        "id": "DcUm44J8iGoE"
      },
      "execution_count": null,
      "outputs": []
    },
    {
      "cell_type": "markdown",
      "source": [
        "Utilizando as variáveis Age, PclassFare e Family, vemos abaixo que o valor ótimo de k é 4.\n",
        "\n"
      ],
      "metadata": {
        "id": "OgeFeh5TjdZZ"
      }
    },
    {
      "cell_type": "code",
      "source": [
        "elbow_method(titanic_data[['Age', 'PclassFare', 'Family']], 10)"
      ],
      "metadata": {
        "colab": {
          "base_uri": "https://localhost:8080/",
          "height": 812
        },
        "id": "MxazdgPgi2Nk",
        "outputId": "69490ff5-eccc-4741-aac3-0af3e7598503"
      },
      "execution_count": null,
      "outputs": [
        {
          "output_type": "stream",
          "name": "stderr",
          "text": [
            "/usr/local/lib/python3.10/dist-packages/sklearn/cluster/_kmeans.py:870: FutureWarning: The default value of `n_init` will change from 10 to 'auto' in 1.4. Set the value of `n_init` explicitly to suppress the warning\n",
            "  warnings.warn(\n",
            "/usr/local/lib/python3.10/dist-packages/sklearn/cluster/_kmeans.py:870: FutureWarning: The default value of `n_init` will change from 10 to 'auto' in 1.4. Set the value of `n_init` explicitly to suppress the warning\n",
            "  warnings.warn(\n",
            "/usr/local/lib/python3.10/dist-packages/sklearn/cluster/_kmeans.py:870: FutureWarning: The default value of `n_init` will change from 10 to 'auto' in 1.4. Set the value of `n_init` explicitly to suppress the warning\n",
            "  warnings.warn(\n",
            "/usr/local/lib/python3.10/dist-packages/sklearn/cluster/_kmeans.py:870: FutureWarning: The default value of `n_init` will change from 10 to 'auto' in 1.4. Set the value of `n_init` explicitly to suppress the warning\n",
            "  warnings.warn(\n",
            "/usr/local/lib/python3.10/dist-packages/sklearn/cluster/_kmeans.py:870: FutureWarning: The default value of `n_init` will change from 10 to 'auto' in 1.4. Set the value of `n_init` explicitly to suppress the warning\n",
            "  warnings.warn(\n",
            "/usr/local/lib/python3.10/dist-packages/sklearn/cluster/_kmeans.py:870: FutureWarning: The default value of `n_init` will change from 10 to 'auto' in 1.4. Set the value of `n_init` explicitly to suppress the warning\n",
            "  warnings.warn(\n",
            "/usr/local/lib/python3.10/dist-packages/sklearn/cluster/_kmeans.py:870: FutureWarning: The default value of `n_init` will change from 10 to 'auto' in 1.4. Set the value of `n_init` explicitly to suppress the warning\n",
            "  warnings.warn(\n",
            "/usr/local/lib/python3.10/dist-packages/sklearn/cluster/_kmeans.py:870: FutureWarning: The default value of `n_init` will change from 10 to 'auto' in 1.4. Set the value of `n_init` explicitly to suppress the warning\n",
            "  warnings.warn(\n",
            "/usr/local/lib/python3.10/dist-packages/sklearn/cluster/_kmeans.py:870: FutureWarning: The default value of `n_init` will change from 10 to 'auto' in 1.4. Set the value of `n_init` explicitly to suppress the warning\n",
            "  warnings.warn(\n"
          ]
        },
        {
          "output_type": "display_data",
          "data": {
            "text/plain": [
              "<Figure size 1000x500 with 1 Axes>"
            ],
            "image/png": "[encoded data removed]"
          },
          "metadata": {}
        }
      ]
    },
    {
      "cell_type": "markdown",
      "source": [
        "Utilizando as variáveis Sex, PclassFare e Embarked, vemos abaixo que o valor ótimo de k é 4."
      ],
      "metadata": {
        "id": "yMq4BYobjy1b"
      }
    },
    {
      "cell_type": "code",
      "source": [
        "elbow_method(titanic_data[['Sex', 'PclassFare', 'Embarked']], 10)"
      ],
      "metadata": {
        "colab": {
          "base_uri": "https://localhost:8080/",
          "height": 812
        },
        "id": "VGMYHpCKjofc",
        "outputId": "a8d6bea2-ee01-4c77-cf55-14d18dfa233b"
      },
      "execution_count": null,
      "outputs": [
        {
          "output_type": "stream",
          "name": "stderr",
          "text": [
            "/usr/local/lib/python3.10/dist-packages/sklearn/cluster/_kmeans.py:870: FutureWarning: The default value of `n_init` will change from 10 to 'auto' in 1.4. Set the value of `n_init` explicitly to suppress the warning\n",
            "  warnings.warn(\n",
            "/usr/local/lib/python3.10/dist-packages/sklearn/cluster/_kmeans.py:870: FutureWarning: The default value of `n_init` will change from 10 to 'auto' in 1.4. Set the value of `n_init` explicitly to suppress the warning\n",
            "  warnings.warn(\n",
            "/usr/local/lib/python3.10/dist-packages/sklearn/cluster/_kmeans.py:870: FutureWarning: The default value of `n_init` will change from 10 to 'auto' in 1.4. Set the value of `n_init` explicitly to suppress the warning\n",
            "  warnings.warn(\n",
            "/usr/local/lib/python3.10/dist-packages/sklearn/cluster/_kmeans.py:870: FutureWarning: The default value of `n_init` will change from 10 to 'auto' in 1.4. Set the value of `n_init` explicitly to suppress the warning\n",
            "  warnings.warn(\n",
            "/usr/local/lib/python3.10/dist-packages/sklearn/cluster/_kmeans.py:870: FutureWarning: The default value of `n_init` will change from 10 to 'auto' in 1.4. Set the value of `n_init` explicitly to suppress the warning\n",
            "  warnings.warn(\n",
            "/usr/local/lib/python3.10/dist-packages/sklearn/cluster/_kmeans.py:870: FutureWarning: The default value of `n_init` will change from 10 to 'auto' in 1.4. Set the value of `n_init` explicitly to suppress the warning\n",
            "  warnings.warn(\n",
            "/usr/local/lib/python3.10/dist-packages/sklearn/cluster/_kmeans.py:870: FutureWarning: The default value of `n_init` will change from 10 to 'auto' in 1.4. Set the value of `n_init` explicitly to suppress the warning\n",
            "  warnings.warn(\n",
            "/usr/local/lib/python3.10/dist-packages/sklearn/cluster/_kmeans.py:870: FutureWarning: The default value of `n_init` will change from 10 to 'auto' in 1.4. Set the value of `n_init` explicitly to suppress the warning\n",
            "  warnings.warn(\n",
            "/usr/local/lib/python3.10/dist-packages/sklearn/cluster/_kmeans.py:870: FutureWarning: The default value of `n_init` will change from 10 to 'auto' in 1.4. Set the value of `n_init` explicitly to suppress the warning\n",
            "  warnings.warn(\n"
          ]
        },
        {
          "output_type": "display_data",
          "data": {
            "text/plain": [
              "<Figure size 1000x500 with 1 Axes>"
            ],
            "image/png": "[encoded data removed]"
          },
          "metadata": {}
        }
      ]
    },
    {
      "cell_type": "markdown",
      "source": [
        "Utilizando as variáveis Sex e PclassFare, vemos abaixo que o valor ótimo de k é 3."
      ],
      "metadata": {
        "id": "cMtUoVmXj5Xj"
      }
    },
    {
      "cell_type": "code",
      "source": [
        "elbow_method(titanic_data[['Sex', 'PclassFare']], 10)"
      ],
      "metadata": {
        "colab": {
          "base_uri": "https://localhost:8080/",
          "height": 812
        },
        "id": "RZrpMEawj9-F",
        "outputId": "3a0f5112-ddfa-415c-85fe-5744ec819864"
      },
      "execution_count": null,
      "outputs": [
        {
          "output_type": "stream",
          "name": "stderr",
          "text": [
            "/usr/local/lib/python3.10/dist-packages/sklearn/cluster/_kmeans.py:870: FutureWarning: The default value of `n_init` will change from 10 to 'auto' in 1.4. Set the value of `n_init` explicitly to suppress the warning\n",
            "  warnings.warn(\n",
            "/usr/local/lib/python3.10/dist-packages/sklearn/cluster/_kmeans.py:870: FutureWarning: The default value of `n_init` will change from 10 to 'auto' in 1.4. Set the value of `n_init` explicitly to suppress the warning\n",
            "  warnings.warn(\n",
            "/usr/local/lib/python3.10/dist-packages/sklearn/cluster/_kmeans.py:870: FutureWarning: The default value of `n_init` will change from 10 to 'auto' in 1.4. Set the value of `n_init` explicitly to suppress the warning\n",
            "  warnings.warn(\n",
            "/usr/local/lib/python3.10/dist-packages/sklearn/cluster/_kmeans.py:870: FutureWarning: The default value of `n_init` will change from 10 to 'auto' in 1.4. Set the value of `n_init` explicitly to suppress the warning\n",
            "  warnings.warn(\n",
            "/usr/local/lib/python3.10/dist-packages/sklearn/cluster/_kmeans.py:870: FutureWarning: The default value of `n_init` will change from 10 to 'auto' in 1.4. Set the value of `n_init` explicitly to suppress the warning\n",
            "  warnings.warn(\n",
            "/usr/local/lib/python3.10/dist-packages/sklearn/cluster/_kmeans.py:870: FutureWarning: The default value of `n_init` will change from 10 to 'auto' in 1.4. Set the value of `n_init` explicitly to suppress the warning\n",
            "  warnings.warn(\n",
            "/usr/local/lib/python3.10/dist-packages/sklearn/cluster/_kmeans.py:870: FutureWarning: The default value of `n_init` will change from 10 to 'auto' in 1.4. Set the value of `n_init` explicitly to suppress the warning\n",
            "  warnings.warn(\n",
            "/usr/local/lib/python3.10/dist-packages/sklearn/cluster/_kmeans.py:870: FutureWarning: The default value of `n_init` will change from 10 to 'auto' in 1.4. Set the value of `n_init` explicitly to suppress the warning\n",
            "  warnings.warn(\n",
            "/usr/local/lib/python3.10/dist-packages/sklearn/cluster/_kmeans.py:870: FutureWarning: The default value of `n_init` will change from 10 to 'auto' in 1.4. Set the value of `n_init` explicitly to suppress the warning\n",
            "  warnings.warn(\n"
          ]
        },
        {
          "output_type": "display_data",
          "data": {
            "text/plain": [
              "<Figure size 1000x500 with 1 Axes>"
            ],
            "image/png": "[encoded data removed]"
          },
          "metadata": {}
        }
      ]
    },
    {
      "cell_type": "markdown",
      "source": [
        "\n",
        "Encontrando o valor ótimo de 'k' por meio do método da silhueta (Silhouette):"
      ],
      "metadata": {
        "id": "wdiApaqEndTC"
      }
    },
    {
      "cell_type": "code",
      "source": [
        "def silhouette_method(data, max_k):\n",
        "\n",
        "  sil_score = []\n",
        "  for k in range(2, max_k):\n",
        "      clusterer = KMeans(n_clusters=k)\n",
        "      preds = clusterer.fit_predict(data)\n",
        "      score = silhouette_score(data, preds)\n",
        "      sil_score.append(score)\n",
        "\n",
        "  plt.plot(range(2, max_k), sil_score, color='#EE9D65')"
      ],
      "metadata": {
        "id": "2rCqIAPXnhDr"
      },
      "execution_count": null,
      "outputs": []
    },
    {
      "cell_type": "markdown",
      "source": [
        "Utilizando as variáveis Age, PclassFare e Family, vemos abaixo que o valor ótimo de k é 3.\n",
        "\n",
        "\n"
      ],
      "metadata": {
        "id": "DyU8KJoSqATu"
      }
    },
    {
      "cell_type": "code",
      "source": [
        "silhouette_method(titanic_data[['Age', 'PclassFare', 'Family']], 10)"
      ],
      "metadata": {
        "colab": {
          "base_uri": "https://localhost:8080/",
          "height": 745
        },
        "id": "APmgZmNWp5CN",
        "outputId": "572a4498-a43a-4fb7-ec58-ff792562b177"
      },
      "execution_count": null,
      "outputs": [
        {
          "output_type": "stream",
          "name": "stderr",
          "text": [
            "/usr/local/lib/python3.10/dist-packages/sklearn/cluster/_kmeans.py:870: FutureWarning: The default value of `n_init` will change from 10 to 'auto' in 1.4. Set the value of `n_init` explicitly to suppress the warning\n",
            "  warnings.warn(\n",
            "/usr/local/lib/python3.10/dist-packages/sklearn/cluster/_kmeans.py:870: FutureWarning: The default value of `n_init` will change from 10 to 'auto' in 1.4. Set the value of `n_init` explicitly to suppress the warning\n",
            "  warnings.warn(\n",
            "/usr/local/lib/python3.10/dist-packages/sklearn/cluster/_kmeans.py:870: FutureWarning: The default value of `n_init` will change from 10 to 'auto' in 1.4. Set the value of `n_init` explicitly to suppress the warning\n",
            "  warnings.warn(\n",
            "/usr/local/lib/python3.10/dist-packages/sklearn/cluster/_kmeans.py:870: FutureWarning: The default value of `n_init` will change from 10 to 'auto' in 1.4. Set the value of `n_init` explicitly to suppress the warning\n",
            "  warnings.warn(\n",
            "/usr/local/lib/python3.10/dist-packages/sklearn/cluster/_kmeans.py:870: FutureWarning: The default value of `n_init` will change from 10 to 'auto' in 1.4. Set the value of `n_init` explicitly to suppress the warning\n",
            "  warnings.warn(\n",
            "/usr/local/lib/python3.10/dist-packages/sklearn/cluster/_kmeans.py:870: FutureWarning: The default value of `n_init` will change from 10 to 'auto' in 1.4. Set the value of `n_init` explicitly to suppress the warning\n",
            "  warnings.warn(\n",
            "/usr/local/lib/python3.10/dist-packages/sklearn/cluster/_kmeans.py:870: FutureWarning: The default value of `n_init` will change from 10 to 'auto' in 1.4. Set the value of `n_init` explicitly to suppress the warning\n",
            "  warnings.warn(\n",
            "/usr/local/lib/python3.10/dist-packages/sklearn/cluster/_kmeans.py:870: FutureWarning: The default value of `n_init` will change from 10 to 'auto' in 1.4. Set the value of `n_init` explicitly to suppress the warning\n",
            "  warnings.warn(\n"
          ]
        },
        {
          "output_type": "display_data",
          "data": {
            "text/plain": [
              "<Figure size 640x480 with 1 Axes>"
            ],
            "image/png": "[encoded data removed]"
          },
          "metadata": {}
        }
      ]
    },
    {
      "cell_type": "markdown",
      "source": [
        "Utilizando as variáveis Sex, PclassFare e Embarked, vemos abaixo que o valor ótimo de k é 5."
      ],
      "metadata": {
        "id": "Y6bd9ZvjsTJ6"
      }
    },
    {
      "cell_type": "code",
      "source": [
        "silhouette_method(titanic_data[['Sex', 'PclassFare', 'Embarked']], 10)"
      ],
      "metadata": {
        "colab": {
          "base_uri": "https://localhost:8080/",
          "height": 740
        },
        "id": "AkW8NwdessiM",
        "outputId": "1aa5d176-82c0-4a2c-ba4d-d1df05a90a70"
      },
      "execution_count": null,
      "outputs": [
        {
          "output_type": "stream",
          "name": "stderr",
          "text": [
            "/usr/local/lib/python3.10/dist-packages/sklearn/cluster/_kmeans.py:870: FutureWarning: The default value of `n_init` will change from 10 to 'auto' in 1.4. Set the value of `n_init` explicitly to suppress the warning\n",
            "  warnings.warn(\n",
            "/usr/local/lib/python3.10/dist-packages/sklearn/cluster/_kmeans.py:870: FutureWarning: The default value of `n_init` will change from 10 to 'auto' in 1.4. Set the value of `n_init` explicitly to suppress the warning\n",
            "  warnings.warn(\n",
            "/usr/local/lib/python3.10/dist-packages/sklearn/cluster/_kmeans.py:870: FutureWarning: The default value of `n_init` will change from 10 to 'auto' in 1.4. Set the value of `n_init` explicitly to suppress the warning\n",
            "  warnings.warn(\n",
            "/usr/local/lib/python3.10/dist-packages/sklearn/cluster/_kmeans.py:870: FutureWarning: The default value of `n_init` will change from 10 to 'auto' in 1.4. Set the value of `n_init` explicitly to suppress the warning\n",
            "  warnings.warn(\n",
            "/usr/local/lib/python3.10/dist-packages/sklearn/cluster/_kmeans.py:870: FutureWarning: The default value of `n_init` will change from 10 to 'auto' in 1.4. Set the value of `n_init` explicitly to suppress the warning\n",
            "  warnings.warn(\n",
            "/usr/local/lib/python3.10/dist-packages/sklearn/cluster/_kmeans.py:870: FutureWarning: The default value of `n_init` will change from 10 to 'auto' in 1.4. Set the value of `n_init` explicitly to suppress the warning\n",
            "  warnings.warn(\n",
            "/usr/local/lib/python3.10/dist-packages/sklearn/cluster/_kmeans.py:870: FutureWarning: The default value of `n_init` will change from 10 to 'auto' in 1.4. Set the value of `n_init` explicitly to suppress the warning\n",
            "  warnings.warn(\n",
            "/usr/local/lib/python3.10/dist-packages/sklearn/cluster/_kmeans.py:870: FutureWarning: The default value of `n_init` will change from 10 to 'auto' in 1.4. Set the value of `n_init` explicitly to suppress the warning\n",
            "  warnings.warn(\n"
          ]
        },
        {
          "output_type": "display_data",
          "data": {
            "text/plain": [
              "<Figure size 640x480 with 1 Axes>"
            ],
            "image/png": "[encoded data removed]"
          },
          "metadata": {}
        }
      ]
    },
    {
      "cell_type": "markdown",
      "source": [
        "Utilizando as variáveis Sex e PclassFare, vemos abaixo que o valor ótimo de k é 4.\n",
        "\n",
        "\n",
        "\n"
      ],
      "metadata": {
        "id": "J2usmOpGtDJw"
      }
    },
    {
      "cell_type": "code",
      "source": [
        "silhouette_method(titanic_data[['Sex', 'PclassFare']], 10)"
      ],
      "metadata": {
        "colab": {
          "base_uri": "https://localhost:8080/",
          "height": 740
        },
        "id": "N20-BmsItEFO",
        "outputId": "7c9f15ee-e25d-45eb-95de-24f80bf97840"
      },
      "execution_count": null,
      "outputs": [
        {
          "output_type": "stream",
          "name": "stderr",
          "text": [
            "/usr/local/lib/python3.10/dist-packages/sklearn/cluster/_kmeans.py:870: FutureWarning: The default value of `n_init` will change from 10 to 'auto' in 1.4. Set the value of `n_init` explicitly to suppress the warning\n",
            "  warnings.warn(\n",
            "/usr/local/lib/python3.10/dist-packages/sklearn/cluster/_kmeans.py:870: FutureWarning: The default value of `n_init` will change from 10 to 'auto' in 1.4. Set the value of `n_init` explicitly to suppress the warning\n",
            "  warnings.warn(\n",
            "/usr/local/lib/python3.10/dist-packages/sklearn/cluster/_kmeans.py:870: FutureWarning: The default value of `n_init` will change from 10 to 'auto' in 1.4. Set the value of `n_init` explicitly to suppress the warning\n",
            "  warnings.warn(\n",
            "/usr/local/lib/python3.10/dist-packages/sklearn/cluster/_kmeans.py:870: FutureWarning: The default value of `n_init` will change from 10 to 'auto' in 1.4. Set the value of `n_init` explicitly to suppress the warning\n",
            "  warnings.warn(\n",
            "/usr/local/lib/python3.10/dist-packages/sklearn/cluster/_kmeans.py:870: FutureWarning: The default value of `n_init` will change from 10 to 'auto' in 1.4. Set the value of `n_init` explicitly to suppress the warning\n",
            "  warnings.warn(\n",
            "/usr/local/lib/python3.10/dist-packages/sklearn/cluster/_kmeans.py:870: FutureWarning: The default value of `n_init` will change from 10 to 'auto' in 1.4. Set the value of `n_init` explicitly to suppress the warning\n",
            "  warnings.warn(\n",
            "/usr/local/lib/python3.10/dist-packages/sklearn/cluster/_kmeans.py:870: FutureWarning: The default value of `n_init` will change from 10 to 'auto' in 1.4. Set the value of `n_init` explicitly to suppress the warning\n",
            "  warnings.warn(\n",
            "/usr/local/lib/python3.10/dist-packages/sklearn/cluster/_kmeans.py:870: FutureWarning: The default value of `n_init` will change from 10 to 'auto' in 1.4. Set the value of `n_init` explicitly to suppress the warning\n",
            "  warnings.warn(\n"
          ]
        },
        {
          "output_type": "display_data",
          "data": {
            "text/plain": [
              "<Figure size 640x480 with 1 Axes>"
            ],
            "image/png": "[encoded data removed]"
          },
          "metadata": {}
        }
      ]
    },
    {
      "cell_type": "markdown",
      "source": [
        "Resumo em relação aos métodos do cotovelo e da silhueta:\n",
        "\n",
        "> Para as variáveis Age, PclassFare e Family: Elbow -> k = 4 | Silhouette -> k = 3\n",
        "\n",
        "> Para as variáveis Sex, PclassFare e Embarked: Elbow -> k = 4 | Silhouette -> k = 5\n",
        "\n",
        "> Para as variáveis Sex e PclassFare: Elbow -> k = 3 | Silhouette -> k = 4"
      ],
      "metadata": {
        "id": "B_Rlw0QqtS5i"
      }
    },
    {
      "cell_type": "markdown",
      "source": [
        "A partir dos resultados dos experimentos acima, escolhemos k = 4. Assim, aplicando o K means clustering:"
      ],
      "metadata": {
        "id": "KGJmeQtbwOhB"
      }
    },
    {
      "cell_type": "code",
      "source": [
        "kmeans = KMeans(n_clusters = 4, init = 'random', random_state = 42)"
      ],
      "metadata": {
        "id": "UQon9Hh-wXPk"
      },
      "execution_count": null,
      "outputs": []
    },
    {
      "cell_type": "markdown",
      "source": [
        "Considerando as variáveis Age, PclassFare e Family:\n",
        "\n",
        "(Obs.: Neste gráfico, o tamanho dos pontos é proporcional à variável Family. Assim, é possível visualizar as três variáveis.)"
      ],
      "metadata": {
        "id": "KLLWnPdAxmWV"
      }
    },
    {
      "cell_type": "code",
      "source": [
        "kmeans.fit(titanic_data[['Age', 'PclassFare', 'Family']])\n",
        "labels = kmeans.labels_\n",
        "\n",
        "# Adicione os rótulos dos clusters como uma nova coluna no DataFrame\n",
        "titanic_data['Cluster'] = labels\n",
        "\n",
        "# Crie um scatter plot para visualizar os clusters\n",
        "plt.figure(figsize=(10, 6))\n",
        "\n",
        "# Scatter plot para o cluster 0\n",
        "plt.scatter(titanic_data.loc[titanic_data['Cluster'] == 0, 'Age'],\n",
        "            titanic_data.loc[titanic_data['Cluster'] == 0, 'PclassFare'],\n",
        "            s=titanic_data.loc[titanic_data['Cluster'] == 0, 'Family'] * 50,  # Tamanho dos pontos baseado na variável Family\n",
        "            label='Cluster 0', color='blue', alpha=0.7)\n",
        "\n",
        "# Scatter plot para o cluster 1\n",
        "plt.scatter(titanic_data.loc[titanic_data['Cluster'] == 1, 'Age'],\n",
        "            titanic_data.loc[titanic_data['Cluster'] == 1, 'PclassFare'],\n",
        "            s=titanic_data.loc[titanic_data['Cluster'] == 1, 'Family'] * 50,\n",
        "            label='Cluster 1', color='red', alpha=0.7)\n",
        "\n",
        "# Scatter plot para o cluster 2\n",
        "plt.scatter(titanic_data.loc[titanic_data['Cluster'] == 2, 'Age'],\n",
        "            titanic_data.loc[titanic_data['Cluster'] == 2, 'PclassFare'],\n",
        "            s=titanic_data.loc[titanic_data['Cluster'] == 2, 'Family'] * 50,\n",
        "            label='Cluster 2', color='green', alpha=0.7)\n",
        "\n",
        "# Scatter plot para o cluster 3\n",
        "plt.scatter(titanic_data.loc[titanic_data['Cluster'] == 3, 'Age'],\n",
        "            titanic_data.loc[titanic_data['Cluster'] == 3, 'PclassFare'],\n",
        "            s=titanic_data.loc[titanic_data['Cluster'] == 3, 'Family'] * 50,\n",
        "            label='Cluster 3', color='purple', alpha=0.7)\n",
        "\n",
        "plt.xlabel('Age')\n",
        "plt.ylabel('PclassFare')\n",
        "plt.xlim(-3, 4)\n",
        "plt.ylim(-1, 6)\n",
        "plt.title('Distribuição dos 4 Clusters')\n",
        "plt.legend()\n",
        "plt.show()"
      ],
      "metadata": {
        "colab": {
          "base_uri": "https://localhost:8080/",
          "height": 657
        },
        "id": "DcwrRk85xrPV",
        "outputId": "be11a852-d5d9-4062-91dd-4b25df6f0e79"
      },
      "execution_count": null,
      "outputs": [
        {
          "output_type": "stream",
          "name": "stderr",
          "text": [
            "/usr/local/lib/python3.10/dist-packages/sklearn/cluster/_kmeans.py:870: FutureWarning: The default value of `n_init` will change from 10 to 'auto' in 1.4. Set the value of `n_init` explicitly to suppress the warning\n",
            "  warnings.warn(\n",
            "/usr/local/lib/python3.10/dist-packages/matplotlib/collections.py:963: RuntimeWarning: invalid value encountered in sqrt\n",
            "  scale = np.sqrt(self._sizes) * dpi / 72.0 * self._factor\n"
          ]
        },
        {
          "output_type": "display_data",
          "data": {
            "text/plain": [
              "<Figure size 1000x600 with 1 Axes>"
            ],
            "image/png": "[encoded data removed]"
          },
          "metadata": {}
        }
      ]
    },
    {
      "cell_type": "code",
      "source": [
        "cluster_stats = titanic_data.groupby('Cluster').describe()\n",
        "\n",
        "for column in titanic_data.columns:\n",
        "  if(column != 'Cluster'):\n",
        "    mean_values = cluster_stats[column]['mean']\n",
        "    std_values = cluster_stats[column]['std']\n",
        "    min_values = cluster_stats[column]['min']\n",
        "    max_values = cluster_stats[column]['max']\n",
        "    print('\\t\\t'+column)\n",
        "    for cluster in range(4):\n",
        "      print(f\"Cluster {cluster} - Média: {mean_values[cluster]:.2f}, Desvio Padrão: {std_values[cluster]:.2f}, Mínimo: {min_values[cluster]:.2f}, Máximo: {max_values[cluster]:.2f}\")"
      ],
      "metadata": {
        "colab": {
          "base_uri": "https://localhost:8080/"
        },
        "id": "WiNNS3Ud0KYy",
        "outputId": "89dd0e4d-cc36-415c-c29a-390942237bbf"
      },
      "execution_count": null,
      "outputs": [
        {
          "output_type": "stream",
          "name": "stdout",
          "text": [
            "\t\tSex\n",
            "Cluster 0 - Média: -0.66, Desvio Padrão: 1.00, Mínimo: -1.36, Máximo: 0.74\n",
            "Cluster 1 - Média: 0.08, Desvio Padrão: 0.98, Mínimo: -1.36, Máximo: 0.74\n",
            "Cluster 2 - Média: 0.09, Desvio Padrão: 0.97, Mínimo: -1.36, Máximo: 0.74\n",
            "Cluster 3 - Média: -0.36, Desvio Padrão: 1.05, Mínimo: -1.36, Máximo: 0.74\n",
            "\t\tAge\n",
            "Cluster 0 - Média: 0.02, Desvio Padrão: 0.99, Mínimo: -2.21, Máximo: 2.64\n",
            "Cluster 1 - Média: 1.53, Desvio Padrão: 0.68, Mínimo: 0.41, Máximo: 3.87\n",
            "Cluster 2 - Média: -0.23, Desvio Padrão: 0.48, Mínimo: -2.25, Máximo: 0.72\n",
            "Cluster 3 - Média: -1.17, Desvio Padrão: 1.01, Mínimo: -2.23, Máximo: 1.18\n",
            "\t\tEmbarked\n",
            "Cluster 0 - Média: -0.68, Desvio Padrão: 1.27, Mínimo: -1.94, Máximo: 0.58\n",
            "Cluster 1 - Média: 0.04, Desvio Padrão: 1.04, Mínimo: -1.94, Máximo: 1.84\n",
            "Cluster 2 - Média: 0.00, Desvio Padrão: 0.97, Mínimo: -1.94, Máximo: 0.58\n",
            "Cluster 3 - Média: 0.26, Desvio Padrão: 0.80, Mínimo: -1.94, Máximo: 0.58\n",
            "\t\tPclass&Fare\n",
            "Cluster 0 - Média: 3.31, Desvio Padrão: 1.92, Mínimo: 1.64, Máximo: 9.51\n",
            "Cluster 1 - Média: 0.13, Desvio Padrão: 0.62, Mínimo: -0.49, Máximo: 2.37\n",
            "Cluster 2 - Média: -0.27, Desvio Padrão: 0.37, Mínimo: -0.49, Máximo: 1.59\n",
            "Cluster 3 - Média: -0.25, Desvio Padrão: 0.18, Mínimo: -0.44, Máximo: 1.11\n",
            "\t\tFamily\n",
            "Cluster 0 - Média: 0.43, Desvio Padrão: 0.96, Mínimo: -0.56, Máximo: 2.54\n",
            "Cluster 1 - Média: -0.20, Desvio Padrão: 0.52, Mínimo: -0.56, Máximo: 1.92\n",
            "Cluster 2 - Média: -0.34, Desvio Padrão: 0.40, Mínimo: -0.56, Máximo: 1.30\n",
            "Cluster 3 - Média: 2.15, Desvio Padrão: 1.37, Mínimo: 0.68, Máximo: 5.64\n"
          ]
        }
      ]
    },
    {
      "cell_type": "markdown",
      "source": [
        "Considerando as variáveis Sex, PclassFare:"
      ],
      "metadata": {
        "id": "MYEdIko8zTnD"
      }
    },
    {
      "cell_type": "code",
      "source": [
        "kmeans.fit(titanic_data[['Sex', 'PclassFare']])\n",
        "labels = kmeans.labels_\n",
        "\n",
        "# Adicione os rótulos dos clusters como uma nova coluna no DataFrame\n",
        "titanic_data['Cluster'] = labels\n",
        "\n",
        "# Crie um scatter plot para visualizar os clusters\n",
        "plt.figure(figsize=(10, 6))\n",
        "\n",
        "# Scatter plot para o cluster 0\n",
        "plt.scatter(titanic_data.loc[titanic_data['Cluster'] == 0, 'Sex'],\n",
        "            titanic_data.loc[titanic_data['Cluster'] == 0, 'PclassFare'],\n",
        "            label='Cluster 0', color='blue', alpha=0.7, s=70)\n",
        "\n",
        "# Scatter plot para o cluster 1\n",
        "plt.scatter(titanic_data.loc[titanic_data['Cluster'] == 1, 'Sex'],\n",
        "            titanic_data.loc[titanic_data['Cluster'] == 1, 'PclassFare'],\n",
        "            label='Cluster 1', color='red', alpha=0.7, s=70)\n",
        "\n",
        "# Scatter plot para o cluster 2\n",
        "plt.scatter(titanic_data.loc[titanic_data['Cluster'] == 2, 'Sex'],\n",
        "            titanic_data.loc[titanic_data['Cluster'] == 2, 'PclassFare'],\n",
        "            label='Cluster 2', color='green', alpha=0.7, s=70)\n",
        "\n",
        "# Scatter plot para o cluster 3\n",
        "plt.scatter(titanic_data.loc[titanic_data['Cluster'] == 3, 'Sex'],\n",
        "            titanic_data.loc[titanic_data['Cluster'] == 3, 'PclassFare'],\n",
        "            label='Cluster 3', color='purple', alpha=0.7, s=70)\n",
        "\n",
        "plt.xlabel('Sex')\n",
        "plt.ylabel('PclassFare')\n",
        "plt.xlim(-2, 1)\n",
        "plt.ylim(-1, 6)\n",
        "plt.title('Distribuição dos 4 Clusters')\n",
        "plt.legend()\n",
        "plt.show()"
      ],
      "metadata": {
        "colab": {
          "base_uri": "https://localhost:8080/",
          "height": 620
        },
        "id": "ApwxE8gl5yGO",
        "outputId": "6278cb2f-1328-42cc-8483-caa978b81294"
      },
      "execution_count": null,
      "outputs": [
        {
          "output_type": "stream",
          "name": "stderr",
          "text": [
            "/usr/local/lib/python3.10/dist-packages/sklearn/cluster/_kmeans.py:870: FutureWarning: The default value of `n_init` will change from 10 to 'auto' in 1.4. Set the value of `n_init` explicitly to suppress the warning\n",
            "  warnings.warn(\n"
          ]
        },
        {
          "output_type": "display_data",
          "data": {
            "text/plain": [
              "<Figure size 1000x600 with 1 Axes>"
            ],
            "image/png": "[encoded data removed]"
          },
          "metadata": {}
        }
      ]
    },
    {
      "cell_type": "code",
      "source": [
        "cluster_stats = titanic_data.groupby('Cluster').describe()\n",
        "\n",
        "for column in titanic_data.columns:\n",
        "  if(column != 'Cluster'):\n",
        "    mean_values = cluster_stats[column]['mean']\n",
        "    std_values = cluster_stats[column]['std']\n",
        "    min_values = cluster_stats[column]['min']\n",
        "    max_values = cluster_stats[column]['max']\n",
        "    print('\\t\\t'+column)\n",
        "    for cluster in range(4):\n",
        "      print(f\"Cluster {cluster} - Média: {mean_values[cluster]:.2f}, Desvio Padrão: {std_values[cluster]:.2f}, Mínimo: {min_values[cluster]:.2f}, Máximo: {max_values[cluster]:.2f}\")"
      ],
      "metadata": {
        "colab": {
          "base_uri": "https://localhost:8080/"
        },
        "id": "yrEp6K3Q648F",
        "outputId": "5e0586a4-bb5e-4a77-cbd8-a209fbc02093"
      },
      "execution_count": null,
      "outputs": [
        {
          "output_type": "stream",
          "name": "stdout",
          "text": [
            "\t\tSex\n",
            "Cluster 0 - Média: -1.01, Desvio Padrão: 0.79, Mínimo: -1.36, Máximo: 0.74\n",
            "Cluster 1 - Média: 0.74, Desvio Padrão: 0.00, Mínimo: 0.74, Máximo: 0.74\n",
            "Cluster 2 - Média: -1.36, Desvio Padrão: 0.00, Mínimo: -1.36, Máximo: -1.36\n",
            "Cluster 3 - Média: -0.52, Desvio Padrão: 1.05, Mínimo: -1.36, Máximo: 0.74\n",
            "\t\tAge\n",
            "Cluster 0 - Média: 0.35, Desvio Padrão: 1.10, Mínimo: -2.21, Máximo: 2.56\n",
            "Cluster 1 - Média: 0.06, Desvio Padrão: 0.99, Mínimo: -2.25, Máximo: 3.87\n",
            "Cluster 2 - Média: -0.23, Desvio Padrão: 0.96, Mínimo: -2.23, Máximo: 2.56\n",
            "Cluster 3 - Média: 0.10, Desvio Padrão: 0.94, Mínimo: -1.13, Máximo: 2.64\n",
            "\t\tEmbarked\n",
            "Cluster 0 - Média: -0.62, Desvio Padrão: 1.32, Mínimo: -1.94, Máximo: 1.84\n",
            "Cluster 1 - Média: 0.11, Desvio Padrão: 0.92, Mínimo: -1.94, Máximo: 0.58\n",
            "Cluster 2 - Média: -0.01, Desvio Padrão: 0.96, Mínimo: -1.94, Máximo: 0.58\n",
            "Cluster 3 - Média: -0.93, Desvio Padrão: 1.27, Mínimo: -1.94, Máximo: 0.58\n",
            "\t\tPclass&Fare\n",
            "Cluster 0 - Média: 1.58, Desvio Padrão: 0.57, Mínimo: 0.81, Máximo: 2.73\n",
            "Cluster 1 - Média: -0.25, Desvio Padrão: 0.35, Mínimo: -0.49, Máximo: 1.29\n",
            "Cluster 2 - Média: -0.27, Desvio Padrão: 0.26, Mínimo: -0.45, Máximo: 0.67\n",
            "Cluster 3 - Média: 4.96, Desvio Padrão: 2.00, Mínimo: 3.64, Máximo: 9.51\n",
            "\t\tFamily\n",
            "Cluster 0 - Média: 0.11, Desvio Padrão: 0.61, Mínimo: -0.56, Máximo: 1.30\n",
            "Cluster 1 - Média: -0.17, Desvio Padrão: 0.91, Mínimo: -0.56, Máximo: 5.64\n",
            "Cluster 2 - Média: 0.32, Desvio Padrão: 1.16, Mínimo: -0.56, Máximo: 5.64\n",
            "Cluster 3 - Média: 0.56, Desvio Padrão: 1.25, Mínimo: -0.56, Máximo: 2.54\n"
          ]
        }
      ]
    },
    {
      "cell_type": "markdown",
      "source": [
        "Terminado os experimentos com K-Means, podemos olhar para soluções mais eficazes para lidar com problemas de clustering em dados aninhados e de alta dimensão, o algoritmo de clustering DBSCAN é uma opção! Ele introduz três conceitos cruciais e dois hiperparâmetros fundamentais:\n",
        "\n",
        "Conceitos:\n",
        "\n",
        "Ponto Central: Este é o ponto focal que abriga pelo menos um número mínimo de pontos de dados (minPts) em sua vizinhança, permitindo que o cluster se estenda além dessa região.\n",
        "\n",
        "Ponto Não-Central: Ao contrário do ponto central, este não possui o número mínimo de pontos (minPts) em sua vizinhança, logo não pode expandir o cluster.\n",
        "\n",
        "Outliers / Ruído: Estes são os pontos de dados que não se enquadram em nenhum cluster estabelecido.\n",
        "\n",
        "Hiperparâmetros:\n",
        "\n",
        "minPts: Representa o número mínimo de pontos de dados que devem estar presentes na vizinhança de um ponto para que seja considerado um ponto central.\n",
        "\n",
        "Épsilon: Determina o raio da vizinhança de um ponto central, definindo a área em que outros pontos serão considerados membros do mesmo cluster.\n",
        "\n",
        "\n",
        "\n",
        "\n",
        "\n",
        "\n"
      ],
      "metadata": {
        "id": "KJCNQNA7kAce"
      }
    },
    {
      "cell_type": "markdown",
      "source": [
        "O dataset atual normalizado, mesmo após a redução do número de features, ainda conta com 5 dimensões. Seria interessante, nesse momento, reduzir o número de dimensões de modo que seja possível tratar o problema de forma mais simples."
      ],
      "metadata": {
        "id": "5qGqE8yODuyi"
      }
    },
    {
      "cell_type": "code",
      "source": [
        "pca = PCA(n_components = 2)\n",
        "pca.fit(titanic_data)\n",
        "data_pca = pca.transform(titanic_data)\n",
        "data_pca = pd.DataFrame(data_pca,columns=['PC1','PC2'])\n",
        "data_pca.head()"
      ],
      "metadata": {
        "colab": {
          "base_uri": "https://localhost:8080/",
          "height": 206
        },
        "id": "3R1l0tRYDzX8",
        "outputId": "833cfec8-0b64-4658-c809-5f1ad6135198"
      },
      "execution_count": null,
      "outputs": [
        {
          "output_type": "execute_result",
          "data": {
            "text/plain": [
              "        PC1       PC2\n",
              "0 -0.660939 -0.842198\n",
              "1  1.745844  1.670547\n",
              "2  0.157099 -0.451524\n",
              "3  0.784356  0.141163\n",
              "4 -1.217120  0.031816"
            ],
            "text/html": [
              "\n",
              "  <div id=\"df-e833cc66-7d5f-4041-baea-e6fda9610d8d\" class=\"colab-df-container\">\n",
              "    <div>\n",
              "<style scoped>\n",
              "    .dataframe tbody tr th:only-of-type {\n",
              "        vertical-align: middle;\n",
              "    }\n",
              "\n",
              "    .dataframe tbody tr th {\n",
              "        vertical-align: top;\n",
              "    }\n",
              "\n",
              "    .dataframe thead th {\n",
              "        text-align: right;\n",
              "    }\n",
              "</style>\n",
              "<table border=\"1\" class=\"dataframe\">\n",
              "  <thead>\n",
              "    <tr style=\"text-align: right;\">\n",
              "      <th></th>\n",
              "      <th>PC1</th>\n",
              "      <th>PC2</th>\n",
              "    </tr>\n",
              "  </thead>\n",
              "  <tbody>\n",
              "    <tr>\n",
              "      <th>0</th>\n",
              "      <td>-0.660939</td>\n",
              "      <td>-0.842198</td>\n",
              "    </tr>\n",
              "    <tr>\n",
              "      <th>1</th>\n",
              "      <td>1.745844</td>\n",
              "      <td>1.670547</td>\n",
              "    </tr>\n",
              "    <tr>\n",
              "      <th>2</th>\n",
              "      <td>0.157099</td>\n",
              "      <td>-0.451524</td>\n",
              "    </tr>\n",
              "    <tr>\n",
              "      <th>3</th>\n",
              "      <td>0.784356</td>\n",
              "      <td>0.141163</td>\n",
              "    </tr>\n",
              "    <tr>\n",
              "      <th>4</th>\n",
              "      <td>-1.217120</td>\n",
              "      <td>0.031816</td>\n",
              "    </tr>\n",
              "  </tbody>\n",
              "</table>\n",
              "</div>\n",
              "    <div class=\"colab-df-buttons\">\n",
              "\n",
              "  <div class=\"colab-df-container\">\n",
              "    <button class=\"colab-df-convert\" onclick=\"convertToInteractive('df-e833cc66-7d5f-4041-baea-e6fda9610d8d')\"\n",
              "            title=\"Convert this dataframe to an interactive table.\"\n",
              "            style=\"display:none;\">\n",
              "\n",
              "  <svg xmlns=\"http://www.w3.org/2000/svg\" height=\"24px\" viewBox=\"0 -960 960 960\">\n",
              "    <path d=\"M120-120v-720h720v720H120Zm60-500h600v-160H180v160Zm220 220h160v-160H400v160Zm0 220h160v-160H400v160ZM180-400h160v-160H180v160Zm440 0h160v-160H620v160ZM180-180h160v-160H180v160Zm440 0h160v-160H620v160Z\"/>\n",
              "  </svg>\n",
              "    </button>\n",
              "\n",
              "  <style>\n",
              "    .colab-df-container {\n",
              "      display:flex;\n",
              "      gap: 12px;\n",
              "    }\n",
              "\n",
              "    .colab-df-convert {\n",
              "      background-color: #E8F0FE;\n",
              "      border: none;\n",
              "      border-radius: 50%;\n",
              "      cursor: pointer;\n",
              "      display: none;\n",
              "      fill: #1967D2;\n",
              "      height: 32px;\n",
              "      padding: 0 0 0 0;\n",
              "      width: 32px;\n",
              "    }\n",
              "\n",
              "    .colab-df-convert:hover {\n",
              "      background-color: #E2EBFA;\n",
              "      box-shadow: 0px 1px 2px rgba(60, 64, 67, 0.3), 0px 1px 3px 1px rgba(60, 64, 67, 0.15);\n",
              "      fill: #174EA6;\n",
              "    }\n",
              "\n",
              "    .colab-df-buttons div {\n",
              "      margin-bottom: 4px;\n",
              "    }\n",
              "\n",
              "    [theme=dark] .colab-df-convert {\n",
              "      background-color: #3B4455;\n",
              "      fill: #D2E3FC;\n",
              "    }\n",
              "\n",
              "    [theme=dark] .colab-df-convert:hover {\n",
              "      background-color: #434B5C;\n",
              "      box-shadow: 0px 1px 3px 1px rgba(0, 0, 0, 0.15);\n",
              "      filter: drop-shadow(0px 1px 2px rgba(0, 0, 0, 0.3));\n",
              "      fill: #FFFFFF;\n",
              "    }\n",
              "  </style>\n",
              "\n",
              "    <script>\n",
              "      const buttonEl =\n",
              "        document.querySelector('#df-e833cc66-7d5f-4041-baea-e6fda9610d8d button.colab-df-convert');\n",
              "      buttonEl.style.display =\n",
              "        google.colab.kernel.accessAllowed ? 'block' : 'none';\n",
              "\n",
              "      async function convertToInteractive(key) {\n",
              "        const element = document.querySelector('#df-e833cc66-7d5f-4041-baea-e6fda9610d8d');\n",
              "        const dataTable =\n",
              "          await google.colab.kernel.invokeFunction('convertToInteractive',\n",
              "                                                    [key], {});\n",
              "        if (!dataTable) return;\n",
              "\n",
              "        const docLinkHtml = 'Like what you see? Visit the ' +\n",
              "          '<a target=\"_blank\" href=https://colab.research.google.com/notebooks/data_table.ipynb>data table notebook</a>'\n",
              "          + ' to learn more about interactive tables.';\n",
              "        element.innerHTML = '';\n",
              "        dataTable['output_type'] = 'display_data';\n",
              "        await google.colab.output.renderOutput(dataTable, element);\n",
              "        const docLink = document.createElement('div');\n",
              "        docLink.innerHTML = docLinkHtml;\n",
              "        element.appendChild(docLink);\n",
              "      }\n",
              "    </script>\n",
              "  </div>\n",
              "\n",
              "\n",
              "<div id=\"df-8d2d1794-2013-44eb-a52c-2bf187a22630\">\n",
              "  <button class=\"colab-df-quickchart\" onclick=\"quickchart('df-8d2d1794-2013-44eb-a52c-2bf187a22630')\"\n",
              "            title=\"Suggest charts\"\n",
              "            style=\"display:none;\">\n",
              "\n",
              "<svg xmlns=\"http://www.w3.org/2000/svg\" height=\"24px\"viewBox=\"0 0 24 24\"\n",
              "     width=\"24px\">\n",
              "    <g>\n",
              "        <path d=\"M19 3H5c-1.1 0-2 .9-2 2v14c0 1.1.9 2 2 2h14c1.1 0 2-.9 2-2V5c0-1.1-.9-2-2-2zM9 17H7v-7h2v7zm4 0h-2V7h2v10zm4 0h-2v-4h2v4z\"/>\n",
              "    </g>\n",
              "</svg>\n",
              "  </button>\n",
              "\n",
              "<style>\n",
              "  .colab-df-quickchart {\n",
              "      --bg-color: #E8F0FE;\n",
              "      --fill-color: #1967D2;\n",
              "      --hover-bg-color: #E2EBFA;\n",
              "      --hover-fill-color: #174EA6;\n",
              "      --disabled-fill-color: #AAA;\n",
              "      --disabled-bg-color: #DDD;\n",
              "  }\n",
              "\n",
              "  [theme=dark] .colab-df-quickchart {\n",
              "      --bg-color: #3B4455;\n",
              "      --fill-color: #D2E3FC;\n",
              "      --hover-bg-color: #434B5C;\n",
              "      --hover-fill-color: #FFFFFF;\n",
              "      --disabled-bg-color: #3B4455;\n",
              "      --disabled-fill-color: #666;\n",
              "  }\n",
              "\n",
              "  .colab-df-quickchart {\n",
              "    background-color: var(--bg-color);\n",
              "    border: none;\n",
              "    border-radius: 50%;\n",
              "    cursor: pointer;\n",
              "    display: none;\n",
              "    fill: var(--fill-color);\n",
              "    height: 32px;\n",
              "    padding: 0;\n",
              "    width: 32px;\n",
              "  }\n",
              "\n",
              "  .colab-df-quickchart:hover {\n",
              "    background-color: var(--hover-bg-color);\n",
              "    box-shadow: 0 1px 2px rgba(60, 64, 67, 0.3), 0 1px 3px 1px rgba(60, 64, 67, 0.15);\n",
              "    fill: var(--button-hover-fill-color);\n",
              "  }\n",
              "\n",
              "  .colab-df-quickchart-complete:disabled,\n",
              "  .colab-df-quickchart-complete:disabled:hover {\n",
              "    background-color: var(--disabled-bg-color);\n",
              "    fill: var(--disabled-fill-color);\n",
              "    box-shadow: none;\n",
              "  }\n",
              "\n",
              "  .colab-df-spinner {\n",
              "    border: 2px solid var(--fill-color);\n",
              "    border-color: transparent;\n",
              "    border-bottom-color: var(--fill-color);\n",
              "    animation:\n",
              "      spin 1s steps(1) infinite;\n",
              "  }\n",
              "\n",
              "  @keyframes spin {\n",
              "    0% {\n",
              "      border-color: transparent;\n",
              "      border-bottom-color: var(--fill-color);\n",
              "      border-left-color: var(--fill-color);\n",
              "    }\n",
              "    20% {\n",
              "      border-color: transparent;\n",
              "      border-left-color: var(--fill-color);\n",
              "      border-top-color: var(--fill-color);\n",
              "    }\n",
              "    30% {\n",
              "      border-color: transparent;\n",
              "      border-left-color: var(--fill-color);\n",
              "      border-top-color: var(--fill-color);\n",
              "      border-right-color: var(--fill-color);\n",
              "    }\n",
              "    40% {\n",
              "      border-color: transparent;\n",
              "      border-right-color: var(--fill-color);\n",
              "      border-top-color: var(--fill-color);\n",
              "    }\n",
              "    60% {\n",
              "      border-color: transparent;\n",
              "      border-right-color: var(--fill-color);\n",
              "    }\n",
              "    80% {\n",
              "      border-color: transparent;\n",
              "      border-right-color: var(--fill-color);\n",
              "      border-bottom-color: var(--fill-color);\n",
              "    }\n",
              "    90% {\n",
              "      border-color: transparent;\n",
              "      border-bottom-color: var(--fill-color);\n",
              "    }\n",
              "  }\n",
              "</style>\n",
              "\n",
              "  <script>\n",
              "    async function quickchart(key) {\n",
              "      const quickchartButtonEl =\n",
              "        document.querySelector('#' + key + ' button');\n",
              "      quickchartButtonEl.disabled = true;  // To prevent multiple clicks.\n",
              "      quickchartButtonEl.classList.add('colab-df-spinner');\n",
              "      try {\n",
              "        const charts = await google.colab.kernel.invokeFunction(\n",
              "            'suggestCharts', [key], {});\n",
              "      } catch (error) {\n",
              "        console.error('Error during call to suggestCharts:', error);\n",
              "      }\n",
              "      quickchartButtonEl.classList.remove('colab-df-spinner');\n",
              "      quickchartButtonEl.classList.add('colab-df-quickchart-complete');\n",
              "    }\n",
              "    (() => {\n",
              "      let quickchartButtonEl =\n",
              "        document.querySelector('#df-8d2d1794-2013-44eb-a52c-2bf187a22630 button');\n",
              "      quickchartButtonEl.style.display =\n",
              "        google.colab.kernel.accessAllowed ? 'block' : 'none';\n",
              "    })();\n",
              "  </script>\n",
              "</div>\n",
              "    </div>\n",
              "  </div>\n"
            ],
            "application/vnd.google.colaboratory.intrinsic+json": {
              "type": "dataframe",
              "variable_name": "data_pca",
              "summary": "{\n  \"name\": \"data_pca\",\n  \"rows\": 891,\n  \"fields\": [\n    {\n      \"column\": \"PC1\",\n      \"properties\": {\n        \"dtype\": \"number\",\n        \"std\": 1.1916368704487357,\n        \"min\": -1.953609036036879,\n        \"max\": 5.714905169205471,\n        \"num_unique_values\": 762,\n        \"samples\": [\n          0.7670803972279158,\n          0.6537726061819797,\n          1.551411228419299\n        ],\n        \"semantic_type\": \"\",\n        \"description\": \"\"\n      }\n    },\n    {\n      \"column\": \"PC2\",\n      \"properties\": {\n        \"dtype\": \"number\",\n        \"std\": 1.143011499298163,\n        \"min\": -3.3277955026813664,\n        \"max\": 5.813016875053504,\n        \"num_unique_values\": 762,\n        \"samples\": [\n          -0.2983992105158409,\n          -0.5455521245601065,\n          -0.03846544122786344\n        ],\n        \"semantic_type\": \"\",\n        \"description\": \"\"\n      }\n    }\n  ]\n}"
            }
          },
          "metadata": {},
          "execution_count": 55
        }
      ]
    },
    {
      "cell_type": "markdown",
      "source": [
        "Para esse trabalho escolhemos o método PCA, que reduziu o original a duas dimensões PC1 e PC2"
      ],
      "metadata": {
        "id": "Ka1iwF80EOv7"
      }
    },
    {
      "cell_type": "code",
      "source": [
        "plt.scatter(data_pca.PC1, data_pca.PC2)"
      ],
      "metadata": {
        "colab": {
          "base_uri": "https://localhost:8080/",
          "height": 447
        },
        "id": "JMRI6POGEciR",
        "outputId": "8dc37068-d8ec-4d23-e34d-b03995f50506"
      },
      "execution_count": null,
      "outputs": [
        {
          "output_type": "execute_result",
          "data": {
            "text/plain": [
              "<matplotlib.collections.PathCollection at 0x7ece368e48e0>"
            ]
          },
          "metadata": {},
          "execution_count": 56
        },
        {
          "output_type": "display_data",
          "data": {
            "text/plain": [
              "<Figure size 640x480 with 1 Axes>"
            ],
            "image/png": "[encoded data removed]"
          },
          "metadata": {}
        }
      ]
    },
    {
      "cell_type": "markdown",
      "source": [
        "Acima é possível ver a distribuição dos pontos no eixo cartesiano."
      ],
      "metadata": {
        "id": "myz3VNEpEmS_"
      }
    },
    {
      "cell_type": "markdown",
      "source": [
        "Podemos, inicialmente modelar o DBSCAN com essas duas dimensões e escolher \"eps\" e \"min_samples\" arbitrariamente como 0.2 e 15 apenas para uma primeira análise dos resultados."
      ],
      "metadata": {
        "id": "TwAq7uPtE2Kq"
      }
    },
    {
      "cell_type": "code",
      "source": [
        "X = data_pca.to_numpy()\n",
        "\n",
        "dbscan_cluster_model = DBSCAN(eps=0.2, min_samples=15).fit(X)\n",
        "dbscan_cluster_model"
      ],
      "metadata": {
        "colab": {
          "base_uri": "https://localhost:8080/",
          "height": 74
        },
        "id": "ltn37f58FIHb",
        "outputId": "ec4bce9b-1a68-4183-c532-526f81ce8229"
      },
      "execution_count": null,
      "outputs": [
        {
          "output_type": "execute_result",
          "data": {
            "text/plain": [
              "DBSCAN(eps=0.2, min_samples=15)"
            ],
            "text/html": [
              "<style>#sk-container-id-1 {color: black;background-color: white;}#sk-container-id-1 pre{padding: 0;}#sk-container-id-1 div.sk-toggleable {background-color: white;}#sk-container-id-1 label.sk-toggleable__label {cursor: pointer;display: block;width: 100%;margin-bottom: 0;padding: 0.3em;box-sizing: border-box;text-align: center;}#sk-container-id-1 label.sk-toggleable__label-arrow:before {content: \"▸\";float: left;margin-right: 0.25em;color: #696969;}#sk-container-id-1 label.sk-toggleable__label-arrow:hover:before {color: black;}#sk-container-id-1 div.sk-estimator:hover label.sk-toggleable__label-arrow:before {color: black;}#sk-container-id-1 div.sk-toggleable__content {max-height: 0;max-width: 0;overflow: hidden;text-align: left;background-color: #f0f8ff;}#sk-container-id-1 div.sk-toggleable__content pre {margin: 0.2em;color: black;border-radius: 0.25em;background-color: #f0f8ff;}#sk-container-id-1 input.sk-toggleable__control:checked~div.sk-toggleable__content {max-height: 200px;max-width: 100%;overflow: auto;}#sk-container-id-1 input.sk-toggleable__control:checked~label.sk-toggleable__label-arrow:before {content: \"▾\";}#sk-container-id-1 div.sk-estimator input.sk-toggleable__control:checked~label.sk-toggleable__label {background-color: #d4ebff;}#sk-container-id-1 div.sk-label input.sk-toggleable__control:checked~label.sk-toggleable__label {background-color: #d4ebff;}#sk-container-id-1 input.sk-hidden--visually {border: 0;clip: rect(1px 1px 1px 1px);clip: rect(1px, 1px, 1px, 1px);height: 1px;margin: -1px;overflow: hidden;padding: 0;position: absolute;width: 1px;}#sk-container-id-1 div.sk-estimator {font-family: monospace;background-color: #f0f8ff;border: 1px dotted black;border-radius: 0.25em;box-sizing: border-box;margin-bottom: 0.5em;}#sk-container-id-1 div.sk-estimator:hover {background-color: #d4ebff;}#sk-container-id-1 div.sk-parallel-item::after {content: \"\";width: 100%;border-bottom: 1px solid gray;flex-grow: 1;}#sk-container-id-1 div.sk-label:hover label.sk-toggleable__label {background-color: #d4ebff;}#sk-container-id-1 div.sk-serial::before {content: \"\";position: absolute;border-left: 1px solid gray;box-sizing: border-box;top: 0;bottom: 0;left: 50%;z-index: 0;}#sk-container-id-1 div.sk-serial {display: flex;flex-direction: column;align-items: center;background-color: white;padding-right: 0.2em;padding-left: 0.2em;position: relative;}#sk-container-id-1 div.sk-item {position: relative;z-index: 1;}#sk-container-id-1 div.sk-parallel {display: flex;align-items: stretch;justify-content: center;background-color: white;position: relative;}#sk-container-id-1 div.sk-item::before, #sk-container-id-1 div.sk-parallel-item::before {content: \"\";position: absolute;border-left: 1px solid gray;box-sizing: border-box;top: 0;bottom: 0;left: 50%;z-index: -1;}#sk-container-id-1 div.sk-parallel-item {display: flex;flex-direction: column;z-index: 1;position: relative;background-color: white;}#sk-container-id-1 div.sk-parallel-item:first-child::after {align-self: flex-end;width: 50%;}#sk-container-id-1 div.sk-parallel-item:last-child::after {align-self: flex-start;width: 50%;}#sk-container-id-1 div.sk-parallel-item:only-child::after {width: 0;}#sk-container-id-1 div.sk-dashed-wrapped {border: 1px dashed gray;margin: 0 0.4em 0.5em 0.4em;box-sizing: border-box;padding-bottom: 0.4em;background-color: white;}#sk-container-id-1 div.sk-label label {font-family: monospace;font-weight: bold;display: inline-block;line-height: 1.2em;}#sk-container-id-1 div.sk-label-container {text-align: center;}#sk-container-id-1 div.sk-container {/* jupyter's `normalize.less` sets `[hidden] { display: none; }` but bootstrap.min.css set `[hidden] { display: none !important; }` so we also need the `!important` here to be able to override the default hidden behavior on the sphinx rendered scikit-learn.org. See: https://github.com/scikit-learn/scikit-learn/issues/21755 */display: inline-block !important;position: relative;}#sk-container-id-1 div.sk-text-repr-fallback {display: none;}</style><div id=\"sk-container-id-1\" class=\"sk-top-container\"><div class=\"sk-text-repr-fallback\"><pre>DBSCAN(eps=0.2, min_samples=15)</pre><b>In a Jupyter environment, please rerun this cell to show the HTML representation or trust the notebook. <br />On GitHub, the HTML representation is unable to render, please try loading this page with nbviewer.org.</b></div><div class=\"sk-container\" hidden><div class=\"sk-item\"><div class=\"sk-estimator sk-toggleable\"><input class=\"sk-toggleable__control sk-hidden--visually\" id=\"sk-estimator-id-1\" type=\"checkbox\" checked><label for=\"sk-estimator-id-1\" class=\"sk-toggleable__label sk-toggleable__label-arrow\">DBSCAN</label><div class=\"sk-toggleable__content\"><pre>DBSCAN(eps=0.2, min_samples=15)</pre></div></div></div></div></div>"
            ]
          },
          "metadata": {},
          "execution_count": 57
        }
      ]
    },
    {
      "cell_type": "code",
      "source": [
        "data_pca['cluster'] = dbscan_cluster_model.labels_\n",
        "\n",
        "data_pca"
      ],
      "metadata": {
        "colab": {
          "base_uri": "https://localhost:8080/",
          "height": 423
        },
        "id": "SFV1gRq1FMqD",
        "outputId": "a6dbde95-8fb6-47f5-da45-369322712e94"
      },
      "execution_count": null,
      "outputs": [
        {
          "output_type": "execute_result",
          "data": {
            "text/plain": [
              "          PC1       PC2  cluster\n",
              "0   -0.660939 -0.842198        1\n",
              "1    1.745844  1.670547       -1\n",
              "2    0.157099 -0.451524        0\n",
              "3    0.784356  0.141163        4\n",
              "4   -1.217120  0.031816        1\n",
              "..        ...       ...      ...\n",
              "886 -1.029655 -0.302671        1\n",
              "887  0.551273 -0.529651        0\n",
              "888  1.077510 -1.052938       -1\n",
              "889  0.058224  1.089915       -1\n",
              "890 -0.739570  0.507077        1\n",
              "\n",
              "[891 rows x 3 columns]"
            ],
            "text/html": [
              "\n",
              "  <div id=\"df-14345eab-c877-4c8d-8512-f8560e2d4a9c\" class=\"colab-df-container\">\n",
              "    <div>\n",
              "<style scoped>\n",
              "    .dataframe tbody tr th:only-of-type {\n",
              "        vertical-align: middle;\n",
              "    }\n",
              "\n",
              "    .dataframe tbody tr th {\n",
              "        vertical-align: top;\n",
              "    }\n",
              "\n",
              "    .dataframe thead th {\n",
              "        text-align: right;\n",
              "    }\n",
              "</style>\n",
              "<table border=\"1\" class=\"dataframe\">\n",
              "  <thead>\n",
              "    <tr style=\"text-align: right;\">\n",
              "      <th></th>\n",
              "      <th>PC1</th>\n",
              "      <th>PC2</th>\n",
              "      <th>cluster</th>\n",
              "    </tr>\n",
              "  </thead>\n",
              "  <tbody>\n",
              "    <tr>\n",
              "      <th>0</th>\n",
              "      <td>-0.660939</td>\n",
              "      <td>-0.842198</td>\n",
              "      <td>1</td>\n",
              "    </tr>\n",
              "    <tr>\n",
              "      <th>1</th>\n",
              "      <td>1.745844</td>\n",
              "      <td>1.670547</td>\n",
              "      <td>-1</td>\n",
              "    </tr>\n",
              "    <tr>\n",
              "      <th>2</th>\n",
              "      <td>0.157099</td>\n",
              "      <td>-0.451524</td>\n",
              "      <td>0</td>\n",
              "    </tr>\n",
              "    <tr>\n",
              "      <th>3</th>\n",
              "      <td>0.784356</td>\n",
              "      <td>0.141163</td>\n",
              "      <td>4</td>\n",
              "    </tr>\n",
              "    <tr>\n",
              "      <th>4</th>\n",
              "      <td>-1.217120</td>\n",
              "      <td>0.031816</td>\n",
              "      <td>1</td>\n",
              "    </tr>\n",
              "    <tr>\n",
              "      <th>...</th>\n",
              "      <td>...</td>\n",
              "      <td>...</td>\n",
              "      <td>...</td>\n",
              "    </tr>\n",
              "    <tr>\n",
              "      <th>886</th>\n",
              "      <td>-1.029655</td>\n",
              "      <td>-0.302671</td>\n",
              "      <td>1</td>\n",
              "    </tr>\n",
              "    <tr>\n",
              "      <th>887</th>\n",
              "      <td>0.551273</td>\n",
              "      <td>-0.529651</td>\n",
              "      <td>0</td>\n",
              "    </tr>\n",
              "    <tr>\n",
              "      <th>888</th>\n",
              "      <td>1.077510</td>\n",
              "      <td>-1.052938</td>\n",
              "      <td>-1</td>\n",
              "    </tr>\n",
              "    <tr>\n",
              "      <th>889</th>\n",
              "      <td>0.058224</td>\n",
              "      <td>1.089915</td>\n",
              "      <td>-1</td>\n",
              "    </tr>\n",
              "    <tr>\n",
              "      <th>890</th>\n",
              "      <td>-0.739570</td>\n",
              "      <td>0.507077</td>\n",
              "      <td>1</td>\n",
              "    </tr>\n",
              "  </tbody>\n",
              "</table>\n",
              "<p>891 rows × 3 columns</p>\n",
              "</div>\n",
              "    <div class=\"colab-df-buttons\">\n",
              "\n",
              "  <div class=\"colab-df-container\">\n",
              "    <button class=\"colab-df-convert\" onclick=\"convertToInteractive('df-14345eab-c877-4c8d-8512-f8560e2d4a9c')\"\n",
              "            title=\"Convert this dataframe to an interactive table.\"\n",
              "            style=\"display:none;\">\n",
              "\n",
              "  <svg xmlns=\"http://www.w3.org/2000/svg\" height=\"24px\" viewBox=\"0 -960 960 960\">\n",
              "    <path d=\"M120-120v-720h720v720H120Zm60-500h600v-160H180v160Zm220 220h160v-160H400v160Zm0 220h160v-160H400v160ZM180-400h160v-160H180v160Zm440 0h160v-160H620v160ZM180-180h160v-160H180v160Zm440 0h160v-160H620v160Z\"/>\n",
              "  </svg>\n",
              "    </button>\n",
              "\n",
              "  <style>\n",
              "    .colab-df-container {\n",
              "      display:flex;\n",
              "      gap: 12px;\n",
              "    }\n",
              "\n",
              "    .colab-df-convert {\n",
              "      background-color: #E8F0FE;\n",
              "      border: none;\n",
              "      border-radius: 50%;\n",
              "      cursor: pointer;\n",
              "      display: none;\n",
              "      fill: #1967D2;\n",
              "      height: 32px;\n",
              "      padding: 0 0 0 0;\n",
              "      width: 32px;\n",
              "    }\n",
              "\n",
              "    .colab-df-convert:hover {\n",
              "      background-color: #E2EBFA;\n",
              "      box-shadow: 0px 1px 2px rgba(60, 64, 67, 0.3), 0px 1px 3px 1px rgba(60, 64, 67, 0.15);\n",
              "      fill: #174EA6;\n",
              "    }\n",
              "\n",
              "    .colab-df-buttons div {\n",
              "      margin-bottom: 4px;\n",
              "    }\n",
              "\n",
              "    [theme=dark] .colab-df-convert {\n",
              "      background-color: #3B4455;\n",
              "      fill: #D2E3FC;\n",
              "    }\n",
              "\n",
              "    [theme=dark] .colab-df-convert:hover {\n",
              "      background-color: #434B5C;\n",
              "      box-shadow: 0px 1px 3px 1px rgba(0, 0, 0, 0.15);\n",
              "      filter: drop-shadow(0px 1px 2px rgba(0, 0, 0, 0.3));\n",
              "      fill: #FFFFFF;\n",
              "    }\n",
              "  </style>\n",
              "\n",
              "    <script>\n",
              "      const buttonEl =\n",
              "        document.querySelector('#df-14345eab-c877-4c8d-8512-f8560e2d4a9c button.colab-df-convert');\n",
              "      buttonEl.style.display =\n",
              "        google.colab.kernel.accessAllowed ? 'block' : 'none';\n",
              "\n",
              "      async function convertToInteractive(key) {\n",
              "        const element = document.querySelector('#df-14345eab-c877-4c8d-8512-f8560e2d4a9c');\n",
              "        const dataTable =\n",
              "          await google.colab.kernel.invokeFunction('convertToInteractive',\n",
              "                                                    [key], {});\n",
              "        if (!dataTable) return;\n",
              "\n",
              "        const docLinkHtml = 'Like what you see? Visit the ' +\n",
              "          '<a target=\"_blank\" href=https://colab.research.google.com/notebooks/data_table.ipynb>data table notebook</a>'\n",
              "          + ' to learn more about interactive tables.';\n",
              "        element.innerHTML = '';\n",
              "        dataTable['output_type'] = 'display_data';\n",
              "        await google.colab.output.renderOutput(dataTable, element);\n",
              "        const docLink = document.createElement('div');\n",
              "        docLink.innerHTML = docLinkHtml;\n",
              "        element.appendChild(docLink);\n",
              "      }\n",
              "    </script>\n",
              "  </div>\n",
              "\n",
              "\n",
              "<div id=\"df-0d6e513b-e168-42e9-bd27-3bf5d505a25b\">\n",
              "  <button class=\"colab-df-quickchart\" onclick=\"quickchart('df-0d6e513b-e168-42e9-bd27-3bf5d505a25b')\"\n",
              "            title=\"Suggest charts\"\n",
              "            style=\"display:none;\">\n",
              "\n",
              "<svg xmlns=\"http://www.w3.org/2000/svg\" height=\"24px\"viewBox=\"0 0 24 24\"\n",
              "     width=\"24px\">\n",
              "    <g>\n",
              "        <path d=\"M19 3H5c-1.1 0-2 .9-2 2v14c0 1.1.9 2 2 2h14c1.1 0 2-.9 2-2V5c0-1.1-.9-2-2-2zM9 17H7v-7h2v7zm4 0h-2V7h2v10zm4 0h-2v-4h2v4z\"/>\n",
              "    </g>\n",
              "</svg>\n",
              "  </button>\n",
              "\n",
              "<style>\n",
              "  .colab-df-quickchart {\n",
              "      --bg-color: #E8F0FE;\n",
              "      --fill-color: #1967D2;\n",
              "      --hover-bg-color: #E2EBFA;\n",
              "      --hover-fill-color: #174EA6;\n",
              "      --disabled-fill-color: #AAA;\n",
              "      --disabled-bg-color: #DDD;\n",
              "  }\n",
              "\n",
              "  [theme=dark] .colab-df-quickchart {\n",
              "      --bg-color: #3B4455;\n",
              "      --fill-color: #D2E3FC;\n",
              "      --hover-bg-color: #434B5C;\n",
              "      --hover-fill-color: #FFFFFF;\n",
              "      --disabled-bg-color: #3B4455;\n",
              "      --disabled-fill-color: #666;\n",
              "  }\n",
              "\n",
              "  .colab-df-quickchart {\n",
              "    background-color: var(--bg-color);\n",
              "    border: none;\n",
              "    border-radius: 50%;\n",
              "    cursor: pointer;\n",
              "    display: none;\n",
              "    fill: var(--fill-color);\n",
              "    height: 32px;\n",
              "    padding: 0;\n",
              "    width: 32px;\n",
              "  }\n",
              "\n",
              "  .colab-df-quickchart:hover {\n",
              "    background-color: var(--hover-bg-color);\n",
              "    box-shadow: 0 1px 2px rgba(60, 64, 67, 0.3), 0 1px 3px 1px rgba(60, 64, 67, 0.15);\n",
              "    fill: var(--button-hover-fill-color);\n",
              "  }\n",
              "\n",
              "  .colab-df-quickchart-complete:disabled,\n",
              "  .colab-df-quickchart-complete:disabled:hover {\n",
              "    background-color: var(--disabled-bg-color);\n",
              "    fill: var(--disabled-fill-color);\n",
              "    box-shadow: none;\n",
              "  }\n",
              "\n",
              "  .colab-df-spinner {\n",
              "    border: 2px solid var(--fill-color);\n",
              "    border-color: transparent;\n",
              "    border-bottom-color: var(--fill-color);\n",
              "    animation:\n",
              "      spin 1s steps(1) infinite;\n",
              "  }\n",
              "\n",
              "  @keyframes spin {\n",
              "    0% {\n",
              "      border-color: transparent;\n",
              "      border-bottom-color: var(--fill-color);\n",
              "      border-left-color: var(--fill-color);\n",
              "    }\n",
              "    20% {\n",
              "      border-color: transparent;\n",
              "      border-left-color: var(--fill-color);\n",
              "      border-top-color: var(--fill-color);\n",
              "    }\n",
              "    30% {\n",
              "      border-color: transparent;\n",
              "      border-left-color: var(--fill-color);\n",
              "      border-top-color: var(--fill-color);\n",
              "      border-right-color: var(--fill-color);\n",
              "    }\n",
              "    40% {\n",
              "      border-color: transparent;\n",
              "      border-right-color: var(--fill-color);\n",
              "      border-top-color: var(--fill-color);\n",
              "    }\n",
              "    60% {\n",
              "      border-color: transparent;\n",
              "      border-right-color: var(--fill-color);\n",
              "    }\n",
              "    80% {\n",
              "      border-color: transparent;\n",
              "      border-right-color: var(--fill-color);\n",
              "      border-bottom-color: var(--fill-color);\n",
              "    }\n",
              "    90% {\n",
              "      border-color: transparent;\n",
              "      border-bottom-color: var(--fill-color);\n",
              "    }\n",
              "  }\n",
              "</style>\n",
              "\n",
              "  <script>\n",
              "    async function quickchart(key) {\n",
              "      const quickchartButtonEl =\n",
              "        document.querySelector('#' + key + ' button');\n",
              "      quickchartButtonEl.disabled = true;  // To prevent multiple clicks.\n",
              "      quickchartButtonEl.classList.add('colab-df-spinner');\n",
              "      try {\n",
              "        const charts = await google.colab.kernel.invokeFunction(\n",
              "            'suggestCharts', [key], {});\n",
              "      } catch (error) {\n",
              "        console.error('Error during call to suggestCharts:', error);\n",
              "      }\n",
              "      quickchartButtonEl.classList.remove('colab-df-spinner');\n",
              "      quickchartButtonEl.classList.add('colab-df-quickchart-complete');\n",
              "    }\n",
              "    (() => {\n",
              "      let quickchartButtonEl =\n",
              "        document.querySelector('#df-0d6e513b-e168-42e9-bd27-3bf5d505a25b button');\n",
              "      quickchartButtonEl.style.display =\n",
              "        google.colab.kernel.accessAllowed ? 'block' : 'none';\n",
              "    })();\n",
              "  </script>\n",
              "</div>\n",
              "    </div>\n",
              "  </div>\n"
            ],
            "application/vnd.google.colaboratory.intrinsic+json": {
              "type": "dataframe",
              "variable_name": "data_pca",
              "summary": "{\n  \"name\": \"data_pca\",\n  \"rows\": 891,\n  \"fields\": [\n    {\n      \"column\": \"PC1\",\n      \"properties\": {\n        \"dtype\": \"number\",\n        \"std\": 1.1916368704487357,\n        \"min\": -1.953609036036879,\n        \"max\": 5.714905169205471,\n        \"num_unique_values\": 762,\n        \"samples\": [\n          0.7670803972279158,\n          0.6537726061819797,\n          1.551411228419299\n        ],\n        \"semantic_type\": \"\",\n        \"description\": \"\"\n      }\n    },\n    {\n      \"column\": \"PC2\",\n      \"properties\": {\n        \"dtype\": \"number\",\n        \"std\": 1.143011499298163,\n        \"min\": -3.3277955026813664,\n        \"max\": 5.813016875053504,\n        \"num_unique_values\": 762,\n        \"samples\": [\n          -0.2983992105158409,\n          -0.5455521245601065,\n          -0.03846544122786344\n        ],\n        \"semantic_type\": \"\",\n        \"description\": \"\"\n      }\n    },\n    {\n      \"column\": \"cluster\",\n      \"properties\": {\n        \"dtype\": \"number\",\n        \"std\": 1,\n        \"min\": -1,\n        \"max\": 4,\n        \"num_unique_values\": 6,\n        \"samples\": [\n          1,\n          -1,\n          3\n        ],\n        \"semantic_type\": \"\",\n        \"description\": \"\"\n      }\n    }\n  ]\n}"
            }
          },
          "metadata": {},
          "execution_count": 58
        }
      ]
    },
    {
      "cell_type": "markdown",
      "source": [
        "Temos, então, a distribuição dos clusters da seguinte forma:"
      ],
      "metadata": {
        "id": "-L0KmggQFPET"
      }
    },
    {
      "cell_type": "code",
      "source": [
        "data_pca['cluster'].value_counts()"
      ],
      "metadata": {
        "colab": {
          "base_uri": "https://localhost:8080/"
        },
        "id": "BYgNfHUBFUux",
        "outputId": "177c4eb2-6b3b-4135-e3b9-8722e7387a5a"
      },
      "execution_count": null,
      "outputs": [
        {
          "output_type": "execute_result",
          "data": {
            "text/plain": [
              "-1    385\n",
              " 1    354\n",
              " 0     74\n",
              " 2     38\n",
              " 3     24\n",
              " 4     16\n",
              "Name: cluster, dtype: int64"
            ]
          },
          "metadata": {},
          "execution_count": 59
        }
      ]
    },
    {
      "cell_type": "markdown",
      "source": [
        "A primeira vista, é possível notar que muitos pontos não foram relacionados a nenhum cluster (-1). Podemos analisar a representação visual:"
      ],
      "metadata": {
        "id": "hZY6WxmhHBpa"
      }
    },
    {
      "cell_type": "code",
      "source": [
        "fig = px.scatter(x=data_pca.PC1, y=data_pca.PC2, color=data_pca['cluster'])\n",
        "\n",
        "fig.show()"
      ],
      "metadata": {
        "colab": {
          "base_uri": "https://localhost:8080/",
          "height": 542
        },
        "id": "5BIBpNeZHLQ5",
        "outputId": "2c824a26-715f-46f5-b7e4-6c07326f29b9"
      },
      "execution_count": null,
      "outputs": [
        {
          "output_type": "display_data",
          "data": {
            "text/html": [
              "<html>\n",
              "<head><meta charset=\"utf-8\" /></head>\n",
              "<body>\n",
              "    <div>            <script src=\"https://cdnjs.cloudflare.com/ajax/libs/mathjax/2.7.5/MathJax.js?config=TeX-AMS-MML_SVG\"></script><script type=\"text/javascript\">if (window.MathJax && window.MathJax.Hub && window.MathJax.Hub.Config) {window.MathJax.Hub.Config({SVG: {font: \"STIX-Web\"}});}</script>                <script type=\"text/javascript\">window.PlotlyConfig = {MathJaxConfig: 'local'};</script>\n",
              "        <script charset=\"utf-8\" src=\"https://cdn.plot.ly/plotly-2.24.1.min.js\"></script>                <div id=\"b944e870-6d3b-45b8-be54-965d1e2f9d30\" class=\"plotly-graph-div\" style=\"height:525px; width:100%;\"></div>            <script type=\"text/javascript\">                                    window.PLOTLYENV=window.PLOTLYENV || {};                                    if (document.getElementById(\"b944e870-6d3b-45b8-be54-965d1e2f9d30\")) {                    Plotly.newPlot(                        \"b944e870-6d3b-45b8-be54-965d1e2f9d30\",                        [{\"hovertemplate\":\"x=%{x}\\u003cbr\\u003ey=%{y}\\u003cbr\\u003ecolor=%{marker.color}\\u003cextra\\u003e\\u003c\\u002fextra\\u003e\",\"legendgroup\":\"\",\"marker\":{\"color\":[1,-1,0,4,1,1,-1,-1,-1,-1,-1,2,1,-1,-1,2,-1,1,0,-1,1,1,-1,1,-1,-1,2,-1,3,1,-1,-1,3,-1,-1,1,2,1,-1,-1,0,0,2,-1,-1,1,-1,3,3,-1,-1,1,-1,0,-1,1,0,2,-1,-1,-1,-1,2,-1,-1,3,0,1,-1,-1,1,-1,1,-1,1,1,1,1,-1,0,1,1,3,1,0,-1,-1,1,-1,1,1,1,-1,-1,-1,1,-1,-1,-1,1,0,1,0,1,1,1,0,1,1,4,-1,-1,1,-1,-1,1,-1,1,-1,-1,-1,1,-1,0,-1,0,1,1,-1,1,2,1,-1,0,1,2,-1,-1,1,-1,-1,0,0,-1,1,-1,1,-1,1,1,1,-1,-1,1,1,-1,-1,1,1,-1,1,-1,1,1,-1,-1,4,-1,1,1,-1,-1,-1,1,-1,-1,-1,-1,1,1,-1,2,-1,-1,-1,1,4,1,-1,1,0,1,-1,-1,-1,-1,1,1,3,0,1,-1,1,-1,1,-1,1,2,-1,-1,1,0,1,1,-1,-1,0,1,-1,1,1,1,1,1,-1,1,1,1,1,-1,-1,1,-1,-1,1,0,1,-1,1,1,-1,4,1,1,2,-1,0,-1,0,1,1,-1,-1,1,-1,-1,-1,-1,-1,-1,1,-1,2,1,3,1,-1,1,-1,-1,1,1,0,-1,3,-1,-1,1,-1,0,-1,1,1,1,1,2,1,1,1,4,4,-1,2,0,1,-1,2,-1,1,-1,3,0,1,3,1,-1,-1,-1,-1,-1,-1,-1,-1,1,1,0,0,1,-1,-1,1,1,3,-1,-1,-1,-1,0,0,-1,-1,1,-1,-1,-1,1,-1,-1,1,-1,-1,-1,1,1,1,0,-1,0,-1,1,1,1,-1,1,2,1,-1,0,3,3,-1,-1,-1,1,-1,1,-1,-1,3,-1,-1,-1,1,-1,-1,-1,0,-1,-1,1,-1,-1,1,4,1,1,-1,0,1,-1,-1,1,-1,-1,-1,1,0,1,1,0,1,1,-1,1,0,1,1,-1,1,-1,1,1,-1,1,1,0,0,-1,1,-1,2,-1,1,-1,-1,1,0,0,1,1,1,0,-1,1,-1,-1,-1,-1,-1,1,-1,1,1,0,1,-1,-1,1,-1,-1,-1,1,-1,-1,1,2,-1,4,-1,1,-1,1,-1,1,1,1,1,-1,1,-1,1,1,-1,-1,0,1,1,1,1,-1,-1,1,1,-1,-1,-1,-1,-1,1,-1,1,1,-1,-1,1,2,-1,1,-1,1,1,4,3,0,-1,-1,0,1,1,1,1,1,1,-1,1,-1,0,1,0,1,-1,1,2,-1,2,-1,-1,-1,1,-1,-1,2,-1,-1,0,-1,1,-1,1,-1,-1,-1,-1,1,-1,-1,-1,2,1,-1,-1,1,1,-1,0,-1,-1,-1,-1,0,1,1,1,1,0,-1,1,-1,2,1,-1,-1,1,3,1,1,0,3,-1,1,-1,-1,-1,-1,2,-1,1,-1,1,1,1,-1,1,-1,1,1,0,1,2,-1,-1,1,1,1,-1,1,1,1,-1,-1,-1,1,4,1,1,-1,1,0,-1,1,-1,1,-1,1,1,-1,-1,4,1,1,-1,1,-1,1,-1,0,1,-1,-1,1,1,-1,-1,1,-1,-1,1,-1,1,0,1,-1,1,3,-1,-1,1,-1,1,-1,-1,-1,1,1,-1,-1,1,1,1,4,-1,-1,-1,1,1,1,1,0,-1,-1,3,-1,1,-1,-1,4,-1,1,1,-1,-1,-1,1,2,-1,1,1,3,-1,1,-1,1,-1,1,1,1,-1,-1,-1,3,-1,1,-1,1,1,1,-1,0,1,1,-1,-1,1,1,-1,1,-1,3,1,0,-1,-1,1,1,1,1,-1,-1,1,1,1,-1,-1,1,1,-1,-1,0,-1,1,-1,-1,1,1,4,-1,1,1,1,-1,1,1,-1,-1,1,-1,-1,3,-1,1,1,1,2,2,-1,1,1,-1,1,-1,-1,-1,1,-1,1,1,0,-1,-1,-1,1,1,-1,-1,1,1,2,0,2,0,1,-1,-1,0,1,1,1,0,1,4,1,1,1,-1,1,1,0,-1,1,-1,-1,1,1,0,-1,1,1,-1,1,2,-1,-1,2,1,1,-1,1,1,1,-1,1,1,-1,2,1,1,-1,2,1,-1,-1,-1,-1,-1,-1,-1,-1,-1,-1,2,1,1,2,-1,1,-1,-1,1,1,-1,1,-1,1,1,-1,-1,1,1,1,-1,0,1,0,1,1,-1,1,0,-1,-1,1],\"coloraxis\":\"coloraxis\",\"symbol\":\"circle\"},\"mode\":\"markers\",\"name\":\"\",\"orientation\":\"v\",\"showlegend\":false,\"x\":[-0.6609388834669278,1.745843913068851,0.1570987355306331,0.7843559624813998,-1.2171198706074076,-0.693909083653401,-1.104270029294949,0.70105107227162,0.7755490407584078,1.6595720486921144,1.2271504616426594,-0.2173948031754109,-0.9341926264305432,0.6628069872699692,0.38321440067456325,-0.3385515223384487,1.4622171590352373,-1.0805651105627232,0.4085010112758158,0.9289357806343915,-1.1182677574079323,-1.1616875633391603,0.7868339585792424,-0.7706448127328938,1.7927416754008072,1.8868896213995694,-0.2759257201655414,3.146630906091223,0.5091028126633714,-1.1176281054573711,-0.22768038043909428,2.62332340803623,0.5086901569921154,-1.7772429192901285,0.8339222922547179,-0.5630782191032219,-0.27591230566229624,-0.9530544427090009,0.9672371418915648,1.551411228419299,0.21151641711136013,0.5270663225348132,-0.2737832323615282,2.5492525904419754,0.7109076040637987,-1.117135601552513,-0.3578858723953475,0.5086901569921154,0.3973050113513528,0.6530658370269476,0.9797215197919407,-0.9538529250450225,1.5905453934506981,0.5132971600585463,-0.0574365412803821,-0.8026932576272024,0.27640031404039767,-0.25329476890721636,1.6014298532613565,1.5543755080639337,-0.13069296309724174,0.2500656561700816,-0.31807688962323216,0.9986585264838946,-0.03338702999191138,0.37675718630910704,0.1255057838127366,-0.914984907604121,2.2080501960115515,-0.41834220438643616,-1.135941165822569,2.6649279274715783,-0.6266348637433662,0.13046843029575225,-1.0058019595542917,-1.0297792795604659,-1.1176281054573711,-1.117135601552513,0.16767822486695402,0.09618384893239582,-0.9688820261105764,-1.0993177753877366,0.5088099293425187,-0.6594960715586855,0.35184757915422826,0.9909754686207145,0.47946490464956276,-1.117135601552513,4.276045141777325,-1.0096398915443736,-1.1039489729366618,-0.9348179977961153,-0.550612579021073,-0.06676200207920653,-1.67235860476566,-1.117135601552513,-0.745962315928414,0.7479739862901273,0.40461539661786927,-0.7858734221336747,0.11928184023687041,-1.1176281054573711,0.07531938761014631,-1.1774664659407954,-0.6281777063407339,-1.0855796605630623,0.2505294863532974,-1.1180139321221367,-1.2741978233476388,0.874603117230933,-0.9709198194913099,1.552240818297948,-0.9719162589874585,0.589870617950943,1.1915668537163149,-0.9534536838770117,-1.4657500907479581,-0.7155188108220348,2.4937182085026293,2.5655556903728347,0.00043017424823364573,-1.117135601552513,0.10576694674071535,0.07146666187845904,-0.5471205495789556,0.38427336017628133,-0.6961713438078174,-1.0125409375676075,1.604335509568855,-1.409171507436877,-0.33604386885950766,-0.9373865557746297,0.09553319811619104,0.5132971600585463,-0.9919312168330416,-0.10056150020208535,1.142725606807833,-0.4582291708754483,-0.8550190039509671,0.5673714624865125,1.58161868710904,0.23198706300924846,0.5336667771352334,-0.4975604817514765,-0.8670848439080326,-0.13791154828761634,-1.0670372372190133,1.8163591193986992,-0.5194954438340189,-1.3125820935668213,-1.4846141147306018,1.1589137125368498,-1.6037871043157892,-0.6731939778779673,-1.1194911244437766,0.2008798137986691,0.7670270586078695,-1.1228107892151196,-1.1151793198292599,2.214616243066803,-1.0476325668978306,-0.05682200166561661,-1.0482418546709127,-0.8756508958719174,1.0928924174626866,-0.05980334080843104,0.9025456287975872,1.4301855598670645,-0.8944388780360856,-0.9303546944404611,-1.4122483259865144,1.424493526478322,1.2659562639983064,-0.9534536838770117,-0.500963621498445,-0.27002932724760015,0.19262218363783723,0.7980652167678538,-1.0862402982253299,-1.2616928181057612,3.419477743866736,-0.22689890473381447,1.229020792674908,0.5259131752567128,1.2441581353999198,-0.6637573311594421,0.8469756284045853,-1.1770526923553946,-0.23864670384673045,-1.2364741907907235,0.08089757001768791,-0.8787603191622958,0.6024378382780751,0.11237540149431198,0.9017338552470081,1.77598484558101,-0.6961713438078174,-1.034488775787136,0.5086901569921154,0.23179210024534894,-1.0804559591092788,2.214616243066803,-1.2032220593155292,-0.5739590601442413,-0.8964689938736279,0.9314194409200355,-0.8220892538923606,-0.16922383467331792,0.7670803972279158,-0.19625978112370948,-1.0128338208884602,0.06263927331135236,-0.9744714024627277,-1.0862402982253299,-0.3826388248120175,2.2802321955322786,0.13823691925217538,-0.9319770583452062,1.5934717189245646,-1.0982175332656539,-0.8587453613167126,-1.0296548493899569,-1.51890893106273,-1.1176281054573711,-0.12352300876353664,-0.9677641508401461,-0.89073755420262,-0.9461786780450412,-0.8598985028838382,1.39748368443777,1.075402773961277,-1.1048273035062857,-1.6308375232925363,2.5093295585886715,-0.9850466355949081,0.08612893457537665,-0.9744915849182509,1.224125544405989,-0.89073755420262,-1.1462991452223967,1.2655578536444612,0.8469756284045853,-1.0793557169871961,-0.9748706436307384,-0.281600907828148,0.49876104910943886,0.17548146240747783,0.8660434792611432,-0.14992639178765552,-1.1631097477028274,-1.119690745027782,0.7356829203974794,-1.4977035690891742,-0.7835671389994238,0.5404819361608306,1.5948053157248911,1.6647372532783062,0.8851642451553497,5.714905169205471,0.11719901821093606,-0.6961713438078174,1.3421916903456539,-0.17322742380002762,-1.3371400832195917,0.5086901569921154,-1.2113884309363996,0.809965173285822,-0.7158475193966553,1.3121863894645014,1.2616400296884691,-0.8458113037723695,-1.0542128390427272,0.25581455361221195,0.16140186226552622,0.5086901569921154,0.4944120681268983,-0.20183471139527712,-1.1428467327724088,1.367908077642949,0.6537726061819797,-1.3620101012164412,-1.0857125280237763,-0.8541141637677874,-0.9153308101520856,-0.8937202439336661,-0.3335950832313966,-1.1181795916661943,-0.9724087628923166,-1.3125820935668213,0.6539094995571699,0.8873108318223962,2.2938985400673486,-0.3561651845522489,0.19777675273082831,-1.0101323954492318,-0.03338702999191138,-0.15898568751492817,2.977187969438033,-0.8506021977884992,3.2081724860626637,0.5086901569921154,-0.019600400982877644,-0.9410419413719815,0.5431047456746468,-1.117135601552513,1.7926972302188344,1.9683199180407887,2.502377300789551,0.12383692804373941,1.4456679807068584,1.8101605548545379,4.894677959749495,0.8834151278897192,-1.0855796605630623,-0.6408995261399609,0.15687260533307182,0.6076062414508345,-1.5341329948921831,2.2442605750561495,2.6273818190066645,-0.9744714024627277,-1.0667178442846048,0.5374295580120402,0.9732350750519387,2.214616243066803,2.086623086505854,-1.7133160907834628,0.005450304903857418,0.730098201865434,2.0333268050349376,1.1852610998170552,-1.1677991138317176,0.4845612142337213,-0.1999007263514527,1.6561532575347837,-1.1176281054573711,-0.17798050221228628,1.9814549647366066,-1.405738033391984,-1.0912956894666734,0.1312372177727696,4.257183325498867,-1.0485166656684144,-0.9919312168330416,-1.1994111958960756,0.23179210024534894,-0.06999696020997317,0.4269695494631157,0.03859563364591516,-1.3471963028333582,-0.9870252082866146,-0.8074841516433322,0.6284047888435615,-0.6838283777221886,-0.2759257201655414,-1.0804559591092788,1.0477649713626418,-0.03227332765305794,0.5091028126633714,0.5091028126633714,0.3196331404594199,0.16052470277741238,0.9769554218049901,-1.2203137999514941,-0.3578858723953475,-1.1253659326903886,1.3688920335303463,0.9289491951376366,0.5086901569921154,1.677373261767078,0.6343951705970278,-0.5879004798644072,-0.9153308101520856,1.1458270136043283,1.8870507567930954,2.0067353481603423,0.23039009833720528,2.405521608310649,-0.1032432430614493,-0.9162091407217093,2.8539389801590733,2.1245200410834375,-1.1609336629400455,0.7738159956459145,-1.1176281054573711,-0.5700494149079933,1.74299367084851,0.005450304903857418,-0.6962377775381744,1.202878793274266,0.8287193027527585,-0.9538663395482676,-0.4584213598346151,2.4311267257599396,0.8499141360735067,-0.9727281558267252,0.0625635239407836,-1.325747736470966,-0.9661848193164505,0.15466802222587298,-1.292966376889249,-1.0473635241012889,0.5710088016724854,-0.74664198877853,0.2726251560926426,-0.809827892214323,-1.5198671098659557,0.07764141987737193,-0.9539327732786246,1.39748368443777,-1.1176281054573711,-0.6990193706039393,1.5975700099766057,-1.1428467327724088,-1.3872754582815372,0.08772589924741989,0.763661408766901,0.9720280359076945,-1.0862402982253299,1.1377743375853577,-0.2737832323615282,-0.5321435235843516,-1.104507910571877,0.7671208334682773,-0.23055779023457665,-1.119690745027782,0.5321589763370039,0.3883828038473227,-0.6961713438078174,-1.1605344217720348,-0.8564018156216149,0.4269695494631157,0.2680935484385972,-0.8805615622384503,-0.6766037760050716,2.448540761678759,1.5900173240572075,1.8270023358170944,2.2978491735606292,-1.1170793495441116,0.5262383421030566,-0.9295614288816179,-0.7158475193966553,0.1563448351315184,-1.1169359809685075,0.7532992200775771,0.7839454094090257,-0.9695727132923607,2.3738370668968214,-1.2712373435771738,-0.18814795217076313,-0.7655419847420382,-0.03878242944397604,0.5042585195499746,-1.117135601552513,-0.2605966037456771,-1.5542890179245472,0.8724827688463735,-0.27059235803487375,-0.6961713438078174,-1.2336381411907675,-1.19825805432895,-1.1002739579268108,-1.425752991237567,-1.117135601552513,-1.276899248786867,-1.1428467327724088,-1.3845326714184285,-0.6962511920414196,2.4539997860802663,-1.119690745027782,-1.2717490377195275,1.0732989974645426,1.0982917404122194,0.23865439051502893,-0.6445937550949234,-0.809827892214323,-0.7936237977881936,-0.9736064863963491,0.9372483619729932,1.592099140620849,-1.1428467327724088,-1.5000471147842722,-0.5354785592377557,0.9758661415966698,1.39748368443777,1.1379239408717692,-0.548228798577884,-1.1228107892151196,-0.07457526402483079,-0.7655419847420382,-0.95560958618427,-1.3278227924125465,-0.603672763649363,-0.9530544427090009,-0.2528230710409609,1.5109683111580086,-1.0946183996767034,2.5433661950335074,-1.0104517883836406,-0.8756508958719174,0.6727713158356274,0.5083043303273498,-0.04507133599785724,1.1492296730537566,1.2786539837111603,0.7513824139405157,-0.8884502605159236,-1.038855029402553,-0.8926310618835459,-0.6829847151919664,-1.117135601552513,-1.009811565207744,1.3301915908897815,-1.0114099671868664,-1.1431927028809068,0.0311967024204485,-0.6437909025647998,0.381264446109343,-1.161026925676893,0.952236761381165,-0.9724087628923166,-0.2759257201655414,1.505195949238124,-0.27591230566229624,-0.8998956023942292,-0.27059235803487375,0.9821945515916403,-1.292966376889249,-0.020796368312920928,1.3360987185727025,-0.27591230566229624,0.5906811562866463,1.604335509568855,0.0840069933080663,1.2429873606844466,-1.1770526923553946,1.9199262447939598,-1.0965347572831554,2.1524425292768585,1.2505406709761842,2.4335229764236312,2.395799343866716,-0.7481497895767595,0.6513609374206741,-1.540697185063832,0.7019153228431226,-0.23258809137796846,-0.5124869314914142,0.06956843077541768,1.6300518791897982,-0.9673732271802712,-0.6959183846037658,-0.1307063776004869,0.23206691124285064,-1.4977035690891742,1.2536430855217924,1.8810944623632386,1.2768376886198545,0.3122755722770758,-0.6961713438078174,-1.3119214559045538,-1.0461212186603497,-1.117135601552513,0.08772589924741989,-0.3311525911129822,-0.9158233140569437,1.3966435335531966,-0.27591230566229624,-1.161159793137607,-1.701795654176298,0.7428456264222764,-1.008853386404518,0.5086901569921154,-0.8587453613167126,-0.894729965882728,0.04317393746077266,0.7357377038578953,1.265570948754772,-1.1609336629400455,0.9214405202326955,2.419953421863663,-1.4766422666986272,-0.03337870021551257,-0.2711747502662128,1.6729358304674649,-1.39730938692685,0.5154111144536376,-0.9719162589874585,-1.117135601552513,-1.2200742552506876,1.5486919437149238,-1.4460168094241683,1.1357551949837152,-0.8424588709690476,-0.5574943864544738,0.22011427055980307,-1.5068964297257104,-0.2759257201655414,0.19596448961203047,1.239462173458564,-1.1176281054573711,-0.7365789202046131,-1.3868762171135263,-0.14458965647497538,-0.898494697809417,-1.1233032931199778,-0.7996919366157329,2.19087808115128,1.338166563480939,1.8676684880699022,-1.1203295308965993,0.8469756284045853,-0.6961713438078174,-1.2171198706074076,1.4215161460714913,-0.5509115650024013,0.49674162691433976,1.6741892272212726,-1.0227702681518234,0.11160661401729463,-0.5577679921757437,0.5612840309928093,-0.9536798140745729,-0.927343311489105,-1.4235471704341545,-1.1767009823062486,0.9730758328263188,-1.047856028006147,-0.6962246824278636,-1.8041590933901168,-1.5220894459035712,-0.050156144912178104,-1.1428467327724088,2.1092109458915393,0.1563448351315184,-1.1609336629400455,-0.4145577307984694,1.5432812671243141,-0.7778919513368171,-0.9348179977961153,1.677373261767078,2.241243659840743,-0.9624031393347698,2.4539997860802663,0.4045457089292229,-0.9158233140569437,-0.45493079543386467,-1.1187325662245562,0.21248646086197356,-1.1176281054573711,0.7064044570731912,-0.9518302095914125,0.5089431161961671,0.726162835326914,-0.05615527458713927,-1.1176281054573711,1.1171093271808634,-0.9542075842761263,0.8796341742097895,0.3819127624988915,-0.4702190706127243,-1.2239987958933594,-1.237751762528358,-0.6210593486027541,-0.20704980481480037,-0.9919312168330416,-1.1180139321221367,-1.3680144008350685,0.8738002647008092,0.681631322200998,-0.3555982400401878,-1.8526901844039592,-1.1051021145037874,-1.1428467327724088,-0.8973473244432517,-1.0190707996836024,0.3141150701321046,2.1556588879532224,4.804714371122881,0.509927804612949,0.48711133178103316,-0.9304397594512417,1.4977900592285607,-0.9004665041680876,0.929431131515974,0.8476888058427373,-0.9085571247991471,-0.8972808907128947,2.6777904718051886,-0.30768929987889115,1.7469761875272634,-0.9624031393347698,-0.18729182643585984,-1.459979936532259,-1.4988048093433328,-1.3868762171135263,0.5086368183720692,1.0264737582791539,-1.3504301562942456,3.6201550898378567,-0.9909497489292863,1.4862244613233462,-0.6075639596916917,-0.7344563764710612,-1.1937150225217628,-0.16191059459419654,-1.1229824628784897,1.6593540868814807,0.37675718630910704,1.4876941022380787,-0.8884502605159236,-0.6762491167739676,-1.0993711140077826,-1.5012002563513975,-0.9166083818897202,2.929386245272904,0.16322941636965185,-0.6714183913911475,-1.1802745686201161,0.9806551925759797,-0.5672551734402117,-1.1616875633391603,-1.4634766237944823,-0.26961100809087196,-0.9322363447072903,1.0975459116910402,0.5086502328753143,-0.616117075627556,0.4894930708048907,2.1001925249109816,0.11370340950354665,-1.1428467327724088,-0.9542075842761263,-0.9542075842761263,-1.0688069335775372,1.0807482845388514,4.510043668405538,-1.1176281054573711,-1.1176281054573711,-0.8553930918046289,-0.19263631276631293,4.838092510914121,-0.6703962413286779,-1.142071846661588,-0.5956225832913083,-0.19271438532725824,0.11862120257460315,-0.11871647786321093,-0.7207083477488817,1.284002403967398,-0.3424615421887539,-1.174765040501567,-0.9912705791707742,0.9688325553885082,0.10122815223762698,-1.085899053497471,-0.8670848439080326,-1.19825805432895,0.8285787963199768,-1.0965347572831554,-1.3332451529214333,-0.09296933054032644,2.0335808035526917,-0.8596236918863365,0.7207538634683898,0.08043694640090368,0.49358406119028,-0.3302583835689998,-1.1595363188520078,-1.0050086939954483,-1.462948853592929,-0.4026250719840771,-0.2759257201655414,0.9679766280361164,-0.8974271726768539,-0.6961713438078174,0.5677292558938368,-0.6962112679246185,2.149659616008375,1.24392488420881,1.1612376288194486,-0.8422064631887778,-0.12735153266618188,-1.0316956371669177,-1.0310568512981004,0.30662243128381217,1.3490462613644916,0.4047834048822344,0.1524115043604445,-0.6961713438078174,-0.7598932481172372,3.419477743866736,-0.00488121059593991,-1.0289942117276896,-1.2559966447314483,-0.053586830679718846,0.06521161075996565,-0.28158749332490285,0.760538012016205,-1.1616875633391603,0.7903037700014635,1.3002647097141993,0.5939897352181852,-1.0696588144246395,-1.142550936063201,-1.318278266941134,0.3075141763566811,-1.2559966447314483,0.8220795950383151,-1.047882537619703,-1.2411448732814465,-1.192526614657942,2.490108425259004,-1.1322416973543483,-1.1428467327724088,0.21368418436600597,0.4808093747256351,-1.373124687785607,0.8854876288131488,1.164341841246697,-1.0642690586564936,-1.2994164506626764,0.46630181676356863,1.0740306011842289,-0.6987264872830866,-0.9624031393347698,1.046663863079364,-0.6961713438078174,-0.20261793451290155,1.5428099101587192,0.11857156120162497,-0.27591230566229624,-0.9914034466314882,-0.8956705115376064,2.154298348669273,-0.951098160985748,-1.117135601552513,-1.0058019595542917,-0.014422755118463726,-0.9345918675985541,-0.834152105367247,1.1972198824607998,-0.36899430043967535,-0.8756508958719174,-1.3507495492286543,2.214616243066803,-0.37376750141642295,-0.6391662663500212,2.0731697173032093,1.3229705570159864,-1.953609036036879,1.9720416412940438,1.011459975730142,0.23036991588168193,0.6260771340694172,1.9801951471577428,-1.2902235900261405,2.015462557606126,-0.27591230566229624,-0.6838759481412747,-0.6101377737476056,-0.034725014401261224,3.419477743866736,-0.973069400554584,-0.10772059276688842,1.336696067835663,-0.6835436845941122,-1.1125044040035876,0.004509314363000545,-1.047856028006147,0.866316946227701,-1.1571984291090915,-1.440427433072017,1.3664220614005875,1.2061878371486496,-0.9284569681144328,-0.9158233140569437,-1.1176281054573711,1.5201149529396931,0.5887444251723769,-1.1798887419553505,0.2408237073255324,-1.0604939007087386,-1.0316956371669177,1.9691914575322376,-1.0296548493899569,0.5512732003957314,1.077509968133751,0.05822385874243798,-0.7395701640273393],\"xaxis\":\"x\",\"y\":[-0.8421975100059483,1.6705465416300962,-0.45152441957717854,0.14116260562591373,0.03181606547298254,0.40317814353795983,1.3464908826780924,-2.540550394242726,-0.9412773389276023,0.06236714070500685,-1.9843697105142555,1.236358804096515,-0.6592713632267251,-1.3508754846518383,-1.0046051716970044,0.9324417455129104,-2.1748991571408203,-0.17831608720422085,-0.46385243632760403,0.9455613480110844,0.1239706347364394,0.019836294558050433,-0.34364037924428587,0.0024464773890153957,-2.332431259279514,-1.4649288442328583,1.0138771845277557,0.25651302845484686,0.33313801910334123,-0.21286794674047307,1.7145704630683538,1.9601700339661476,0.332753322161537,1.4829904030408099,1.3753910159409632,0.522160058188359,1.013889690155895,-0.6131988679800779,-1.335483987399079,-0.03846544122786344,-0.07458342669973318,-0.6079457554383715,1.0158745119934076,-0.9384086145680461,-0.1597970278340952,-0.2124088115359359,0.1514559072603777,0.332753322161537,0.5115367802854475,-1.0633903806358813,-2.527457744269831,-0.613943250607408,2.225989989545334,-0.4934692861251765,2.899710024970946,0.08072906710662721,-0.6585877195749846,0.9586433480616067,-2.1367713801878665,-2.8670705502148945,0.6591721289583999,0.17798468696610792,0.9415308622708504,-2.7007728708883834,1.2399831098261993,0.4923811355067875,-0.29000775760180725,-0.7050213919192129,-2.5023115539873717,-0.9263908800400064,-0.08347443534519426,-2.70502391049833,-0.3088952499275645,0.5922856550097649,0.03784742728146039,-0.4300998991972173,-0.21286794674047307,-0.2124088115359359,-1.9823058662796775,-0.25368667477318335,-0.5642977187495767,-0.2403014867683864,0.33286497955563654,0.1060645391133546,-0.8428777005615733,-0.9234873621594707,-1.855934305015708,-0.2124088115359359,0.372487172924764,-0.4749813822401365,-0.24461890600690053,-0.6598543637004499,0.7884065664439833,-1.1636101607127922,1.1351739269850587,-0.2124088115359359,3.2047510458143758,0.9769841615879744,-0.27650569718388096,-0.1947909733752692,-0.3594663729747562,-0.21286794674047307,-0.21947943372793632,-0.058529901086580606,-0.4217893610775109,-0.2911505364580849,-0.6827057167004773,-0.21322763242599888,0.16957441600838696,0.10889570964932513,1.0252116472866566,-0.005863876843349069,-0.5671263727334308,-0.9949911959544148,0.38201868201341854,-0.613571059293743,2.2808676169431017,-0.44748492842840576,2.6681050441026066,-3.1238736452944553,-0.8542734756576873,-0.2124088115359359,0.983024139284651,-0.11758828482859172,1.300912909411421,-0.062294595204486436,0.40106915867820836,-0.4776858732017519,0.44524298473765533,0.4893401726419353,1.1679543985090317,-0.6622488937360451,0.26288613083613055,-0.4934692861251765,-0.39481616266177416,0.7509184534527628,-1.108229058413355,0.3016234326358795,-0.84008745936809,1.4372532049081714,0.42406529899011614,-0.6363354684028982,-0.7927615936491725,-0.09484341876854811,-0.7240230730342746,-1.1105548354772516,-0.337520784755664,-2.2467576082589096,-0.3522988481237126,0.38841625653122785,0.800947223263162,-0.337189846953036,0.9763022180292498,-0.24095836461546616,-0.2146047402865595,2.2493355366011096,-0.2984489352753466,-0.19854641076025334,-0.21058507409897734,-2.756181813863365,0.1977485304277726,0.2402377428722076,-0.3836552126369051,-0.795665111529708,-2.8038927157497144,-1.6743023435661988,-0.08609034747988019,-0.8801164022925203,-0.004800496773592438,-0.14644255370512835,1.5049736374724518,-2.082754166647526,-2.1391622153404293,-0.613571059293743,2.47830484681039,-1.2973775799238672,-1.2513065073745064,2.115838030036432,-0.16445368642853828,0.053919440119603,-2.824497650380036,1.059582277845819,-2.7327153698689552,-2.2024996973130073,-1.968514360552126,0.21025164426205123,0.08314007074370636,0.705732202406773,0.35335414763747064,0.07742942551509256,-0.14062453245191528,-0.6712511341416572,-1.04693180832883,-1.8957274388863934,1.8305446075382712,3.5367514145130126,0.40106915867820836,0.0826890606408525,0.332753322161537,-0.5092044944250927,-0.28637398201503356,-2.756181813863365,-0.018884107691249912,1.7418632616264695,-0.7514163537200195,-1.8223979346943726,-0.3558657951593237,0.8778773008308631,-0.2983992105158409,1.7438622172068412,-0.4779589127494565,0.03332331939986737,-0.5695083971408869,-0.16445368642853828,0.12838004581314694,1.7231337785682153,-0.4054519243305313,0.17825528436188834,1.7115386744239107,-0.17561942583848858,-0.8435613442133136,-0.3026711721684798,0.7689759894193375,-0.21286794674047307,0.6773085552642608,-0.5632555830713146,-0.6824168735516075,-0.6386171400108576,-0.7173236293883044,-1.3196223438911776,0.4124900732877071,-0.2454377268969635,1.17388182360622,-2.9853211873722154,-0.45205439731837177,-0.2822134133072673,0.2659339790912027,-1.7325642252288336,-0.6824168735516075,-0.02947426511748234,0.6943973987039997,0.08314007074370636,-0.22169192108513577,-0.5698805884545519,1.0277395853034381,1.295425643246023,-0.49804354440022364,-1.0478832765092454,0.024058911314857354,0.7266589315576746,-0.21479083594339196,-0.85112967589996,1.4889646215997752,-0.44726640302528803,-0.26922881047432295,0.39185520451915146,1.6315099390957006,0.48183779929161247,5.7447010385368324,0.4740531140544144,0.40106915867820836,-3.0091503413488385,0.9571820535378713,0.23820942110619173,0.332753322161537,0.10081554564139446,-2.1128052870500067,-0.7024168207486137,2.0973272135237124,1.151087974845579,0.04053240523080597,-0.452878007593516,0.030369734368718808,1.3213432496154895,0.332753322161537,1.6532415125115296,0.42333192226998695,-0.23637793213596262,-1.9445366809075844,-0.5455521245601065,2.0274688930865423,-0.29127440172727265,-0.8392439249747996,-0.7053438584733722,-0.004130552408995441,1.1702372711505273,-0.1942289915217392,-0.5675855079379679,0.38841625653122785,-0.021964239035957938,0.2292134931161276,0.9719978205721486,1.340165456814728,-0.5409151943493518,-0.4754405174446736,1.2399831098261993,0.7282808718283708,-1.0451943273158768,0.036066109466825834,3.797674083998762,0.332753322161537,-0.098157344157453,-0.729312979073399,0.36483621339946104,-0.2124088115359359,-1.0266367856655845,1.9145239162535246,1.0390387571803286,0.8407289128440624,1.4464363804704856,1.4042952454366253,1.637973398585495,-0.9043758847301794,-0.2911505364580849,-0.05171105507951101,-0.4517352287372383,-0.7238317623584124,0.9457524952549744,0.6825497893023417,2.0546913781039358,-0.5695083971408869,-0.33722303170473206,0.37869861417514356,-1.0752669784248279,-2.756181813863365,2.4259029288261065,1.2243041678376667,0.04366544853467346,-0.7290232846566322,0.5381115552567218,-0.16647318067412434,0.7461870035096192,1.24419314510744,-1.3593131413757018,0.6164579761941955,-0.21286794674047307,0.0536334562901657,2.646142099080705,0.49254101793945443,0.7856788965820176,-1.9417999341330405,0.41855966817141116,-0.25659867692183264,-0.39481616266177416,0.11198128505134479,-0.5092044944250927,0.22795542952126222,-0.5294446403176419,-1.9645083936516876,0.3561472696364713,-0.5175552791383324,0.07626277134264707,-0.20871356349825307,-0.6725670773926797,1.0138771845277557,-0.28637398201503356,-0.4408079086773752,0.13581043902796786,0.33313801910334123,0.33313801910334123,-1.0421630420090848,0.8112746108760326,1.39934722817939,0.028838534963662472,0.1514559072603777,-0.2009284351677094,2.719574347870294,0.9455738536392235,0.332753322161537,1.2805047122646933,0.9984133979910186,-1.0287331445026662,-0.7053438584733722,1.8492038318897177,-2.5627937355127504,1.3853577691419037,-0.6378242336575582,2.211874324067135,0.5574493160757756,-0.7061626793634352,3.523168921215857,-0.8966981050073979,-0.10677361158062403,0.13133675494515742,-0.21286794674047307,-0.44711273566750603,-3.3277955026813664,0.04366544853467346,0.40100722604361455,0.3925642018182775,0.30776308487965204,-0.6139557562355471,-0.8364418182973355,1.354553816595038,-1.0629198055813118,-0.5678832609889,-0.22137275250400237,0.6307680824495584,-0.4981268925650189,-0.32647771695589706,0.21573385514590626,-0.3828363917468421,-0.9489187007077676,-0.5401557761459125,-0.725763462306438,-0.21712245219516987,0.7680827302665415,-1.9281080831752493,-0.614017688870141,-1.3196223438911776,-0.21286794674047307,0.3984140947230477,0.9930014718812938,-0.23637793213596262,0.44609633137914223,-0.2807246480526073,-0.506765000291131,-1.3310176916350986,-0.16445368642853828,-1.6857521367399377,1.0158745119934076,0.000229377474560689,-0.2451399738460315,-0.8854781447661593,-1.2605803646305367,-0.21479083594339196,-0.5395417813718236,-0.6815051257265867,0.40106915867820836,-0.10640142026695897,-0.07750021678622908,-0.5294446403176419,0.10547315208123695,-0.8002430646877876,0.9255771271205817,-0.7741476470632573,-1.6938876652991437,-1.846968858107514,2.3297753145539697,-0.12954693059184144,-0.027881901102887876,-0.6549539439882109,-0.7024168207486137,-0.324914513438504,-0.21222271587910338,-1.2345718764299989,-1.2596601325374022,0.19893475469365401,-0.9746264530967955,1.0635234056687464,-0.6402081910251324,-0.4496155865805826,1.2541063422744982,2.404846646220514,-0.2124088115359359,0.983664417522443,1.6271821073397166,-0.11411635339885556,0.6775146425777837,0.40106915867820836,0.8439496881467147,-0.01425642977366463,0.9046216616591928,0.6648512280111111,-0.2124088115359359,0.16705602070360406,-0.23637793213596262,1.212529650119892,0.4009947204154754,-1.1704345578950461,-0.21479083594339196,0.17185728864988267,-0.8467415132817453,0.6770014354184838,-0.6301198734646926,0.2281168273179718,-0.21712245219516987,-0.5202980550094212,-0.568702081878963,-1.8169639415148635,-2.959215540708189,-0.23637793213596262,0.7229034941726904,1.2581080490205119,1.3167486285687031,-1.3196223438911776,0.47077523300764784,2.5615547626601414,-0.19854641076025334,-1.6880734221718043,-0.4496155865805826,-0.615580892387534,1.201740891408688,3.3374000300045856,-0.6131988679800779,1.0354145559608208,2.470086325252809,-0.19141722144522924,0.014473063357008637,-0.47573827049560563,-0.795665111529708,-0.06803673428260508,0.3323936364760112,0.060223172607685165,-0.16317713416144794,1.153427088943647,-0.5818684180036492,0.0007823729313827419,-0.24759164713113938,-0.23858754419842268,0.36885906420724374,-0.2124088115359359,0.2887349399108588,2.301557800672241,-0.47663152964840166,0.8646107976871532,-0.05964528136857126,0.4499006590310579,-0.1709618193986462,-0.10686055547149613,0.5443659399873344,-0.5675855079379679,1.0138771845277557,1.828141422162843,1.013889690155895,0.8986927595436864,0.6775146425777837,1.7446850708618453,0.21573385514590626,-1.311727935396223,-2.010115770649712,1.013889690155895,-0.11656857300495879,0.44524298473765533,-0.2650385098399662,-1.7786367204754807,0.705732202406773,1.8885621442201017,-0.1932037397508213,0.4661161837876626,0.0744393763579885,-2.801366178567925,-2.709221188074631,-0.28693596386856357,2.6056387728046557,1.5761966867526913,-0.9541942385916482,1.0542785516260926,-0.5685624576466665,-1.617352283190371,0.8523814896093423,-0.24460932723673798,0.40130497909454654,0.6591596233302608,-0.6362610301401652,1.4889646215997752,1.848257516938744,3.02475241399708,0.2899237788147865,-0.2352764783999602,0.40106915867820836,0.2617194065016813,-0.2543655290398426,-0.2124088115359359,-0.2807246480526073,-0.9724213667702057,-0.7058029936779093,-1.3649088590999234,1.013889690155895,-0.10698442074068386,1.2987004220542213,0.6833004628519838,0.28962819906365483,0.332753322161537,-0.8435613442133136,-0.6861387866882577,-0.0484795419586209,0.3504638428907912,0.6944096065790879,-0.10677361158062403,-0.932583196920906,1.7976605485189088,0.9993480444227361,1.6410821339128898,1.0183062611603693,-0.6775986213648043,0.6277113242924242,2.550484808057347,-0.5671263727334308,-0.2124088115359359,0.029061849751861452,2.3779413347595146,0.5823039840252928,-0.2126249035685858,-0.056573487635327636,-0.41955142381043964,-0.15730600844128936,0.6528618783260164,1.0138771845277557,2.117440513808392,-1.264743692324555,-0.21286794674047307,0.14236394864955312,0.4464685226928073,1.473749708674182,-0.17246907332553102,-0.1990055459647905,-0.08828897549743313,-0.06303120488174958,1.5407114119491245,-1.4191913211685097,-0.21538634204525595,0.08314007074370636,0.40106915867820836,0.03181606547298254,-1.0950244532933098,-0.5407273367696048,-0.6998722205285481,-2.132598048089737,-0.3599094068250774,0.6383581502564121,0.5271105004131545,0.04699514119557006,-0.6137818684538028,-0.5892297473800512,1.4944403255426812,1.6909718223512888,-0.009114174982590411,-0.3832955269513792,0.40101943391870276,2.349086976810887,0.7660109645381565,1.3708159594696834,-0.23637793213596262,-2.538726231171819,-0.324914513438504,-0.10677361158062403,-0.6045809980392771,-1.0293087424004985,-0.4611288038009706,-0.6598543637004499,1.2805047122646933,-2.8612336978983492,-0.06815996398751654,-1.1704345578950461,2.248233330815358,-0.7058029936779093,2.521218803029017,-0.21389757679059593,-0.590858479258115,-0.21286794674047307,-1.0136656211302357,-0.6120575805358556,0.3329891425778752,-0.20923175053186674,-0.7160559899177458,-0.21286794674047307,-0.08354165085237814,-0.48696115315506855,2.762717873879299,1.3473970055544318,1.4884645377699102,0.7892795735544057,0.07623841331136454,-0.9323326674054516,-0.34747602794456833,-0.39481616266177416,-0.21322763242599888,0.40039602744615993,-0.11288812206376098,-0.201299106345377,0.015362610475240096,1.6672803840273986,-0.1183811911818911,-0.23637793213596262,-0.7522351746100825,-0.4519451346168129,-0.814397348823142,-1.461066538838856,5.5864002574350895,0.3339071152338986,1.5534000435008288,-0.655772764878274,-2.728853064474953,0.7884666351042379,0.14350211737486343,-2.204950277543301,-0.6990291117692061,-0.7521732419754886,0.6331836525985846,0.06002556811504147,-0.49271426483656405,-0.06815996398751654,0.7973771090702024,1.3968196311064807,0.8513743568796899,0.4464685226928073,0.3327035974020314,2.326701337502052,0.35313251999578477,2.1447399224312638,0.2426624446642116,0.15538985651991602,0.18454436971742771,-0.6561085050856283,0.30826061572302815,0.46055105363648813,0.5651699113907418,0.6943229162122512,0.4923811355067875,1.1036769168954972,0.0007823729313827419,0.7985950296682423,-0.240351211527892,0.8491412089976997,-0.7065348706771002,3.3388789402292685,-0.3821527480951015,0.42414502012543914,-0.061147745910374786,-1.5218726064502004,-1.073142986712909,0.019836294558050433,0.7569962185044055,-0.15910151983059231,-0.6574476257897666,-1.0151064954285527,0.3327161030301706,-0.6094434305950939,-0.7702860276888871,1.5508876989167066,0.18678987213115533,-0.23637793213596262,-0.48696115315506855,-0.48696115315506855,-0.24368603303019734,-0.4499302936396697,5.813016875053504,-0.21286794674047307,-0.21286794674047307,0.031599813702845696,0.48556516923420934,1.7761908843254366,-0.7237013745051711,-0.1528461068272712,1.7092200512606637,-1.3526136977297316,-0.23276952294520967,-0.5276814818037697,0.46100405470053807,-1.9313696674483578,-1.5637998370411057,-0.05601150578179768,-0.5215130126913207,0.010715432626222583,-2.0544387540968527,-0.29144828950901686,-0.7240230730342746,-0.01425642977366463,0.620055285031554,-0.1932037397508213,0.30549682123174454,0.5670271384651057,0.23944724836298062,-0.8443801651033767,1.1003715695517635,1.346095151105145,0.36965197056054316,0.17721154616599646,-0.10547094198279643,-0.47066396300162233,0.6301755032056712,1.0000221093043138,1.0138771845277557,-0.17312313084612146,-0.7523096128728155,0.40106915867820836,-1.4054990559393628,0.4010319395468419,1.9232135195047055,0.17620383522190397,-0.6533052018546904,-0.0006102807681189306,-0.9846221802875907,-0.43188641750280937,-0.4312909114009454,-0.821382337644956,-1.8984641856609372,-2.315422541878972,2.4508481003344094,0.40106915867820836,-0.7514067749498569,-2.824497650380036,1.2665575696218812,-0.42936802219802644,0.25019877079128633,0.8161609940561326,-0.2189040819587251,1.0277520909315774,-0.7643022318069941,0.019836294558050433,-0.6728968345559484,-0.8440492962865276,-0.6039278607985582,-0.339964741797714,-0.15329273640366917,0.19213692585954453,-0.8205510111267538,0.25019877079128633,0.049017615132619395,-0.3833202404546066,0.26404428765962473,0.05474305039474727,-2.9395836643078663,-0.17551016313692971,-0.23637793213596262,-0.58974190531712,0.6721928985995989,0.39563197863124777,-2.4243378994085005,1.0125826096834494,-0.3349401590632363,0.14606443061289737,-0.6645932733781863,-2.757820220503067,0.3986871342707523,-0.06815996398751654,-0.7099819587998167,0.40106915867820836,1.2837245728856403,0.017172370779974612,-2.028085397860474,1.013889690155895,-0.5216368779605084,-0.7506719710926895,1.55000444840621,-0.6113751305431194,-0.2124088115359359,0.03784742728146039,1.2576624949783384,-0.6596435545403901,-0.820634359291549,1.2148214282236978,1.2327210086372609,-0.795665111529708,0.3528347669448527,-2.756181813863365,1.2600993890023262,-0.4399618745072913,1.4472909992418634,-2.9634128182844894,1.8278245592021596,-0.5295947004137922,-0.8565913079934384,0.1976181425745313,-1.0885505134396363,1.3275647227554022,0.9821671738866562,-0.09924904341049902,1.013889690155895,-0.21908841569264328,-0.8584947001593946,0.7700884988094855,-2.824497650380036,-0.4408886579084214,0.3201004200145566,0.5888997588378921,0.2746153191639437,-0.20809139229742177,-1.9326288930838162,-0.3832955269513792,0.4164680272646578,-0.039635087980537144,0.587514662416603,0.6802680858340967,0.2683363200870592,-0.653924313938088,-0.7058029936779093,-0.21286794674047307,2.605925980464274,-0.6777592671117652,-0.060788060224848985,-0.6280975347427623,-0.267764416331783,-0.43188641750280937,-0.5385326695315459,-0.3026711721684798,-0.529651069751262,-1.0529380168042621,1.0899146922258203,0.5070765499471853],\"yaxis\":\"y\",\"type\":\"scatter\"}],                        {\"template\":{\"data\":{\"histogram2dcontour\":[{\"type\":\"histogram2dcontour\",\"colorbar\":{\"outlinewidth\":0,\"ticks\":\"\"},\"colorscale\":[[0.0,\"#0d0887\"],[0.1111111111111111,\"#46039f\"],[0.2222222222222222,\"#7201a8\"],[0.3333333333333333,\"#9c179e\"],[0.4444444444444444,\"#bd3786\"],[0.5555555555555556,\"#d8576b\"],[0.6666666666666666,\"#ed7953\"],[0.7777777777777778,\"#fb9f3a\"],[0.8888888888888888,\"#fdca26\"],[1.0,\"#f0f921\"]]}],\"choropleth\":[{\"type\":\"choropleth\",\"colorbar\":{\"outlinewidth\":0,\"ticks\":\"\"}}],\"histogram2d\":[{\"type\":\"histogram2d\",\"colorbar\":{\"outlinewidth\":0,\"ticks\":\"\"},\"colorscale\":[[0.0,\"#0d0887\"],[0.1111111111111111,\"#46039f\"],[0.2222222222222222,\"#7201a8\"],[0.3333333333333333,\"#9c179e\"],[0.4444444444444444,\"#bd3786\"],[0.5555555555555556,\"#d8576b\"],[0.6666666666666666,\"#ed7953\"],[0.7777777777777778,\"#fb9f3a\"],[0.8888888888888888,\"#fdca26\"],[1.0,\"#f0f921\"]]}],\"heatmap\":[{\"type\":\"heatmap\",\"colorbar\":{\"outlinewidth\":0,\"ticks\":\"\"},\"colorscale\":[[0.0,\"#0d0887\"],[0.1111111111111111,\"#46039f\"],[0.2222222222222222,\"#7201a8\"],[0.3333333333333333,\"#9c179e\"],[0.4444444444444444,\"#bd3786\"],[0.5555555555555556,\"#d8576b\"],[0.6666666666666666,\"#ed7953\"],[0.7777777777777778,\"#fb9f3a\"],[0.8888888888888888,\"#fdca26\"],[1.0,\"#f0f921\"]]}],\"heatmapgl\":[{\"type\":\"heatmapgl\",\"colorbar\":{\"outlinewidth\":0,\"ticks\":\"\"},\"colorscale\":[[0.0,\"#0d0887\"],[0.1111111111111111,\"#46039f\"],[0.2222222222222222,\"#7201a8\"],[0.3333333333333333,\"#9c179e\"],[0.4444444444444444,\"#bd3786\"],[0.5555555555555556,\"#d8576b\"],[0.6666666666666666,\"#ed7953\"],[0.7777777777777778,\"#fb9f3a\"],[0.8888888888888888,\"#fdca26\"],[1.0,\"#f0f921\"]]}],\"contourcarpet\":[{\"type\":\"contourcarpet\",\"colorbar\":{\"outlinewidth\":0,\"ticks\":\"\"}}],\"contour\":[{\"type\":\"contour\",\"colorbar\":{\"outlinewidth\":0,\"ticks\":\"\"},\"colorscale\":[[0.0,\"#0d0887\"],[0.1111111111111111,\"#46039f\"],[0.2222222222222222,\"#7201a8\"],[0.3333333333333333,\"#9c179e\"],[0.4444444444444444,\"#bd3786\"],[0.5555555555555556,\"#d8576b\"],[0.6666666666666666,\"#ed7953\"],[0.7777777777777778,\"#fb9f3a\"],[0.8888888888888888,\"#fdca26\"],[1.0,\"#f0f921\"]]}],\"surface\":[{\"type\":\"surface\",\"colorbar\":{\"outlinewidth\":0,\"ticks\":\"\"},\"colorscale\":[[0.0,\"#0d0887\"],[0.1111111111111111,\"#46039f\"],[0.2222222222222222,\"#7201a8\"],[0.3333333333333333,\"#9c179e\"],[0.4444444444444444,\"#bd3786\"],[0.5555555555555556,\"#d8576b\"],[0.6666666666666666,\"#ed7953\"],[0.7777777777777778,\"#fb9f3a\"],[0.8888888888888888,\"#fdca26\"],[1.0,\"#f0f921\"]]}],\"mesh3d\":[{\"type\":\"mesh3d\",\"colorbar\":{\"outlinewidth\":0,\"ticks\":\"\"}}],\"scatter\":[{\"fillpattern\":{\"fillmode\":\"overlay\",\"size\":10,\"solidity\":0.2},\"type\":\"scatter\"}],\"parcoords\":[{\"type\":\"parcoords\",\"line\":{\"colorbar\":{\"outlinewidth\":0,\"ticks\":\"\"}}}],\"scatterpolargl\":[{\"type\":\"scatterpolargl\",\"marker\":{\"colorbar\":{\"outlinewidth\":0,\"ticks\":\"\"}}}],\"bar\":[{\"error_x\":{\"color\":\"#2a3f5f\"},\"error_y\":{\"color\":\"#2a3f5f\"},\"marker\":{\"line\":{\"color\":\"#E5ECF6\",\"width\":0.5},\"pattern\":{\"fillmode\":\"overlay\",\"size\":10,\"solidity\":0.2}},\"type\":\"bar\"}],\"scattergeo\":[{\"type\":\"scattergeo\",\"marker\":{\"colorbar\":{\"outlinewidth\":0,\"ticks\":\"\"}}}],\"scatterpolar\":[{\"type\":\"scatterpolar\",\"marker\":{\"colorbar\":{\"outlinewidth\":0,\"ticks\":\"\"}}}],\"histogram\":[{\"marker\":{\"pattern\":{\"fillmode\":\"overlay\",\"size\":10,\"solidity\":0.2}},\"type\":\"histogram\"}],\"scattergl\":[{\"type\":\"scattergl\",\"marker\":{\"colorbar\":{\"outlinewidth\":0,\"ticks\":\"\"}}}],\"scatter3d\":[{\"type\":\"scatter3d\",\"line\":{\"colorbar\":{\"outlinewidth\":0,\"ticks\":\"\"}},\"marker\":{\"colorbar\":{\"outlinewidth\":0,\"ticks\":\"\"}}}],\"scattermapbox\":[{\"type\":\"scattermapbox\",\"marker\":{\"colorbar\":{\"outlinewidth\":0,\"ticks\":\"\"}}}],\"scatterternary\":[{\"type\":\"scatterternary\",\"marker\":{\"colorbar\":{\"outlinewidth\":0,\"ticks\":\"\"}}}],\"scattercarpet\":[{\"type\":\"scattercarpet\",\"marker\":{\"colorbar\":{\"outlinewidth\":0,\"ticks\":\"\"}}}],\"carpet\":[{\"aaxis\":{\"endlinecolor\":\"#2a3f5f\",\"gridcolor\":\"white\",\"linecolor\":\"white\",\"minorgridcolor\":\"white\",\"startlinecolor\":\"#2a3f5f\"},\"baxis\":{\"endlinecolor\":\"#2a3f5f\",\"gridcolor\":\"white\",\"linecolor\":\"white\",\"minorgridcolor\":\"white\",\"startlinecolor\":\"#2a3f5f\"},\"type\":\"carpet\"}],\"table\":[{\"cells\":{\"fill\":{\"color\":\"#EBF0F8\"},\"line\":{\"color\":\"white\"}},\"header\":{\"fill\":{\"color\":\"#C8D4E3\"},\"line\":{\"color\":\"white\"}},\"type\":\"table\"}],\"barpolar\":[{\"marker\":{\"line\":{\"color\":\"#E5ECF6\",\"width\":0.5},\"pattern\":{\"fillmode\":\"overlay\",\"size\":10,\"solidity\":0.2}},\"type\":\"barpolar\"}],\"pie\":[{\"automargin\":true,\"type\":\"pie\"}]},\"layout\":{\"autotypenumbers\":\"strict\",\"colorway\":[\"#636efa\",\"#EF553B\",\"#00cc96\",\"#ab63fa\",\"#FFA15A\",\"#19d3f3\",\"#FF6692\",\"#B6E880\",\"#FF97FF\",\"#FECB52\"],\"font\":{\"color\":\"#2a3f5f\"},\"hovermode\":\"closest\",\"hoverlabel\":{\"align\":\"left\"},\"paper_bgcolor\":\"white\",\"plot_bgcolor\":\"#E5ECF6\",\"polar\":{\"bgcolor\":\"#E5ECF6\",\"angularaxis\":{\"gridcolor\":\"white\",\"linecolor\":\"white\",\"ticks\":\"\"},\"radialaxis\":{\"gridcolor\":\"white\",\"linecolor\":\"white\",\"ticks\":\"\"}},\"ternary\":{\"bgcolor\":\"#E5ECF6\",\"aaxis\":{\"gridcolor\":\"white\",\"linecolor\":\"white\",\"ticks\":\"\"},\"baxis\":{\"gridcolor\":\"white\",\"linecolor\":\"white\",\"ticks\":\"\"},\"caxis\":{\"gridcolor\":\"white\",\"linecolor\":\"white\",\"ticks\":\"\"}},\"coloraxis\":{\"colorbar\":{\"outlinewidth\":0,\"ticks\":\"\"}},\"colorscale\":{\"sequential\":[[0.0,\"#0d0887\"],[0.1111111111111111,\"#46039f\"],[0.2222222222222222,\"#7201a8\"],[0.3333333333333333,\"#9c179e\"],[0.4444444444444444,\"#bd3786\"],[0.5555555555555556,\"#d8576b\"],[0.6666666666666666,\"#ed7953\"],[0.7777777777777778,\"#fb9f3a\"],[0.8888888888888888,\"#fdca26\"],[1.0,\"#f0f921\"]],\"sequentialminus\":[[0.0,\"#0d0887\"],[0.1111111111111111,\"#46039f\"],[0.2222222222222222,\"#7201a8\"],[0.3333333333333333,\"#9c179e\"],[0.4444444444444444,\"#bd3786\"],[0.5555555555555556,\"#d8576b\"],[0.6666666666666666,\"#ed7953\"],[0.7777777777777778,\"#fb9f3a\"],[0.8888888888888888,\"#fdca26\"],[1.0,\"#f0f921\"]],\"diverging\":[[0,\"#8e0152\"],[0.1,\"#c51b7d\"],[0.2,\"#de77ae\"],[0.3,\"#f1b6da\"],[0.4,\"#fde0ef\"],[0.5,\"#f7f7f7\"],[0.6,\"#e6f5d0\"],[0.7,\"#b8e186\"],[0.8,\"#7fbc41\"],[0.9,\"#4d9221\"],[1,\"#276419\"]]},\"xaxis\":{\"gridcolor\":\"white\",\"linecolor\":\"white\",\"ticks\":\"\",\"title\":{\"standoff\":15},\"zerolinecolor\":\"white\",\"automargin\":true,\"zerolinewidth\":2},\"yaxis\":{\"gridcolor\":\"white\",\"linecolor\":\"white\",\"ticks\":\"\",\"title\":{\"standoff\":15},\"zerolinecolor\":\"white\",\"automargin\":true,\"zerolinewidth\":2},\"scene\":{\"xaxis\":{\"backgroundcolor\":\"#E5ECF6\",\"gridcolor\":\"white\",\"linecolor\":\"white\",\"showbackground\":true,\"ticks\":\"\",\"zerolinecolor\":\"white\",\"gridwidth\":2},\"yaxis\":{\"backgroundcolor\":\"#E5ECF6\",\"gridcolor\":\"white\",\"linecolor\":\"white\",\"showbackground\":true,\"ticks\":\"\",\"zerolinecolor\":\"white\",\"gridwidth\":2},\"zaxis\":{\"backgroundcolor\":\"#E5ECF6\",\"gridcolor\":\"white\",\"linecolor\":\"white\",\"showbackground\":true,\"ticks\":\"\",\"zerolinecolor\":\"white\",\"gridwidth\":2}},\"shapedefaults\":{\"line\":{\"color\":\"#2a3f5f\"}},\"annotationdefaults\":{\"arrowcolor\":\"#2a3f5f\",\"arrowhead\":0,\"arrowwidth\":1},\"geo\":{\"bgcolor\":\"white\",\"landcolor\":\"#E5ECF6\",\"subunitcolor\":\"white\",\"showland\":true,\"showlakes\":true,\"lakecolor\":\"white\"},\"title\":{\"x\":0.05},\"mapbox\":{\"style\":\"light\"}}},\"xaxis\":{\"anchor\":\"y\",\"domain\":[0.0,1.0],\"title\":{\"text\":\"x\"}},\"yaxis\":{\"anchor\":\"x\",\"domain\":[0.0,1.0],\"title\":{\"text\":\"y\"}},\"coloraxis\":{\"colorbar\":{\"title\":{\"text\":\"color\"}},\"colorscale\":[[0.0,\"#0d0887\"],[0.1111111111111111,\"#46039f\"],[0.2222222222222222,\"#7201a8\"],[0.3333333333333333,\"#9c179e\"],[0.4444444444444444,\"#bd3786\"],[0.5555555555555556,\"#d8576b\"],[0.6666666666666666,\"#ed7953\"],[0.7777777777777778,\"#fb9f3a\"],[0.8888888888888888,\"#fdca26\"],[1.0,\"#f0f921\"]]},\"legend\":{\"tracegroupgap\":0},\"margin\":{\"t\":60}},                        {\"responsive\": true}                    ).then(function(){\n",
              "                            \n",
              "var gd = document.getElementById('b944e870-6d3b-45b8-be54-965d1e2f9d30');\n",
              "var x = new MutationObserver(function (mutations, observer) {{\n",
              "        var display = window.getComputedStyle(gd).display;\n",
              "        if (!display || display === 'none') {{\n",
              "            console.log([gd, 'removed!']);\n",
              "            Plotly.purge(gd);\n",
              "            observer.disconnect();\n",
              "        }}\n",
              "}});\n",
              "\n",
              "// Listen for the removal of the full notebook cells\n",
              "var notebookContainer = gd.closest('#notebook-container');\n",
              "if (notebookContainer) {{\n",
              "    x.observe(notebookContainer, {childList: true});\n",
              "}}\n",
              "\n",
              "// Listen for the clearing of the current output cell\n",
              "var outputEl = gd.closest('.output');\n",
              "if (outputEl) {{\n",
              "    x.observe(outputEl, {childList: true});\n",
              "}}\n",
              "\n",
              "                        })                };                            </script>        </div>\n",
              "</body>\n",
              "</html>"
            ]
          },
          "metadata": {}
        }
      ]
    },
    {
      "cell_type": "markdown",
      "source": [
        "Usando o método de score silhouette, é possível determinar uma pontuação para esses clusters:"
      ],
      "metadata": {
        "id": "QxYbJ7iCHY5z"
      }
    },
    {
      "cell_type": "code",
      "source": [
        "silhouette_score(X, data_pca['cluster'])"
      ],
      "metadata": {
        "colab": {
          "base_uri": "https://localhost:8080/"
        },
        "id": "_wEH517UHgfy",
        "outputId": "518be4b4-c75a-427d-8079-fc91e8d7159b"
      },
      "execution_count": null,
      "outputs": [
        {
          "output_type": "execute_result",
          "data": {
            "text/plain": [
              "0.10105272148214801"
            ]
          },
          "metadata": {},
          "execution_count": 62
        }
      ]
    },
    {
      "cell_type": "markdown",
      "source": [
        "Considerando que o score máximo é 1 e o mínimo -1, é possível notar que essa disposição de clusters teve uma pontuação mediana."
      ],
      "metadata": {
        "id": "zrTs_2yyHv6y"
      }
    },
    {
      "cell_type": "markdown",
      "source": [
        "Iremos agora, então, definir uma forma para escolher os melhores hiperparâmetros eps e min_samples de modo a obter o melhor score possível."
      ],
      "metadata": {
        "id": "D8UhWByEIEjt"
      }
    },
    {
      "cell_type": "code",
      "source": [
        "epss = np.linspace(0.01, 1, num=15)\n",
        "epss\n"
      ],
      "metadata": {
        "colab": {
          "base_uri": "https://localhost:8080/"
        },
        "id": "NaY9tjCGIVOL",
        "outputId": "a0b84834-ef64-4797-dccd-7febd3dd7d3d"
      },
      "execution_count": null,
      "outputs": [
        {
          "output_type": "execute_result",
          "data": {
            "text/plain": [
              "array([0.01      , 0.08071429, 0.15142857, 0.22214286, 0.29285714,\n",
              "       0.36357143, 0.43428571, 0.505     , 0.57571429, 0.64642857,\n",
              "       0.71714286, 0.78785714, 0.85857143, 0.92928571, 1.        ])"
            ]
          },
          "metadata": {},
          "execution_count": 64
        }
      ]
    },
    {
      "cell_type": "code",
      "source": [
        "min_samples = np.arange(2, 20, step=3)\n",
        "min_samples"
      ],
      "metadata": {
        "colab": {
          "base_uri": "https://localhost:8080/"
        },
        "id": "KQ9pcDoLIj_j",
        "outputId": "a1748e10-da3a-4840-d92a-7eba1b452694"
      },
      "execution_count": null,
      "outputs": [
        {
          "output_type": "execute_result",
          "data": {
            "text/plain": [
              "array([ 2,  5,  8, 11, 14, 17])"
            ]
          },
          "metadata": {},
          "execution_count": 65
        }
      ]
    },
    {
      "cell_type": "code",
      "source": [
        "combinations = list(itertools.product(epss, min_samples))\n",
        "combinations"
      ],
      "metadata": {
        "colab": {
          "base_uri": "https://localhost:8080/"
        },
        "id": "u_ifkVkAItvz",
        "outputId": "669b9f20-5cc4-412a-de04-38a4af68d98b"
      },
      "execution_count": null,
      "outputs": [
        {
          "output_type": "execute_result",
          "data": {
            "text/plain": [
              "[(0.01, 2),\n",
              " (0.01, 5),\n",
              " (0.01, 8),\n",
              " (0.01, 11),\n",
              " (0.01, 14),\n",
              " (0.01, 17),\n",
              " (0.08071428571428571, 2),\n",
              " (0.08071428571428571, 5),\n",
              " (0.08071428571428571, 8),\n",
              " (0.08071428571428571, 11),\n",
              " (0.08071428571428571, 14),\n",
              " (0.08071428571428571, 17),\n",
              " (0.15142857142857144, 2),\n",
              " (0.15142857142857144, 5),\n",
              " (0.15142857142857144, 8),\n",
              " (0.15142857142857144, 11),\n",
              " (0.15142857142857144, 14),\n",
              " (0.15142857142857144, 17),\n",
              " (0.22214285714285714, 2),\n",
              " (0.22214285714285714, 5),\n",
              " (0.22214285714285714, 8),\n",
              " (0.22214285714285714, 11),\n",
              " (0.22214285714285714, 14),\n",
              " (0.22214285714285714, 17),\n",
              " (0.29285714285714287, 2),\n",
              " (0.29285714285714287, 5),\n",
              " (0.29285714285714287, 8),\n",
              " (0.29285714285714287, 11),\n",
              " (0.29285714285714287, 14),\n",
              " (0.29285714285714287, 17),\n",
              " (0.3635714285714286, 2),\n",
              " (0.3635714285714286, 5),\n",
              " (0.3635714285714286, 8),\n",
              " (0.3635714285714286, 11),\n",
              " (0.3635714285714286, 14),\n",
              " (0.3635714285714286, 17),\n",
              " (0.4342857142857143, 2),\n",
              " (0.4342857142857143, 5),\n",
              " (0.4342857142857143, 8),\n",
              " (0.4342857142857143, 11),\n",
              " (0.4342857142857143, 14),\n",
              " (0.4342857142857143, 17),\n",
              " (0.505, 2),\n",
              " (0.505, 5),\n",
              " (0.505, 8),\n",
              " (0.505, 11),\n",
              " (0.505, 14),\n",
              " (0.505, 17),\n",
              " (0.5757142857142857, 2),\n",
              " (0.5757142857142857, 5),\n",
              " (0.5757142857142857, 8),\n",
              " (0.5757142857142857, 11),\n",
              " (0.5757142857142857, 14),\n",
              " (0.5757142857142857, 17),\n",
              " (0.6464285714285715, 2),\n",
              " (0.6464285714285715, 5),\n",
              " (0.6464285714285715, 8),\n",
              " (0.6464285714285715, 11),\n",
              " (0.6464285714285715, 14),\n",
              " (0.6464285714285715, 17),\n",
              " (0.7171428571428572, 2),\n",
              " (0.7171428571428572, 5),\n",
              " (0.7171428571428572, 8),\n",
              " (0.7171428571428572, 11),\n",
              " (0.7171428571428572, 14),\n",
              " (0.7171428571428572, 17),\n",
              " (0.7878571428571429, 2),\n",
              " (0.7878571428571429, 5),\n",
              " (0.7878571428571429, 8),\n",
              " (0.7878571428571429, 11),\n",
              " (0.7878571428571429, 14),\n",
              " (0.7878571428571429, 17),\n",
              " (0.8585714285714285, 2),\n",
              " (0.8585714285714285, 5),\n",
              " (0.8585714285714285, 8),\n",
              " (0.8585714285714285, 11),\n",
              " (0.8585714285714285, 14),\n",
              " (0.8585714285714285, 17),\n",
              " (0.9292857142857143, 2),\n",
              " (0.9292857142857143, 5),\n",
              " (0.9292857142857143, 8),\n",
              " (0.9292857142857143, 11),\n",
              " (0.9292857142857143, 14),\n",
              " (0.9292857142857143, 17),\n",
              " (1.0, 2),\n",
              " (1.0, 5),\n",
              " (1.0, 8),\n",
              " (1.0, 11),\n",
              " (1.0, 14),\n",
              " (1.0, 17)]"
            ]
          },
          "metadata": {},
          "execution_count": 67
        }
      ]
    },
    {
      "cell_type": "markdown",
      "source": [
        "Dessa forma definimos todas as combinações possível para o intervalo de epss e min_samples que definimos."
      ],
      "metadata": {
        "id": "ee8TpB5KI0yi"
      }
    },
    {
      "cell_type": "markdown",
      "source": [
        "Considerando isso, temos a função get_scores_and_labels, que compara os scores de cada uma dessas combinações e retorna o melhor score com seus respectivos esp, min_samples e labels."
      ],
      "metadata": {
        "id": "RdSqYpc2JCWE"
      }
    },
    {
      "cell_type": "code",
      "source": [
        "def get_scores_and_labels(combinations, X):\n",
        "  scores = []\n",
        "  all_labels_list = []\n",
        "\n",
        "  for i, (eps, num_samples) in enumerate(combinations):\n",
        "    dbscan_cluster_model = DBSCAN(eps=eps, min_samples=num_samples).fit(X)\n",
        "    labels = dbscan_cluster_model.labels_\n",
        "    labels_set = set(labels)\n",
        "    num_clusters = len(labels_set)\n",
        "    if -1 in labels_set:\n",
        "      num_clusters -= 1\n",
        "\n",
        "    # Se o modelo possuir menos de 2 clusters ou mais de 50 ele é descartado\n",
        "    if (num_clusters < 2) or (num_clusters > 50):\n",
        "      scores.append(-10)\n",
        "      all_labels_list.append('ruim')\n",
        "      c = (eps, num_samples)\n",
        "      continue\n",
        "\n",
        "    scores.append(silhouette_score(X, labels))\n",
        "    all_labels_list.append(labels)\n",
        "\n",
        "  best_index = np.argmax(scores)\n",
        "  best_parameters = combinations[best_index]\n",
        "  best_labels = all_labels_list[best_index]\n",
        "  best_score = scores[best_index]\n",
        "\n",
        "  return {'best_epsilon': best_parameters[0],\n",
        "          'best_min_samples': best_parameters[1],\n",
        "          'best_labels': best_labels,\n",
        "          'best_score': best_score}\n",
        "\n",
        "best_dict = get_scores_and_labels(combinations, X)"
      ],
      "metadata": {
        "id": "t-WUozJ1JBh6"
      },
      "execution_count": null,
      "outputs": []
    },
    {
      "cell_type": "code",
      "source": [
        "best_dict"
      ],
      "metadata": {
        "colab": {
          "base_uri": "https://localhost:8080/"
        },
        "id": "AeVko-REKJzz",
        "outputId": "3838ee85-ad82-4cf6-9361-b35a259439a2"
      },
      "execution_count": null,
      "outputs": [
        {
          "output_type": "execute_result",
          "data": {
            "text/plain": [
              "{'best_epsilon': 1.0,\n",
              " 'best_min_samples': 2,\n",
              " 'best_labels': array([0, 0, 0, 0, 0, 0, 0, 0, 0, 0, 0, 0, 0, 0, 0, 0, 0, 0, 0, 0, 0, 0,\n",
              "        0, 0, 0, 0, 0, 0, 0, 0, 0, 0, 0, 0, 0, 0, 0, 0, 0, 0, 0, 0, 0, 0,\n",
              "        0, 0, 0, 0, 0, 0, 0, 0, 0, 0, 0, 0, 0, 0, 0, 0, 0, 0, 0, 0, 0, 0,\n",
              "        0, 0, 0, 0, 0, 0, 0, 0, 0, 0, 0, 0, 0, 0, 0, 0, 0, 0, 0, 0, 0, 0,\n",
              "        1, 0, 0, 0, 0, 0, 0, 0, 0, 0, 0, 0, 0, 0, 0, 0, 0, 0, 0, 0, 0, 0,\n",
              "        0, 0, 0, 0, 0, 0, 0, 0, 0, 0, 0, 0, 0, 0, 0, 0, 0, 0, 0, 0, 0, 0,\n",
              "        0, 0, 0, 0, 0, 0, 0, 0, 0, 0, 0, 0, 0, 0, 0, 0, 0, 0, 0, 0, 0, 0,\n",
              "        0, 0, 0, 0, 0, 0, 0, 0, 0, 0, 0, 0, 0, 0, 0, 0, 0, 0, 0, 0, 0, 0,\n",
              "        0, 0, 0, 0, 0, 0, 0, 0, 0, 0, 0, 0, 0, 0, 0, 0, 0, 0, 0, 0, 0, 0,\n",
              "        0, 0, 0, 0, 0, 0, 0, 0, 0, 0, 0, 0, 0, 0, 0, 0, 0, 0, 0, 0, 0, 0,\n",
              "        0, 0, 0, 0, 0, 0, 0, 0, 0, 0, 0, 0, 0, 0, 0, 0, 0, 0, 0, 0, 0, 0,\n",
              "        0, 0, 0, 0, 0, 0, 0, 0, 0, 0, 0, 0, 0, 0, 0, 0, 2, 0, 0, 0, 0, 0,\n",
              "        0, 0, 0, 0, 0, 0, 0, 0, 0, 0, 0, 0, 0, 0, 0, 0, 0, 0, 0, 0, 0, 0,\n",
              "        0, 0, 0, 0, 0, 0, 0, 0, 0, 0, 0, 0, 0, 0, 0, 0, 0, 0, 0, 0, 0, 0,\n",
              "        0, 0, 0, 3, 0, 0, 0, 0, 0, 0, 0, 0, 0, 0, 0, 0, 0, 0, 0, 0, 0, 0,\n",
              "        0, 0, 0, 0, 0, 0, 0, 0, 0, 0, 0, 1, 0, 0, 0, 0, 0, 0, 0, 0, 0, 0,\n",
              "        0, 0, 0, 0, 0, 0, 0, 0, 0, 0, 0, 0, 0, 0, 0, 0, 0, 0, 0, 0, 0, 0,\n",
              "        0, 0, 0, 0, 0, 0, 0, 0, 0, 0, 0, 0, 0, 0, 0, 0, 0, 0, 0, 0, 0, 0,\n",
              "        0, 0, 0, 0, 0, 0, 0, 0, 0, 0, 0, 0, 0, 0, 0, 0, 0, 0, 0, 0, 0, 0,\n",
              "        0, 0, 0, 0, 0, 0, 0, 0, 0, 0, 0, 0, 0, 0, 0, 0, 0, 0, 0, 0, 0, 0,\n",
              "        0, 0, 0, 0, 0, 0, 0, 0, 0, 0, 0, 0, 0, 0, 0, 0, 0, 0, 0, 0, 0, 0,\n",
              "        0, 0, 0, 0, 0, 0, 0, 0, 0, 0, 0, 0, 0, 0, 0, 0, 0, 0, 0, 0, 0, 0,\n",
              "        0, 0, 0, 0, 0, 0, 0, 0, 0, 0, 0, 0, 0, 0, 0, 0, 0, 0, 0, 0, 0, 0,\n",
              "        0, 0, 0, 0, 0, 0, 0, 0, 0, 0, 0, 0, 0, 0, 0, 0, 0, 0, 0, 0, 0, 0,\n",
              "        0, 0, 0, 0, 0, 0, 0, 0, 0, 0, 0, 0, 0, 0, 0, 0, 0, 0, 0, 0, 0, 0,\n",
              "        0, 0, 0, 0, 0, 0, 0, 0, 0, 0, 0, 0, 0, 0, 0, 0, 0, 0, 0, 0, 0, 0,\n",
              "        0, 0, 0, 0, 0, 0, 0, 0, 0, 0, 0, 0, 0, 0, 0, 0, 0, 0, 0, 0, 0, 0,\n",
              "        0, 0, 0, 0, 0, 0, 0, 0, 0, 0, 0, 0, 0, 0, 0, 0, 0, 0, 0, 0, 0, 0,\n",
              "        0, 0, 0, 0, 0, 0, 0, 0, 0, 0, 0, 0, 0, 0, 0, 0, 0, 0, 0, 0, 0, 0,\n",
              "        0, 0, 0, 0, 0, 0, 0, 0, 0, 0, 0, 0, 0, 0, 0, 0, 0, 0, 0, 0, 0, 0,\n",
              "        0, 0, 0, 0, 0, 0, 0, 0, 0, 0, 0, 0, 0, 0, 0, 0, 0, 0, 0, 2, 0, 0,\n",
              "        0, 0, 0, 0, 0, 0, 0, 0, 0, 0, 0, 0, 0, 0, 0, 0, 0, 0, 0, 0, 0, 0,\n",
              "        0, 0, 0, 0, 0, 0, 0, 0, 0, 0, 0, 0, 0, 0, 0, 0, 0, 0, 0, 0, 0, 0,\n",
              "        0, 0, 0, 0, 0, 0, 0, 0, 0, 0, 0, 2, 0, 0, 0, 0, 3, 0, 0, 0, 0, 0,\n",
              "        0, 0, 0, 0, 0, 0, 0, 0, 0, 0, 0, 0, 0, 0, 0, 0, 0, 0, 0, 0, 0, 0,\n",
              "        0, 0, 0, 0, 0, 0, 0, 0, 0, 0, 0, 0, 0, 0, 0, 0, 0, 0, 0, 0, 0, 0,\n",
              "        0, 0, 0, 0, 0, 0, 0, 0, 0, 0, 0, 0, 0, 0, 0, 0, 0, 0, 0, 0, 0, 0,\n",
              "        0, 0, 0, 0, 0, 0, 0, 0, 0, 0, 0, 0, 0, 0, 0, 0, 0, 0, 0, 0, 0, 0,\n",
              "        0, 0, 0, 0, 0, 0, 0, 0, 0, 0, 0, 0, 0, 0, 0, 0, 0, 0, 0, 0, 0, 0,\n",
              "        0, 0, 0, 0, 0, 0, 0, 0, 0, 0, 0, 0, 0, 0, 0, 0, 0, 0, 0, 0, 0, 0,\n",
              "        0, 0, 0, 0, 0, 0, 0, 0, 0, 0, 0]),\n",
              " 'best_score': 0.5441672965081367}"
            ]
          },
          "metadata": {},
          "execution_count": 69
        }
      ]
    },
    {
      "cell_type": "markdown",
      "source": [
        "Com isso o melhor score alcançado foi 0,54 com eps = 1 e min_samples = 2."
      ],
      "metadata": {
        "id": "Q4LnzE-2KMYN"
      }
    },
    {
      "cell_type": "markdown",
      "source": [
        "A disposição dos clusters ficou definida dessa forma:"
      ],
      "metadata": {
        "id": "GZMsbfgZKXo7"
      }
    },
    {
      "cell_type": "code",
      "source": [
        "data_pca['cluster'] = best_dict['best_labels']\n",
        "\n",
        "data_pca['cluster'].value_counts()"
      ],
      "metadata": {
        "colab": {
          "base_uri": "https://localhost:8080/"
        },
        "id": "RUriPVhbKcHr",
        "outputId": "4c28bc6f-392a-4e49-cc35-e05ae2d5a7aa"
      },
      "execution_count": null,
      "outputs": [
        {
          "output_type": "execute_result",
          "data": {
            "text/plain": [
              "0    884\n",
              "2      3\n",
              "1      2\n",
              "3      2\n",
              "Name: cluster, dtype: int64"
            ]
          },
          "metadata": {},
          "execution_count": 70
        }
      ]
    },
    {
      "cell_type": "markdown",
      "source": [
        "Visualmente, temos:"
      ],
      "metadata": {
        "id": "3r062ZTGKkJL"
      }
    },
    {
      "cell_type": "code",
      "source": [
        "fig = px.scatter(x=data_pca.PC1, y=data_pca.PC2, color=data_pca['cluster'])\n",
        "fig.show()"
      ],
      "metadata": {
        "colab": {
          "base_uri": "https://localhost:8080/",
          "height": 542
        },
        "id": "wBloz7fbKno0",
        "outputId": "5f438107-dcd5-4262-985e-6df68f2f7eb4"
      },
      "execution_count": null,
      "outputs": [
        {
          "output_type": "display_data",
          "data": {
            "text/html": [
              "<html>\n",
              "<head><meta charset=\"utf-8\" /></head>\n",
              "<body>\n",
              "    <div>            <script src=\"https://cdnjs.cloudflare.com/ajax/libs/mathjax/2.7.5/MathJax.js?config=TeX-AMS-MML_SVG\"></script><script type=\"text/javascript\">if (window.MathJax && window.MathJax.Hub && window.MathJax.Hub.Config) {window.MathJax.Hub.Config({SVG: {font: \"STIX-Web\"}});}</script>                <script type=\"text/javascript\">window.PlotlyConfig = {MathJaxConfig: 'local'};</script>\n",
              "        <script charset=\"utf-8\" src=\"https://cdn.plot.ly/plotly-2.24.1.min.js\"></script>                <div id=\"42527560-a08a-47bd-9f7c-7fb8d643617d\" class=\"plotly-graph-div\" style=\"height:525px; width:100%;\"></div>            <script type=\"text/javascript\">                                    window.PLOTLYENV=window.PLOTLYENV || {};                                    if (document.getElementById(\"42527560-a08a-47bd-9f7c-7fb8d643617d\")) {                    Plotly.newPlot(                        \"42527560-a08a-47bd-9f7c-7fb8d643617d\",                        [{\"hovertemplate\":\"x=%{x}\\u003cbr\\u003ey=%{y}\\u003cbr\\u003ecolor=%{marker.color}\\u003cextra\\u003e\\u003c\\u002fextra\\u003e\",\"legendgroup\":\"\",\"marker\":{\"color\":[0,0,0,0,0,0,0,0,0,0,0,0,0,0,0,0,0,0,0,0,0,0,0,0,0,0,0,0,0,0,0,0,0,0,0,0,0,0,0,0,0,0,0,0,0,0,0,0,0,0,0,0,0,0,0,0,0,0,0,0,0,0,0,0,0,0,0,0,0,0,0,0,0,0,0,0,0,0,0,0,0,0,0,0,0,0,0,0,1,0,0,0,0,0,0,0,0,0,0,0,0,0,0,0,0,0,0,0,0,0,0,0,0,0,0,0,0,0,0,0,0,0,0,0,0,0,0,0,0,0,0,0,0,0,0,0,0,0,0,0,0,0,0,0,0,0,0,0,0,0,0,0,0,0,0,0,0,0,0,0,0,0,0,0,0,0,0,0,0,0,0,0,0,0,0,0,0,0,0,0,0,0,0,0,0,0,0,0,0,0,0,0,0,0,0,0,0,0,0,0,0,0,0,0,0,0,0,0,0,0,0,0,0,0,0,0,0,0,0,0,0,0,0,0,0,0,0,0,0,0,0,0,0,0,0,0,0,0,0,0,0,0,0,0,0,0,0,0,0,0,0,0,0,0,0,0,0,0,2,0,0,0,0,0,0,0,0,0,0,0,0,0,0,0,0,0,0,0,0,0,0,0,0,0,0,0,0,0,0,0,0,0,0,0,0,0,0,0,0,0,0,0,0,0,0,0,0,0,0,0,0,3,0,0,0,0,0,0,0,0,0,0,0,0,0,0,0,0,0,0,0,0,0,0,0,0,0,0,0,0,0,1,0,0,0,0,0,0,0,0,0,0,0,0,0,0,0,0,0,0,0,0,0,0,0,0,0,0,0,0,0,0,0,0,0,0,0,0,0,0,0,0,0,0,0,0,0,0,0,0,0,0,0,0,0,0,0,0,0,0,0,0,0,0,0,0,0,0,0,0,0,0,0,0,0,0,0,0,0,0,0,0,0,0,0,0,0,0,0,0,0,0,0,0,0,0,0,0,0,0,0,0,0,0,0,0,0,0,0,0,0,0,0,0,0,0,0,0,0,0,0,0,0,0,0,0,0,0,0,0,0,0,0,0,0,0,0,0,0,0,0,0,0,0,0,0,0,0,0,0,0,0,0,0,0,0,0,0,0,0,0,0,0,0,0,0,0,0,0,0,0,0,0,0,0,0,0,0,0,0,0,0,0,0,0,0,0,0,0,0,0,0,0,0,0,0,0,0,0,0,0,0,0,0,0,0,0,0,0,0,0,0,0,0,0,0,0,0,0,0,0,0,0,0,0,0,0,0,0,0,0,0,0,0,0,0,0,0,0,0,0,0,0,0,0,0,0,0,0,0,0,0,0,0,0,0,0,0,0,0,0,0,0,0,0,0,0,0,0,0,0,0,0,0,0,0,0,0,0,0,0,0,0,0,0,0,0,0,0,0,0,0,0,0,0,0,0,0,0,0,0,0,0,0,0,0,0,0,0,0,0,0,0,0,0,0,0,0,0,0,0,0,0,0,0,0,0,0,0,0,0,0,0,0,0,0,0,0,0,2,0,0,0,0,0,0,0,0,0,0,0,0,0,0,0,0,0,0,0,0,0,0,0,0,0,0,0,0,0,0,0,0,0,0,0,0,0,0,0,0,0,0,0,0,0,0,0,0,0,0,0,0,0,0,0,0,0,2,0,0,0,0,3,0,0,0,0,0,0,0,0,0,0,0,0,0,0,0,0,0,0,0,0,0,0,0,0,0,0,0,0,0,0,0,0,0,0,0,0,0,0,0,0,0,0,0,0,0,0,0,0,0,0,0,0,0,0,0,0,0,0,0,0,0,0,0,0,0,0,0,0,0,0,0,0,0,0,0,0,0,0,0,0,0,0,0,0,0,0,0,0,0,0,0,0,0,0,0,0,0,0,0,0,0,0,0,0,0,0,0,0,0,0,0,0,0,0,0,0,0,0,0,0,0,0,0,0,0,0,0,0,0,0,0,0,0,0,0,0,0,0,0,0,0,0,0,0,0,0,0,0],\"coloraxis\":\"coloraxis\",\"symbol\":\"circle\"},\"mode\":\"markers\",\"name\":\"\",\"orientation\":\"v\",\"showlegend\":false,\"x\":[-0.6609388834669278,1.745843913068851,0.1570987355306331,0.7843559624813998,-1.2171198706074076,-0.693909083653401,-1.104270029294949,0.70105107227162,0.7755490407584078,1.6595720486921144,1.2271504616426594,-0.2173948031754109,-0.9341926264305432,0.6628069872699692,0.38321440067456325,-0.3385515223384487,1.4622171590352373,-1.0805651105627232,0.4085010112758158,0.9289357806343915,-1.1182677574079323,-1.1616875633391603,0.7868339585792424,-0.7706448127328938,1.7927416754008072,1.8868896213995694,-0.2759257201655414,3.146630906091223,0.5091028126633714,-1.1176281054573711,-0.22768038043909428,2.62332340803623,0.5086901569921154,-1.7772429192901285,0.8339222922547179,-0.5630782191032219,-0.27591230566229624,-0.9530544427090009,0.9672371418915648,1.551411228419299,0.21151641711136013,0.5270663225348132,-0.2737832323615282,2.5492525904419754,0.7109076040637987,-1.117135601552513,-0.3578858723953475,0.5086901569921154,0.3973050113513528,0.6530658370269476,0.9797215197919407,-0.9538529250450225,1.5905453934506981,0.5132971600585463,-0.0574365412803821,-0.8026932576272024,0.27640031404039767,-0.25329476890721636,1.6014298532613565,1.5543755080639337,-0.13069296309724174,0.2500656561700816,-0.31807688962323216,0.9986585264838946,-0.03338702999191138,0.37675718630910704,0.1255057838127366,-0.914984907604121,2.2080501960115515,-0.41834220438643616,-1.135941165822569,2.6649279274715783,-0.6266348637433662,0.13046843029575225,-1.0058019595542917,-1.0297792795604659,-1.1176281054573711,-1.117135601552513,0.16767822486695402,0.09618384893239582,-0.9688820261105764,-1.0993177753877366,0.5088099293425187,-0.6594960715586855,0.35184757915422826,0.9909754686207145,0.47946490464956276,-1.117135601552513,4.276045141777325,-1.0096398915443736,-1.1039489729366618,-0.9348179977961153,-0.550612579021073,-0.06676200207920653,-1.67235860476566,-1.117135601552513,-0.745962315928414,0.7479739862901273,0.40461539661786927,-0.7858734221336747,0.11928184023687041,-1.1176281054573711,0.07531938761014631,-1.1774664659407954,-0.6281777063407339,-1.0855796605630623,0.2505294863532974,-1.1180139321221367,-1.2741978233476388,0.874603117230933,-0.9709198194913099,1.552240818297948,-0.9719162589874585,0.589870617950943,1.1915668537163149,-0.9534536838770117,-1.4657500907479581,-0.7155188108220348,2.4937182085026293,2.5655556903728347,0.00043017424823364573,-1.117135601552513,0.10576694674071535,0.07146666187845904,-0.5471205495789556,0.38427336017628133,-0.6961713438078174,-1.0125409375676075,1.604335509568855,-1.409171507436877,-0.33604386885950766,-0.9373865557746297,0.09553319811619104,0.5132971600585463,-0.9919312168330416,-0.10056150020208535,1.142725606807833,-0.4582291708754483,-0.8550190039509671,0.5673714624865125,1.58161868710904,0.23198706300924846,0.5336667771352334,-0.4975604817514765,-0.8670848439080326,-0.13791154828761634,-1.0670372372190133,1.8163591193986992,-0.5194954438340189,-1.3125820935668213,-1.4846141147306018,1.1589137125368498,-1.6037871043157892,-0.6731939778779673,-1.1194911244437766,0.2008798137986691,0.7670270586078695,-1.1228107892151196,-1.1151793198292599,2.214616243066803,-1.0476325668978306,-0.05682200166561661,-1.0482418546709127,-0.8756508958719174,1.0928924174626866,-0.05980334080843104,0.9025456287975872,1.4301855598670645,-0.8944388780360856,-0.9303546944404611,-1.4122483259865144,1.424493526478322,1.2659562639983064,-0.9534536838770117,-0.500963621498445,-0.27002932724760015,0.19262218363783723,0.7980652167678538,-1.0862402982253299,-1.2616928181057612,3.419477743866736,-0.22689890473381447,1.229020792674908,0.5259131752567128,1.2441581353999198,-0.6637573311594421,0.8469756284045853,-1.1770526923553946,-0.23864670384673045,-1.2364741907907235,0.08089757001768791,-0.8787603191622958,0.6024378382780751,0.11237540149431198,0.9017338552470081,1.77598484558101,-0.6961713438078174,-1.034488775787136,0.5086901569921154,0.23179210024534894,-1.0804559591092788,2.214616243066803,-1.2032220593155292,-0.5739590601442413,-0.8964689938736279,0.9314194409200355,-0.8220892538923606,-0.16922383467331792,0.7670803972279158,-0.19625978112370948,-1.0128338208884602,0.06263927331135236,-0.9744714024627277,-1.0862402982253299,-0.3826388248120175,2.2802321955322786,0.13823691925217538,-0.9319770583452062,1.5934717189245646,-1.0982175332656539,-0.8587453613167126,-1.0296548493899569,-1.51890893106273,-1.1176281054573711,-0.12352300876353664,-0.9677641508401461,-0.89073755420262,-0.9461786780450412,-0.8598985028838382,1.39748368443777,1.075402773961277,-1.1048273035062857,-1.6308375232925363,2.5093295585886715,-0.9850466355949081,0.08612893457537665,-0.9744915849182509,1.224125544405989,-0.89073755420262,-1.1462991452223967,1.2655578536444612,0.8469756284045853,-1.0793557169871961,-0.9748706436307384,-0.281600907828148,0.49876104910943886,0.17548146240747783,0.8660434792611432,-0.14992639178765552,-1.1631097477028274,-1.119690745027782,0.7356829203974794,-1.4977035690891742,-0.7835671389994238,0.5404819361608306,1.5948053157248911,1.6647372532783062,0.8851642451553497,5.714905169205471,0.11719901821093606,-0.6961713438078174,1.3421916903456539,-0.17322742380002762,-1.3371400832195917,0.5086901569921154,-1.2113884309363996,0.809965173285822,-0.7158475193966553,1.3121863894645014,1.2616400296884691,-0.8458113037723695,-1.0542128390427272,0.25581455361221195,0.16140186226552622,0.5086901569921154,0.4944120681268983,-0.20183471139527712,-1.1428467327724088,1.367908077642949,0.6537726061819797,-1.3620101012164412,-1.0857125280237763,-0.8541141637677874,-0.9153308101520856,-0.8937202439336661,-0.3335950832313966,-1.1181795916661943,-0.9724087628923166,-1.3125820935668213,0.6539094995571699,0.8873108318223962,2.2938985400673486,-0.3561651845522489,0.19777675273082831,-1.0101323954492318,-0.03338702999191138,-0.15898568751492817,2.977187969438033,-0.8506021977884992,3.2081724860626637,0.5086901569921154,-0.019600400982877644,-0.9410419413719815,0.5431047456746468,-1.117135601552513,1.7926972302188344,1.9683199180407887,2.502377300789551,0.12383692804373941,1.4456679807068584,1.8101605548545379,4.894677959749495,0.8834151278897192,-1.0855796605630623,-0.6408995261399609,0.15687260533307182,0.6076062414508345,-1.5341329948921831,2.2442605750561495,2.6273818190066645,-0.9744714024627277,-1.0667178442846048,0.5374295580120402,0.9732350750519387,2.214616243066803,2.086623086505854,-1.7133160907834628,0.005450304903857418,0.730098201865434,2.0333268050349376,1.1852610998170552,-1.1677991138317176,0.4845612142337213,-0.1999007263514527,1.6561532575347837,-1.1176281054573711,-0.17798050221228628,1.9814549647366066,-1.405738033391984,-1.0912956894666734,0.1312372177727696,4.257183325498867,-1.0485166656684144,-0.9919312168330416,-1.1994111958960756,0.23179210024534894,-0.06999696020997317,0.4269695494631157,0.03859563364591516,-1.3471963028333582,-0.9870252082866146,-0.8074841516433322,0.6284047888435615,-0.6838283777221886,-0.2759257201655414,-1.0804559591092788,1.0477649713626418,-0.03227332765305794,0.5091028126633714,0.5091028126633714,0.3196331404594199,0.16052470277741238,0.9769554218049901,-1.2203137999514941,-0.3578858723953475,-1.1253659326903886,1.3688920335303463,0.9289491951376366,0.5086901569921154,1.677373261767078,0.6343951705970278,-0.5879004798644072,-0.9153308101520856,1.1458270136043283,1.8870507567930954,2.0067353481603423,0.23039009833720528,2.405521608310649,-0.1032432430614493,-0.9162091407217093,2.8539389801590733,2.1245200410834375,-1.1609336629400455,0.7738159956459145,-1.1176281054573711,-0.5700494149079933,1.74299367084851,0.005450304903857418,-0.6962377775381744,1.202878793274266,0.8287193027527585,-0.9538663395482676,-0.4584213598346151,2.4311267257599396,0.8499141360735067,-0.9727281558267252,0.0625635239407836,-1.325747736470966,-0.9661848193164505,0.15466802222587298,-1.292966376889249,-1.0473635241012889,0.5710088016724854,-0.74664198877853,0.2726251560926426,-0.809827892214323,-1.5198671098659557,0.07764141987737193,-0.9539327732786246,1.39748368443777,-1.1176281054573711,-0.6990193706039393,1.5975700099766057,-1.1428467327724088,-1.3872754582815372,0.08772589924741989,0.763661408766901,0.9720280359076945,-1.0862402982253299,1.1377743375853577,-0.2737832323615282,-0.5321435235843516,-1.104507910571877,0.7671208334682773,-0.23055779023457665,-1.119690745027782,0.5321589763370039,0.3883828038473227,-0.6961713438078174,-1.1605344217720348,-0.8564018156216149,0.4269695494631157,0.2680935484385972,-0.8805615622384503,-0.6766037760050716,2.448540761678759,1.5900173240572075,1.8270023358170944,2.2978491735606292,-1.1170793495441116,0.5262383421030566,-0.9295614288816179,-0.7158475193966553,0.1563448351315184,-1.1169359809685075,0.7532992200775771,0.7839454094090257,-0.9695727132923607,2.3738370668968214,-1.2712373435771738,-0.18814795217076313,-0.7655419847420382,-0.03878242944397604,0.5042585195499746,-1.117135601552513,-0.2605966037456771,-1.5542890179245472,0.8724827688463735,-0.27059235803487375,-0.6961713438078174,-1.2336381411907675,-1.19825805432895,-1.1002739579268108,-1.425752991237567,-1.117135601552513,-1.276899248786867,-1.1428467327724088,-1.3845326714184285,-0.6962511920414196,2.4539997860802663,-1.119690745027782,-1.2717490377195275,1.0732989974645426,1.0982917404122194,0.23865439051502893,-0.6445937550949234,-0.809827892214323,-0.7936237977881936,-0.9736064863963491,0.9372483619729932,1.592099140620849,-1.1428467327724088,-1.5000471147842722,-0.5354785592377557,0.9758661415966698,1.39748368443777,1.1379239408717692,-0.548228798577884,-1.1228107892151196,-0.07457526402483079,-0.7655419847420382,-0.95560958618427,-1.3278227924125465,-0.603672763649363,-0.9530544427090009,-0.2528230710409609,1.5109683111580086,-1.0946183996767034,2.5433661950335074,-1.0104517883836406,-0.8756508958719174,0.6727713158356274,0.5083043303273498,-0.04507133599785724,1.1492296730537566,1.2786539837111603,0.7513824139405157,-0.8884502605159236,-1.038855029402553,-0.8926310618835459,-0.6829847151919664,-1.117135601552513,-1.009811565207744,1.3301915908897815,-1.0114099671868664,-1.1431927028809068,0.0311967024204485,-0.6437909025647998,0.381264446109343,-1.161026925676893,0.952236761381165,-0.9724087628923166,-0.2759257201655414,1.505195949238124,-0.27591230566229624,-0.8998956023942292,-0.27059235803487375,0.9821945515916403,-1.292966376889249,-0.020796368312920928,1.3360987185727025,-0.27591230566229624,0.5906811562866463,1.604335509568855,0.0840069933080663,1.2429873606844466,-1.1770526923553946,1.9199262447939598,-1.0965347572831554,2.1524425292768585,1.2505406709761842,2.4335229764236312,2.395799343866716,-0.7481497895767595,0.6513609374206741,-1.540697185063832,0.7019153228431226,-0.23258809137796846,-0.5124869314914142,0.06956843077541768,1.6300518791897982,-0.9673732271802712,-0.6959183846037658,-0.1307063776004869,0.23206691124285064,-1.4977035690891742,1.2536430855217924,1.8810944623632386,1.2768376886198545,0.3122755722770758,-0.6961713438078174,-1.3119214559045538,-1.0461212186603497,-1.117135601552513,0.08772589924741989,-0.3311525911129822,-0.9158233140569437,1.3966435335531966,-0.27591230566229624,-1.161159793137607,-1.701795654176298,0.7428456264222764,-1.008853386404518,0.5086901569921154,-0.8587453613167126,-0.894729965882728,0.04317393746077266,0.7357377038578953,1.265570948754772,-1.1609336629400455,0.9214405202326955,2.419953421863663,-1.4766422666986272,-0.03337870021551257,-0.2711747502662128,1.6729358304674649,-1.39730938692685,0.5154111144536376,-0.9719162589874585,-1.117135601552513,-1.2200742552506876,1.5486919437149238,-1.4460168094241683,1.1357551949837152,-0.8424588709690476,-0.5574943864544738,0.22011427055980307,-1.5068964297257104,-0.2759257201655414,0.19596448961203047,1.239462173458564,-1.1176281054573711,-0.7365789202046131,-1.3868762171135263,-0.14458965647497538,-0.898494697809417,-1.1233032931199778,-0.7996919366157329,2.19087808115128,1.338166563480939,1.8676684880699022,-1.1203295308965993,0.8469756284045853,-0.6961713438078174,-1.2171198706074076,1.4215161460714913,-0.5509115650024013,0.49674162691433976,1.6741892272212726,-1.0227702681518234,0.11160661401729463,-0.5577679921757437,0.5612840309928093,-0.9536798140745729,-0.927343311489105,-1.4235471704341545,-1.1767009823062486,0.9730758328263188,-1.047856028006147,-0.6962246824278636,-1.8041590933901168,-1.5220894459035712,-0.050156144912178104,-1.1428467327724088,2.1092109458915393,0.1563448351315184,-1.1609336629400455,-0.4145577307984694,1.5432812671243141,-0.7778919513368171,-0.9348179977961153,1.677373261767078,2.241243659840743,-0.9624031393347698,2.4539997860802663,0.4045457089292229,-0.9158233140569437,-0.45493079543386467,-1.1187325662245562,0.21248646086197356,-1.1176281054573711,0.7064044570731912,-0.9518302095914125,0.5089431161961671,0.726162835326914,-0.05615527458713927,-1.1176281054573711,1.1171093271808634,-0.9542075842761263,0.8796341742097895,0.3819127624988915,-0.4702190706127243,-1.2239987958933594,-1.237751762528358,-0.6210593486027541,-0.20704980481480037,-0.9919312168330416,-1.1180139321221367,-1.3680144008350685,0.8738002647008092,0.681631322200998,-0.3555982400401878,-1.8526901844039592,-1.1051021145037874,-1.1428467327724088,-0.8973473244432517,-1.0190707996836024,0.3141150701321046,2.1556588879532224,4.804714371122881,0.509927804612949,0.48711133178103316,-0.9304397594512417,1.4977900592285607,-0.9004665041680876,0.929431131515974,0.8476888058427373,-0.9085571247991471,-0.8972808907128947,2.6777904718051886,-0.30768929987889115,1.7469761875272634,-0.9624031393347698,-0.18729182643585984,-1.459979936532259,-1.4988048093433328,-1.3868762171135263,0.5086368183720692,1.0264737582791539,-1.3504301562942456,3.6201550898378567,-0.9909497489292863,1.4862244613233462,-0.6075639596916917,-0.7344563764710612,-1.1937150225217628,-0.16191059459419654,-1.1229824628784897,1.6593540868814807,0.37675718630910704,1.4876941022380787,-0.8884502605159236,-0.6762491167739676,-1.0993711140077826,-1.5012002563513975,-0.9166083818897202,2.929386245272904,0.16322941636965185,-0.6714183913911475,-1.1802745686201161,0.9806551925759797,-0.5672551734402117,-1.1616875633391603,-1.4634766237944823,-0.26961100809087196,-0.9322363447072903,1.0975459116910402,0.5086502328753143,-0.616117075627556,0.4894930708048907,2.1001925249109816,0.11370340950354665,-1.1428467327724088,-0.9542075842761263,-0.9542075842761263,-1.0688069335775372,1.0807482845388514,4.510043668405538,-1.1176281054573711,-1.1176281054573711,-0.8553930918046289,-0.19263631276631293,4.838092510914121,-0.6703962413286779,-1.142071846661588,-0.5956225832913083,-0.19271438532725824,0.11862120257460315,-0.11871647786321093,-0.7207083477488817,1.284002403967398,-0.3424615421887539,-1.174765040501567,-0.9912705791707742,0.9688325553885082,0.10122815223762698,-1.085899053497471,-0.8670848439080326,-1.19825805432895,0.8285787963199768,-1.0965347572831554,-1.3332451529214333,-0.09296933054032644,2.0335808035526917,-0.8596236918863365,0.7207538634683898,0.08043694640090368,0.49358406119028,-0.3302583835689998,-1.1595363188520078,-1.0050086939954483,-1.462948853592929,-0.4026250719840771,-0.2759257201655414,0.9679766280361164,-0.8974271726768539,-0.6961713438078174,0.5677292558938368,-0.6962112679246185,2.149659616008375,1.24392488420881,1.1612376288194486,-0.8422064631887778,-0.12735153266618188,-1.0316956371669177,-1.0310568512981004,0.30662243128381217,1.3490462613644916,0.4047834048822344,0.1524115043604445,-0.6961713438078174,-0.7598932481172372,3.419477743866736,-0.00488121059593991,-1.0289942117276896,-1.2559966447314483,-0.053586830679718846,0.06521161075996565,-0.28158749332490285,0.760538012016205,-1.1616875633391603,0.7903037700014635,1.3002647097141993,0.5939897352181852,-1.0696588144246395,-1.142550936063201,-1.318278266941134,0.3075141763566811,-1.2559966447314483,0.8220795950383151,-1.047882537619703,-1.2411448732814465,-1.192526614657942,2.490108425259004,-1.1322416973543483,-1.1428467327724088,0.21368418436600597,0.4808093747256351,-1.373124687785607,0.8854876288131488,1.164341841246697,-1.0642690586564936,-1.2994164506626764,0.46630181676356863,1.0740306011842289,-0.6987264872830866,-0.9624031393347698,1.046663863079364,-0.6961713438078174,-0.20261793451290155,1.5428099101587192,0.11857156120162497,-0.27591230566229624,-0.9914034466314882,-0.8956705115376064,2.154298348669273,-0.951098160985748,-1.117135601552513,-1.0058019595542917,-0.014422755118463726,-0.9345918675985541,-0.834152105367247,1.1972198824607998,-0.36899430043967535,-0.8756508958719174,-1.3507495492286543,2.214616243066803,-0.37376750141642295,-0.6391662663500212,2.0731697173032093,1.3229705570159864,-1.953609036036879,1.9720416412940438,1.011459975730142,0.23036991588168193,0.6260771340694172,1.9801951471577428,-1.2902235900261405,2.015462557606126,-0.27591230566229624,-0.6838759481412747,-0.6101377737476056,-0.034725014401261224,3.419477743866736,-0.973069400554584,-0.10772059276688842,1.336696067835663,-0.6835436845941122,-1.1125044040035876,0.004509314363000545,-1.047856028006147,0.866316946227701,-1.1571984291090915,-1.440427433072017,1.3664220614005875,1.2061878371486496,-0.9284569681144328,-0.9158233140569437,-1.1176281054573711,1.5201149529396931,0.5887444251723769,-1.1798887419553505,0.2408237073255324,-1.0604939007087386,-1.0316956371669177,1.9691914575322376,-1.0296548493899569,0.5512732003957314,1.077509968133751,0.05822385874243798,-0.7395701640273393],\"xaxis\":\"x\",\"y\":[-0.8421975100059483,1.6705465416300962,-0.45152441957717854,0.14116260562591373,0.03181606547298254,0.40317814353795983,1.3464908826780924,-2.540550394242726,-0.9412773389276023,0.06236714070500685,-1.9843697105142555,1.236358804096515,-0.6592713632267251,-1.3508754846518383,-1.0046051716970044,0.9324417455129104,-2.1748991571408203,-0.17831608720422085,-0.46385243632760403,0.9455613480110844,0.1239706347364394,0.019836294558050433,-0.34364037924428587,0.0024464773890153957,-2.332431259279514,-1.4649288442328583,1.0138771845277557,0.25651302845484686,0.33313801910334123,-0.21286794674047307,1.7145704630683538,1.9601700339661476,0.332753322161537,1.4829904030408099,1.3753910159409632,0.522160058188359,1.013889690155895,-0.6131988679800779,-1.335483987399079,-0.03846544122786344,-0.07458342669973318,-0.6079457554383715,1.0158745119934076,-0.9384086145680461,-0.1597970278340952,-0.2124088115359359,0.1514559072603777,0.332753322161537,0.5115367802854475,-1.0633903806358813,-2.527457744269831,-0.613943250607408,2.225989989545334,-0.4934692861251765,2.899710024970946,0.08072906710662721,-0.6585877195749846,0.9586433480616067,-2.1367713801878665,-2.8670705502148945,0.6591721289583999,0.17798468696610792,0.9415308622708504,-2.7007728708883834,1.2399831098261993,0.4923811355067875,-0.29000775760180725,-0.7050213919192129,-2.5023115539873717,-0.9263908800400064,-0.08347443534519426,-2.70502391049833,-0.3088952499275645,0.5922856550097649,0.03784742728146039,-0.4300998991972173,-0.21286794674047307,-0.2124088115359359,-1.9823058662796775,-0.25368667477318335,-0.5642977187495767,-0.2403014867683864,0.33286497955563654,0.1060645391133546,-0.8428777005615733,-0.9234873621594707,-1.855934305015708,-0.2124088115359359,0.372487172924764,-0.4749813822401365,-0.24461890600690053,-0.6598543637004499,0.7884065664439833,-1.1636101607127922,1.1351739269850587,-0.2124088115359359,3.2047510458143758,0.9769841615879744,-0.27650569718388096,-0.1947909733752692,-0.3594663729747562,-0.21286794674047307,-0.21947943372793632,-0.058529901086580606,-0.4217893610775109,-0.2911505364580849,-0.6827057167004773,-0.21322763242599888,0.16957441600838696,0.10889570964932513,1.0252116472866566,-0.005863876843349069,-0.5671263727334308,-0.9949911959544148,0.38201868201341854,-0.613571059293743,2.2808676169431017,-0.44748492842840576,2.6681050441026066,-3.1238736452944553,-0.8542734756576873,-0.2124088115359359,0.983024139284651,-0.11758828482859172,1.300912909411421,-0.062294595204486436,0.40106915867820836,-0.4776858732017519,0.44524298473765533,0.4893401726419353,1.1679543985090317,-0.6622488937360451,0.26288613083613055,-0.4934692861251765,-0.39481616266177416,0.7509184534527628,-1.108229058413355,0.3016234326358795,-0.84008745936809,1.4372532049081714,0.42406529899011614,-0.6363354684028982,-0.7927615936491725,-0.09484341876854811,-0.7240230730342746,-1.1105548354772516,-0.337520784755664,-2.2467576082589096,-0.3522988481237126,0.38841625653122785,0.800947223263162,-0.337189846953036,0.9763022180292498,-0.24095836461546616,-0.2146047402865595,2.2493355366011096,-0.2984489352753466,-0.19854641076025334,-0.21058507409897734,-2.756181813863365,0.1977485304277726,0.2402377428722076,-0.3836552126369051,-0.795665111529708,-2.8038927157497144,-1.6743023435661988,-0.08609034747988019,-0.8801164022925203,-0.004800496773592438,-0.14644255370512835,1.5049736374724518,-2.082754166647526,-2.1391622153404293,-0.613571059293743,2.47830484681039,-1.2973775799238672,-1.2513065073745064,2.115838030036432,-0.16445368642853828,0.053919440119603,-2.824497650380036,1.059582277845819,-2.7327153698689552,-2.2024996973130073,-1.968514360552126,0.21025164426205123,0.08314007074370636,0.705732202406773,0.35335414763747064,0.07742942551509256,-0.14062453245191528,-0.6712511341416572,-1.04693180832883,-1.8957274388863934,1.8305446075382712,3.5367514145130126,0.40106915867820836,0.0826890606408525,0.332753322161537,-0.5092044944250927,-0.28637398201503356,-2.756181813863365,-0.018884107691249912,1.7418632616264695,-0.7514163537200195,-1.8223979346943726,-0.3558657951593237,0.8778773008308631,-0.2983992105158409,1.7438622172068412,-0.4779589127494565,0.03332331939986737,-0.5695083971408869,-0.16445368642853828,0.12838004581314694,1.7231337785682153,-0.4054519243305313,0.17825528436188834,1.7115386744239107,-0.17561942583848858,-0.8435613442133136,-0.3026711721684798,0.7689759894193375,-0.21286794674047307,0.6773085552642608,-0.5632555830713146,-0.6824168735516075,-0.6386171400108576,-0.7173236293883044,-1.3196223438911776,0.4124900732877071,-0.2454377268969635,1.17388182360622,-2.9853211873722154,-0.45205439731837177,-0.2822134133072673,0.2659339790912027,-1.7325642252288336,-0.6824168735516075,-0.02947426511748234,0.6943973987039997,0.08314007074370636,-0.22169192108513577,-0.5698805884545519,1.0277395853034381,1.295425643246023,-0.49804354440022364,-1.0478832765092454,0.024058911314857354,0.7266589315576746,-0.21479083594339196,-0.85112967589996,1.4889646215997752,-0.44726640302528803,-0.26922881047432295,0.39185520451915146,1.6315099390957006,0.48183779929161247,5.7447010385368324,0.4740531140544144,0.40106915867820836,-3.0091503413488385,0.9571820535378713,0.23820942110619173,0.332753322161537,0.10081554564139446,-2.1128052870500067,-0.7024168207486137,2.0973272135237124,1.151087974845579,0.04053240523080597,-0.452878007593516,0.030369734368718808,1.3213432496154895,0.332753322161537,1.6532415125115296,0.42333192226998695,-0.23637793213596262,-1.9445366809075844,-0.5455521245601065,2.0274688930865423,-0.29127440172727265,-0.8392439249747996,-0.7053438584733722,-0.004130552408995441,1.1702372711505273,-0.1942289915217392,-0.5675855079379679,0.38841625653122785,-0.021964239035957938,0.2292134931161276,0.9719978205721486,1.340165456814728,-0.5409151943493518,-0.4754405174446736,1.2399831098261993,0.7282808718283708,-1.0451943273158768,0.036066109466825834,3.797674083998762,0.332753322161537,-0.098157344157453,-0.729312979073399,0.36483621339946104,-0.2124088115359359,-1.0266367856655845,1.9145239162535246,1.0390387571803286,0.8407289128440624,1.4464363804704856,1.4042952454366253,1.637973398585495,-0.9043758847301794,-0.2911505364580849,-0.05171105507951101,-0.4517352287372383,-0.7238317623584124,0.9457524952549744,0.6825497893023417,2.0546913781039358,-0.5695083971408869,-0.33722303170473206,0.37869861417514356,-1.0752669784248279,-2.756181813863365,2.4259029288261065,1.2243041678376667,0.04366544853467346,-0.7290232846566322,0.5381115552567218,-0.16647318067412434,0.7461870035096192,1.24419314510744,-1.3593131413757018,0.6164579761941955,-0.21286794674047307,0.0536334562901657,2.646142099080705,0.49254101793945443,0.7856788965820176,-1.9417999341330405,0.41855966817141116,-0.25659867692183264,-0.39481616266177416,0.11198128505134479,-0.5092044944250927,0.22795542952126222,-0.5294446403176419,-1.9645083936516876,0.3561472696364713,-0.5175552791383324,0.07626277134264707,-0.20871356349825307,-0.6725670773926797,1.0138771845277557,-0.28637398201503356,-0.4408079086773752,0.13581043902796786,0.33313801910334123,0.33313801910334123,-1.0421630420090848,0.8112746108760326,1.39934722817939,0.028838534963662472,0.1514559072603777,-0.2009284351677094,2.719574347870294,0.9455738536392235,0.332753322161537,1.2805047122646933,0.9984133979910186,-1.0287331445026662,-0.7053438584733722,1.8492038318897177,-2.5627937355127504,1.3853577691419037,-0.6378242336575582,2.211874324067135,0.5574493160757756,-0.7061626793634352,3.523168921215857,-0.8966981050073979,-0.10677361158062403,0.13133675494515742,-0.21286794674047307,-0.44711273566750603,-3.3277955026813664,0.04366544853467346,0.40100722604361455,0.3925642018182775,0.30776308487965204,-0.6139557562355471,-0.8364418182973355,1.354553816595038,-1.0629198055813118,-0.5678832609889,-0.22137275250400237,0.6307680824495584,-0.4981268925650189,-0.32647771695589706,0.21573385514590626,-0.3828363917468421,-0.9489187007077676,-0.5401557761459125,-0.725763462306438,-0.21712245219516987,0.7680827302665415,-1.9281080831752493,-0.614017688870141,-1.3196223438911776,-0.21286794674047307,0.3984140947230477,0.9930014718812938,-0.23637793213596262,0.44609633137914223,-0.2807246480526073,-0.506765000291131,-1.3310176916350986,-0.16445368642853828,-1.6857521367399377,1.0158745119934076,0.000229377474560689,-0.2451399738460315,-0.8854781447661593,-1.2605803646305367,-0.21479083594339196,-0.5395417813718236,-0.6815051257265867,0.40106915867820836,-0.10640142026695897,-0.07750021678622908,-0.5294446403176419,0.10547315208123695,-0.8002430646877876,0.9255771271205817,-0.7741476470632573,-1.6938876652991437,-1.846968858107514,2.3297753145539697,-0.12954693059184144,-0.027881901102887876,-0.6549539439882109,-0.7024168207486137,-0.324914513438504,-0.21222271587910338,-1.2345718764299989,-1.2596601325374022,0.19893475469365401,-0.9746264530967955,1.0635234056687464,-0.6402081910251324,-0.4496155865805826,1.2541063422744982,2.404846646220514,-0.2124088115359359,0.983664417522443,1.6271821073397166,-0.11411635339885556,0.6775146425777837,0.40106915867820836,0.8439496881467147,-0.01425642977366463,0.9046216616591928,0.6648512280111111,-0.2124088115359359,0.16705602070360406,-0.23637793213596262,1.212529650119892,0.4009947204154754,-1.1704345578950461,-0.21479083594339196,0.17185728864988267,-0.8467415132817453,0.6770014354184838,-0.6301198734646926,0.2281168273179718,-0.21712245219516987,-0.5202980550094212,-0.568702081878963,-1.8169639415148635,-2.959215540708189,-0.23637793213596262,0.7229034941726904,1.2581080490205119,1.3167486285687031,-1.3196223438911776,0.47077523300764784,2.5615547626601414,-0.19854641076025334,-1.6880734221718043,-0.4496155865805826,-0.615580892387534,1.201740891408688,3.3374000300045856,-0.6131988679800779,1.0354145559608208,2.470086325252809,-0.19141722144522924,0.014473063357008637,-0.47573827049560563,-0.795665111529708,-0.06803673428260508,0.3323936364760112,0.060223172607685165,-0.16317713416144794,1.153427088943647,-0.5818684180036492,0.0007823729313827419,-0.24759164713113938,-0.23858754419842268,0.36885906420724374,-0.2124088115359359,0.2887349399108588,2.301557800672241,-0.47663152964840166,0.8646107976871532,-0.05964528136857126,0.4499006590310579,-0.1709618193986462,-0.10686055547149613,0.5443659399873344,-0.5675855079379679,1.0138771845277557,1.828141422162843,1.013889690155895,0.8986927595436864,0.6775146425777837,1.7446850708618453,0.21573385514590626,-1.311727935396223,-2.010115770649712,1.013889690155895,-0.11656857300495879,0.44524298473765533,-0.2650385098399662,-1.7786367204754807,0.705732202406773,1.8885621442201017,-0.1932037397508213,0.4661161837876626,0.0744393763579885,-2.801366178567925,-2.709221188074631,-0.28693596386856357,2.6056387728046557,1.5761966867526913,-0.9541942385916482,1.0542785516260926,-0.5685624576466665,-1.617352283190371,0.8523814896093423,-0.24460932723673798,0.40130497909454654,0.6591596233302608,-0.6362610301401652,1.4889646215997752,1.848257516938744,3.02475241399708,0.2899237788147865,-0.2352764783999602,0.40106915867820836,0.2617194065016813,-0.2543655290398426,-0.2124088115359359,-0.2807246480526073,-0.9724213667702057,-0.7058029936779093,-1.3649088590999234,1.013889690155895,-0.10698442074068386,1.2987004220542213,0.6833004628519838,0.28962819906365483,0.332753322161537,-0.8435613442133136,-0.6861387866882577,-0.0484795419586209,0.3504638428907912,0.6944096065790879,-0.10677361158062403,-0.932583196920906,1.7976605485189088,0.9993480444227361,1.6410821339128898,1.0183062611603693,-0.6775986213648043,0.6277113242924242,2.550484808057347,-0.5671263727334308,-0.2124088115359359,0.029061849751861452,2.3779413347595146,0.5823039840252928,-0.2126249035685858,-0.056573487635327636,-0.41955142381043964,-0.15730600844128936,0.6528618783260164,1.0138771845277557,2.117440513808392,-1.264743692324555,-0.21286794674047307,0.14236394864955312,0.4464685226928073,1.473749708674182,-0.17246907332553102,-0.1990055459647905,-0.08828897549743313,-0.06303120488174958,1.5407114119491245,-1.4191913211685097,-0.21538634204525595,0.08314007074370636,0.40106915867820836,0.03181606547298254,-1.0950244532933098,-0.5407273367696048,-0.6998722205285481,-2.132598048089737,-0.3599094068250774,0.6383581502564121,0.5271105004131545,0.04699514119557006,-0.6137818684538028,-0.5892297473800512,1.4944403255426812,1.6909718223512888,-0.009114174982590411,-0.3832955269513792,0.40101943391870276,2.349086976810887,0.7660109645381565,1.3708159594696834,-0.23637793213596262,-2.538726231171819,-0.324914513438504,-0.10677361158062403,-0.6045809980392771,-1.0293087424004985,-0.4611288038009706,-0.6598543637004499,1.2805047122646933,-2.8612336978983492,-0.06815996398751654,-1.1704345578950461,2.248233330815358,-0.7058029936779093,2.521218803029017,-0.21389757679059593,-0.590858479258115,-0.21286794674047307,-1.0136656211302357,-0.6120575805358556,0.3329891425778752,-0.20923175053186674,-0.7160559899177458,-0.21286794674047307,-0.08354165085237814,-0.48696115315506855,2.762717873879299,1.3473970055544318,1.4884645377699102,0.7892795735544057,0.07623841331136454,-0.9323326674054516,-0.34747602794456833,-0.39481616266177416,-0.21322763242599888,0.40039602744615993,-0.11288812206376098,-0.201299106345377,0.015362610475240096,1.6672803840273986,-0.1183811911818911,-0.23637793213596262,-0.7522351746100825,-0.4519451346168129,-0.814397348823142,-1.461066538838856,5.5864002574350895,0.3339071152338986,1.5534000435008288,-0.655772764878274,-2.728853064474953,0.7884666351042379,0.14350211737486343,-2.204950277543301,-0.6990291117692061,-0.7521732419754886,0.6331836525985846,0.06002556811504147,-0.49271426483656405,-0.06815996398751654,0.7973771090702024,1.3968196311064807,0.8513743568796899,0.4464685226928073,0.3327035974020314,2.326701337502052,0.35313251999578477,2.1447399224312638,0.2426624446642116,0.15538985651991602,0.18454436971742771,-0.6561085050856283,0.30826061572302815,0.46055105363648813,0.5651699113907418,0.6943229162122512,0.4923811355067875,1.1036769168954972,0.0007823729313827419,0.7985950296682423,-0.240351211527892,0.8491412089976997,-0.7065348706771002,3.3388789402292685,-0.3821527480951015,0.42414502012543914,-0.061147745910374786,-1.5218726064502004,-1.073142986712909,0.019836294558050433,0.7569962185044055,-0.15910151983059231,-0.6574476257897666,-1.0151064954285527,0.3327161030301706,-0.6094434305950939,-0.7702860276888871,1.5508876989167066,0.18678987213115533,-0.23637793213596262,-0.48696115315506855,-0.48696115315506855,-0.24368603303019734,-0.4499302936396697,5.813016875053504,-0.21286794674047307,-0.21286794674047307,0.031599813702845696,0.48556516923420934,1.7761908843254366,-0.7237013745051711,-0.1528461068272712,1.7092200512606637,-1.3526136977297316,-0.23276952294520967,-0.5276814818037697,0.46100405470053807,-1.9313696674483578,-1.5637998370411057,-0.05601150578179768,-0.5215130126913207,0.010715432626222583,-2.0544387540968527,-0.29144828950901686,-0.7240230730342746,-0.01425642977366463,0.620055285031554,-0.1932037397508213,0.30549682123174454,0.5670271384651057,0.23944724836298062,-0.8443801651033767,1.1003715695517635,1.346095151105145,0.36965197056054316,0.17721154616599646,-0.10547094198279643,-0.47066396300162233,0.6301755032056712,1.0000221093043138,1.0138771845277557,-0.17312313084612146,-0.7523096128728155,0.40106915867820836,-1.4054990559393628,0.4010319395468419,1.9232135195047055,0.17620383522190397,-0.6533052018546904,-0.0006102807681189306,-0.9846221802875907,-0.43188641750280937,-0.4312909114009454,-0.821382337644956,-1.8984641856609372,-2.315422541878972,2.4508481003344094,0.40106915867820836,-0.7514067749498569,-2.824497650380036,1.2665575696218812,-0.42936802219802644,0.25019877079128633,0.8161609940561326,-0.2189040819587251,1.0277520909315774,-0.7643022318069941,0.019836294558050433,-0.6728968345559484,-0.8440492962865276,-0.6039278607985582,-0.339964741797714,-0.15329273640366917,0.19213692585954453,-0.8205510111267538,0.25019877079128633,0.049017615132619395,-0.3833202404546066,0.26404428765962473,0.05474305039474727,-2.9395836643078663,-0.17551016313692971,-0.23637793213596262,-0.58974190531712,0.6721928985995989,0.39563197863124777,-2.4243378994085005,1.0125826096834494,-0.3349401590632363,0.14606443061289737,-0.6645932733781863,-2.757820220503067,0.3986871342707523,-0.06815996398751654,-0.7099819587998167,0.40106915867820836,1.2837245728856403,0.017172370779974612,-2.028085397860474,1.013889690155895,-0.5216368779605084,-0.7506719710926895,1.55000444840621,-0.6113751305431194,-0.2124088115359359,0.03784742728146039,1.2576624949783384,-0.6596435545403901,-0.820634359291549,1.2148214282236978,1.2327210086372609,-0.795665111529708,0.3528347669448527,-2.756181813863365,1.2600993890023262,-0.4399618745072913,1.4472909992418634,-2.9634128182844894,1.8278245592021596,-0.5295947004137922,-0.8565913079934384,0.1976181425745313,-1.0885505134396363,1.3275647227554022,0.9821671738866562,-0.09924904341049902,1.013889690155895,-0.21908841569264328,-0.8584947001593946,0.7700884988094855,-2.824497650380036,-0.4408886579084214,0.3201004200145566,0.5888997588378921,0.2746153191639437,-0.20809139229742177,-1.9326288930838162,-0.3832955269513792,0.4164680272646578,-0.039635087980537144,0.587514662416603,0.6802680858340967,0.2683363200870592,-0.653924313938088,-0.7058029936779093,-0.21286794674047307,2.605925980464274,-0.6777592671117652,-0.060788060224848985,-0.6280975347427623,-0.267764416331783,-0.43188641750280937,-0.5385326695315459,-0.3026711721684798,-0.529651069751262,-1.0529380168042621,1.0899146922258203,0.5070765499471853],\"yaxis\":\"y\",\"type\":\"scatter\"}],                        {\"template\":{\"data\":{\"histogram2dcontour\":[{\"type\":\"histogram2dcontour\",\"colorbar\":{\"outlinewidth\":0,\"ticks\":\"\"},\"colorscale\":[[0.0,\"#0d0887\"],[0.1111111111111111,\"#46039f\"],[0.2222222222222222,\"#7201a8\"],[0.3333333333333333,\"#9c179e\"],[0.4444444444444444,\"#bd3786\"],[0.5555555555555556,\"#d8576b\"],[0.6666666666666666,\"#ed7953\"],[0.7777777777777778,\"#fb9f3a\"],[0.8888888888888888,\"#fdca26\"],[1.0,\"#f0f921\"]]}],\"choropleth\":[{\"type\":\"choropleth\",\"colorbar\":{\"outlinewidth\":0,\"ticks\":\"\"}}],\"histogram2d\":[{\"type\":\"histogram2d\",\"colorbar\":{\"outlinewidth\":0,\"ticks\":\"\"},\"colorscale\":[[0.0,\"#0d0887\"],[0.1111111111111111,\"#46039f\"],[0.2222222222222222,\"#7201a8\"],[0.3333333333333333,\"#9c179e\"],[0.4444444444444444,\"#bd3786\"],[0.5555555555555556,\"#d8576b\"],[0.6666666666666666,\"#ed7953\"],[0.7777777777777778,\"#fb9f3a\"],[0.8888888888888888,\"#fdca26\"],[1.0,\"#f0f921\"]]}],\"heatmap\":[{\"type\":\"heatmap\",\"colorbar\":{\"outlinewidth\":0,\"ticks\":\"\"},\"colorscale\":[[0.0,\"#0d0887\"],[0.1111111111111111,\"#46039f\"],[0.2222222222222222,\"#7201a8\"],[0.3333333333333333,\"#9c179e\"],[0.4444444444444444,\"#bd3786\"],[0.5555555555555556,\"#d8576b\"],[0.6666666666666666,\"#ed7953\"],[0.7777777777777778,\"#fb9f3a\"],[0.8888888888888888,\"#fdca26\"],[1.0,\"#f0f921\"]]}],\"heatmapgl\":[{\"type\":\"heatmapgl\",\"colorbar\":{\"outlinewidth\":0,\"ticks\":\"\"},\"colorscale\":[[0.0,\"#0d0887\"],[0.1111111111111111,\"#46039f\"],[0.2222222222222222,\"#7201a8\"],[0.3333333333333333,\"#9c179e\"],[0.4444444444444444,\"#bd3786\"],[0.5555555555555556,\"#d8576b\"],[0.6666666666666666,\"#ed7953\"],[0.7777777777777778,\"#fb9f3a\"],[0.8888888888888888,\"#fdca26\"],[1.0,\"#f0f921\"]]}],\"contourcarpet\":[{\"type\":\"contourcarpet\",\"colorbar\":{\"outlinewidth\":0,\"ticks\":\"\"}}],\"contour\":[{\"type\":\"contour\",\"colorbar\":{\"outlinewidth\":0,\"ticks\":\"\"},\"colorscale\":[[0.0,\"#0d0887\"],[0.1111111111111111,\"#46039f\"],[0.2222222222222222,\"#7201a8\"],[0.3333333333333333,\"#9c179e\"],[0.4444444444444444,\"#bd3786\"],[0.5555555555555556,\"#d8576b\"],[0.6666666666666666,\"#ed7953\"],[0.7777777777777778,\"#fb9f3a\"],[0.8888888888888888,\"#fdca26\"],[1.0,\"#f0f921\"]]}],\"surface\":[{\"type\":\"surface\",\"colorbar\":{\"outlinewidth\":0,\"ticks\":\"\"},\"colorscale\":[[0.0,\"#0d0887\"],[0.1111111111111111,\"#46039f\"],[0.2222222222222222,\"#7201a8\"],[0.3333333333333333,\"#9c179e\"],[0.4444444444444444,\"#bd3786\"],[0.5555555555555556,\"#d8576b\"],[0.6666666666666666,\"#ed7953\"],[0.7777777777777778,\"#fb9f3a\"],[0.8888888888888888,\"#fdca26\"],[1.0,\"#f0f921\"]]}],\"mesh3d\":[{\"type\":\"mesh3d\",\"colorbar\":{\"outlinewidth\":0,\"ticks\":\"\"}}],\"scatter\":[{\"fillpattern\":{\"fillmode\":\"overlay\",\"size\":10,\"solidity\":0.2},\"type\":\"scatter\"}],\"parcoords\":[{\"type\":\"parcoords\",\"line\":{\"colorbar\":{\"outlinewidth\":0,\"ticks\":\"\"}}}],\"scatterpolargl\":[{\"type\":\"scatterpolargl\",\"marker\":{\"colorbar\":{\"outlinewidth\":0,\"ticks\":\"\"}}}],\"bar\":[{\"error_x\":{\"color\":\"#2a3f5f\"},\"error_y\":{\"color\":\"#2a3f5f\"},\"marker\":{\"line\":{\"color\":\"#E5ECF6\",\"width\":0.5},\"pattern\":{\"fillmode\":\"overlay\",\"size\":10,\"solidity\":0.2}},\"type\":\"bar\"}],\"scattergeo\":[{\"type\":\"scattergeo\",\"marker\":{\"colorbar\":{\"outlinewidth\":0,\"ticks\":\"\"}}}],\"scatterpolar\":[{\"type\":\"scatterpolar\",\"marker\":{\"colorbar\":{\"outlinewidth\":0,\"ticks\":\"\"}}}],\"histogram\":[{\"marker\":{\"pattern\":{\"fillmode\":\"overlay\",\"size\":10,\"solidity\":0.2}},\"type\":\"histogram\"}],\"scattergl\":[{\"type\":\"scattergl\",\"marker\":{\"colorbar\":{\"outlinewidth\":0,\"ticks\":\"\"}}}],\"scatter3d\":[{\"type\":\"scatter3d\",\"line\":{\"colorbar\":{\"outlinewidth\":0,\"ticks\":\"\"}},\"marker\":{\"colorbar\":{\"outlinewidth\":0,\"ticks\":\"\"}}}],\"scattermapbox\":[{\"type\":\"scattermapbox\",\"marker\":{\"colorbar\":{\"outlinewidth\":0,\"ticks\":\"\"}}}],\"scatterternary\":[{\"type\":\"scatterternary\",\"marker\":{\"colorbar\":{\"outlinewidth\":0,\"ticks\":\"\"}}}],\"scattercarpet\":[{\"type\":\"scattercarpet\",\"marker\":{\"colorbar\":{\"outlinewidth\":0,\"ticks\":\"\"}}}],\"carpet\":[{\"aaxis\":{\"endlinecolor\":\"#2a3f5f\",\"gridcolor\":\"white\",\"linecolor\":\"white\",\"minorgridcolor\":\"white\",\"startlinecolor\":\"#2a3f5f\"},\"baxis\":{\"endlinecolor\":\"#2a3f5f\",\"gridcolor\":\"white\",\"linecolor\":\"white\",\"minorgridcolor\":\"white\",\"startlinecolor\":\"#2a3f5f\"},\"type\":\"carpet\"}],\"table\":[{\"cells\":{\"fill\":{\"color\":\"#EBF0F8\"},\"line\":{\"color\":\"white\"}},\"header\":{\"fill\":{\"color\":\"#C8D4E3\"},\"line\":{\"color\":\"white\"}},\"type\":\"table\"}],\"barpolar\":[{\"marker\":{\"line\":{\"color\":\"#E5ECF6\",\"width\":0.5},\"pattern\":{\"fillmode\":\"overlay\",\"size\":10,\"solidity\":0.2}},\"type\":\"barpolar\"}],\"pie\":[{\"automargin\":true,\"type\":\"pie\"}]},\"layout\":{\"autotypenumbers\":\"strict\",\"colorway\":[\"#636efa\",\"#EF553B\",\"#00cc96\",\"#ab63fa\",\"#FFA15A\",\"#19d3f3\",\"#FF6692\",\"#B6E880\",\"#FF97FF\",\"#FECB52\"],\"font\":{\"color\":\"#2a3f5f\"},\"hovermode\":\"closest\",\"hoverlabel\":{\"align\":\"left\"},\"paper_bgcolor\":\"white\",\"plot_bgcolor\":\"#E5ECF6\",\"polar\":{\"bgcolor\":\"#E5ECF6\",\"angularaxis\":{\"gridcolor\":\"white\",\"linecolor\":\"white\",\"ticks\":\"\"},\"radialaxis\":{\"gridcolor\":\"white\",\"linecolor\":\"white\",\"ticks\":\"\"}},\"ternary\":{\"bgcolor\":\"#E5ECF6\",\"aaxis\":{\"gridcolor\":\"white\",\"linecolor\":\"white\",\"ticks\":\"\"},\"baxis\":{\"gridcolor\":\"white\",\"linecolor\":\"white\",\"ticks\":\"\"},\"caxis\":{\"gridcolor\":\"white\",\"linecolor\":\"white\",\"ticks\":\"\"}},\"coloraxis\":{\"colorbar\":{\"outlinewidth\":0,\"ticks\":\"\"}},\"colorscale\":{\"sequential\":[[0.0,\"#0d0887\"],[0.1111111111111111,\"#46039f\"],[0.2222222222222222,\"#7201a8\"],[0.3333333333333333,\"#9c179e\"],[0.4444444444444444,\"#bd3786\"],[0.5555555555555556,\"#d8576b\"],[0.6666666666666666,\"#ed7953\"],[0.7777777777777778,\"#fb9f3a\"],[0.8888888888888888,\"#fdca26\"],[1.0,\"#f0f921\"]],\"sequentialminus\":[[0.0,\"#0d0887\"],[0.1111111111111111,\"#46039f\"],[0.2222222222222222,\"#7201a8\"],[0.3333333333333333,\"#9c179e\"],[0.4444444444444444,\"#bd3786\"],[0.5555555555555556,\"#d8576b\"],[0.6666666666666666,\"#ed7953\"],[0.7777777777777778,\"#fb9f3a\"],[0.8888888888888888,\"#fdca26\"],[1.0,\"#f0f921\"]],\"diverging\":[[0,\"#8e0152\"],[0.1,\"#c51b7d\"],[0.2,\"#de77ae\"],[0.3,\"#f1b6da\"],[0.4,\"#fde0ef\"],[0.5,\"#f7f7f7\"],[0.6,\"#e6f5d0\"],[0.7,\"#b8e186\"],[0.8,\"#7fbc41\"],[0.9,\"#4d9221\"],[1,\"#276419\"]]},\"xaxis\":{\"gridcolor\":\"white\",\"linecolor\":\"white\",\"ticks\":\"\",\"title\":{\"standoff\":15},\"zerolinecolor\":\"white\",\"automargin\":true,\"zerolinewidth\":2},\"yaxis\":{\"gridcolor\":\"white\",\"linecolor\":\"white\",\"ticks\":\"\",\"title\":{\"standoff\":15},\"zerolinecolor\":\"white\",\"automargin\":true,\"zerolinewidth\":2},\"scene\":{\"xaxis\":{\"backgroundcolor\":\"#E5ECF6\",\"gridcolor\":\"white\",\"linecolor\":\"white\",\"showbackground\":true,\"ticks\":\"\",\"zerolinecolor\":\"white\",\"gridwidth\":2},\"yaxis\":{\"backgroundcolor\":\"#E5ECF6\",\"gridcolor\":\"white\",\"linecolor\":\"white\",\"showbackground\":true,\"ticks\":\"\",\"zerolinecolor\":\"white\",\"gridwidth\":2},\"zaxis\":{\"backgroundcolor\":\"#E5ECF6\",\"gridcolor\":\"white\",\"linecolor\":\"white\",\"showbackground\":true,\"ticks\":\"\",\"zerolinecolor\":\"white\",\"gridwidth\":2}},\"shapedefaults\":{\"line\":{\"color\":\"#2a3f5f\"}},\"annotationdefaults\":{\"arrowcolor\":\"#2a3f5f\",\"arrowhead\":0,\"arrowwidth\":1},\"geo\":{\"bgcolor\":\"white\",\"landcolor\":\"#E5ECF6\",\"subunitcolor\":\"white\",\"showland\":true,\"showlakes\":true,\"lakecolor\":\"white\"},\"title\":{\"x\":0.05},\"mapbox\":{\"style\":\"light\"}}},\"xaxis\":{\"anchor\":\"y\",\"domain\":[0.0,1.0],\"title\":{\"text\":\"x\"}},\"yaxis\":{\"anchor\":\"x\",\"domain\":[0.0,1.0],\"title\":{\"text\":\"y\"}},\"coloraxis\":{\"colorbar\":{\"title\":{\"text\":\"color\"}},\"colorscale\":[[0.0,\"#0d0887\"],[0.1111111111111111,\"#46039f\"],[0.2222222222222222,\"#7201a8\"],[0.3333333333333333,\"#9c179e\"],[0.4444444444444444,\"#bd3786\"],[0.5555555555555556,\"#d8576b\"],[0.6666666666666666,\"#ed7953\"],[0.7777777777777778,\"#fb9f3a\"],[0.8888888888888888,\"#fdca26\"],[1.0,\"#f0f921\"]]},\"legend\":{\"tracegroupgap\":0},\"margin\":{\"t\":60}},                        {\"responsive\": true}                    ).then(function(){\n",
              "                            \n",
              "var gd = document.getElementById('42527560-a08a-47bd-9f7c-7fb8d643617d');\n",
              "var x = new MutationObserver(function (mutations, observer) {{\n",
              "        var display = window.getComputedStyle(gd).display;\n",
              "        if (!display || display === 'none') {{\n",
              "            console.log([gd, 'removed!']);\n",
              "            Plotly.purge(gd);\n",
              "            observer.disconnect();\n",
              "        }}\n",
              "}});\n",
              "\n",
              "// Listen for the removal of the full notebook cells\n",
              "var notebookContainer = gd.closest('#notebook-container');\n",
              "if (notebookContainer) {{\n",
              "    x.observe(notebookContainer, {childList: true});\n",
              "}}\n",
              "\n",
              "// Listen for the clearing of the current output cell\n",
              "var outputEl = gd.closest('.output');\n",
              "if (outputEl) {{\n",
              "    x.observe(outputEl, {childList: true});\n",
              "}}\n",
              "\n",
              "                        })                };                            </script>        </div>\n",
              "</body>\n",
              "</html>"
            ]
          },
          "metadata": {}
        }
      ]
    },
    {
      "cell_type": "code",
      "source": [
        "data_pca"
      ],
      "metadata": {
        "colab": {
          "base_uri": "https://localhost:8080/",
          "height": 423
        },
        "id": "6j9r4GX0LzdT",
        "outputId": "09e74bab-a4dc-477e-acc2-25a8154f6a32"
      },
      "execution_count": null,
      "outputs": [
        {
          "output_type": "execute_result",
          "data": {
            "text/plain": [
              "          PC1       PC2  cluster\n",
              "0   -0.660939 -0.842198        0\n",
              "1    1.745844  1.670547        0\n",
              "2    0.157099 -0.451524        0\n",
              "3    0.784356  0.141163        0\n",
              "4   -1.217120  0.031816        0\n",
              "..        ...       ...      ...\n",
              "886 -1.029655 -0.302671        0\n",
              "887  0.551273 -0.529651        0\n",
              "888  1.077510 -1.052938        0\n",
              "889  0.058224  1.089915        0\n",
              "890 -0.739570  0.507077        0\n",
              "\n",
              "[891 rows x 3 columns]"
            ],
            "text/html": [
              "\n",
              "  <div id=\"df-aae0242b-29ec-46b4-bf75-83e0db13c268\" class=\"colab-df-container\">\n",
              "    <div>\n",
              "<style scoped>\n",
              "    .dataframe tbody tr th:only-of-type {\n",
              "        vertical-align: middle;\n",
              "    }\n",
              "\n",
              "    .dataframe tbody tr th {\n",
              "        vertical-align: top;\n",
              "    }\n",
              "\n",
              "    .dataframe thead th {\n",
              "        text-align: right;\n",
              "    }\n",
              "</style>\n",
              "<table border=\"1\" class=\"dataframe\">\n",
              "  <thead>\n",
              "    <tr style=\"text-align: right;\">\n",
              "      <th></th>\n",
              "      <th>PC1</th>\n",
              "      <th>PC2</th>\n",
              "      <th>cluster</th>\n",
              "    </tr>\n",
              "  </thead>\n",
              "  <tbody>\n",
              "    <tr>\n",
              "      <th>0</th>\n",
              "      <td>-0.660939</td>\n",
              "      <td>-0.842198</td>\n",
              "      <td>0</td>\n",
              "    </tr>\n",
              "    <tr>\n",
              "      <th>1</th>\n",
              "      <td>1.745844</td>\n",
              "      <td>1.670547</td>\n",
              "      <td>0</td>\n",
              "    </tr>\n",
              "    <tr>\n",
              "      <th>2</th>\n",
              "      <td>0.157099</td>\n",
              "      <td>-0.451524</td>\n",
              "      <td>0</td>\n",
              "    </tr>\n",
              "    <tr>\n",
              "      <th>3</th>\n",
              "      <td>0.784356</td>\n",
              "      <td>0.141163</td>\n",
              "      <td>0</td>\n",
              "    </tr>\n",
              "    <tr>\n",
              "      <th>4</th>\n",
              "      <td>-1.217120</td>\n",
              "      <td>0.031816</td>\n",
              "      <td>0</td>\n",
              "    </tr>\n",
              "    <tr>\n",
              "      <th>...</th>\n",
              "      <td>...</td>\n",
              "      <td>...</td>\n",
              "      <td>...</td>\n",
              "    </tr>\n",
              "    <tr>\n",
              "      <th>886</th>\n",
              "      <td>-1.029655</td>\n",
              "      <td>-0.302671</td>\n",
              "      <td>0</td>\n",
              "    </tr>\n",
              "    <tr>\n",
              "      <th>887</th>\n",
              "      <td>0.551273</td>\n",
              "      <td>-0.529651</td>\n",
              "      <td>0</td>\n",
              "    </tr>\n",
              "    <tr>\n",
              "      <th>888</th>\n",
              "      <td>1.077510</td>\n",
              "      <td>-1.052938</td>\n",
              "      <td>0</td>\n",
              "    </tr>\n",
              "    <tr>\n",
              "      <th>889</th>\n",
              "      <td>0.058224</td>\n",
              "      <td>1.089915</td>\n",
              "      <td>0</td>\n",
              "    </tr>\n",
              "    <tr>\n",
              "      <th>890</th>\n",
              "      <td>-0.739570</td>\n",
              "      <td>0.507077</td>\n",
              "      <td>0</td>\n",
              "    </tr>\n",
              "  </tbody>\n",
              "</table>\n",
              "<p>891 rows × 3 columns</p>\n",
              "</div>\n",
              "    <div class=\"colab-df-buttons\">\n",
              "\n",
              "  <div class=\"colab-df-container\">\n",
              "    <button class=\"colab-df-convert\" onclick=\"convertToInteractive('df-aae0242b-29ec-46b4-bf75-83e0db13c268')\"\n",
              "            title=\"Convert this dataframe to an interactive table.\"\n",
              "            style=\"display:none;\">\n",
              "\n",
              "  <svg xmlns=\"http://www.w3.org/2000/svg\" height=\"24px\" viewBox=\"0 -960 960 960\">\n",
              "    <path d=\"M120-120v-720h720v720H120Zm60-500h600v-160H180v160Zm220 220h160v-160H400v160Zm0 220h160v-160H400v160ZM180-400h160v-160H180v160Zm440 0h160v-160H620v160ZM180-180h160v-160H180v160Zm440 0h160v-160H620v160Z\"/>\n",
              "  </svg>\n",
              "    </button>\n",
              "\n",
              "  <style>\n",
              "    .colab-df-container {\n",
              "      display:flex;\n",
              "      gap: 12px;\n",
              "    }\n",
              "\n",
              "    .colab-df-convert {\n",
              "      background-color: #E8F0FE;\n",
              "      border: none;\n",
              "      border-radius: 50%;\n",
              "      cursor: pointer;\n",
              "      display: none;\n",
              "      fill: #1967D2;\n",
              "      height: 32px;\n",
              "      padding: 0 0 0 0;\n",
              "      width: 32px;\n",
              "    }\n",
              "\n",
              "    .colab-df-convert:hover {\n",
              "      background-color: #E2EBFA;\n",
              "      box-shadow: 0px 1px 2px rgba(60, 64, 67, 0.3), 0px 1px 3px 1px rgba(60, 64, 67, 0.15);\n",
              "      fill: #174EA6;\n",
              "    }\n",
              "\n",
              "    .colab-df-buttons div {\n",
              "      margin-bottom: 4px;\n",
              "    }\n",
              "\n",
              "    [theme=dark] .colab-df-convert {\n",
              "      background-color: #3B4455;\n",
              "      fill: #D2E3FC;\n",
              "    }\n",
              "\n",
              "    [theme=dark] .colab-df-convert:hover {\n",
              "      background-color: #434B5C;\n",
              "      box-shadow: 0px 1px 3px 1px rgba(0, 0, 0, 0.15);\n",
              "      filter: drop-shadow(0px 1px 2px rgba(0, 0, 0, 0.3));\n",
              "      fill: #FFFFFF;\n",
              "    }\n",
              "  </style>\n",
              "\n",
              "    <script>\n",
              "      const buttonEl =\n",
              "        document.querySelector('#df-aae0242b-29ec-46b4-bf75-83e0db13c268 button.colab-df-convert');\n",
              "      buttonEl.style.display =\n",
              "        google.colab.kernel.accessAllowed ? 'block' : 'none';\n",
              "\n",
              "      async function convertToInteractive(key) {\n",
              "        const element = document.querySelector('#df-aae0242b-29ec-46b4-bf75-83e0db13c268');\n",
              "        const dataTable =\n",
              "          await google.colab.kernel.invokeFunction('convertToInteractive',\n",
              "                                                    [key], {});\n",
              "        if (!dataTable) return;\n",
              "\n",
              "        const docLinkHtml = 'Like what you see? Visit the ' +\n",
              "          '<a target=\"_blank\" href=https://colab.research.google.com/notebooks/data_table.ipynb>data table notebook</a>'\n",
              "          + ' to learn more about interactive tables.';\n",
              "        element.innerHTML = '';\n",
              "        dataTable['output_type'] = 'display_data';\n",
              "        await google.colab.output.renderOutput(dataTable, element);\n",
              "        const docLink = document.createElement('div');\n",
              "        docLink.innerHTML = docLinkHtml;\n",
              "        element.appendChild(docLink);\n",
              "      }\n",
              "    </script>\n",
              "  </div>\n",
              "\n",
              "\n",
              "<div id=\"df-be84d0ea-cda3-4665-aebf-7ed5aa3aa05d\">\n",
              "  <button class=\"colab-df-quickchart\" onclick=\"quickchart('df-be84d0ea-cda3-4665-aebf-7ed5aa3aa05d')\"\n",
              "            title=\"Suggest charts\"\n",
              "            style=\"display:none;\">\n",
              "\n",
              "<svg xmlns=\"http://www.w3.org/2000/svg\" height=\"24px\"viewBox=\"0 0 24 24\"\n",
              "     width=\"24px\">\n",
              "    <g>\n",
              "        <path d=\"M19 3H5c-1.1 0-2 .9-2 2v14c0 1.1.9 2 2 2h14c1.1 0 2-.9 2-2V5c0-1.1-.9-2-2-2zM9 17H7v-7h2v7zm4 0h-2V7h2v10zm4 0h-2v-4h2v4z\"/>\n",
              "    </g>\n",
              "</svg>\n",
              "  </button>\n",
              "\n",
              "<style>\n",
              "  .colab-df-quickchart {\n",
              "      --bg-color: #E8F0FE;\n",
              "      --fill-color: #1967D2;\n",
              "      --hover-bg-color: #E2EBFA;\n",
              "      --hover-fill-color: #174EA6;\n",
              "      --disabled-fill-color: #AAA;\n",
              "      --disabled-bg-color: #DDD;\n",
              "  }\n",
              "\n",
              "  [theme=dark] .colab-df-quickchart {\n",
              "      --bg-color: #3B4455;\n",
              "      --fill-color: #D2E3FC;\n",
              "      --hover-bg-color: #434B5C;\n",
              "      --hover-fill-color: #FFFFFF;\n",
              "      --disabled-bg-color: #3B4455;\n",
              "      --disabled-fill-color: #666;\n",
              "  }\n",
              "\n",
              "  .colab-df-quickchart {\n",
              "    background-color: var(--bg-color);\n",
              "    border: none;\n",
              "    border-radius: 50%;\n",
              "    cursor: pointer;\n",
              "    display: none;\n",
              "    fill: var(--fill-color);\n",
              "    height: 32px;\n",
              "    padding: 0;\n",
              "    width: 32px;\n",
              "  }\n",
              "\n",
              "  .colab-df-quickchart:hover {\n",
              "    background-color: var(--hover-bg-color);\n",
              "    box-shadow: 0 1px 2px rgba(60, 64, 67, 0.3), 0 1px 3px 1px rgba(60, 64, 67, 0.15);\n",
              "    fill: var(--button-hover-fill-color);\n",
              "  }\n",
              "\n",
              "  .colab-df-quickchart-complete:disabled,\n",
              "  .colab-df-quickchart-complete:disabled:hover {\n",
              "    background-color: var(--disabled-bg-color);\n",
              "    fill: var(--disabled-fill-color);\n",
              "    box-shadow: none;\n",
              "  }\n",
              "\n",
              "  .colab-df-spinner {\n",
              "    border: 2px solid var(--fill-color);\n",
              "    border-color: transparent;\n",
              "    border-bottom-color: var(--fill-color);\n",
              "    animation:\n",
              "      spin 1s steps(1) infinite;\n",
              "  }\n",
              "\n",
              "  @keyframes spin {\n",
              "    0% {\n",
              "      border-color: transparent;\n",
              "      border-bottom-color: var(--fill-color);\n",
              "      border-left-color: var(--fill-color);\n",
              "    }\n",
              "    20% {\n",
              "      border-color: transparent;\n",
              "      border-left-color: var(--fill-color);\n",
              "      border-top-color: var(--fill-color);\n",
              "    }\n",
              "    30% {\n",
              "      border-color: transparent;\n",
              "      border-left-color: var(--fill-color);\n",
              "      border-top-color: var(--fill-color);\n",
              "      border-right-color: var(--fill-color);\n",
              "    }\n",
              "    40% {\n",
              "      border-color: transparent;\n",
              "      border-right-color: var(--fill-color);\n",
              "      border-top-color: var(--fill-color);\n",
              "    }\n",
              "    60% {\n",
              "      border-color: transparent;\n",
              "      border-right-color: var(--fill-color);\n",
              "    }\n",
              "    80% {\n",
              "      border-color: transparent;\n",
              "      border-right-color: var(--fill-color);\n",
              "      border-bottom-color: var(--fill-color);\n",
              "    }\n",
              "    90% {\n",
              "      border-color: transparent;\n",
              "      border-bottom-color: var(--fill-color);\n",
              "    }\n",
              "  }\n",
              "</style>\n",
              "\n",
              "  <script>\n",
              "    async function quickchart(key) {\n",
              "      const quickchartButtonEl =\n",
              "        document.querySelector('#' + key + ' button');\n",
              "      quickchartButtonEl.disabled = true;  // To prevent multiple clicks.\n",
              "      quickchartButtonEl.classList.add('colab-df-spinner');\n",
              "      try {\n",
              "        const charts = await google.colab.kernel.invokeFunction(\n",
              "            'suggestCharts', [key], {});\n",
              "      } catch (error) {\n",
              "        console.error('Error during call to suggestCharts:', error);\n",
              "      }\n",
              "      quickchartButtonEl.classList.remove('colab-df-spinner');\n",
              "      quickchartButtonEl.classList.add('colab-df-quickchart-complete');\n",
              "    }\n",
              "    (() => {\n",
              "      let quickchartButtonEl =\n",
              "        document.querySelector('#df-be84d0ea-cda3-4665-aebf-7ed5aa3aa05d button');\n",
              "      quickchartButtonEl.style.display =\n",
              "        google.colab.kernel.accessAllowed ? 'block' : 'none';\n",
              "    })();\n",
              "  </script>\n",
              "</div>\n",
              "    </div>\n",
              "  </div>\n"
            ],
            "application/vnd.google.colaboratory.intrinsic+json": {
              "type": "dataframe",
              "variable_name": "data_pca",
              "summary": "{\n  \"name\": \"data_pca\",\n  \"rows\": 891,\n  \"fields\": [\n    {\n      \"column\": \"PC1\",\n      \"properties\": {\n        \"dtype\": \"number\",\n        \"std\": 1.1916368704487357,\n        \"min\": -1.953609036036879,\n        \"max\": 5.714905169205471,\n        \"num_unique_values\": 762,\n        \"samples\": [\n          0.7670803972279158,\n          0.6537726061819797,\n          1.551411228419299\n        ],\n        \"semantic_type\": \"\",\n        \"description\": \"\"\n      }\n    },\n    {\n      \"column\": \"PC2\",\n      \"properties\": {\n        \"dtype\": \"number\",\n        \"std\": 1.143011499298163,\n        \"min\": -3.3277955026813664,\n        \"max\": 5.813016875053504,\n        \"num_unique_values\": 762,\n        \"samples\": [\n          -0.2983992105158409,\n          -0.5455521245601065,\n          -0.03846544122786344\n        ],\n        \"semantic_type\": \"\",\n        \"description\": \"\"\n      }\n    },\n    {\n      \"column\": \"cluster\",\n      \"properties\": {\n        \"dtype\": \"number\",\n        \"std\": 0,\n        \"min\": 0,\n        \"max\": 3,\n        \"num_unique_values\": 4,\n        \"samples\": [\n          1,\n          3,\n          0\n        ],\n        \"semantic_type\": \"\",\n        \"description\": \"\"\n      }\n    }\n  ]\n}"
            }
          },
          "metadata": {},
          "execution_count": 72
        }
      ]
    },
    {
      "cell_type": "code",
      "source": [
        "cluster_stats = data_pca.groupby('cluster').describe()\n",
        "cluster_stats"
      ],
      "metadata": {
        "colab": {
          "base_uri": "https://localhost:8080/",
          "height": 257
        },
        "id": "XQDLw1-mMg4y",
        "outputId": "f15c0f93-47cb-4f77-f6f0-fa8c13ef638c"
      },
      "execution_count": null,
      "outputs": [
        {
          "output_type": "execute_result",
          "data": {
            "text/plain": [
              "           PC1                                                              \\\n",
              "         count      mean       std       min       25%       50%       75%   \n",
              "cluster                                                                      \n",
              "0        884.0 -0.037665  1.117495 -1.953609 -0.991931 -0.270592  0.755109   \n",
              "1          2.0  4.266614  0.013337  4.257183  4.261899  4.266614  4.271330   \n",
              "2          3.0  5.009888  0.628088  4.510044  4.657379  4.804714  5.259810   \n",
              "3          2.0  4.866385  0.040012  4.838093  4.852239  4.866385  4.880532   \n",
              "\n",
              "                     PC2                                                    \\\n",
              "              max  count      mean       std       min       25%       50%   \n",
              "cluster                                                                      \n",
              "0        3.620155  884.0 -0.024151  1.094667 -3.327796 -0.609926 -0.115342   \n",
              "1        4.276045    2.0  0.395523  0.032578  0.372487  0.384005  0.395523   \n",
              "2        5.714905    3.0  5.714706  0.116248  5.586400  5.665551  5.744701   \n",
              "3        4.894678    2.0  1.707082  0.097735  1.637973  1.672528  1.707082   \n",
              "\n",
              "                             \n",
              "              75%       max  \n",
              "cluster                      \n",
              "0        0.539675  3.797674  \n",
              "1        0.407042  0.418560  \n",
              "2        5.778859  5.813017  \n",
              "3        1.741637  1.776191  "
            ],
            "text/html": [
              "\n",
              "  <div id=\"df-d42fab48-1e8d-4c03-886c-71a80642830d\" class=\"colab-df-container\">\n",
              "    <div>\n",
              "<style scoped>\n",
              "    .dataframe tbody tr th:only-of-type {\n",
              "        vertical-align: middle;\n",
              "    }\n",
              "\n",
              "    .dataframe tbody tr th {\n",
              "        vertical-align: top;\n",
              "    }\n",
              "\n",
              "    .dataframe thead tr th {\n",
              "        text-align: left;\n",
              "    }\n",
              "\n",
              "    .dataframe thead tr:last-of-type th {\n",
              "        text-align: right;\n",
              "    }\n",
              "</style>\n",
              "<table border=\"1\" class=\"dataframe\">\n",
              "  <thead>\n",
              "    <tr>\n",
              "      <th></th>\n",
              "      <th colspan=\"8\" halign=\"left\">PC1</th>\n",
              "      <th colspan=\"8\" halign=\"left\">PC2</th>\n",
              "    </tr>\n",
              "    <tr>\n",
              "      <th></th>\n",
              "      <th>count</th>\n",
              "      <th>mean</th>\n",
              "      <th>std</th>\n",
              "      <th>min</th>\n",
              "      <th>25%</th>\n",
              "      <th>50%</th>\n",
              "      <th>75%</th>\n",
              "      <th>max</th>\n",
              "      <th>count</th>\n",
              "      <th>mean</th>\n",
              "      <th>std</th>\n",
              "      <th>min</th>\n",
              "      <th>25%</th>\n",
              "      <th>50%</th>\n",
              "      <th>75%</th>\n",
              "      <th>max</th>\n",
              "    </tr>\n",
              "    <tr>\n",
              "      <th>cluster</th>\n",
              "      <th></th>\n",
              "      <th></th>\n",
              "      <th></th>\n",
              "      <th></th>\n",
              "      <th></th>\n",
              "      <th></th>\n",
              "      <th></th>\n",
              "      <th></th>\n",
              "      <th></th>\n",
              "      <th></th>\n",
              "      <th></th>\n",
              "      <th></th>\n",
              "      <th></th>\n",
              "      <th></th>\n",
              "      <th></th>\n",
              "      <th></th>\n",
              "    </tr>\n",
              "  </thead>\n",
              "  <tbody>\n",
              "    <tr>\n",
              "      <th>0</th>\n",
              "      <td>884.0</td>\n",
              "      <td>-0.037665</td>\n",
              "      <td>1.117495</td>\n",
              "      <td>-1.953609</td>\n",
              "      <td>-0.991931</td>\n",
              "      <td>-0.270592</td>\n",
              "      <td>0.755109</td>\n",
              "      <td>3.620155</td>\n",
              "      <td>884.0</td>\n",
              "      <td>-0.024151</td>\n",
              "      <td>1.094667</td>\n",
              "      <td>-3.327796</td>\n",
              "      <td>-0.609926</td>\n",
              "      <td>-0.115342</td>\n",
              "      <td>0.539675</td>\n",
              "      <td>3.797674</td>\n",
              "    </tr>\n",
              "    <tr>\n",
              "      <th>1</th>\n",
              "      <td>2.0</td>\n",
              "      <td>4.266614</td>\n",
              "      <td>0.013337</td>\n",
              "      <td>4.257183</td>\n",
              "      <td>4.261899</td>\n",
              "      <td>4.266614</td>\n",
              "      <td>4.271330</td>\n",
              "      <td>4.276045</td>\n",
              "      <td>2.0</td>\n",
              "      <td>0.395523</td>\n",
              "      <td>0.032578</td>\n",
              "      <td>0.372487</td>\n",
              "      <td>0.384005</td>\n",
              "      <td>0.395523</td>\n",
              "      <td>0.407042</td>\n",
              "      <td>0.418560</td>\n",
              "    </tr>\n",
              "    <tr>\n",
              "      <th>2</th>\n",
              "      <td>3.0</td>\n",
              "      <td>5.009888</td>\n",
              "      <td>0.628088</td>\n",
              "      <td>4.510044</td>\n",
              "      <td>4.657379</td>\n",
              "      <td>4.804714</td>\n",
              "      <td>5.259810</td>\n",
              "      <td>5.714905</td>\n",
              "      <td>3.0</td>\n",
              "      <td>5.714706</td>\n",
              "      <td>0.116248</td>\n",
              "      <td>5.586400</td>\n",
              "      <td>5.665551</td>\n",
              "      <td>5.744701</td>\n",
              "      <td>5.778859</td>\n",
              "      <td>5.813017</td>\n",
              "    </tr>\n",
              "    <tr>\n",
              "      <th>3</th>\n",
              "      <td>2.0</td>\n",
              "      <td>4.866385</td>\n",
              "      <td>0.040012</td>\n",
              "      <td>4.838093</td>\n",
              "      <td>4.852239</td>\n",
              "      <td>4.866385</td>\n",
              "      <td>4.880532</td>\n",
              "      <td>4.894678</td>\n",
              "      <td>2.0</td>\n",
              "      <td>1.707082</td>\n",
              "      <td>0.097735</td>\n",
              "      <td>1.637973</td>\n",
              "      <td>1.672528</td>\n",
              "      <td>1.707082</td>\n",
              "      <td>1.741637</td>\n",
              "      <td>1.776191</td>\n",
              "    </tr>\n",
              "  </tbody>\n",
              "</table>\n",
              "</div>\n",
              "    <div class=\"colab-df-buttons\">\n",
              "\n",
              "  <div class=\"colab-df-container\">\n",
              "    <button class=\"colab-df-convert\" onclick=\"convertToInteractive('df-d42fab48-1e8d-4c03-886c-71a80642830d')\"\n",
              "            title=\"Convert this dataframe to an interactive table.\"\n",
              "            style=\"display:none;\">\n",
              "\n",
              "  <svg xmlns=\"http://www.w3.org/2000/svg\" height=\"24px\" viewBox=\"0 -960 960 960\">\n",
              "    <path d=\"M120-120v-720h720v720H120Zm60-500h600v-160H180v160Zm220 220h160v-160H400v160Zm0 220h160v-160H400v160ZM180-400h160v-160H180v160Zm440 0h160v-160H620v160ZM180-180h160v-160H180v160Zm440 0h160v-160H620v160Z\"/>\n",
              "  </svg>\n",
              "    </button>\n",
              "\n",
              "  <style>\n",
              "    .colab-df-container {\n",
              "      display:flex;\n",
              "      gap: 12px;\n",
              "    }\n",
              "\n",
              "    .colab-df-convert {\n",
              "      background-color: #E8F0FE;\n",
              "      border: none;\n",
              "      border-radius: 50%;\n",
              "      cursor: pointer;\n",
              "      display: none;\n",
              "      fill: #1967D2;\n",
              "      height: 32px;\n",
              "      padding: 0 0 0 0;\n",
              "      width: 32px;\n",
              "    }\n",
              "\n",
              "    .colab-df-convert:hover {\n",
              "      background-color: #E2EBFA;\n",
              "      box-shadow: 0px 1px 2px rgba(60, 64, 67, 0.3), 0px 1px 3px 1px rgba(60, 64, 67, 0.15);\n",
              "      fill: #174EA6;\n",
              "    }\n",
              "\n",
              "    .colab-df-buttons div {\n",
              "      margin-bottom: 4px;\n",
              "    }\n",
              "\n",
              "    [theme=dark] .colab-df-convert {\n",
              "      background-color: #3B4455;\n",
              "      fill: #D2E3FC;\n",
              "    }\n",
              "\n",
              "    [theme=dark] .colab-df-convert:hover {\n",
              "      background-color: #434B5C;\n",
              "      box-shadow: 0px 1px 3px 1px rgba(0, 0, 0, 0.15);\n",
              "      filter: drop-shadow(0px 1px 2px rgba(0, 0, 0, 0.3));\n",
              "      fill: #FFFFFF;\n",
              "    }\n",
              "  </style>\n",
              "\n",
              "    <script>\n",
              "      const buttonEl =\n",
              "        document.querySelector('#df-d42fab48-1e8d-4c03-886c-71a80642830d button.colab-df-convert');\n",
              "      buttonEl.style.display =\n",
              "        google.colab.kernel.accessAllowed ? 'block' : 'none';\n",
              "\n",
              "      async function convertToInteractive(key) {\n",
              "        const element = document.querySelector('#df-d42fab48-1e8d-4c03-886c-71a80642830d');\n",
              "        const dataTable =\n",
              "          await google.colab.kernel.invokeFunction('convertToInteractive',\n",
              "                                                    [key], {});\n",
              "        if (!dataTable) return;\n",
              "\n",
              "        const docLinkHtml = 'Like what you see? Visit the ' +\n",
              "          '<a target=\"_blank\" href=https://colab.research.google.com/notebooks/data_table.ipynb>data table notebook</a>'\n",
              "          + ' to learn more about interactive tables.';\n",
              "        element.innerHTML = '';\n",
              "        dataTable['output_type'] = 'display_data';\n",
              "        await google.colab.output.renderOutput(dataTable, element);\n",
              "        const docLink = document.createElement('div');\n",
              "        docLink.innerHTML = docLinkHtml;\n",
              "        element.appendChild(docLink);\n",
              "      }\n",
              "    </script>\n",
              "  </div>\n",
              "\n",
              "\n",
              "<div id=\"df-b6221e14-1e87-4161-ad7c-04e7fb6b80a2\">\n",
              "  <button class=\"colab-df-quickchart\" onclick=\"quickchart('df-b6221e14-1e87-4161-ad7c-04e7fb6b80a2')\"\n",
              "            title=\"Suggest charts\"\n",
              "            style=\"display:none;\">\n",
              "\n",
              "<svg xmlns=\"http://www.w3.org/2000/svg\" height=\"24px\"viewBox=\"0 0 24 24\"\n",
              "     width=\"24px\">\n",
              "    <g>\n",
              "        <path d=\"M19 3H5c-1.1 0-2 .9-2 2v14c0 1.1.9 2 2 2h14c1.1 0 2-.9 2-2V5c0-1.1-.9-2-2-2zM9 17H7v-7h2v7zm4 0h-2V7h2v10zm4 0h-2v-4h2v4z\"/>\n",
              "    </g>\n",
              "</svg>\n",
              "  </button>\n",
              "\n",
              "<style>\n",
              "  .colab-df-quickchart {\n",
              "      --bg-color: #E8F0FE;\n",
              "      --fill-color: #1967D2;\n",
              "      --hover-bg-color: #E2EBFA;\n",
              "      --hover-fill-color: #174EA6;\n",
              "      --disabled-fill-color: #AAA;\n",
              "      --disabled-bg-color: #DDD;\n",
              "  }\n",
              "\n",
              "  [theme=dark] .colab-df-quickchart {\n",
              "      --bg-color: #3B4455;\n",
              "      --fill-color: #D2E3FC;\n",
              "      --hover-bg-color: #434B5C;\n",
              "      --hover-fill-color: #FFFFFF;\n",
              "      --disabled-bg-color: #3B4455;\n",
              "      --disabled-fill-color: #666;\n",
              "  }\n",
              "\n",
              "  .colab-df-quickchart {\n",
              "    background-color: var(--bg-color);\n",
              "    border: none;\n",
              "    border-radius: 50%;\n",
              "    cursor: pointer;\n",
              "    display: none;\n",
              "    fill: var(--fill-color);\n",
              "    height: 32px;\n",
              "    padding: 0;\n",
              "    width: 32px;\n",
              "  }\n",
              "\n",
              "  .colab-df-quickchart:hover {\n",
              "    background-color: var(--hover-bg-color);\n",
              "    box-shadow: 0 1px 2px rgba(60, 64, 67, 0.3), 0 1px 3px 1px rgba(60, 64, 67, 0.15);\n",
              "    fill: var(--button-hover-fill-color);\n",
              "  }\n",
              "\n",
              "  .colab-df-quickchart-complete:disabled,\n",
              "  .colab-df-quickchart-complete:disabled:hover {\n",
              "    background-color: var(--disabled-bg-color);\n",
              "    fill: var(--disabled-fill-color);\n",
              "    box-shadow: none;\n",
              "  }\n",
              "\n",
              "  .colab-df-spinner {\n",
              "    border: 2px solid var(--fill-color);\n",
              "    border-color: transparent;\n",
              "    border-bottom-color: var(--fill-color);\n",
              "    animation:\n",
              "      spin 1s steps(1) infinite;\n",
              "  }\n",
              "\n",
              "  @keyframes spin {\n",
              "    0% {\n",
              "      border-color: transparent;\n",
              "      border-bottom-color: var(--fill-color);\n",
              "      border-left-color: var(--fill-color);\n",
              "    }\n",
              "    20% {\n",
              "      border-color: transparent;\n",
              "      border-left-color: var(--fill-color);\n",
              "      border-top-color: var(--fill-color);\n",
              "    }\n",
              "    30% {\n",
              "      border-color: transparent;\n",
              "      border-left-color: var(--fill-color);\n",
              "      border-top-color: var(--fill-color);\n",
              "      border-right-color: var(--fill-color);\n",
              "    }\n",
              "    40% {\n",
              "      border-color: transparent;\n",
              "      border-right-color: var(--fill-color);\n",
              "      border-top-color: var(--fill-color);\n",
              "    }\n",
              "    60% {\n",
              "      border-color: transparent;\n",
              "      border-right-color: var(--fill-color);\n",
              "    }\n",
              "    80% {\n",
              "      border-color: transparent;\n",
              "      border-right-color: var(--fill-color);\n",
              "      border-bottom-color: var(--fill-color);\n",
              "    }\n",
              "    90% {\n",
              "      border-color: transparent;\n",
              "      border-bottom-color: var(--fill-color);\n",
              "    }\n",
              "  }\n",
              "</style>\n",
              "\n",
              "  <script>\n",
              "    async function quickchart(key) {\n",
              "      const quickchartButtonEl =\n",
              "        document.querySelector('#' + key + ' button');\n",
              "      quickchartButtonEl.disabled = true;  // To prevent multiple clicks.\n",
              "      quickchartButtonEl.classList.add('colab-df-spinner');\n",
              "      try {\n",
              "        const charts = await google.colab.kernel.invokeFunction(\n",
              "            'suggestCharts', [key], {});\n",
              "      } catch (error) {\n",
              "        console.error('Error during call to suggestCharts:', error);\n",
              "      }\n",
              "      quickchartButtonEl.classList.remove('colab-df-spinner');\n",
              "      quickchartButtonEl.classList.add('colab-df-quickchart-complete');\n",
              "    }\n",
              "    (() => {\n",
              "      let quickchartButtonEl =\n",
              "        document.querySelector('#df-b6221e14-1e87-4161-ad7c-04e7fb6b80a2 button');\n",
              "      quickchartButtonEl.style.display =\n",
              "        google.colab.kernel.accessAllowed ? 'block' : 'none';\n",
              "    })();\n",
              "  </script>\n",
              "</div>\n",
              "    </div>\n",
              "  </div>\n"
            ],
            "application/vnd.google.colaboratory.intrinsic+json": {
              "type": "dataframe",
              "variable_name": "cluster_stats",
              "summary": "{\n  \"name\": \"cluster_stats\",\n  \"rows\": 4,\n  \"fields\": [\n    {\n      \"column\": [\n        \"cluster\",\n        \"\"\n      ],\n      \"properties\": {\n        \"dtype\": \"number\",\n        \"std\": 1,\n        \"min\": 0,\n        \"max\": 3,\n        \"num_unique_values\": 4,\n        \"samples\": [\n          1,\n          3,\n          0\n        ],\n        \"semantic_type\": \"\",\n        \"description\": \"\"\n      }\n    },\n    {\n      \"column\": [\n        \"PC1\",\n        \"count\"\n      ],\n      \"properties\": {\n        \"dtype\": \"number\",\n        \"std\": 440.8335853811504,\n        \"min\": 2.0,\n        \"max\": 884.0,\n        \"num_unique_values\": 3,\n        \"samples\": [\n          884.0,\n          2.0,\n          3.0\n        ],\n        \"semantic_type\": \"\",\n        \"description\": \"\"\n      }\n    },\n    {\n      \"column\": [\n        \"PC1\",\n        \"mean\"\n      ],\n      \"properties\": {\n        \"dtype\": \"number\",\n        \"std\": 2.3976913270457745,\n        \"min\": -0.03766477618402002,\n        \"max\": 5.00988773624463,\n        \"num_unique_values\": 4,\n        \"samples\": [\n          4.266614233638096,\n          4.8663852353318084,\n          -0.03766477618402002\n        ],\n        \"semantic_type\": \"\",\n        \"description\": \"\"\n      }\n    },\n    {\n      \"column\": [\n        \"PC1\",\n        \"std\"\n      ],\n      \"properties\": {\n        \"dtype\": \"number\",\n        \"std\": 0.5278979706690122,\n        \"min\": 0.013337318195992116,\n        \"max\": 1.1174946858997565,\n        \"num_unique_values\": 4,\n        \"samples\": [\n          0.013337318195992116,\n          0.040011954587976975,\n          1.1174946858997565\n        ],\n        \"semantic_type\": \"\",\n        \"description\": \"\"\n      }\n    },\n    {\n      \"column\": [\n        \"PC1\",\n        \"min\"\n      ],\n      \"properties\": {\n        \"dtype\": \"number\",\n        \"std\": 3.253062247360158,\n        \"min\": -1.953609036036879,\n        \"max\": 4.838092510914121,\n        \"num_unique_values\": 4,\n        \"samples\": [\n          4.257183325498867,\n          4.838092510914121,\n          -1.953609036036879\n        ],\n        \"semantic_type\": \"\",\n        \"description\": \"\"\n      }\n    },\n    {\n      \"column\": [\n        \"PC1\",\n        \"25%\"\n      ],\n      \"properties\": {\n        \"dtype\": \"number\",\n        \"std\": 2.8020027990356215,\n        \"min\": -0.9919312168330416,\n        \"max\": 4.852238873122965,\n        \"num_unique_values\": 4,\n        \"samples\": [\n          4.261898779568481,\n          4.852238873122965,\n          -0.9919312168330416\n        ],\n        \"semantic_type\": \"\",\n        \"description\": \"\"\n      }\n    },\n    {\n      \"column\": [\n        \"PC1\",\n        \"50%\"\n      ],\n      \"properties\": {\n        \"dtype\": \"number\",\n        \"std\": 2.4729638283045454,\n        \"min\": -0.27059235803487375,\n        \"max\": 4.8663852353318084,\n        \"num_unique_values\": 4,\n        \"samples\": [\n          4.266614233638096,\n          4.8663852353318084,\n          -0.27059235803487375\n        ],\n        \"semantic_type\": \"\",\n        \"description\": \"\"\n      }\n    },\n    {\n      \"column\": [\n        \"PC1\",\n        \"75%\"\n      ],\n      \"properties\": {\n        \"dtype\": \"number\",\n        \"std\": 2.064931845621766,\n        \"min\": 0.7551089180622341,\n        \"max\": 5.259809770164176,\n        \"num_unique_values\": 4,\n        \"samples\": [\n          4.271329687707711,\n          4.880531597540651,\n          0.7551089180622341\n        ],\n        \"semantic_type\": \"\",\n        \"description\": \"\"\n      }\n    },\n    {\n      \"column\": [\n        \"PC1\",\n        \"max\"\n      ],\n      \"properties\": {\n        \"dtype\": \"number\",\n        \"std\": 0.8929527618294558,\n        \"min\": 3.6201550898378567,\n        \"max\": 5.714905169205471,\n        \"num_unique_values\": 4,\n        \"samples\": [\n          4.276045141777325,\n          4.894677959749495,\n          3.6201550898378567\n        ],\n        \"semantic_type\": \"\",\n        \"description\": \"\"\n      }\n    },\n    {\n      \"column\": [\n        \"PC2\",\n        \"count\"\n      ],\n      \"properties\": {\n        \"dtype\": \"number\",\n        \"std\": 440.8335853811504,\n        \"min\": 2.0,\n        \"max\": 884.0,\n        \"num_unique_values\": 3,\n        \"samples\": [\n          884.0,\n          2.0,\n          3.0\n        ],\n        \"semantic_type\": \"\",\n        \"description\": \"\"\n      }\n    },\n    {\n      \"column\": [\n        \"PC2\",\n        \"mean\"\n      ],\n      \"properties\": {\n        \"dtype\": \"number\",\n        \"std\": 2.6169752262158217,\n        \"min\": -0.02415082499438069,\n        \"max\": 5.714706057008475,\n        \"num_unique_values\": 4,\n        \"samples\": [\n          0.3955234205480876,\n          1.7070821414554658,\n          -0.02415082499438069\n        ],\n        \"semantic_type\": \"\",\n        \"description\": \"\"\n      }\n    },\n    {\n      \"column\": [\n        \"PC2\",\n        \"std\"\n      ],\n      \"properties\": {\n        \"dtype\": \"number\",\n        \"std\": 0.50751020322027,\n        \"min\": 0.03257817381508917,\n        \"max\": 1.0946668973864204,\n        \"num_unique_values\": 4,\n        \"samples\": [\n          0.03257817381508917,\n          0.09773452144526766,\n          1.0946668973864204\n        ],\n        \"semantic_type\": \"\",\n        \"description\": \"\"\n      }\n    },\n    {\n      \"column\": [\n        \"PC2\",\n        \"min\"\n      ],\n      \"properties\": {\n        \"dtype\": \"number\",\n        \"std\": 3.676391555244853,\n        \"min\": -3.3277955026813664,\n        \"max\": 5.5864002574350895,\n        \"num_unique_values\": 4,\n        \"samples\": [\n          0.372487172924764,\n          1.637973398585495,\n          -3.3277955026813664\n        ],\n        \"semantic_type\": \"\",\n        \"description\": \"\"\n      }\n    },\n    {\n      \"column\": [\n        \"PC2\",\n        \"25%\"\n      ],\n      \"properties\": {\n        \"dtype\": \"number\",\n        \"std\": 2.754970534517139,\n        \"min\": -0.6099263555821003,\n        \"max\": 5.665550647985961,\n        \"num_unique_values\": 4,\n        \"samples\": [\n          0.3840052967364258,\n          1.6725277700204804,\n          -0.6099263555821003\n        ],\n        \"semantic_type\": \"\",\n        \"description\": \"\"\n      }\n    },\n    {\n      \"column\": [\n        \"PC2\",\n        \"50%\"\n      ],\n      \"properties\": {\n        \"dtype\": \"number\",\n        \"std\": 2.654533528675662,\n        \"min\": -0.11534246320190718,\n        \"max\": 5.7447010385368324,\n        \"num_unique_values\": 4,\n        \"samples\": [\n          0.3955234205480876,\n          1.7070821414554658,\n          -0.11534246320190718\n        ],\n        \"semantic_type\": \"\",\n        \"description\": \"\"\n      }\n    },\n    {\n      \"column\": [\n        \"PC2\",\n        \"75%\"\n      ],\n      \"properties\": {\n        \"dtype\": \"number\",\n        \"std\": 2.51409494713622,\n        \"min\": 0.4070415443597494,\n        \"max\": 5.778858956795168,\n        \"num_unique_values\": 4,\n        \"samples\": [\n          0.4070415443597494,\n          1.7416365128904512,\n          0.539675151439375\n        ],\n        \"semantic_type\": \"\",\n        \"description\": \"\"\n      }\n    },\n    {\n      \"column\": [\n        \"PC2\",\n        \"max\"\n      ],\n      \"properties\": {\n        \"dtype\": \"number\",\n        \"std\": 2.3594792907660387,\n        \"min\": 0.41855966817141116,\n        \"max\": 5.813016875053504,\n        \"num_unique_values\": 4,\n        \"samples\": [\n          0.41855966817141116,\n          1.7761908843254366,\n          3.797674083998762\n        ],\n        \"semantic_type\": \"\",\n        \"description\": \"\"\n      }\n    }\n  ]\n}"
            }
          },
          "metadata": {},
          "execution_count": 75
        }
      ]
    },
    {
      "cell_type": "markdown",
      "source": [
        "Iremos agora repetir o experimento, porém sem diminuir o número de dimensões por meio do PCA. Serão consideradas as 5 features selecionadas após o processo de feature engineering."
      ],
      "metadata": {
        "id": "Wv-ZbzxGNjj-"
      }
    },
    {
      "cell_type": "code",
      "source": [
        "X = titanic_data.to_numpy()\n",
        "\n",
        "dbscan_cluster_model = DBSCAN(eps=0.2, min_samples=15).fit(X)\n",
        "dbscan_cluster_model"
      ],
      "metadata": {
        "colab": {
          "base_uri": "https://localhost:8080/",
          "height": 74
        },
        "id": "LZOF0wZON6o7",
        "outputId": "24422360-7065-456a-dbdb-db9f4b2780ee"
      },
      "execution_count": null,
      "outputs": [
        {
          "output_type": "execute_result",
          "data": {
            "text/plain": [
              "DBSCAN(eps=0.2, min_samples=15)"
            ],
            "text/html": [
              "<style>#sk-container-id-2 {color: black;background-color: white;}#sk-container-id-2 pre{padding: 0;}#sk-container-id-2 div.sk-toggleable {background-color: white;}#sk-container-id-2 label.sk-toggleable__label {cursor: pointer;display: block;width: 100%;margin-bottom: 0;padding: 0.3em;box-sizing: border-box;text-align: center;}#sk-container-id-2 label.sk-toggleable__label-arrow:before {content: \"▸\";float: left;margin-right: 0.25em;color: #696969;}#sk-container-id-2 label.sk-toggleable__label-arrow:hover:before {color: black;}#sk-container-id-2 div.sk-estimator:hover label.sk-toggleable__label-arrow:before {color: black;}#sk-container-id-2 div.sk-toggleable__content {max-height: 0;max-width: 0;overflow: hidden;text-align: left;background-color: #f0f8ff;}#sk-container-id-2 div.sk-toggleable__content pre {margin: 0.2em;color: black;border-radius: 0.25em;background-color: #f0f8ff;}#sk-container-id-2 input.sk-toggleable__control:checked~div.sk-toggleable__content {max-height: 200px;max-width: 100%;overflow: auto;}#sk-container-id-2 input.sk-toggleable__control:checked~label.sk-toggleable__label-arrow:before {content: \"▾\";}#sk-container-id-2 div.sk-estimator input.sk-toggleable__control:checked~label.sk-toggleable__label {background-color: #d4ebff;}#sk-container-id-2 div.sk-label input.sk-toggleable__control:checked~label.sk-toggleable__label {background-color: #d4ebff;}#sk-container-id-2 input.sk-hidden--visually {border: 0;clip: rect(1px 1px 1px 1px);clip: rect(1px, 1px, 1px, 1px);height: 1px;margin: -1px;overflow: hidden;padding: 0;position: absolute;width: 1px;}#sk-container-id-2 div.sk-estimator {font-family: monospace;background-color: #f0f8ff;border: 1px dotted black;border-radius: 0.25em;box-sizing: border-box;margin-bottom: 0.5em;}#sk-container-id-2 div.sk-estimator:hover {background-color: #d4ebff;}#sk-container-id-2 div.sk-parallel-item::after {content: \"\";width: 100%;border-bottom: 1px solid gray;flex-grow: 1;}#sk-container-id-2 div.sk-label:hover label.sk-toggleable__label {background-color: #d4ebff;}#sk-container-id-2 div.sk-serial::before {content: \"\";position: absolute;border-left: 1px solid gray;box-sizing: border-box;top: 0;bottom: 0;left: 50%;z-index: 0;}#sk-container-id-2 div.sk-serial {display: flex;flex-direction: column;align-items: center;background-color: white;padding-right: 0.2em;padding-left: 0.2em;position: relative;}#sk-container-id-2 div.sk-item {position: relative;z-index: 1;}#sk-container-id-2 div.sk-parallel {display: flex;align-items: stretch;justify-content: center;background-color: white;position: relative;}#sk-container-id-2 div.sk-item::before, #sk-container-id-2 div.sk-parallel-item::before {content: \"\";position: absolute;border-left: 1px solid gray;box-sizing: border-box;top: 0;bottom: 0;left: 50%;z-index: -1;}#sk-container-id-2 div.sk-parallel-item {display: flex;flex-direction: column;z-index: 1;position: relative;background-color: white;}#sk-container-id-2 div.sk-parallel-item:first-child::after {align-self: flex-end;width: 50%;}#sk-container-id-2 div.sk-parallel-item:last-child::after {align-self: flex-start;width: 50%;}#sk-container-id-2 div.sk-parallel-item:only-child::after {width: 0;}#sk-container-id-2 div.sk-dashed-wrapped {border: 1px dashed gray;margin: 0 0.4em 0.5em 0.4em;box-sizing: border-box;padding-bottom: 0.4em;background-color: white;}#sk-container-id-2 div.sk-label label {font-family: monospace;font-weight: bold;display: inline-block;line-height: 1.2em;}#sk-container-id-2 div.sk-label-container {text-align: center;}#sk-container-id-2 div.sk-container {/* jupyter's `normalize.less` sets `[hidden] { display: none; }` but bootstrap.min.css set `[hidden] { display: none !important; }` so we also need the `!important` here to be able to override the default hidden behavior on the sphinx rendered scikit-learn.org. See: https://github.com/scikit-learn/scikit-learn/issues/21755 */display: inline-block !important;position: relative;}#sk-container-id-2 div.sk-text-repr-fallback {display: none;}</style><div id=\"sk-container-id-2\" class=\"sk-top-container\"><div class=\"sk-text-repr-fallback\"><pre>DBSCAN(eps=0.2, min_samples=15)</pre><b>In a Jupyter environment, please rerun this cell to show the HTML representation or trust the notebook. <br />On GitHub, the HTML representation is unable to render, please try loading this page with nbviewer.org.</b></div><div class=\"sk-container\" hidden><div class=\"sk-item\"><div class=\"sk-estimator sk-toggleable\"><input class=\"sk-toggleable__control sk-hidden--visually\" id=\"sk-estimator-id-2\" type=\"checkbox\" checked><label for=\"sk-estimator-id-2\" class=\"sk-toggleable__label sk-toggleable__label-arrow\">DBSCAN</label><div class=\"sk-toggleable__content\"><pre>DBSCAN(eps=0.2, min_samples=15)</pre></div></div></div></div></div>"
            ]
          },
          "metadata": {},
          "execution_count": 76
        }
      ]
    },
    {
      "cell_type": "code",
      "source": [
        "titanic_data['cluster'] = dbscan_cluster_model.labels_\n",
        "\n",
        "titanic_data"
      ],
      "metadata": {
        "colab": {
          "base_uri": "https://localhost:8080/",
          "height": 423
        },
        "id": "AlEJfShhONej",
        "outputId": "1ba65f92-2f3c-4ce7-b80e-844207739054"
      },
      "execution_count": null,
      "outputs": [
        {
          "output_type": "execute_result",
          "data": {
            "text/plain": [
              "          Sex       Age  Embarked  PclassFare    Family  cluster\n",
              "0    0.737695 -0.592481  0.581114   -0.441847  0.059160       -1\n",
              "1   -1.355574  0.638789 -1.938460    0.902763  0.059160       -1\n",
              "2   -1.355574 -0.284663  0.581114   -0.437454 -0.560975        4\n",
              "3   -1.355574  0.407926  0.581114    0.547737  0.059160       -1\n",
              "4    0.737695  0.407926  0.581114   -0.436640 -0.560975        0\n",
              "..        ...       ...       ...         ...       ...      ...\n",
              "886  0.737695 -0.207709  0.581114   -0.362120 -0.560975        0\n",
              "887 -1.355574 -0.823344  0.581114    0.096713 -0.560975       -1\n",
              "888 -1.355574  0.000000  0.581114   -0.336413  1.299429       -1\n",
              "889  0.737695 -0.284663 -1.938460    0.096713 -0.560975       -1\n",
              "890  0.737695  0.177063 -0.678673   -0.438592 -0.560975        1\n",
              "\n",
              "[891 rows x 6 columns]"
            ],
            "text/html": [
              "\n",
              "  <div id=\"df-9e8d5aad-dd8c-4cea-9c71-67b86965610a\" class=\"colab-df-container\">\n",
              "    <div>\n",
              "<style scoped>\n",
              "    .dataframe tbody tr th:only-of-type {\n",
              "        vertical-align: middle;\n",
              "    }\n",
              "\n",
              "    .dataframe tbody tr th {\n",
              "        vertical-align: top;\n",
              "    }\n",
              "\n",
              "    .dataframe thead th {\n",
              "        text-align: right;\n",
              "    }\n",
              "</style>\n",
              "<table border=\"1\" class=\"dataframe\">\n",
              "  <thead>\n",
              "    <tr style=\"text-align: right;\">\n",
              "      <th></th>\n",
              "      <th>Sex</th>\n",
              "      <th>Age</th>\n",
              "      <th>Embarked</th>\n",
              "      <th>PclassFare</th>\n",
              "      <th>Family</th>\n",
              "      <th>cluster</th>\n",
              "    </tr>\n",
              "  </thead>\n",
              "  <tbody>\n",
              "    <tr>\n",
              "      <th>0</th>\n",
              "      <td>0.737695</td>\n",
              "      <td>-0.592481</td>\n",
              "      <td>0.581114</td>\n",
              "      <td>-0.441847</td>\n",
              "      <td>0.059160</td>\n",
              "      <td>-1</td>\n",
              "    </tr>\n",
              "    <tr>\n",
              "      <th>1</th>\n",
              "      <td>-1.355574</td>\n",
              "      <td>0.638789</td>\n",
              "      <td>-1.938460</td>\n",
              "      <td>0.902763</td>\n",
              "      <td>0.059160</td>\n",
              "      <td>-1</td>\n",
              "    </tr>\n",
              "    <tr>\n",
              "      <th>2</th>\n",
              "      <td>-1.355574</td>\n",
              "      <td>-0.284663</td>\n",
              "      <td>0.581114</td>\n",
              "      <td>-0.437454</td>\n",
              "      <td>-0.560975</td>\n",
              "      <td>4</td>\n",
              "    </tr>\n",
              "    <tr>\n",
              "      <th>3</th>\n",
              "      <td>-1.355574</td>\n",
              "      <td>0.407926</td>\n",
              "      <td>0.581114</td>\n",
              "      <td>0.547737</td>\n",
              "      <td>0.059160</td>\n",
              "      <td>-1</td>\n",
              "    </tr>\n",
              "    <tr>\n",
              "      <th>4</th>\n",
              "      <td>0.737695</td>\n",
              "      <td>0.407926</td>\n",
              "      <td>0.581114</td>\n",
              "      <td>-0.436640</td>\n",
              "      <td>-0.560975</td>\n",
              "      <td>0</td>\n",
              "    </tr>\n",
              "    <tr>\n",
              "      <th>...</th>\n",
              "      <td>...</td>\n",
              "      <td>...</td>\n",
              "      <td>...</td>\n",
              "      <td>...</td>\n",
              "      <td>...</td>\n",
              "      <td>...</td>\n",
              "    </tr>\n",
              "    <tr>\n",
              "      <th>886</th>\n",
              "      <td>0.737695</td>\n",
              "      <td>-0.207709</td>\n",
              "      <td>0.581114</td>\n",
              "      <td>-0.362120</td>\n",
              "      <td>-0.560975</td>\n",
              "      <td>0</td>\n",
              "    </tr>\n",
              "    <tr>\n",
              "      <th>887</th>\n",
              "      <td>-1.355574</td>\n",
              "      <td>-0.823344</td>\n",
              "      <td>0.581114</td>\n",
              "      <td>0.096713</td>\n",
              "      <td>-0.560975</td>\n",
              "      <td>-1</td>\n",
              "    </tr>\n",
              "    <tr>\n",
              "      <th>888</th>\n",
              "      <td>-1.355574</td>\n",
              "      <td>0.000000</td>\n",
              "      <td>0.581114</td>\n",
              "      <td>-0.336413</td>\n",
              "      <td>1.299429</td>\n",
              "      <td>-1</td>\n",
              "    </tr>\n",
              "    <tr>\n",
              "      <th>889</th>\n",
              "      <td>0.737695</td>\n",
              "      <td>-0.284663</td>\n",
              "      <td>-1.938460</td>\n",
              "      <td>0.096713</td>\n",
              "      <td>-0.560975</td>\n",
              "      <td>-1</td>\n",
              "    </tr>\n",
              "    <tr>\n",
              "      <th>890</th>\n",
              "      <td>0.737695</td>\n",
              "      <td>0.177063</td>\n",
              "      <td>-0.678673</td>\n",
              "      <td>-0.438592</td>\n",
              "      <td>-0.560975</td>\n",
              "      <td>1</td>\n",
              "    </tr>\n",
              "  </tbody>\n",
              "</table>\n",
              "<p>891 rows × 6 columns</p>\n",
              "</div>\n",
              "    <div class=\"colab-df-buttons\">\n",
              "\n",
              "  <div class=\"colab-df-container\">\n",
              "    <button class=\"colab-df-convert\" onclick=\"convertToInteractive('df-9e8d5aad-dd8c-4cea-9c71-67b86965610a')\"\n",
              "            title=\"Convert this dataframe to an interactive table.\"\n",
              "            style=\"display:none;\">\n",
              "\n",
              "  <svg xmlns=\"http://www.w3.org/2000/svg\" height=\"24px\" viewBox=\"0 -960 960 960\">\n",
              "    <path d=\"M120-120v-720h720v720H120Zm60-500h600v-160H180v160Zm220 220h160v-160H400v160Zm0 220h160v-160H400v160ZM180-400h160v-160H180v160Zm440 0h160v-160H620v160ZM180-180h160v-160H180v160Zm440 0h160v-160H620v160Z\"/>\n",
              "  </svg>\n",
              "    </button>\n",
              "\n",
              "  <style>\n",
              "    .colab-df-container {\n",
              "      display:flex;\n",
              "      gap: 12px;\n",
              "    }\n",
              "\n",
              "    .colab-df-convert {\n",
              "      background-color: #E8F0FE;\n",
              "      border: none;\n",
              "      border-radius: 50%;\n",
              "      cursor: pointer;\n",
              "      display: none;\n",
              "      fill: #1967D2;\n",
              "      height: 32px;\n",
              "      padding: 0 0 0 0;\n",
              "      width: 32px;\n",
              "    }\n",
              "\n",
              "    .colab-df-convert:hover {\n",
              "      background-color: #E2EBFA;\n",
              "      box-shadow: 0px 1px 2px rgba(60, 64, 67, 0.3), 0px 1px 3px 1px rgba(60, 64, 67, 0.15);\n",
              "      fill: #174EA6;\n",
              "    }\n",
              "\n",
              "    .colab-df-buttons div {\n",
              "      margin-bottom: 4px;\n",
              "    }\n",
              "\n",
              "    [theme=dark] .colab-df-convert {\n",
              "      background-color: #3B4455;\n",
              "      fill: #D2E3FC;\n",
              "    }\n",
              "\n",
              "    [theme=dark] .colab-df-convert:hover {\n",
              "      background-color: #434B5C;\n",
              "      box-shadow: 0px 1px 3px 1px rgba(0, 0, 0, 0.15);\n",
              "      filter: drop-shadow(0px 1px 2px rgba(0, 0, 0, 0.3));\n",
              "      fill: #FFFFFF;\n",
              "    }\n",
              "  </style>\n",
              "\n",
              "    <script>\n",
              "      const buttonEl =\n",
              "        document.querySelector('#df-9e8d5aad-dd8c-4cea-9c71-67b86965610a button.colab-df-convert');\n",
              "      buttonEl.style.display =\n",
              "        google.colab.kernel.accessAllowed ? 'block' : 'none';\n",
              "\n",
              "      async function convertToInteractive(key) {\n",
              "        const element = document.querySelector('#df-9e8d5aad-dd8c-4cea-9c71-67b86965610a');\n",
              "        const dataTable =\n",
              "          await google.colab.kernel.invokeFunction('convertToInteractive',\n",
              "                                                    [key], {});\n",
              "        if (!dataTable) return;\n",
              "\n",
              "        const docLinkHtml = 'Like what you see? Visit the ' +\n",
              "          '<a target=\"_blank\" href=https://colab.research.google.com/notebooks/data_table.ipynb>data table notebook</a>'\n",
              "          + ' to learn more about interactive tables.';\n",
              "        element.innerHTML = '';\n",
              "        dataTable['output_type'] = 'display_data';\n",
              "        await google.colab.output.renderOutput(dataTable, element);\n",
              "        const docLink = document.createElement('div');\n",
              "        docLink.innerHTML = docLinkHtml;\n",
              "        element.appendChild(docLink);\n",
              "      }\n",
              "    </script>\n",
              "  </div>\n",
              "\n",
              "\n",
              "<div id=\"df-cb77c02a-3dbb-4d42-8e03-3de807710985\">\n",
              "  <button class=\"colab-df-quickchart\" onclick=\"quickchart('df-cb77c02a-3dbb-4d42-8e03-3de807710985')\"\n",
              "            title=\"Suggest charts\"\n",
              "            style=\"display:none;\">\n",
              "\n",
              "<svg xmlns=\"http://www.w3.org/2000/svg\" height=\"24px\"viewBox=\"0 0 24 24\"\n",
              "     width=\"24px\">\n",
              "    <g>\n",
              "        <path d=\"M19 3H5c-1.1 0-2 .9-2 2v14c0 1.1.9 2 2 2h14c1.1 0 2-.9 2-2V5c0-1.1-.9-2-2-2zM9 17H7v-7h2v7zm4 0h-2V7h2v10zm4 0h-2v-4h2v4z\"/>\n",
              "    </g>\n",
              "</svg>\n",
              "  </button>\n",
              "\n",
              "<style>\n",
              "  .colab-df-quickchart {\n",
              "      --bg-color: #E8F0FE;\n",
              "      --fill-color: #1967D2;\n",
              "      --hover-bg-color: #E2EBFA;\n",
              "      --hover-fill-color: #174EA6;\n",
              "      --disabled-fill-color: #AAA;\n",
              "      --disabled-bg-color: #DDD;\n",
              "  }\n",
              "\n",
              "  [theme=dark] .colab-df-quickchart {\n",
              "      --bg-color: #3B4455;\n",
              "      --fill-color: #D2E3FC;\n",
              "      --hover-bg-color: #434B5C;\n",
              "      --hover-fill-color: #FFFFFF;\n",
              "      --disabled-bg-color: #3B4455;\n",
              "      --disabled-fill-color: #666;\n",
              "  }\n",
              "\n",
              "  .colab-df-quickchart {\n",
              "    background-color: var(--bg-color);\n",
              "    border: none;\n",
              "    border-radius: 50%;\n",
              "    cursor: pointer;\n",
              "    display: none;\n",
              "    fill: var(--fill-color);\n",
              "    height: 32px;\n",
              "    padding: 0;\n",
              "    width: 32px;\n",
              "  }\n",
              "\n",
              "  .colab-df-quickchart:hover {\n",
              "    background-color: var(--hover-bg-color);\n",
              "    box-shadow: 0 1px 2px rgba(60, 64, 67, 0.3), 0 1px 3px 1px rgba(60, 64, 67, 0.15);\n",
              "    fill: var(--button-hover-fill-color);\n",
              "  }\n",
              "\n",
              "  .colab-df-quickchart-complete:disabled,\n",
              "  .colab-df-quickchart-complete:disabled:hover {\n",
              "    background-color: var(--disabled-bg-color);\n",
              "    fill: var(--disabled-fill-color);\n",
              "    box-shadow: none;\n",
              "  }\n",
              "\n",
              "  .colab-df-spinner {\n",
              "    border: 2px solid var(--fill-color);\n",
              "    border-color: transparent;\n",
              "    border-bottom-color: var(--fill-color);\n",
              "    animation:\n",
              "      spin 1s steps(1) infinite;\n",
              "  }\n",
              "\n",
              "  @keyframes spin {\n",
              "    0% {\n",
              "      border-color: transparent;\n",
              "      border-bottom-color: var(--fill-color);\n",
              "      border-left-color: var(--fill-color);\n",
              "    }\n",
              "    20% {\n",
              "      border-color: transparent;\n",
              "      border-left-color: var(--fill-color);\n",
              "      border-top-color: var(--fill-color);\n",
              "    }\n",
              "    30% {\n",
              "      border-color: transparent;\n",
              "      border-left-color: var(--fill-color);\n",
              "      border-top-color: var(--fill-color);\n",
              "      border-right-color: var(--fill-color);\n",
              "    }\n",
              "    40% {\n",
              "      border-color: transparent;\n",
              "      border-right-color: var(--fill-color);\n",
              "      border-top-color: var(--fill-color);\n",
              "    }\n",
              "    60% {\n",
              "      border-color: transparent;\n",
              "      border-right-color: var(--fill-color);\n",
              "    }\n",
              "    80% {\n",
              "      border-color: transparent;\n",
              "      border-right-color: var(--fill-color);\n",
              "      border-bottom-color: var(--fill-color);\n",
              "    }\n",
              "    90% {\n",
              "      border-color: transparent;\n",
              "      border-bottom-color: var(--fill-color);\n",
              "    }\n",
              "  }\n",
              "</style>\n",
              "\n",
              "  <script>\n",
              "    async function quickchart(key) {\n",
              "      const quickchartButtonEl =\n",
              "        document.querySelector('#' + key + ' button');\n",
              "      quickchartButtonEl.disabled = true;  // To prevent multiple clicks.\n",
              "      quickchartButtonEl.classList.add('colab-df-spinner');\n",
              "      try {\n",
              "        const charts = await google.colab.kernel.invokeFunction(\n",
              "            'suggestCharts', [key], {});\n",
              "      } catch (error) {\n",
              "        console.error('Error during call to suggestCharts:', error);\n",
              "      }\n",
              "      quickchartButtonEl.classList.remove('colab-df-spinner');\n",
              "      quickchartButtonEl.classList.add('colab-df-quickchart-complete');\n",
              "    }\n",
              "    (() => {\n",
              "      let quickchartButtonEl =\n",
              "        document.querySelector('#df-cb77c02a-3dbb-4d42-8e03-3de807710985 button');\n",
              "      quickchartButtonEl.style.display =\n",
              "        google.colab.kernel.accessAllowed ? 'block' : 'none';\n",
              "    })();\n",
              "  </script>\n",
              "</div>\n",
              "    </div>\n",
              "  </div>\n"
            ],
            "application/vnd.google.colaboratory.intrinsic+json": {
              "type": "dataframe",
              "variable_name": "titanic_data",
              "summary": "{\n  \"name\": \"titanic_data\",\n  \"rows\": 891,\n  \"fields\": [\n    {\n      \"column\": \"Sex\",\n      \"properties\": {\n        \"dtype\": \"number\",\n        \"std\": 1.0005616400330457,\n        \"min\": -1.3555735383351195,\n        \"max\": 0.7376951317802901,\n        \"num_unique_values\": 2,\n        \"samples\": [\n          -1.3555735383351195,\n          0.7376951317802901\n        ],\n        \"semantic_type\": \"\",\n        \"description\": \"\"\n      }\n    },\n    {\n      \"column\": \"Age\",\n      \"properties\": {\n        \"dtype\": \"number\",\n        \"std\": 1.0005616400330457,\n        \"min\": -2.2531554887793948,\n        \"max\": 3.8708717431367323,\n        \"num_unique_values\": 89,\n        \"samples\": [\n          2.2548303775896263,\n          0.5233574859320133\n        ],\n        \"semantic_type\": \"\",\n        \"description\": \"\"\n      }\n    },\n    {\n      \"column\": \"Embarked\",\n      \"properties\": {\n        \"dtype\": \"number\",\n        \"std\": 1.0005616400330457,\n        \"min\": -1.9384603796304183,\n        \"max\": 1.8409011045067867,\n        \"num_unique_values\": 4,\n        \"samples\": [\n          -1.9384603796304183,\n          1.8409011045067867\n        ],\n        \"semantic_type\": \"\",\n        \"description\": \"\"\n      }\n    },\n    {\n      \"column\": \"PclassFare\",\n      \"properties\": {\n        \"dtype\": \"number\",\n        \"std\": 1.0005616400330457,\n        \"min\": -0.4890316459282535,\n        \"max\": 9.514110213593577,\n        \"num_unique_values\": 250,\n        \"samples\": [\n          -0.36846580470244145,\n          0.5235749841241637\n        ],\n        \"semantic_type\": \"\",\n        \"description\": \"\"\n      }\n    },\n    {\n      \"column\": \"Family\",\n      \"properties\": {\n        \"dtype\": \"number\",\n        \"std\": 1.0005616400330457,\n        \"min\": -0.5609748304808925,\n        \"max\": 5.64037224096421,\n        \"num_unique_values\": 9,\n        \"samples\": [\n          3.779968119530679,\n          -0.5609748304808925\n        ],\n        \"semantic_type\": \"\",\n        \"description\": \"\"\n      }\n    },\n    {\n      \"column\": \"cluster\",\n      \"properties\": {\n        \"dtype\": \"number\",\n        \"std\": 1,\n        \"min\": -1,\n        \"max\": 5,\n        \"num_unique_values\": 7,\n        \"samples\": [\n          -1,\n          4\n        ],\n        \"semantic_type\": \"\",\n        \"description\": \"\"\n      }\n    }\n  ]\n}"
            }
          },
          "metadata": {},
          "execution_count": 77
        }
      ]
    },
    {
      "cell_type": "code",
      "source": [
        "titanic_data['cluster'].value_counts()"
      ],
      "metadata": {
        "colab": {
          "base_uri": "https://localhost:8080/"
        },
        "id": "aIX64Li0OU7M",
        "outputId": "0b76e6f1-1c2b-4c9e-c046-f1d17c9f79fe"
      },
      "execution_count": null,
      "outputs": [
        {
          "output_type": "execute_result",
          "data": {
            "text/plain": [
              "-1    554\n",
              " 0    237\n",
              " 1     23\n",
              " 2     21\n",
              " 4     20\n",
              " 3     20\n",
              " 5     16\n",
              "Name: cluster, dtype: int64"
            ]
          },
          "metadata": {},
          "execution_count": 78
        }
      ]
    },
    {
      "cell_type": "markdown",
      "source": [
        "Essa é a disposição dos clusters, assim como na primeira vez, muitos outliers nessa configuração de hiperparâmetros."
      ],
      "metadata": {
        "id": "I922B52POd-F"
      }
    },
    {
      "cell_type": "code",
      "source": [
        "silhouette_score(X, titanic_data['cluster'])"
      ],
      "metadata": {
        "colab": {
          "base_uri": "https://localhost:8080/"
        },
        "id": "7xvE6478QqO7",
        "outputId": "ad9b3261-d8fe-49c3-c3e5-ddf8d7ae68ce"
      },
      "execution_count": null,
      "outputs": [
        {
          "output_type": "execute_result",
          "data": {
            "text/plain": [
              "-0.13782500203567122"
            ]
          },
          "metadata": {},
          "execution_count": 80
        }
      ]
    },
    {
      "cell_type": "markdown",
      "source": [
        "A pontuação foi abaixo da média."
      ],
      "metadata": {
        "id": "PrKUoAhYQ5mW"
      }
    },
    {
      "cell_type": "markdown",
      "source": [
        "Realizando o mesmo processo de hypertuning de antes considerando os mesmos intervalos para os parâmetros, temos:"
      ],
      "metadata": {
        "id": "Re3e3TUCRBK9"
      }
    },
    {
      "cell_type": "code",
      "source": [
        "best_dict = get_scores_and_labels(combinations, X)"
      ],
      "metadata": {
        "id": "f_-ETLpXRJgr"
      },
      "execution_count": null,
      "outputs": []
    },
    {
      "cell_type": "code",
      "source": [
        "best_dict"
      ],
      "metadata": {
        "colab": {
          "base_uri": "https://localhost:8080/"
        },
        "id": "6G-_GikQRNp7",
        "outputId": "64bd5068-6906-4102-f730-61dc3187fa02"
      },
      "execution_count": null,
      "outputs": [
        {
          "output_type": "execute_result",
          "data": {
            "text/plain": [
              "{'best_epsilon': 0.7878571428571429,\n",
              " 'best_min_samples': 8,\n",
              " 'best_labels': array([ 0,  7,  1,  1,  0,  2,  0,  0,  1,  3,  1,  1,  0, -1,  1,  1, -1,\n",
              "         0,  1,  3,  0,  0,  5,  0,  1, -1,  4, -1,  5,  0,  4, -1,  5,  0,\n",
              "        -1,  0,  4,  0,  1,  3,  1,  1,  4, -1,  5,  0,  2,  5,  4,  1,  6,\n",
              "         0,  8,  1, -1,  0,  1,  4,  1,  6,  4, -1,  0,  6,  4,  4,  1,  0,\n",
              "         9,  0,  0,  9,  0,  4,  0,  0,  0,  0,  0,  1,  0,  0,  5,  0,  1,\n",
              "         1,  6,  0, -1,  0,  0,  0,  0,  0,  0,  0, -1, -1,  1,  0,  1,  0,\n",
              "         0,  0,  0,  0,  1,  0,  0,  5,  0,  3,  0,  1,  3,  0, -1,  0, -1,\n",
              "         9,  0,  0,  4,  1,  0, -1,  2,  0,  3,  0,  4,  0,  1,  1,  0,  4,\n",
              "         1,  0,  0, -1,  3,  1,  1,  2,  0,  0,  0,  1,  0,  0,  0,  1,  0,\n",
              "         0,  0, -1,  5,  0,  0, -1,  0,  1,  0,  0,  6,  0,  1, -1,  0,  0,\n",
              "         0, -1,  1,  0, -1,  0,  0, -1,  0,  0, -1,  4,  6,  0,  1,  0,  5,\n",
              "         0, -1,  0,  1,  0,  1,  0, -1, -1,  2,  0,  5,  1,  0, -1,  0,  4,\n",
              "         0,  1,  0,  4,  5,  4,  0,  1,  0,  0,  2,  7,  1,  0,  7,  0,  0,\n",
              "         0,  0,  0,  0,  0,  0,  0,  0,  1,  1,  0,  0,  9,  0,  1,  0,  1,\n",
              "         0,  0,  3,  5,  0,  0,  4, -1,  1,  1,  0,  0,  0,  1,  0,  0,  1,\n",
              "         3,  7,  1, -1,  1,  2,  6, -1,  0,  5,  0,  6,  0, -1, -1,  0,  0,\n",
              "         1,  4,  5, -1,  1,  0, -1,  1, -1,  0,  0,  0,  0,  4,  0,  0,  0,\n",
              "         5,  1,  7,  4,  1,  0,  4,  4, -1,  0, -1,  5,  2,  0,  5,  0, -1,\n",
              "         7, -1,  4,  7,  7, -1,  1,  0,  0,  1,  1,  0, -1, -1,  0,  0,  5,\n",
              "         1, -1,  7,  0,  1,  1, -1,  5,  0, -1,  0, -1,  0,  0, -1,  0,  0,\n",
              "         0, -1,  0,  0,  0,  1,  1,  1,  0,  0,  0,  0, -1,  0,  4,  0,  1,\n",
              "         1,  5,  5, -1,  4, -1,  0,  2,  0,  8,  3,  5,  7,  4,  0,  0, -1,\n",
              "         1,  7,  1, -1,  4,  0, -1,  3,  0,  1,  0,  0,  6,  1,  2,  3, -1,\n",
              "         0,  0,  7,  1,  0,  1,  0,  0,  1,  0,  0,  1,  0,  1,  0,  0,  0,\n",
              "         0,  1,  0,  2, -1,  0,  0,  1,  1,  1,  0,  1,  4,  2,  0,  1,  0,\n",
              "         0,  1,  1,  2,  0,  0,  1,  1,  0,  0, -1,  1,  1, -1,  0,  1,  0,\n",
              "         0,  1,  0, -1,  1,  0,  3,  0,  0,  0,  4, -1,  0,  4,  0,  1,  1,\n",
              "         2,  0,  0,  0,  0,  0,  0,  0,  0,  2, -1,  0,  0,  1,  3,  1,  0,\n",
              "         0,  0,  0,  1,  6,  0,  0,  1, -1,  1,  1, -1,  0,  0,  0,  0,  0,\n",
              "        -1,  0,  4,  8,  0, -1,  0,  0,  5,  5,  1, -1, -1,  1,  0,  0,  0,\n",
              "         2,  0,  0,  8,  0,  0,  1,  2,  1,  0,  1,  0,  4,  8,  4,  2,  1,\n",
              "        -1,  0,  0,  1,  4, -1,  3,  1,  1,  0,  7,  0, -1,  1,  9,  9,  0,\n",
              "        -1,  0,  1,  4,  0,  0, -1,  0,  2,  4,  1,  0,  8, -1,  1,  1,  2,\n",
              "         0,  0,  0,  1,  0,  0,  1,  4,  0,  0, -1,  0,  5,  0,  0,  1,  1,\n",
              "         3,  0,  1, -1,  0,  4,  4,  1,  0, -1,  0,  0,  0,  8,  0,  5,  0,\n",
              "         0,  1,  0,  4, -1,  1,  0,  0,  0,  4,  0,  0,  0, -1, -1, -1,  0,\n",
              "         5,  2,  0,  1,  0,  1,  1,  0,  4,  0,  4,  0,  0,  0, -1,  1,  0,\n",
              "         2, -1,  0,  4,  0,  9,  1,  0,  0, -1,  0,  0,  7,  9,  0, -1, -1,\n",
              "         0, -1,  0,  1,  0,  1,  0,  5,  5,  0,  0,  5,  0, -1, -1,  4,  0,\n",
              "         0,  0,  0,  0,  0,  0,  1,  1,  0,  0,  0,  0,  0,  0,  1, -1, -1,\n",
              "         5,  4,  0,  6,  0,  4,  6,  0,  0, -1,  0,  3,  0,  4,  0,  0,  0,\n",
              "         5, -1,  0, -1,  0,  3,  2,  0,  0,  1,  0, -1,  4,  7,  0,  0,  0,\n",
              "         0,  0, -1,  1,  2,  0,  1,  0,  0,  0,  0,  0,  1,  5,  0,  1, -1,\n",
              "         4,  0,  0,  0,  0, -1, -1,  0,  0,  0,  0, -1,  0,  0, -1,  0,  1,\n",
              "         0,  2,  1,  0,  0,  0,  1,  0,  0,  0,  0,  1,  0,  0,  4, -1,  0,\n",
              "        -1,  4,  5,  2,  0,  0,  0,  1,  4, -1,  0,  2,  1,  2, -1,  3,  1,\n",
              "         0,  0,  0,  0,  1, -1,  0, -1,  2,  0, -1,  4,  0,  0,  1,  1,  4,\n",
              "         1,  0,  1, -1, -1,  0,  0,  0,  1,  0,  1,  0,  0,  0,  9,  0,  0,\n",
              "         1,  4,  0,  6, -1,  0,  0,  1,  6,  2,  0, -1,  2, -1,  3,  0,  4,\n",
              "         0,  0, -1,  0,  0,  0,  4,  0,  0,  3,  4,  0,  0, -1,  4,  0,  7,\n",
              "         6,  0,  3,  1,  1,  1, -1,  0,  3,  4,  0,  0,  1, -1,  0,  1,  3,\n",
              "         0,  0,  0,  0,  1,  0,  0,  3,  3,  0,  0,  0,  8,  1,  0,  1,  0,\n",
              "         0, -1,  0,  1,  1,  4,  2]),\n",
              " 'best_score': 0.21432346797907637}"
            ]
          },
          "metadata": {},
          "execution_count": 82
        }
      ]
    },
    {
      "cell_type": "markdown",
      "source": [
        "O melhor score foi 0,21 com eps de 0.7878571428571429 e min_samples de 8"
      ],
      "metadata": {
        "id": "yVPEVz5rRT7s"
      }
    },
    {
      "cell_type": "code",
      "source": [
        "titanic_data['cluster'] = best_dict['best_labels']\n",
        "\n",
        "titanic_data['cluster'].value_counts()"
      ],
      "metadata": {
        "colab": {
          "base_uri": "https://localhost:8080/"
        },
        "id": "O54logsjRd8C",
        "outputId": "6faff79c-18ca-4c2d-834c-96940dd2d2aa"
      },
      "execution_count": null,
      "outputs": [
        {
          "output_type": "execute_result",
          "data": {
            "text/plain": [
              " 0    408\n",
              " 1    163\n",
              "-1    117\n",
              " 4     63\n",
              " 5     34\n",
              " 2     32\n",
              " 3     26\n",
              " 7     16\n",
              " 6     15\n",
              " 9      9\n",
              " 8      8\n",
              "Name: cluster, dtype: int64"
            ]
          },
          "metadata": {},
          "execution_count": 84
        }
      ]
    },
    {
      "cell_type": "code",
      "source": [
        "cluster_stats = titanic_data.groupby('cluster').describe()\n",
        "cluster_stats"
      ],
      "metadata": {
        "id": "qYtBD2i4Rq09",
        "outputId": "f467a22e-e5d5-4f72-fc74-e5761999c2e1",
        "colab": {
          "base_uri": "https://localhost:8080/",
          "height": 506
        }
      },
      "execution_count": null,
      "outputs": [
        {
          "output_type": "execute_result",
          "data": {
            "text/plain": [
              "           Sex                                                        \\\n",
              "         count      mean           std       min       25%       50%   \n",
              "cluster                                                                \n",
              "-1       117.0 -0.299994  1.051098e+00 -1.355574 -1.355574  0.737695   \n",
              " 0       408.0  0.737695  1.111586e-16  0.737695  0.737695  0.737695   \n",
              " 1       163.0 -1.355574  2.227289e-16 -1.355574 -1.355574 -1.355574   \n",
              " 2        32.0  0.737695  0.000000e+00  0.737695  0.737695  0.737695   \n",
              " 3        26.0 -1.355574  2.264420e-16 -1.355574 -1.355574 -1.355574   \n",
              " 4        63.0  0.737695  2.238281e-16  0.737695  0.737695  0.737695   \n",
              " 5        34.0 -1.355574  2.253838e-16 -1.355574 -1.355574 -1.355574   \n",
              " 6        15.0  0.737695  0.000000e+00  0.737695  0.737695  0.737695   \n",
              " 7        16.0 -1.355574  0.000000e+00 -1.355574 -1.355574 -1.355574   \n",
              " 8         8.0 -1.355574  0.000000e+00 -1.355574 -1.355574 -1.355574   \n",
              " 9         9.0 -1.355574  0.000000e+00 -1.355574 -1.355574 -1.355574   \n",
              "\n",
              "                               Age            ... PclassFare           Family  \\\n",
              "              75%       max  count      mean  ...        75%       max  count   \n",
              "cluster                                       ...                               \n",
              "-1       0.737695  0.737695  117.0  0.415181  ...   2.371762  9.514110  117.0   \n",
              " 0       0.737695  0.737695  408.0  0.080091  ...  -0.305986  1.268203  408.0   \n",
              " 1      -1.355574 -1.355574  163.0 -0.165885  ...  -0.232768  1.336540  163.0   \n",
              " 2       0.737695  0.737695   32.0 -0.024995  ...  -0.438464 -0.331857   32.0   \n",
              " 3      -1.355574 -1.355574   26.0 -0.730425  ...  -0.356717  0.116238   26.0   \n",
              " 4       0.737695  0.737695   63.0 -0.015961  ...  -0.105450  1.009093   63.0   \n",
              " 5      -1.355574 -1.355574   34.0 -0.175391  ...  -0.436247 -0.331857   34.0   \n",
              " 6       0.737695  0.737695   15.0 -1.664711  ...  -0.207264 -0.183793   15.0   \n",
              " 7      -1.355574 -1.355574   16.0 -0.102876  ...   1.610661  2.159186   16.0   \n",
              " 8      -1.355574 -1.355574    8.0  1.725769  ...   1.039113  1.134620    8.0   \n",
              " 9      -1.355574 -1.355574    9.0 -1.627089  ...  -0.285485 -0.183793    9.0   \n",
              "\n",
              "                                                                               \n",
              "             mean       std       min       25%       50%       75%       max  \n",
              "cluster                                                                        \n",
              "-1       0.901907  1.613135 -0.560975  0.059160  0.679295  1.299429  5.640372  \n",
              " 0      -0.348184  0.453814 -0.560975 -0.560975 -0.560975 -0.560975  1.919564  \n",
              " 1       0.101009  0.726368 -0.560975 -0.560975  0.059160  0.679295  2.539699  \n",
              " 2      -0.444700  0.292039 -0.560975 -0.560975 -0.560975 -0.560975  0.679295  \n",
              " 3       0.106863  0.579700 -0.560975 -0.560975  0.059160  0.679295  1.299429  \n",
              " 4      -0.364107  0.428853 -0.560975 -0.560975 -0.560975 -0.560975  1.299429  \n",
              " 5      -0.378582  0.390105 -0.560975 -0.560975 -0.560975 -0.560975  0.679295  \n",
              " 6       2.953122  0.605190  1.919564  2.539699  2.539699  3.469901  3.779968  \n",
              " 7      -0.328424  0.310067 -0.560975 -0.560975 -0.560975  0.059160  0.059160  \n",
              " 8       0.059160  0.000000  0.059160  0.059160  0.059160  0.059160  0.059160  \n",
              " 9       3.090930  0.372655  2.539699  3.159833  3.159833  3.159833  3.779968  \n",
              "\n",
              "[11 rows x 40 columns]"
            ],
            "text/html": [
              "\n",
              "  <div id=\"df-23bf5572-dca0-4d3a-9012-d6e8764f6e56\" class=\"colab-df-container\">\n",
              "    <div>\n",
              "<style scoped>\n",
              "    .dataframe tbody tr th:only-of-type {\n",
              "        vertical-align: middle;\n",
              "    }\n",
              "\n",
              "    .dataframe tbody tr th {\n",
              "        vertical-align: top;\n",
              "    }\n",
              "\n",
              "    .dataframe thead tr th {\n",
              "        text-align: left;\n",
              "    }\n",
              "\n",
              "    .dataframe thead tr:last-of-type th {\n",
              "        text-align: right;\n",
              "    }\n",
              "</style>\n",
              "<table border=\"1\" class=\"dataframe\">\n",
              "  <thead>\n",
              "    <tr>\n",
              "      <th></th>\n",
              "      <th colspan=\"8\" halign=\"left\">Sex</th>\n",
              "      <th colspan=\"2\" halign=\"left\">Age</th>\n",
              "      <th>...</th>\n",
              "      <th colspan=\"2\" halign=\"left\">PclassFare</th>\n",
              "      <th colspan=\"8\" halign=\"left\">Family</th>\n",
              "    </tr>\n",
              "    <tr>\n",
              "      <th></th>\n",
              "      <th>count</th>\n",
              "      <th>mean</th>\n",
              "      <th>std</th>\n",
              "      <th>min</th>\n",
              "      <th>25%</th>\n",
              "      <th>50%</th>\n",
              "      <th>75%</th>\n",
              "      <th>max</th>\n",
              "      <th>count</th>\n",
              "      <th>mean</th>\n",
              "      <th>...</th>\n",
              "      <th>75%</th>\n",
              "      <th>max</th>\n",
              "      <th>count</th>\n",
              "      <th>mean</th>\n",
              "      <th>std</th>\n",
              "      <th>min</th>\n",
              "      <th>25%</th>\n",
              "      <th>50%</th>\n",
              "      <th>75%</th>\n",
              "      <th>max</th>\n",
              "    </tr>\n",
              "    <tr>\n",
              "      <th>cluster</th>\n",
              "      <th></th>\n",
              "      <th></th>\n",
              "      <th></th>\n",
              "      <th></th>\n",
              "      <th></th>\n",
              "      <th></th>\n",
              "      <th></th>\n",
              "      <th></th>\n",
              "      <th></th>\n",
              "      <th></th>\n",
              "      <th></th>\n",
              "      <th></th>\n",
              "      <th></th>\n",
              "      <th></th>\n",
              "      <th></th>\n",
              "      <th></th>\n",
              "      <th></th>\n",
              "      <th></th>\n",
              "      <th></th>\n",
              "      <th></th>\n",
              "      <th></th>\n",
              "    </tr>\n",
              "  </thead>\n",
              "  <tbody>\n",
              "    <tr>\n",
              "      <th>-1</th>\n",
              "      <td>117.0</td>\n",
              "      <td>-0.299994</td>\n",
              "      <td>1.051098e+00</td>\n",
              "      <td>-1.355574</td>\n",
              "      <td>-1.355574</td>\n",
              "      <td>0.737695</td>\n",
              "      <td>0.737695</td>\n",
              "      <td>0.737695</td>\n",
              "      <td>117.0</td>\n",
              "      <td>0.415181</td>\n",
              "      <td>...</td>\n",
              "      <td>2.371762</td>\n",
              "      <td>9.514110</td>\n",
              "      <td>117.0</td>\n",
              "      <td>0.901907</td>\n",
              "      <td>1.613135</td>\n",
              "      <td>-0.560975</td>\n",
              "      <td>0.059160</td>\n",
              "      <td>0.679295</td>\n",
              "      <td>1.299429</td>\n",
              "      <td>5.640372</td>\n",
              "    </tr>\n",
              "    <tr>\n",
              "      <th>0</th>\n",
              "      <td>408.0</td>\n",
              "      <td>0.737695</td>\n",
              "      <td>1.111586e-16</td>\n",
              "      <td>0.737695</td>\n",
              "      <td>0.737695</td>\n",
              "      <td>0.737695</td>\n",
              "      <td>0.737695</td>\n",
              "      <td>0.737695</td>\n",
              "      <td>408.0</td>\n",
              "      <td>0.080091</td>\n",
              "      <td>...</td>\n",
              "      <td>-0.305986</td>\n",
              "      <td>1.268203</td>\n",
              "      <td>408.0</td>\n",
              "      <td>-0.348184</td>\n",
              "      <td>0.453814</td>\n",
              "      <td>-0.560975</td>\n",
              "      <td>-0.560975</td>\n",
              "      <td>-0.560975</td>\n",
              "      <td>-0.560975</td>\n",
              "      <td>1.919564</td>\n",
              "    </tr>\n",
              "    <tr>\n",
              "      <th>1</th>\n",
              "      <td>163.0</td>\n",
              "      <td>-1.355574</td>\n",
              "      <td>2.227289e-16</td>\n",
              "      <td>-1.355574</td>\n",
              "      <td>-1.355574</td>\n",
              "      <td>-1.355574</td>\n",
              "      <td>-1.355574</td>\n",
              "      <td>-1.355574</td>\n",
              "      <td>163.0</td>\n",
              "      <td>-0.165885</td>\n",
              "      <td>...</td>\n",
              "      <td>-0.232768</td>\n",
              "      <td>1.336540</td>\n",
              "      <td>163.0</td>\n",
              "      <td>0.101009</td>\n",
              "      <td>0.726368</td>\n",
              "      <td>-0.560975</td>\n",
              "      <td>-0.560975</td>\n",
              "      <td>0.059160</td>\n",
              "      <td>0.679295</td>\n",
              "      <td>2.539699</td>\n",
              "    </tr>\n",
              "    <tr>\n",
              "      <th>2</th>\n",
              "      <td>32.0</td>\n",
              "      <td>0.737695</td>\n",
              "      <td>0.000000e+00</td>\n",
              "      <td>0.737695</td>\n",
              "      <td>0.737695</td>\n",
              "      <td>0.737695</td>\n",
              "      <td>0.737695</td>\n",
              "      <td>0.737695</td>\n",
              "      <td>32.0</td>\n",
              "      <td>-0.024995</td>\n",
              "      <td>...</td>\n",
              "      <td>-0.438464</td>\n",
              "      <td>-0.331857</td>\n",
              "      <td>32.0</td>\n",
              "      <td>-0.444700</td>\n",
              "      <td>0.292039</td>\n",
              "      <td>-0.560975</td>\n",
              "      <td>-0.560975</td>\n",
              "      <td>-0.560975</td>\n",
              "      <td>-0.560975</td>\n",
              "      <td>0.679295</td>\n",
              "    </tr>\n",
              "    <tr>\n",
              "      <th>3</th>\n",
              "      <td>26.0</td>\n",
              "      <td>-1.355574</td>\n",
              "      <td>2.264420e-16</td>\n",
              "      <td>-1.355574</td>\n",
              "      <td>-1.355574</td>\n",
              "      <td>-1.355574</td>\n",
              "      <td>-1.355574</td>\n",
              "      <td>-1.355574</td>\n",
              "      <td>26.0</td>\n",
              "      <td>-0.730425</td>\n",
              "      <td>...</td>\n",
              "      <td>-0.356717</td>\n",
              "      <td>0.116238</td>\n",
              "      <td>26.0</td>\n",
              "      <td>0.106863</td>\n",
              "      <td>0.579700</td>\n",
              "      <td>-0.560975</td>\n",
              "      <td>-0.560975</td>\n",
              "      <td>0.059160</td>\n",
              "      <td>0.679295</td>\n",
              "      <td>1.299429</td>\n",
              "    </tr>\n",
              "    <tr>\n",
              "      <th>4</th>\n",
              "      <td>63.0</td>\n",
              "      <td>0.737695</td>\n",
              "      <td>2.238281e-16</td>\n",
              "      <td>0.737695</td>\n",
              "      <td>0.737695</td>\n",
              "      <td>0.737695</td>\n",
              "      <td>0.737695</td>\n",
              "      <td>0.737695</td>\n",
              "      <td>63.0</td>\n",
              "      <td>-0.015961</td>\n",
              "      <td>...</td>\n",
              "      <td>-0.105450</td>\n",
              "      <td>1.009093</td>\n",
              "      <td>63.0</td>\n",
              "      <td>-0.364107</td>\n",
              "      <td>0.428853</td>\n",
              "      <td>-0.560975</td>\n",
              "      <td>-0.560975</td>\n",
              "      <td>-0.560975</td>\n",
              "      <td>-0.560975</td>\n",
              "      <td>1.299429</td>\n",
              "    </tr>\n",
              "    <tr>\n",
              "      <th>5</th>\n",
              "      <td>34.0</td>\n",
              "      <td>-1.355574</td>\n",
              "      <td>2.253838e-16</td>\n",
              "      <td>-1.355574</td>\n",
              "      <td>-1.355574</td>\n",
              "      <td>-1.355574</td>\n",
              "      <td>-1.355574</td>\n",
              "      <td>-1.355574</td>\n",
              "      <td>34.0</td>\n",
              "      <td>-0.175391</td>\n",
              "      <td>...</td>\n",
              "      <td>-0.436247</td>\n",
              "      <td>-0.331857</td>\n",
              "      <td>34.0</td>\n",
              "      <td>-0.378582</td>\n",
              "      <td>0.390105</td>\n",
              "      <td>-0.560975</td>\n",
              "      <td>-0.560975</td>\n",
              "      <td>-0.560975</td>\n",
              "      <td>-0.560975</td>\n",
              "      <td>0.679295</td>\n",
              "    </tr>\n",
              "    <tr>\n",
              "      <th>6</th>\n",
              "      <td>15.0</td>\n",
              "      <td>0.737695</td>\n",
              "      <td>0.000000e+00</td>\n",
              "      <td>0.737695</td>\n",
              "      <td>0.737695</td>\n",
              "      <td>0.737695</td>\n",
              "      <td>0.737695</td>\n",
              "      <td>0.737695</td>\n",
              "      <td>15.0</td>\n",
              "      <td>-1.664711</td>\n",
              "      <td>...</td>\n",
              "      <td>-0.207264</td>\n",
              "      <td>-0.183793</td>\n",
              "      <td>15.0</td>\n",
              "      <td>2.953122</td>\n",
              "      <td>0.605190</td>\n",
              "      <td>1.919564</td>\n",
              "      <td>2.539699</td>\n",
              "      <td>2.539699</td>\n",
              "      <td>3.469901</td>\n",
              "      <td>3.779968</td>\n",
              "    </tr>\n",
              "    <tr>\n",
              "      <th>7</th>\n",
              "      <td>16.0</td>\n",
              "      <td>-1.355574</td>\n",
              "      <td>0.000000e+00</td>\n",
              "      <td>-1.355574</td>\n",
              "      <td>-1.355574</td>\n",
              "      <td>-1.355574</td>\n",
              "      <td>-1.355574</td>\n",
              "      <td>-1.355574</td>\n",
              "      <td>16.0</td>\n",
              "      <td>-0.102876</td>\n",
              "      <td>...</td>\n",
              "      <td>1.610661</td>\n",
              "      <td>2.159186</td>\n",
              "      <td>16.0</td>\n",
              "      <td>-0.328424</td>\n",
              "      <td>0.310067</td>\n",
              "      <td>-0.560975</td>\n",
              "      <td>-0.560975</td>\n",
              "      <td>-0.560975</td>\n",
              "      <td>0.059160</td>\n",
              "      <td>0.059160</td>\n",
              "    </tr>\n",
              "    <tr>\n",
              "      <th>8</th>\n",
              "      <td>8.0</td>\n",
              "      <td>-1.355574</td>\n",
              "      <td>0.000000e+00</td>\n",
              "      <td>-1.355574</td>\n",
              "      <td>-1.355574</td>\n",
              "      <td>-1.355574</td>\n",
              "      <td>-1.355574</td>\n",
              "      <td>-1.355574</td>\n",
              "      <td>8.0</td>\n",
              "      <td>1.725769</td>\n",
              "      <td>...</td>\n",
              "      <td>1.039113</td>\n",
              "      <td>1.134620</td>\n",
              "      <td>8.0</td>\n",
              "      <td>0.059160</td>\n",
              "      <td>0.000000</td>\n",
              "      <td>0.059160</td>\n",
              "      <td>0.059160</td>\n",
              "      <td>0.059160</td>\n",
              "      <td>0.059160</td>\n",
              "      <td>0.059160</td>\n",
              "    </tr>\n",
              "    <tr>\n",
              "      <th>9</th>\n",
              "      <td>9.0</td>\n",
              "      <td>-1.355574</td>\n",
              "      <td>0.000000e+00</td>\n",
              "      <td>-1.355574</td>\n",
              "      <td>-1.355574</td>\n",
              "      <td>-1.355574</td>\n",
              "      <td>-1.355574</td>\n",
              "      <td>-1.355574</td>\n",
              "      <td>9.0</td>\n",
              "      <td>-1.627089</td>\n",
              "      <td>...</td>\n",
              "      <td>-0.285485</td>\n",
              "      <td>-0.183793</td>\n",
              "      <td>9.0</td>\n",
              "      <td>3.090930</td>\n",
              "      <td>0.372655</td>\n",
              "      <td>2.539699</td>\n",
              "      <td>3.159833</td>\n",
              "      <td>3.159833</td>\n",
              "      <td>3.159833</td>\n",
              "      <td>3.779968</td>\n",
              "    </tr>\n",
              "  </tbody>\n",
              "</table>\n",
              "<p>11 rows × 40 columns</p>\n",
              "</div>\n",
              "    <div class=\"colab-df-buttons\">\n",
              "\n",
              "  <div class=\"colab-df-container\">\n",
              "    <button class=\"colab-df-convert\" onclick=\"convertToInteractive('df-23bf5572-dca0-4d3a-9012-d6e8764f6e56')\"\n",
              "            title=\"Convert this dataframe to an interactive table.\"\n",
              "            style=\"display:none;\">\n",
              "\n",
              "  <svg xmlns=\"http://www.w3.org/2000/svg\" height=\"24px\" viewBox=\"0 -960 960 960\">\n",
              "    <path d=\"M120-120v-720h720v720H120Zm60-500h600v-160H180v160Zm220 220h160v-160H400v160Zm0 220h160v-160H400v160ZM180-400h160v-160H180v160Zm440 0h160v-160H620v160ZM180-180h160v-160H180v160Zm440 0h160v-160H620v160Z\"/>\n",
              "  </svg>\n",
              "    </button>\n",
              "\n",
              "  <style>\n",
              "    .colab-df-container {\n",
              "      display:flex;\n",
              "      gap: 12px;\n",
              "    }\n",
              "\n",
              "    .colab-df-convert {\n",
              "      background-color: #E8F0FE;\n",
              "      border: none;\n",
              "      border-radius: 50%;\n",
              "      cursor: pointer;\n",
              "      display: none;\n",
              "      fill: #1967D2;\n",
              "      height: 32px;\n",
              "      padding: 0 0 0 0;\n",
              "      width: 32px;\n",
              "    }\n",
              "\n",
              "    .colab-df-convert:hover {\n",
              "      background-color: #E2EBFA;\n",
              "      box-shadow: 0px 1px 2px rgba(60, 64, 67, 0.3), 0px 1px 3px 1px rgba(60, 64, 67, 0.15);\n",
              "      fill: #174EA6;\n",
              "    }\n",
              "\n",
              "    .colab-df-buttons div {\n",
              "      margin-bottom: 4px;\n",
              "    }\n",
              "\n",
              "    [theme=dark] .colab-df-convert {\n",
              "      background-color: #3B4455;\n",
              "      fill: #D2E3FC;\n",
              "    }\n",
              "\n",
              "    [theme=dark] .colab-df-convert:hover {\n",
              "      background-color: #434B5C;\n",
              "      box-shadow: 0px 1px 3px 1px rgba(0, 0, 0, 0.15);\n",
              "      filter: drop-shadow(0px 1px 2px rgba(0, 0, 0, 0.3));\n",
              "      fill: #FFFFFF;\n",
              "    }\n",
              "  </style>\n",
              "\n",
              "    <script>\n",
              "      const buttonEl =\n",
              "        document.querySelector('#df-23bf5572-dca0-4d3a-9012-d6e8764f6e56 button.colab-df-convert');\n",
              "      buttonEl.style.display =\n",
              "        google.colab.kernel.accessAllowed ? 'block' : 'none';\n",
              "\n",
              "      async function convertToInteractive(key) {\n",
              "        const element = document.querySelector('#df-23bf5572-dca0-4d3a-9012-d6e8764f6e56');\n",
              "        const dataTable =\n",
              "          await google.colab.kernel.invokeFunction('convertToInteractive',\n",
              "                                                    [key], {});\n",
              "        if (!dataTable) return;\n",
              "\n",
              "        const docLinkHtml = 'Like what you see? Visit the ' +\n",
              "          '<a target=\"_blank\" href=https://colab.research.google.com/notebooks/data_table.ipynb>data table notebook</a>'\n",
              "          + ' to learn more about interactive tables.';\n",
              "        element.innerHTML = '';\n",
              "        dataTable['output_type'] = 'display_data';\n",
              "        await google.colab.output.renderOutput(dataTable, element);\n",
              "        const docLink = document.createElement('div');\n",
              "        docLink.innerHTML = docLinkHtml;\n",
              "        element.appendChild(docLink);\n",
              "      }\n",
              "    </script>\n",
              "  </div>\n",
              "\n",
              "\n",
              "<div id=\"df-1365d5a4-8197-4c39-b1df-864f1e750c6f\">\n",
              "  <button class=\"colab-df-quickchart\" onclick=\"quickchart('df-1365d5a4-8197-4c39-b1df-864f1e750c6f')\"\n",
              "            title=\"Suggest charts\"\n",
              "            style=\"display:none;\">\n",
              "\n",
              "<svg xmlns=\"http://www.w3.org/2000/svg\" height=\"24px\"viewBox=\"0 0 24 24\"\n",
              "     width=\"24px\">\n",
              "    <g>\n",
              "        <path d=\"M19 3H5c-1.1 0-2 .9-2 2v14c0 1.1.9 2 2 2h14c1.1 0 2-.9 2-2V5c0-1.1-.9-2-2-2zM9 17H7v-7h2v7zm4 0h-2V7h2v10zm4 0h-2v-4h2v4z\"/>\n",
              "    </g>\n",
              "</svg>\n",
              "  </button>\n",
              "\n",
              "<style>\n",
              "  .colab-df-quickchart {\n",
              "      --bg-color: #E8F0FE;\n",
              "      --fill-color: #1967D2;\n",
              "      --hover-bg-color: #E2EBFA;\n",
              "      --hover-fill-color: #174EA6;\n",
              "      --disabled-fill-color: #AAA;\n",
              "      --disabled-bg-color: #DDD;\n",
              "  }\n",
              "\n",
              "  [theme=dark] .colab-df-quickchart {\n",
              "      --bg-color: #3B4455;\n",
              "      --fill-color: #D2E3FC;\n",
              "      --hover-bg-color: #434B5C;\n",
              "      --hover-fill-color: #FFFFFF;\n",
              "      --disabled-bg-color: #3B4455;\n",
              "      --disabled-fill-color: #666;\n",
              "  }\n",
              "\n",
              "  .colab-df-quickchart {\n",
              "    background-color: var(--bg-color);\n",
              "    border: none;\n",
              "    border-radius: 50%;\n",
              "    cursor: pointer;\n",
              "    display: none;\n",
              "    fill: var(--fill-color);\n",
              "    height: 32px;\n",
              "    padding: 0;\n",
              "    width: 32px;\n",
              "  }\n",
              "\n",
              "  .colab-df-quickchart:hover {\n",
              "    background-color: var(--hover-bg-color);\n",
              "    box-shadow: 0 1px 2px rgba(60, 64, 67, 0.3), 0 1px 3px 1px rgba(60, 64, 67, 0.15);\n",
              "    fill: var(--button-hover-fill-color);\n",
              "  }\n",
              "\n",
              "  .colab-df-quickchart-complete:disabled,\n",
              "  .colab-df-quickchart-complete:disabled:hover {\n",
              "    background-color: var(--disabled-bg-color);\n",
              "    fill: var(--disabled-fill-color);\n",
              "    box-shadow: none;\n",
              "  }\n",
              "\n",
              "  .colab-df-spinner {\n",
              "    border: 2px solid var(--fill-color);\n",
              "    border-color: transparent;\n",
              "    border-bottom-color: var(--fill-color);\n",
              "    animation:\n",
              "      spin 1s steps(1) infinite;\n",
              "  }\n",
              "\n",
              "  @keyframes spin {\n",
              "    0% {\n",
              "      border-color: transparent;\n",
              "      border-bottom-color: var(--fill-color);\n",
              "      border-left-color: var(--fill-color);\n",
              "    }\n",
              "    20% {\n",
              "      border-color: transparent;\n",
              "      border-left-color: var(--fill-color);\n",
              "      border-top-color: var(--fill-color);\n",
              "    }\n",
              "    30% {\n",
              "      border-color: transparent;\n",
              "      border-left-color: var(--fill-color);\n",
              "      border-top-color: var(--fill-color);\n",
              "      border-right-color: var(--fill-color);\n",
              "    }\n",
              "    40% {\n",
              "      border-color: transparent;\n",
              "      border-right-color: var(--fill-color);\n",
              "      border-top-color: var(--fill-color);\n",
              "    }\n",
              "    60% {\n",
              "      border-color: transparent;\n",
              "      border-right-color: var(--fill-color);\n",
              "    }\n",
              "    80% {\n",
              "      border-color: transparent;\n",
              "      border-right-color: var(--fill-color);\n",
              "      border-bottom-color: var(--fill-color);\n",
              "    }\n",
              "    90% {\n",
              "      border-color: transparent;\n",
              "      border-bottom-color: var(--fill-color);\n",
              "    }\n",
              "  }\n",
              "</style>\n",
              "\n",
              "  <script>\n",
              "    async function quickchart(key) {\n",
              "      const quickchartButtonEl =\n",
              "        document.querySelector('#' + key + ' button');\n",
              "      quickchartButtonEl.disabled = true;  // To prevent multiple clicks.\n",
              "      quickchartButtonEl.classList.add('colab-df-spinner');\n",
              "      try {\n",
              "        const charts = await google.colab.kernel.invokeFunction(\n",
              "            'suggestCharts', [key], {});\n",
              "      } catch (error) {\n",
              "        console.error('Error during call to suggestCharts:', error);\n",
              "      }\n",
              "      quickchartButtonEl.classList.remove('colab-df-spinner');\n",
              "      quickchartButtonEl.classList.add('colab-df-quickchart-complete');\n",
              "    }\n",
              "    (() => {\n",
              "      let quickchartButtonEl =\n",
              "        document.querySelector('#df-1365d5a4-8197-4c39-b1df-864f1e750c6f button');\n",
              "      quickchartButtonEl.style.display =\n",
              "        google.colab.kernel.accessAllowed ? 'block' : 'none';\n",
              "    })();\n",
              "  </script>\n",
              "</div>\n",
              "    </div>\n",
              "  </div>\n"
            ],
            "application/vnd.google.colaboratory.intrinsic+json": {
              "type": "dataframe",
              "variable_name": "cluster_stats"
            }
          },
          "metadata": {},
          "execution_count": 86
        }
      ]
    }
  ]
}